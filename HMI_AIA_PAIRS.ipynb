{
 "cells": [
  {
   "cell_type": "code",
   "execution_count": 2,
   "metadata": {},
   "outputs": [],
   "source": [
    "import os\n",
    "import numpy as np\n",
    "import matplotlib.pyplot as plt\n",
    "import shutil\n",
    "import cv2\n",
    "\n",
    "from os import listdir\n",
    "# from numpy import asarray\n",
    "# from numpy import vstack\n",
    "# from keras.preprocessing.image import img_to_array\n",
    "# from keras.preprocessing.image import load_img\n",
    "# from numpy import savez_compressed\n",
    "# import numpy as np\n",
    "# import tensorflow as tf\n",
    "# import matplotlib.pyplot as plt\n",
    "\n",
    "# import warnings\n",
    "# warnings.filterwarnings(\"ignore\")"
   ]
  },
  {
   "cell_type": "code",
   "execution_count": 2,
   "metadata": {},
   "outputs": [],
   "source": [
    "def hmi_image_process(image):\n",
    "    img = np.float32(image[image.files[0]])\n",
    "    img = cv2.resize(img, (256, 256))\n",
    "    # img = np.expand_dims(img, axis=2)\n",
    "    return img\n",
    "\n",
    "def aia_image_process(image):\n",
    "    img = np.float32(image[image.files[0]])\n",
    "    img = cv2.resize(img, (256, 256))\n",
    "    # img = np.expand_dims(img, axis=2)\n",
    "    return img"
   ]
  },
  {
   "cell_type": "code",
   "execution_count": 3,
   "metadata": {},
   "outputs": [
    {
     "name": "stdout",
     "output_type": "stream",
     "text": [
      "HMI_AIA_PAIRS.ipynb  dataprep.ipynb  folderA  hmi\t\t    output\r\n",
      "aia\t\t     fits_data_code  folderB  making_dataset.ipynb\r\n"
     ]
    }
   ],
   "source": [
    "!ls"
   ]
  },
  {
   "cell_type": "code",
   "execution_count": 13,
   "metadata": {},
   "outputs": [
    {
     "name": "stdout",
     "output_type": "stream",
     "text": [
      "217\n"
     ]
    }
   ],
   "source": [
    "# source = 'hmi/hmiZ/'\n",
    "# dest1 = 'folderA/train/'\n",
    "\n",
    "# files = [f for f in os.listdir(source)]\n",
    "# counter = 0\n",
    "# for file in files:\n",
    "#   shutil.copy(source+file, dest1)\n",
    "#   counter += 1\n",
    "# print(counter)"
   ]
  },
  {
   "cell_type": "code",
   "execution_count": 127,
   "metadata": {},
   "outputs": [],
   "source": [
    "# import os\n",
    "# import glob\n",
    "\n",
    "# files = glob.glob('folderA/train/*')\n",
    "# for f in files:\n",
    "#     os.remove(f)"
   ]
  },
  {
   "cell_type": "code",
   "execution_count": null,
   "metadata": {},
   "outputs": [],
   "source": []
  },
  {
   "cell_type": "code",
   "execution_count": 16,
   "metadata": {},
   "outputs": [
    {
     "data": {
      "text/plain": [
       "['AIA193',\n",
       " 'AIA304',\n",
       " 'AIA131',\n",
       " 'AIA211',\n",
       " 'AIA335',\n",
       " 'AIA94',\n",
       " 'AIA171',\n",
       " 'AIA1600']"
      ]
     },
     "execution_count": 16,
     "metadata": {},
     "output_type": "execute_result"
    }
   ],
   "source": [
    "os.listdir('aia')"
   ]
  },
  {
   "cell_type": "code",
   "execution_count": 114,
   "metadata": {},
   "outputs": [
    {
     "name": "stdout",
     "output_type": "stream",
     "text": [
      "217\n"
     ]
    }
   ],
   "source": [
    "source = 'aia/AIA1600/'    # 94, 131, 171, 193, 211, 304, 335, 1600\n",
    "dest1 = 'folderB/train/'\n",
    "\n",
    "files = [f for f in os.listdir(source)]\n",
    "counter = 0\n",
    "for file in files:\n",
    "  shutil.copy(source+file, dest1)\n",
    "  counter += 1\n",
    "print(counter)"
   ]
  },
  {
   "cell_type": "code",
   "execution_count": 125,
   "metadata": {},
   "outputs": [],
   "source": [
    "# import os\n",
    "# import glob\n",
    "\n",
    "# files = glob.glob('folderB/train/*')\n",
    "# for f in files:\n",
    "#     os.remove(f)"
   ]
  },
  {
   "cell_type": "code",
   "execution_count": 126,
   "metadata": {},
   "outputs": [
    {
     "data": {
      "text/plain": [
       "0"
      ]
     },
     "execution_count": 126,
     "metadata": {},
     "output_type": "execute_result"
    }
   ],
   "source": [
    "len(os.listdir('folderB/train/'))"
   ]
  },
  {
   "cell_type": "code",
   "execution_count": 123,
   "metadata": {},
   "outputs": [],
   "source": [
    "# import os\n",
    "# import glob\n",
    "\n",
    "# files = glob.glob('output/train/*')\n",
    "# for f in files:\n",
    "#     os.remove(f)"
   ]
  },
  {
   "cell_type": "code",
   "execution_count": 124,
   "metadata": {},
   "outputs": [
    {
     "data": {
      "text/plain": [
       "0"
      ]
     },
     "execution_count": 124,
     "metadata": {},
     "output_type": "execute_result"
    }
   ],
   "source": [
    "len(os.listdir('output/train/'))"
   ]
  },
  {
   "cell_type": "code",
   "execution_count": null,
   "metadata": {},
   "outputs": [],
   "source": []
  },
  {
   "cell_type": "code",
   "execution_count": 117,
   "metadata": {},
   "outputs": [
    {
     "name": "stdout",
     "output_type": "stream",
     "text": [
      "split = train, number of images = 217\n",
      "split = .ipynb_checkpoints, number of images = 0\n"
     ]
    }
   ],
   "source": [
    "import os\n",
    "import numpy as np\n",
    "from PIL import Image\n",
    "import cv2\n",
    "\n",
    "# define paths for translation from domain A (images in folderA) -> domain B (images in folderB)\n",
    "folderA = 'folderA'\n",
    "folderB = 'folderB'\n",
    "dest_path = 'output'\n",
    "\n",
    "splits = os.listdir(folderA)\n",
    "\n",
    "for sp in splits:\n",
    "    img_fold_A = os.path.join(folderA, sp)\n",
    "    img_fold_B = os.path.join(folderB, sp)\n",
    "    hmi_img_list = sorted(os.listdir(img_fold_A))\n",
    "    aia_img_list = sorted(os.listdir(img_fold_B))\n",
    "    num_imgs = len(hmi_img_list)\n",
    "    img_fold_AB = os.path.join(dest_path, sp)\n",
    "    if not os.path.isdir(img_fold_AB):\n",
    "        os.makedirs(img_fold_AB)\n",
    "    print('split = %s, number of images = %d' % (sp, num_imgs))\n",
    "    for n in range(num_imgs):\n",
    "        name_A = hmi_img_list[n]\n",
    "        path_A = os.path.join(img_fold_A, name_A)\n",
    "        name_B = aia_img_list[n]\n",
    "        path_B = os.path.join(img_fold_B, name_B)\n",
    "        if os.path.isfile(path_A) and os.path.isfile(path_B):\n",
    "            name_AB = f'combined_hmi_aia{n}'   # name_AB = name_A\n",
    "            path_AB = os.path.join(img_fold_AB, name_AB)\n",
    "            im_A1 = np.load(path_A)\n",
    "            im_A1_image = hmi_image_process(im_A1)\n",
    "            \n",
    "#             im_A = np.array(im_A1)\n",
    "\n",
    "            im_B1 = np.load(path_B)\n",
    "            im_B1_image = aia_image_process(im_B1)\n",
    "    \n",
    "#             im_B = np.array(im_B1)\n",
    "\n",
    "            im_AB_image = np.concatenate([im_A1_image, im_B1_image], 1)\n",
    "            np.save(path_AB, im_AB_image)"
   ]
  },
  {
   "cell_type": "code",
   "execution_count": 72,
   "metadata": {},
   "outputs": [],
   "source": [
    "# os.listdir('output/train/')"
   ]
  },
  {
   "cell_type": "code",
   "execution_count": 118,
   "metadata": {},
   "outputs": [
    {
     "data": {
      "text/plain": [
       "217"
      ]
     },
     "execution_count": 118,
     "metadata": {},
     "output_type": "execute_result"
    }
   ],
   "source": [
    "len(os.listdir('output/train/'))"
   ]
  },
  {
   "cell_type": "code",
   "execution_count": 119,
   "metadata": {},
   "outputs": [],
   "source": [
    "# load all images from the directory into memory with appropriate preprocessing\n",
    "\n",
    "def load_images(path, size=(256, 512)):\n",
    "    (src_list, tar_list) = (list(), list())\n",
    "\n",
    "    # enumerate filenames in directory, assuming all are images\n",
    "    for filename in listdir(path):\n",
    "\n",
    "        # load and resize the image\n",
    "        pixels = np.load(path + '/' + filename)\n",
    "\n",
    "        # convert to numpy array\n",
    "        pixels = img_to_array(pixels)\n",
    "\n",
    "        # split into satellite and map\n",
    "        (sat_img, map_img) = (pixels[:, :256], pixels[:, 256:])\n",
    "        src_list.append(sat_img)\n",
    "        tar_list.append(map_img)\n",
    "    return [asarray(src_list), asarray(tar_list)]"
   ]
  },
  {
   "cell_type": "code",
   "execution_count": 120,
   "metadata": {},
   "outputs": [
    {
     "name": "stdout",
     "output_type": "stream",
     "text": [
      "Loaded:  (217, 256, 256, 1) (217, 256, 256, 1)\n"
     ]
    }
   ],
   "source": [
    "path = 'output/train'\n",
    "\n",
    "# load dataset\n",
    "[src_images, tar_images] = load_images(path)\n",
    "print ('Loaded: ', src_images.shape, tar_images.shape)"
   ]
  },
  {
   "cell_type": "code",
   "execution_count": 121,
   "metadata": {},
   "outputs": [
    {
     "name": "stdout",
     "output_type": "stream",
     "text": [
      "Saved dataset:  hmiZ_aia1600_217_256.npz\n"
     ]
    }
   ],
   "source": [
    "# save as compressed numpy array\n",
    "\n",
    "filename = 'hmiZ_aia1600_217_256.npz'\n",
    "savez_compressed(filename, src_images, tar_images)\n",
    "print ('Saved dataset: ', filename)"
   ]
  },
  {
   "cell_type": "code",
   "execution_count": null,
   "metadata": {},
   "outputs": [],
   "source": []
  },
  {
   "cell_type": "code",
   "execution_count": 122,
   "metadata": {},
   "outputs": [
    {
     "data": {
      "image/png": "[encoded data removed]",
      "text/plain": [
       "<Figure size 432x288 with 6 Axes>"
      ]
     },
     "metadata": {
      "needs_background": "light"
     },
     "output_type": "display_data"
    }
   ],
   "source": [
    "import matplotlib.pyplot as plt\n",
    "\n",
    "n_samples = 3\n",
    "for i in range(n_samples):\n",
    "    plt.subplot(2, n_samples, 1 + i)\n",
    "    plt.title('HMI input image')\n",
    "    plt.axis('off')\n",
    "    plt.imshow(src_images[i].reshape(256, 256)) \n",
    "\n",
    "for i in range(n_samples):\n",
    "    plt.subplot(2, n_samples, 1 + n_samples + i)\n",
    "    plt.title('AIA output image')\n",
    "    plt.axis('off')\n",
    "    plt.imshow(tar_images[i].reshape(256, 256))\n",
    "plt.show()"
   ]
  },
  {
   "cell_type": "code",
   "execution_count": null,
   "metadata": {},
   "outputs": [],
   "source": []
  }
 ],
 "metadata": {
  "kernelspec": {
   "display_name": "Python 3",
   "language": "python",
   "name": "python3"
  },
  "language_info": {
   "codemirror_mode": {
    "name": "ipython",
    "version": 3
   },
   "file_extension": ".py",
   "mimetype": "text/x-python",
   "name": "python",
   "nbconvert_exporter": "python",
   "pygments_lexer": "ipython3",
   "version": "3.8.3"
  }
 },
 "nbformat": 4,
 "nbformat_minor": 4
}
