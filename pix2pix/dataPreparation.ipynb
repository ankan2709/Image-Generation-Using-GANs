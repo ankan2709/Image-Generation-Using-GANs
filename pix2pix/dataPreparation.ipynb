{
 "cells": [
  {
   "cell_type": "markdown",
   "metadata": {},
   "source": [
    "# Generate RGB images from FITS files and prepare images for pix2pix algorithm"
   ]
  },
  {
   "cell_type": "code",
   "execution_count": null,
   "metadata": {},
   "outputs": [],
   "source": [
    "import os\n",
    "import numpy as np\n",
    "import matplotlib.pyplot as plt\n",
    "\n",
    "from astropy.io import fits\n",
    "\n",
    "import sunpy\n",
    "import sunpy.map\n",
    "import matplotlib.colors as colors\n",
    "from astropy import *\n",
    "import astropy.units as u\n",
    "import pathlib\n",
    "import json, urllib, numpy as np, matplotlib.pylab as plt, matplotlib.ticker as mtick, requests\n",
    "import sunpy.map\n",
    "import drms\n",
    "from astropy.io import fits\n",
    "from astropy.coordinates import SkyCoord\n",
    "import astropy.units as u\n",
    "from sunpy.cm import color_tables as ct\n",
    "import sunpy.coordinates\n",
    "from datetime import datetime as dt_obj\n",
    "import matplotlib.dates as mdates\n",
    "import matplotlib.colors as mcol\n",
    "import matplotlib.patches as ptc\n",
    "from matplotlib.dates import *\n",
    "import math\n",
    "\n",
    "import drms\n",
    "c = drms.Client()\n",
    "\n",
    "import warnings\n",
    "warnings.filterwarnings('ignore')"
   ]
  },
  {
   "cell_type": "code",
   "execution_count": null,
   "metadata": {},
   "outputs": [],
   "source": [
    "aia_dir = '2012/2012_fits_AIA0304'\n",
    "hmi_dir = '2012/2012_fits_HMI'\n",
    "aia_files = sorted(os.listdir(aia_dir))\n",
    "hmi_files = sorted(os.listdir(hmi_dir))"
   ]
  },
  {
   "cell_type": "code",
   "execution_count": null,
   "metadata": {},
   "outputs": [],
   "source": [
    "# generate AIA images\n",
    "num = 0\n",
    "for file in aia_files[:]:\n",
    "    try:\n",
    "        aia_map = sunpy.map.Map(os.path.join(aia_dir, file)).resample((1024, 1024)*u.pix)\n",
    "        figure = plt.figure(frameon=False)\n",
    "        axes = plt.Axes(figure, [0., 0., 1., 1.])\n",
    "        axes.set_axis_off()\n",
    "        figure.add_axes(axes)\n",
    "        im = aia_map.plot(axes=axes, annotate=False)\n",
    "        im.write_png(f'2012/2012images/AIA0304/{num}.png')\n",
    "        num = num + 1\n",
    "    except:\n",
    "        num + num + 1"
   ]
  },
  {
   "cell_type": "code",
   "execution_count": null,
   "metadata": {},
   "outputs": [],
   "source": [
    "# generate HMI images\n",
    "\n",
    "import matplotlib.pyplot as plt\n",
    "from reproject import reproject_interp\n",
    "\n",
    "import astropy.units as u\n",
    "\n",
    "import sunpy.map\n",
    "from sunpy.net import Fido\n",
    "from sunpy.net import attrs as a\n",
    "from PIL import Image\n",
    "import cv2"
   ]
  },
  {
   "cell_type": "code",
   "execution_count": null,
   "metadata": {},
   "outputs": [],
   "source": [
    "# create all HMI (align, centering, apply mask and create png)\n",
    "num = 0\n",
    "for (aia, hmi) in  zip(aia_files[:], hmi_files[:]):\n",
    "    try:\n",
    "        hmi_map = sunpy.map.Map(os.path.join(hmi_dir, hmi)).resample((1024, 1024)*u.pix)\n",
    "        aia_map = sunpy.map.Map(os.path.join(aia_dir, aia)).resample((1024, 1024)*u.pix)\n",
    "\n",
    "        output, footprint = reproject_interp(hmi_map, aia_map.wcs, aia_map.data.shape)\n",
    "\n",
    "        out_hmi = sunpy.map.Map(output, aia_map.wcs)\n",
    "\n",
    "        figure = plt.figure(frameon=False)\n",
    "        axes = plt.Axes(figure, [0., 0., 1., 1.])\n",
    "\n",
    "        axes.set_axis_off()\n",
    "        figure.add_axes(axes)\n",
    "\n",
    "        img = out_hmi.plot(axes=axes, annotate=False)\n",
    "\n",
    "        img.write_png(f'2012/2012images/HMI/{num}.png')\n",
    "\n",
    "        im = cv2.imread(f'2012/2012images/HMI/{num}.png')\n",
    "        height,width,depth = im.shape\n",
    "        circle_img = np.zeros((height,width), np.uint8)\n",
    "        cv2.circle(circle_img,(int(width/2),int(height/2)),1024,1,thickness=-1)\n",
    "        masked_data = cv2.bitwise_and(im, im, mask=circle_img)\n",
    "\n",
    "        im = Image.fromarray(masked_data)\n",
    "        im.save(f'2012/2012images/HMI/{num}.png')\n",
    "        num += 1\n",
    "    except:\n",
    "        num += 1"
   ]
  },
  {
   "cell_type": "code",
   "execution_count": null,
   "metadata": {},
   "outputs": [],
   "source": [
    "# convert RGBA to RGB\n",
    "num = 0\n",
    "for i, img in enumerate(natsorted(os.listdir('2012/2012images/AIA0304/'))):\n",
    "    img = Image.open(f'2012/2012images/AIA0304/{img}')\n",
    "    rgb_image = img.convert('RGB')\n",
    "    rgb_image.save(f'2012/2012images/AIA0304/{num}.png')\n",
    "    num += 1"
   ]
  },
  {
   "cell_type": "code",
   "execution_count": null,
   "metadata": {},
   "outputs": [],
   "source": [
    "# pix2pix image pairs preparation\n",
    "\n",
    "import os\n",
    "import numpy as np\n",
    "from PIL import Image\n",
    "import cv2\n",
    "from natsort import natsorted\n",
    "\n",
    "# define paths for translation from domain A (images in folderA) -> domain B (images in folderB)\n",
    "folderA = '2012/2012images/HMI'\n",
    "folderB = '2012/2012images/AIA0304'\n",
    "dest_path = '2012/2012images/output'\n",
    "\n",
    "splits = os.listdir(folderA)\n",
    "\n",
    "for sp in splits:\n",
    "    img_fold_A = os.path.join(folderA, sp)\n",
    "    img_fold_B = os.path.join(folderB, sp)\n",
    "    img_list = natsorted(os.listdir(img_fold_A))\n",
    "    num_imgs = len(img_list)\n",
    "    img_fold_AB = os.path.join(dest_path, sp)\n",
    "    if not os.path.isdir(img_fold_AB):\n",
    "        os.makedirs(img_fold_AB)\n",
    "    print('split = %s, number of images = %d' % (sp, num_imgs))\n",
    "    number = 1600\n",
    "    for n in range(num_imgs):\n",
    "        name_A = img_list[n]\n",
    "        path_A = os.path.join(img_fold_A, name_A)\n",
    "        name_B = name_A\n",
    "        path_B = os.path.join(img_fold_B, name_B)\n",
    "        if os.path.isfile(path_A) and os.path.isfile(path_B):\n",
    "            name_AB = name_A\n",
    "            path_AB = os.path.join(img_fold_AB, name_AB)\n",
    "            im_A1 = Image.open(path_A)\n",
    "            im_A = np.array(im_A1)\n",
    "            im_B1 = Image.open(path_B)\n",
    "            im_B = np.array(im_B1)\n",
    "            im_AB = np.concatenate([im_A, im_B], 1)\n",
    "            im_AB = Image.fromarray(im_AB)\n",
    "            im_AB.save(f'2012/2012images/output/train/{number}.png')\n",
    "            number += 1"
   ]
  },
  {
   "cell_type": "code",
   "execution_count": null,
   "metadata": {},
   "outputs": [],
   "source": []
  },
  {
   "cell_type": "code",
   "execution_count": null,
   "metadata": {},
   "outputs": [],
   "source": []
  },
  {
   "cell_type": "code",
   "execution_count": null,
   "metadata": {},
   "outputs": [],
   "source": []
  },
  {
   "cell_type": "code",
   "execution_count": null,
   "metadata": {},
   "outputs": [],
   "source": []
  },
  {
   "cell_type": "code",
   "execution_count": null,
   "metadata": {},
   "outputs": [],
   "source": []
  },
  {
   "cell_type": "code",
   "execution_count": null,
   "metadata": {},
   "outputs": [],
   "source": []
  },
  {
   "cell_type": "code",
   "execution_count": null,
   "metadata": {},
   "outputs": [],
   "source": []
  }
 ],
 "metadata": {
  "kernelspec": {
   "display_name": "Python 3",
   "language": "python",
   "name": "python3"
  },
  "language_info": {
   "codemirror_mode": {
    "name": "ipython",
    "version": 3
   },
   "file_extension": ".py",
   "mimetype": "text/x-python",
   "name": "python",
   "nbconvert_exporter": "python",
   "pygments_lexer": "ipython3",
   "version": "3.8.3"
  }
 },
 "nbformat": 4,
 "nbformat_minor": 4
}
