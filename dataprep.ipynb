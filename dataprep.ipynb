{
 "cells": [
  {
   "cell_type": "code",
   "execution_count": 1,
   "metadata": {
    "id": "qYm6qTR0FqWr"
   },
   "outputs": [],
   "source": [
    "from PIL import Image\n",
    "import numpy as np\n",
    "import os\n",
    "\n",
    "import numpy as np\n",
    "import matplotlib.pyplot as plt\n"
   ]
  },
  {
   "cell_type": "code",
   "execution_count": 2,
   "metadata": {},
   "outputs": [],
   "source": [
    "import os\n",
    "import numpy as np\n",
    "import matplotlib.pyplot as plt\n",
    "import shutil\n",
    "import cv2\n",
    "\n",
    "from os import listdir\n",
    "from numpy import asarray\n",
    "from numpy import vstack\n",
    "from keras.preprocessing.image import img_to_array\n",
    "from keras.preprocessing.image import load_img\n",
    "from numpy import savez_compressed\n",
    "import numpy as np\n",
    "import tensorflow as tf\n",
    "import matplotlib.pyplot as plt\n",
    "\n",
    "import warnings\n",
    "warnings.filterwarnings(\"ignore\")"
   ]
  },
  {
   "cell_type": "code",
   "execution_count": 3,
   "metadata": {
    "id": "grPkGWN9FsNE"
   },
   "outputs": [],
   "source": [
    "# from sklearn.preprocessing import StandardScaler\n",
    "# from sklearn.preprocessing import MinMaxScaler\n",
    "# hmi_scaler = StandardScaler()\n",
    "# aia_scaler = StandardScaler()"
   ]
  },
  {
   "cell_type": "code",
   "execution_count": 4,
   "metadata": {
    "id": "oDK0YnXDFtXG"
   },
   "outputs": [],
   "source": [
    "def hmi_image_process(image):\n",
    "    img = np.float32(image[image.files[0]])\n",
    "    # img = hmi_scaler.fit_transform(img)\n",
    "    img = cv2.resize(img, (256, 256))\n",
    "    # img = np.expand_dims(img, axis=2)\n",
    "    return img\n",
    "\n",
    "def aia_image_process(image):\n",
    "    img = np.float32(image[image.files[0]])\n",
    "    # img = aia_scaler.fit_transform(img)\n",
    "    img = cv2.resize(img, (256, 256))\n",
    "    # img = np.expand_dims(img, axis=2)\n",
    "    return img"
   ]
  },
  {
   "cell_type": "code",
   "execution_count": 5,
   "metadata": {
    "colab": {
     "base_uri": "https://localhost:8080/"
    },
    "executionInfo": {
     "elapsed": 9048,
     "status": "ok",
     "timestamp": 1604577460067,
     "user": {
      "displayName": "Ankan Dash",
      "photoUrl": "https://lh3.googleusercontent.com/a-/AOh14Gj2H_g1hCeCB1nql-PzvaslocOTi6uUbmXPP1h_=s64",
      "userId": "15069647903103186795"
     },
     "user_tz": -330
    },
    "id": "6sesi-TQFugd",
    "outputId": "b27d3b21-e9cd-42ae-e49c-0d01442c91e6"
   },
   "outputs": [
    {
     "name": "stdout",
     "output_type": "stream",
     "text": [
      "7718\n",
      "0\n"
     ]
    }
   ],
   "source": [
    "aia_dir = '2011/AIA/'\n",
    "hmi_dir = '2011/HMI/'\n",
    "aia_dir_304 = os.path.join(aia_dir, '0094')\n",
    "hmi_dir_y = os.path.join(hmi_dir, 'bz')\n",
    "print(len(os.listdir(aia_dir_304)))\n",
    "print(len(os.listdir(hmi_dir_y)))"
   ]
  },
  {
   "cell_type": "code",
   "execution_count": 6,
   "metadata": {
    "colab": {
     "base_uri": "https://localhost:8080/",
     "height": 35
    },
    "executionInfo": {
     "elapsed": 1674,
     "status": "ok",
     "timestamp": 1604577466857,
     "user": {
      "displayName": "Ankan Dash",
      "photoUrl": "https://lh3.googleusercontent.com/a-/AOh14Gj2H_g1hCeCB1nql-PzvaslocOTi6uUbmXPP1h_=s64",
      "userId": "15069647903103186795"
     },
     "user_tz": -330
    },
    "id": "YJ-OaLLbK5lI",
    "outputId": "24e89924-0b05-4476-cf75-5e6d2b4e116a"
   },
   "outputs": [
    {
     "data": {
      "text/plain": [
       "'AIA20111115_0424_0094.npz'"
      ]
     },
     "execution_count": 6,
     "metadata": {},
     "output_type": "execute_result"
    }
   ],
   "source": [
    "(os.listdir(aia_dir_304))[0]"
   ]
  },
  {
   "cell_type": "code",
   "execution_count": 7,
   "metadata": {
    "colab": {
     "base_uri": "https://localhost:8080/"
    },
    "executionInfo": {
     "elapsed": 3194,
     "status": "ok",
     "timestamp": 1604577470603,
     "user": {
      "displayName": "Ankan Dash",
      "photoUrl": "https://lh3.googleusercontent.com/a-/AOh14Gj2H_g1hCeCB1nql-PzvaslocOTi6uUbmXPP1h_=s64",
      "userId": "15069647903103186795"
     },
     "user_tz": -330
    },
    "id": "9ArczMpQFv6D",
    "outputId": "b80c0029-86a2-4952-b576-b386f78db02f"
   },
   "outputs": [
    {
     "data": {
      "text/plain": [
       "array([[0.0680542 , 0.15881348, 0.34033203, ..., 0.15881348, 0.3713379 ,\n",
       "        0.19958496],\n",
       "       [0.12866211, 0.16174316, 0.26342773, ..., 0.13293457, 0.47265625,\n",
       "        0.25      ],\n",
       "       [0.12573242, 0.28295898, 0.32348633, ..., 0.24499512, 0.20495605,\n",
       "        0.26416016],\n",
       "       ...,\n",
       "       [0.31640625, 0.15881348, 0.5625    , ..., 0.02268982, 0.31689453,\n",
       "        0.2602539 ],\n",
       "       [0.28100586, 0.20861816, 0.21032715, ..., 0.25097656, 0.22277832,\n",
       "        0.14465332],\n",
       "       [0.28637695, 0.11346436, 0.22692871, ..., 0.77783203, 0.33447266,\n",
       "        0.04537964]], dtype=float32)"
      ]
     },
     "execution_count": 7,
     "metadata": {},
     "output_type": "execute_result"
    }
   ],
   "source": [
    "aia0 = np.load(aia_dir_304 + \"/\" + 'AIA20111115_0424_0094.npz')\n",
    "aia0_img = np.array(np.float32(aia0[aia0.files[0]]))\n",
    "aia0_img"
   ]
  },
  {
   "cell_type": "code",
   "execution_count": 8,
   "metadata": {
    "colab": {
     "base_uri": "https://localhost:8080/"
    },
    "executionInfo": {
     "elapsed": 926,
     "status": "ok",
     "timestamp": 1604577472487,
     "user": {
      "displayName": "Ankan Dash",
      "photoUrl": "https://lh3.googleusercontent.com/a-/AOh14Gj2H_g1hCeCB1nql-PzvaslocOTi6uUbmXPP1h_=s64",
      "userId": "15069647903103186795"
     },
     "user_tz": -330
    },
    "id": "DzcYSo6LOjpF",
    "outputId": "b96e79a4-8f88-4fb7-b5ce-57d93becdd39"
   },
   "outputs": [
    {
     "data": {
      "text/plain": [
       "(512, 512)"
      ]
     },
     "execution_count": 8,
     "metadata": {},
     "output_type": "execute_result"
    }
   ],
   "source": [
    "aia0_img.shape"
   ]
  },
  {
   "cell_type": "code",
   "execution_count": 9,
   "metadata": {
    "colab": {
     "base_uri": "https://localhost:8080/",
     "height": 287
    },
    "executionInfo": {
     "elapsed": 2097,
     "status": "ok",
     "timestamp": 1604577578575,
     "user": {
      "displayName": "Ankan Dash",
      "photoUrl": "https://lh3.googleusercontent.com/a-/AOh14Gj2H_g1hCeCB1nql-PzvaslocOTi6uUbmXPP1h_=s64",
      "userId": "15069647903103186795"
     },
     "user_tz": -330
    },
    "id": "TDEz2ZeQRmeC",
    "outputId": "819a15d9-3198-4899-c432-2eabbd6a4cfe"
   },
   "outputs": [
    {
     "data": {
      "text/plain": [
       "<matplotlib.image.AxesImage at 0x7f2bcd849710>"
      ]
     },
     "execution_count": 9,
     "metadata": {},
     "output_type": "execute_result"
    },
    {
     "data": {
      "image/png": "[encoded data removed]",
      "text/plain": [
       "<Figure size 432x288 with 1 Axes>"
      ]
     },
     "metadata": {
      "needs_background": "light"
     },
     "output_type": "display_data"
    }
   ],
   "source": [
    "plt.imshow(aia0_img)"
   ]
  },
  {
   "cell_type": "code",
   "execution_count": 10,
   "metadata": {
    "colab": {
     "base_uri": "https://localhost:8080/"
    },
    "executionInfo": {
     "elapsed": 1142,
     "status": "ok",
     "timestamp": 1604577500519,
     "user": {
      "displayName": "Ankan Dash",
      "photoUrl": "https://lh3.googleusercontent.com/a-/AOh14Gj2H_g1hCeCB1nql-PzvaslocOTi6uUbmXPP1h_=s64",
      "userId": "15069647903103186795"
     },
     "user_tz": -330
    },
    "id": "ntCvNLJuFwDn",
    "outputId": "35bd60c0-4f93-4199-f29f-e912a0479960"
   },
   "outputs": [
    {
     "name": "stdout",
     "output_type": "stream",
     "text": [
      "aia image has 1 channel\n"
     ]
    }
   ],
   "source": [
    "\n",
    "# # name of your image file\n",
    "# filename = './directory/to/image/file/image.tif'\n",
    "\n",
    "# # open image using PIL\n",
    "# img = Image.open(filename)\n",
    "\n",
    "# # convert to numpy array\n",
    "# img = np.array(img)\n",
    "\n",
    "# find number of channels\n",
    "if aia0_img.ndim == 2:\n",
    "    channels = 1\n",
    "    print(\"aia image has 1 channel\")\n",
    "else:\n",
    "    channels = image.shape[-1]\n",
    "    print(\"aia image has\", channels, \"channels\")\n",
    "    \n",
    "# if hmi0_img.ndim == 2:\n",
    "#     channels = 1\n",
    "#     print(\"hmi image has 1 channel\")\n",
    "# else:\n",
    "#     channels = image.shape[-1]\n",
    "#     print(\"hmi image has\", channels, \"channels\")"
   ]
  },
  {
   "cell_type": "code",
   "execution_count": 11,
   "metadata": {
    "id": "x5_IksjuF610"
   },
   "outputs": [],
   "source": [
    "import shutil"
   ]
  },
  {
   "cell_type": "code",
   "execution_count": 12,
   "metadata": {
    "id": "9wLmwUFLF65p"
   },
   "outputs": [],
   "source": [
    "# source = '2011/HMI/bz/'\n",
    "# dest1 = 'folderA/train/'\n",
    "\n",
    "# files = [f for f in os.listdir(source)]\n",
    "# counter = 0\n",
    "# for file in files:\n",
    "#   shutil.move(source+file, dest1)\n",
    "#   counter += 1\n",
    "# print(counter)"
   ]
  },
  {
   "cell_type": "code",
   "execution_count": 13,
   "metadata": {},
   "outputs": [
    {
     "data": {
      "text/plain": [
       "7718"
      ]
     },
     "execution_count": 13,
     "metadata": {},
     "output_type": "execute_result"
    }
   ],
   "source": [
    "len(os.listdir('folderA/train/'))"
   ]
  },
  {
   "cell_type": "code",
   "execution_count": 14,
   "metadata": {},
   "outputs": [
    {
     "data": {
      "text/plain": [
       "['.ipynb_checkpoints',\n",
       " '0094',\n",
       " '0131',\n",
       " '0171',\n",
       " '0193',\n",
       " '0211',\n",
       " '0304',\n",
       " '0335',\n",
       " '1600',\n",
       " '1700']"
      ]
     },
     "execution_count": 14,
     "metadata": {},
     "output_type": "execute_result"
    }
   ],
   "source": [
    "sorted(os.listdir('2011/AIA/'))"
   ]
  },
  {
   "cell_type": "code",
   "execution_count": null,
   "metadata": {},
   "outputs": [],
   "source": []
  },
  {
   "cell_type": "code",
   "execution_count": 18,
   "metadata": {
    "id": "lQ7-KvxcF69g"
   },
   "outputs": [
    {
     "name": "stdout",
     "output_type": "stream",
     "text": [
      "7718\n"
     ]
    }
   ],
   "source": [
    "source = '2011/AIA/0304/'\n",
    "dest1 = 'folderB/train/'\n",
    "\n",
    "files = [f for f in os.listdir(source)]\n",
    "counter = 0\n",
    "for file in files:\n",
    "  shutil.copy(source+file, dest1)\n",
    "  counter += 1\n",
    "print(counter)"
   ]
  },
  {
   "cell_type": "code",
   "execution_count": 16,
   "metadata": {},
   "outputs": [],
   "source": [
    "# import os\n",
    "# import glob\n",
    "\n",
    "# files = glob.glob('folderB/train/*')\n",
    "# for f in files:\n",
    "#     os.remove(f)"
   ]
  },
  {
   "cell_type": "code",
   "execution_count": 19,
   "metadata": {},
   "outputs": [
    {
     "data": {
      "text/plain": [
       "7718"
      ]
     },
     "execution_count": 19,
     "metadata": {},
     "output_type": "execute_result"
    }
   ],
   "source": [
    "len(os.listdir('folderB/train/'))"
   ]
  },
  {
   "cell_type": "code",
   "execution_count": 22,
   "metadata": {
    "id": "vgkq3WwugNi0"
   },
   "outputs": [],
   "source": [
    "# import os\n",
    "# import glob\n",
    "\n",
    "# files = glob.glob('output/train/*')\n",
    "# for f in files:\n",
    "#     os.remove(f)"
   ]
  },
  {
   "cell_type": "code",
   "execution_count": 23,
   "metadata": {},
   "outputs": [
    {
     "data": {
      "text/plain": [
       "0"
      ]
     },
     "execution_count": 23,
     "metadata": {},
     "output_type": "execute_result"
    }
   ],
   "source": [
    "len(os.listdir('output/train/'))"
   ]
  },
  {
   "cell_type": "code",
   "execution_count": null,
   "metadata": {},
   "outputs": [],
   "source": []
  },
  {
   "cell_type": "code",
   "execution_count": null,
   "metadata": {},
   "outputs": [],
   "source": []
  },
  {
   "cell_type": "code",
   "execution_count": null,
   "metadata": {},
   "outputs": [],
   "source": []
  },
  {
   "cell_type": "code",
   "execution_count": 26,
   "metadata": {},
   "outputs": [
    {
     "data": {
      "text/plain": [
       "7718"
      ]
     },
     "execution_count": 26,
     "metadata": {},
     "output_type": "execute_result"
    }
   ],
   "source": []
  },
  {
   "cell_type": "code",
   "execution_count": 24,
   "metadata": {
    "colab": {
     "base_uri": "https://localhost:8080/"
    },
    "executionInfo": {
     "elapsed": 934391,
     "status": "ok",
     "timestamp": 1604578681972,
     "user": {
      "displayName": "Ankan Dash",
      "photoUrl": "https://lh3.googleusercontent.com/a-/AOh14Gj2H_g1hCeCB1nql-PzvaslocOTi6uUbmXPP1h_=s64",
      "userId": "15069647903103186795"
     },
     "user_tz": -330
    },
    "id": "V_KFluGDF7CW",
    "outputId": "2a160e63-f013-42e8-cb3e-470755714fc9"
   },
   "outputs": [
    {
     "name": "stdout",
     "output_type": "stream",
     "text": [
      "split = train, number of images = 7718\n",
      "split = .ipynb_checkpoints, number of images = 0\n"
     ]
    }
   ],
   "source": [
    "import os\n",
    "import numpy as np\n",
    "from PIL import Image\n",
    "import cv2\n",
    "\n",
    "# define paths for translation from domain A (images in folderA) -> domain B (images in folderB)\n",
    "folderA = 'folderA'\n",
    "folderB = 'folderB'\n",
    "dest_path = 'output'\n",
    "\n",
    "splits = os.listdir(folderA)\n",
    "\n",
    "for sp in splits:\n",
    "    img_fold_A = os.path.join(folderA, sp)\n",
    "    img_fold_B = os.path.join(folderB, sp)\n",
    "    hmi_img_list = sorted(os.listdir(img_fold_A))\n",
    "    aia_img_list = sorted(os.listdir(img_fold_B))\n",
    "    num_imgs = len(hmi_img_list)\n",
    "    img_fold_AB = os.path.join(dest_path, sp)\n",
    "    if not os.path.isdir(img_fold_AB):\n",
    "        os.makedirs(img_fold_AB)\n",
    "    print('split = %s, number of images = %d' % (sp, num_imgs))\n",
    "    for n in range(num_imgs):\n",
    "        name_A = hmi_img_list[n]\n",
    "        path_A = os.path.join(img_fold_A, name_A)\n",
    "        name_B = aia_img_list[n]\n",
    "        path_B = os.path.join(img_fold_B, name_B)\n",
    "        if os.path.isfile(path_A) and os.path.isfile(path_B):\n",
    "            name_AB = f'combined_hmi_aia{n}'   # name_AB = name_A\n",
    "            path_AB = os.path.join(img_fold_AB, name_AB)\n",
    "            im_A1 = np.load(path_A)\n",
    "            im_A1_image = hmi_image_process(im_A1)\n",
    "            \n",
    "#             im_A = np.array(im_A1)\n",
    "\n",
    "            im_B1 = np.load(path_B)\n",
    "            im_B1_image = aia_image_process(im_B1)\n",
    "    \n",
    "#             im_B = np.array(im_B1)\n",
    "\n",
    "            im_AB_image = np.concatenate([im_A1_image, im_B1_image], 1)\n",
    "            np.save(path_AB, im_AB_image)"
   ]
  },
  {
   "cell_type": "code",
   "execution_count": 25,
   "metadata": {
    "colab": {
     "base_uri": "https://localhost:8080/"
    },
    "executionInfo": {
     "elapsed": 1744,
     "status": "ok",
     "timestamp": 1604578740616,
     "user": {
      "displayName": "Ankan Dash",
      "photoUrl": "https://lh3.googleusercontent.com/a-/AOh14Gj2H_g1hCeCB1nql-PzvaslocOTi6uUbmXPP1h_=s64",
      "userId": "15069647903103186795"
     },
     "user_tz": -330
    },
    "id": "M67v-Gg0OOdZ",
    "outputId": "125debde-3960-4fe5-81b9-938cb3f4b504"
   },
   "outputs": [],
   "source": [
    "# load all images from the directory into memory with appropriate preprocessing\n",
    "\n",
    "def load_images(path, size=(256, 512)):\n",
    "    (src_list, tar_list) = (list(), list())\n",
    "\n",
    "    # enumerate filenames in directory, assuming all are images\n",
    "    for filename in listdir(path):\n",
    "\n",
    "        # load and resize the image\n",
    "        pixels = np.load(path + '/' + filename)\n",
    "\n",
    "        # convert to numpy array\n",
    "        pixels = img_to_array(pixels)\n",
    "\n",
    "        # split into satellite and map\n",
    "        (sat_img, map_img) = (pixels[:, :256], pixels[:, 256:])\n",
    "        src_list.append(sat_img)\n",
    "        tar_list.append(map_img)\n",
    "    return [asarray(src_list), asarray(tar_list)]"
   ]
  },
  {
   "cell_type": "code",
   "execution_count": 26,
   "metadata": {},
   "outputs": [
    {
     "name": "stdout",
     "output_type": "stream",
     "text": [
      "Loaded:  (7718, 256, 256, 1) (7718, 256, 256, 1)\n"
     ]
    }
   ],
   "source": [
    "path = 'output/train'\n",
    "\n",
    "# load dataset\n",
    "[src_images, tar_images] = load_images(path)\n",
    "print ('Loaded: ', src_images.shape, tar_images.shape)"
   ]
  },
  {
   "cell_type": "code",
   "execution_count": 27,
   "metadata": {},
   "outputs": [
    {
     "name": "stdout",
     "output_type": "stream",
     "text": [
      "Saved dataset:  aia304full2011.npz\n"
     ]
    }
   ],
   "source": [
    "# save as compressed numpy array\n",
    "\n",
    "filename = 'aia304full2011.npz'\n",
    "savez_compressed(filename, src_images, tar_images)\n",
    "print ('Saved dataset: ', filename)"
   ]
  },
  {
   "cell_type": "code",
   "execution_count": null,
   "metadata": {},
   "outputs": [],
   "source": []
  }
 ],
 "metadata": {
  "colab": {
   "authorship_tag": "ABX9TyOtzW2Pp+0ghPduMcwZnrAl",
   "collapsed_sections": [],
   "mount_file_id": "1Yxxq8brsS5Urz0BdszuO0ia_5Df1-E-d",
   "name": "dataprep.ipynb",
   "provenance": []
  },
  "kernelspec": {
   "display_name": "Python 3",
   "language": "python",
   "name": "python3"
  },
  "language_info": {
   "codemirror_mode": {
    "name": "ipython",
    "version": 3
   },
   "file_extension": ".py",
   "mimetype": "text/x-python",
   "name": "python",
   "nbconvert_exporter": "python",
   "pygments_lexer": "ipython3",
   "version": "3.6.9"
  }
 },
 "nbformat": 4,
 "nbformat_minor": 1
}
