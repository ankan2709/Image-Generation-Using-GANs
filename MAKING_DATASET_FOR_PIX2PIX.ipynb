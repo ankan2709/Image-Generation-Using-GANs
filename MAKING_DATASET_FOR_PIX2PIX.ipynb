{
 "cells": [
  {
   "cell_type": "code",
   "execution_count": 1,
   "metadata": {},
   "outputs": [
    {
     "name": "stdout",
     "output_type": "stream",
     "text": [
      "685\n",
      "685\n"
     ]
    }
   ],
   "source": [
    "import os\n",
    "print(len(os.listdir('2014/2014_new1024images/newHMI/train')))\n",
    "print(len(os.listdir('2014/2014_new1024images/newAIA0304/train')))"
   ]
  },
  {
   "cell_type": "code",
   "execution_count": 2,
   "metadata": {
    "colab": {
     "base_uri": "https://localhost:8080/",
     "height": 35
    },
    "executionInfo": {
     "elapsed": 1240,
     "status": "ok",
     "timestamp": 1602252720734,
     "user": {
      "displayName": "Ankan Dash",
      "photoUrl": "https://lh3.googleusercontent.com/a-/AOh14Gj2H_g1hCeCB1nql-PzvaslocOTi6uUbmXPP1h_=s64",
      "userId": "15069647903103186795"
     },
     "user_tz": -330
    },
    "id": "eGdFKGRRFdkc",
    "outputId": "dc5bd0ef-5391-446c-d71d-3b75f75f6d02"
   },
   "outputs": [
    {
     "name": "stdout",
     "output_type": "stream",
     "text": [
      "split = train, number of images = 685\n"
     ]
    }
   ],
   "source": [
    "\"\"\"\n",
    "pix2pix_combine\n",
    "Combine 2 images from different domains for pix2pix. Make sure images in folderA and folderB have the same name.\n",
    "Folder Structure:\n",
    "folderA\n",
    "    |--> train\n",
    "    |--> valid (if any)\n",
    "    |--> test (if any)\n",
    "folderB\n",
    "    |--> train\n",
    "    |--> valid (if any)\n",
    "    |--> test (if any)\n",
    "dest_path\n",
    "    |--> train\n",
    "    |--> valid (if any)\n",
    "    |--> test (if any_\n",
    "Adapted from https://github.com/junyanz/pytorch-CycleGAN-and-pix2pix\n",
    "\"\"\"\n",
    "\n",
    "import os\n",
    "import numpy as np\n",
    "from PIL import Image\n",
    "import cv2\n",
    "from natsort import natsorted\n",
    "\n",
    "# define paths for translation from domain A (images in folderA) -> domain B (images in folderB)\n",
    "folderA = '2014/2014_new1024images/newHMI'\n",
    "folderB = '2014/2014_new1024images/newAIA0304'\n",
    "dest_path = '2014/2014_new1024images/2014output'\n",
    "\n",
    "splits = os.listdir(folderA)\n",
    "\n",
    "for sp in splits:\n",
    "    img_fold_A = os.path.join(folderA, sp)\n",
    "    img_fold_B = os.path.join(folderB, sp)\n",
    "    img_list = natsorted(os.listdir(img_fold_A))\n",
    "    num_imgs = len(img_list)\n",
    "    img_fold_AB = os.path.join(dest_path, sp)\n",
    "    if not os.path.isdir(img_fold_AB):\n",
    "        os.makedirs(img_fold_AB)\n",
    "    print('split = %s, number of images = %d' % (sp, num_imgs))\n",
    "    number = 1600\n",
    "    for n in range(num_imgs):\n",
    "        name_A = img_list[n]\n",
    "        path_A = os.path.join(img_fold_A, name_A)\n",
    "        name_B = name_A\n",
    "        path_B = os.path.join(img_fold_B, name_B)\n",
    "        if os.path.isfile(path_A) and os.path.isfile(path_B):\n",
    "            name_AB = name_A\n",
    "            path_AB = os.path.join(img_fold_AB, name_AB)\n",
    "            im_A1 = Image.open(path_A)\n",
    "            im_A = np.array(im_A1)\n",
    "            im_B1 = Image.open(path_B)\n",
    "            im_B = np.array(im_B1)\n",
    "            im_AB = np.concatenate([im_A, im_B], 1)\n",
    "            im_AB = Image.fromarray(im_AB)\n",
    "            im_AB.save(f'2014/2014_new1024images/2014output/train/{number}.png')\n",
    "            number += 1"
   ]
  },
  {
   "cell_type": "code",
   "execution_count": null,
   "metadata": {},
   "outputs": [],
   "source": [
    "'C:\\Users\\ankan\\JSOC_data_code\\2013\\2013_new1024images'"
   ]
  },
  {
   "cell_type": "code",
   "execution_count": null,
   "metadata": {},
   "outputs": [],
   "source": [
    "from PIL import Image\n",
    "im = Image.fromarray(A)\n",
    "im.save(\"your_file.jpeg\")"
   ]
  },
  {
   "cell_type": "code",
   "execution_count": null,
   "metadata": {
    "id": "MxyQWDA2Il11"
   },
   "outputs": [],
   "source": [
    "# source = '/content/drive/My Drive/Solar_data_code/HMIAIAaggregate/hmi/hmiY/'\n",
    "# dest1 = '/content/drive/My Drive/Solar_data_code/HMIAIAaggregate/folderA/train/'\n",
    "\n",
    "# files = [f for f in os.listdir(source)]\n",
    "# counter = 0\n",
    "# for file in files:\n",
    "#   shutil.copy(source+file, dest1)\n",
    "#   counter += 1\n",
    "# print(counter)"
   ]
  },
  {
   "cell_type": "code",
   "execution_count": null,
   "metadata": {
    "id": "ni-ANKQ_uFkn"
   },
   "outputs": [],
   "source": []
  },
  {
   "cell_type": "code",
   "execution_count": null,
   "metadata": {
    "id": "w5ly_vZUuFqY"
   },
   "outputs": [],
   "source": []
  },
  {
   "cell_type": "code",
   "execution_count": null,
   "metadata": {
    "colab": {
     "base_uri": "https://localhost:8080/",
     "height": 34
    },
    "executionInfo": {
     "elapsed": 269712,
     "status": "ok",
     "timestamp": 1601489625555,
     "user": {
      "displayName": "Ankan Dash",
      "photoUrl": "https://lh3.googleusercontent.com/a-/AOh14Gj2H_g1hCeCB1nql-PzvaslocOTi6uUbmXPP1h_=s64",
      "userId": "15069647903103186795"
     },
     "user_tz": -330
    },
    "id": "w7fVwyOwLsZh",
    "outputId": "2bfb5cc1-be1c-4ca8-86ea-49f3e48ad0d3"
   },
   "outputs": [
    {
     "name": "stdout",
     "output_type": "stream",
     "text": [
      "217\n"
     ]
    }
   ],
   "source": [
    "# source = '/content/drive/My Drive/Solar_data_code/HMIAIAaggregate/aia/AIA304/'\n",
    "# dest1 = '/content/drive/My Drive/Solar_data_code/HMIAIAaggregate/folderB/train/'\n",
    "\n",
    "# files = [f for f in os.listdir(source)]\n",
    "# counter = 0\n",
    "# for file in files:\n",
    "#   shutil.copy(source+file, dest1)\n",
    "#   counter += 1\n",
    "# print(counter)"
   ]
  },
  {
   "cell_type": "code",
   "execution_count": null,
   "metadata": {
    "id": "6glV6wN2ZFWk"
   },
   "outputs": [],
   "source": [
    "import os\n",
    "import numpy as np\n",
    "from PIL import Image\n",
    "import cv2"
   ]
  },
  {
   "cell_type": "code",
   "execution_count": 4,
   "metadata": {
    "colab": {
     "base_uri": "https://localhost:8080/",
     "height": 35
    },
    "executionInfo": {
     "elapsed": 4046,
     "status": "ok",
     "timestamp": 1601559630446,
     "user": {
      "displayName": "Ankan Dash",
      "photoUrl": "https://lh3.googleusercontent.com/a-/AOh14Gj2H_g1hCeCB1nql-PzvaslocOTi6uUbmXPP1h_=s64",
      "userId": "15069647903103186795"
     },
     "user_tz": -330
    },
    "id": "-UhYTchuPQco",
    "outputId": "a4e24e9a-a4f0-4b0b-99aa-c5bce0be0331"
   },
   "outputs": [
    {
     "ename": "FileNotFoundError",
     "evalue": "[WinError 3] The system cannot find the path specified: '/content/drive/My Drive/Solar_data_code/HMIAIAaggregate/folderA/train'",
     "output_type": "error",
     "traceback": [
      "\u001b[1;31m---------------------------------------------------------------------------\u001b[0m",
      "\u001b[1;31mFileNotFoundError\u001b[0m                         Traceback (most recent call last)",
      "\u001b[1;32m<ipython-input-4-fd0ba7cf7bad>\u001b[0m in \u001b[0;36m<module>\u001b[1;34m\u001b[0m\n\u001b[1;32m----> 1\u001b[1;33m \u001b[0mlen\u001b[0m\u001b[1;33m(\u001b[0m\u001b[0mos\u001b[0m\u001b[1;33m.\u001b[0m\u001b[0mlistdir\u001b[0m\u001b[1;33m(\u001b[0m\u001b[1;34m'/content/drive/My Drive/Solar_data_code/HMIAIAaggregate/folderA/train'\u001b[0m\u001b[1;33m)\u001b[0m\u001b[1;33m)\u001b[0m\u001b[1;33m\u001b[0m\u001b[1;33m\u001b[0m\u001b[0m\n\u001b[0m",
      "\u001b[1;31mFileNotFoundError\u001b[0m: [WinError 3] The system cannot find the path specified: '/content/drive/My Drive/Solar_data_code/HMIAIAaggregate/folderA/train'"
     ]
    }
   ],
   "source": [
    "len(os.listdir('/content/drive/My Drive/Solar_data_code/HMIAIAaggregate/folderA/train'))"
   ]
  },
  {
   "cell_type": "code",
   "execution_count": null,
   "metadata": {
    "colab": {
     "base_uri": "https://localhost:8080/",
     "height": 34
    },
    "executionInfo": {
     "elapsed": 1098,
     "status": "ok",
     "timestamp": 1601490131887,
     "user": {
      "displayName": "Ankan Dash",
      "photoUrl": "https://lh3.googleusercontent.com/a-/AOh14Gj2H_g1hCeCB1nql-PzvaslocOTi6uUbmXPP1h_=s64",
      "userId": "15069647903103186795"
     },
     "user_tz": -330
    },
    "id": "rrTvc_PWQAdR",
    "outputId": "966e038e-023b-4607-d4c8-d830f0cf0352"
   },
   "outputs": [
    {
     "data": {
      "text/plain": [
       "217"
      ]
     },
     "execution_count": 19,
     "metadata": {
      "tags": []
     },
     "output_type": "execute_result"
    }
   ],
   "source": [
    "len(os.listdir(img_fold_A))"
   ]
  },
  {
   "cell_type": "code",
   "execution_count": null,
   "metadata": {
    "colab": {
     "base_uri": "https://localhost:8080/",
     "height": 35
    },
    "executionInfo": {
     "elapsed": 1058,
     "status": "ok",
     "timestamp": 1601490158682,
     "user": {
      "displayName": "Ankan Dash",
      "photoUrl": "https://lh3.googleusercontent.com/a-/AOh14Gj2H_g1hCeCB1nql-PzvaslocOTi6uUbmXPP1h_=s64",
      "userId": "15069647903103186795"
     },
     "user_tz": -330
    },
    "id": "05P6qW38QAlV",
    "outputId": "033e443d-7598-4da9-ab00-bfee73d52076"
   },
   "outputs": [
    {
     "data": {
      "application/vnd.google.colaboratory.intrinsic+json": {
       "type": "string"
      },
      "text/plain": [
       "'/content/drive/My Drive/Solar_data_code/HMIAIAaggregate/output/train'"
      ]
     },
     "execution_count": 20,
     "metadata": {
      "tags": []
     },
     "output_type": "execute_result"
    }
   ],
   "source": [
    "img_fold_AB = os.path.join(dest_path, sp)\n",
    "img_fold_AB"
   ]
  },
  {
   "cell_type": "code",
   "execution_count": null,
   "metadata": {
    "colab": {
     "base_uri": "https://localhost:8080/",
     "height": 34
    },
    "executionInfo": {
     "elapsed": 1046,
     "status": "ok",
     "timestamp": 1601490278596,
     "user": {
      "displayName": "Ankan Dash",
      "photoUrl": "https://lh3.googleusercontent.com/a-/AOh14Gj2H_g1hCeCB1nql-PzvaslocOTi6uUbmXPP1h_=s64",
      "userId": "15069647903103186795"
     },
     "user_tz": -330
    },
    "id": "re6ei_j-QAiy",
    "outputId": "536ca5a8-9533-4674-c05c-d5f32c675164"
   },
   "outputs": [
    {
     "data": {
      "text/plain": [
       "217"
      ]
     },
     "execution_count": 21,
     "metadata": {
      "tags": []
     },
     "output_type": "execute_result"
    }
   ],
   "source": [
    "num_imgs = len(img_list)\n",
    "num_imgs"
   ]
  },
  {
   "cell_type": "code",
   "execution_count": null,
   "metadata": {
    "id": "uvvwc4aITGC-"
   },
   "outputs": [],
   "source": [
    "imagesA = os.listdir('/content/drive/My Drive/Solar_data_code/HMIAIAaggregate/folderA/train')\n",
    "imagesB = os.listdir('/content/drive/My Drive/Solar_data_code/HMIAIAaggregate/folderB/train')"
   ]
  },
  {
   "cell_type": "code",
   "execution_count": 4,
   "metadata": {
    "id": "oQzGeemW3A9Y"
   },
   "outputs": [],
   "source": [
    "import zipfile\n",
    "with zipfile.ZipFile(\"aia.zip\",\"r\") as zip_ref:\n",
    "    zip_ref.extractall(\"\")"
   ]
  },
  {
   "cell_type": "code",
   "execution_count": 7,
   "metadata": {
    "colab": {
     "base_uri": "https://localhost:8080/",
     "height": 34
    },
    "executionInfo": {
     "elapsed": 1100,
     "status": "ok",
     "timestamp": 1602850170031,
     "user": {
      "displayName": "Ankan Dash",
      "photoUrl": "https://lh3.googleusercontent.com/a-/AOh14Gj2H_g1hCeCB1nql-PzvaslocOTi6uUbmXPP1h_=s64",
      "userId": "15069647903103186795"
     },
     "user_tz": -330
    },
    "id": "mJJQtVGwS0X9",
    "outputId": "67f16c1b-743a-4a58-83bc-7c9cc4710fe1"
   },
   "outputs": [
    {
     "data": {
      "text/plain": [
       "217"
      ]
     },
     "execution_count": 7,
     "metadata": {},
     "output_type": "execute_result"
    }
   ],
   "source": [
    "import os\n",
    "len(os.listdir('aia/AIA193'))"
   ]
  },
  {
   "cell_type": "code",
   "execution_count": 6,
   "metadata": {
    "id": "Gplh6OWeTu45"
   },
   "outputs": [
    {
     "data": {
      "text/plain": [
       "['AIA193',\n",
       " 'AIA304',\n",
       " 'AIA131',\n",
       " 'AIA211',\n",
       " 'AIA335',\n",
       " 'AIA94',\n",
       " 'AIA171',\n",
       " 'AIA1600']"
      ]
     },
     "execution_count": 6,
     "metadata": {},
     "output_type": "execute_result"
    }
   ],
   "source": [
    "os.listdir('aia/')"
   ]
  },
  {
   "cell_type": "code",
   "execution_count": 1,
   "metadata": {},
   "outputs": [],
   "source": [
    "import os\n",
    "import tarfile\n",
    "def tardir(path, tar_name):\n",
    "    with tarfile.open(tar_name, \"w:gz\") as tar_handle:\n",
    "        for root, dirs, files in os.walk(path):\n",
    "            for file in files:\n",
    "                tar_handle.add(os.path.join(root, file))\n",
    "tardir('new1024images/output/train', 'new1024images/HMAIA_1024.tar.gz')"
   ]
  },
  {
   "cell_type": "code",
   "execution_count": null,
   "metadata": {},
   "outputs": [],
   "source": []
  }
 ],
 "metadata": {
  "colab": {
   "authorship_tag": "ABX9TyNLXF7TGPkhChdP2Rnm+DQw",
   "collapsed_sections": [],
   "mount_file_id": "1SaYEL4OHy8l1V92NBw5Ra-2mZ_-mHv71",
   "name": "making_dataset.ipynb",
   "provenance": []
  },
  "kernelspec": {
   "display_name": "Python 3",
   "language": "python",
   "name": "python3"
  },
  "language_info": {
   "codemirror_mode": {
    "name": "ipython",
    "version": 3
   },
   "file_extension": ".py",
   "mimetype": "text/x-python",
   "name": "python",
   "nbconvert_exporter": "python",
   "pygments_lexer": "ipython3",
   "version": "3.8.3"
  }
 },
 "nbformat": 4,
 "nbformat_minor": 1
}
