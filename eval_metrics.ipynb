{
  "nbformat": 4,
  "nbformat_minor": 0,
  "metadata": {
    "colab": {
      "name": "eval_metrics.ipynb",
      "provenance": []
    },
    "kernelspec": {
      "name": "python3",
      "display_name": "Python 3"
    }
  },
  "cells": [
    {
      "cell_type": "code",
      "metadata": {
        "id": "_Z5HoU8bW2BO"
      },
      "source": [
        "import numpy as np\n",
        "import matplotlib.pyplot as plt\n",
        "from PIL import Image\n",
        "import os\n",
        "from natsort import natsorted"
      ],
      "execution_count": null,
      "outputs": []
    },
    {
      "cell_type": "code",
      "metadata": {
        "id": "lFurXaXPW7CZ"
      },
      "source": [
        "from skimage.metrics import mean_squared_error\n",
        "from skimage.metrics import normalized_root_mse\n",
        "from skimage.metrics import peak_signal_noise_ratio\n",
        "from skimage.metrics import structural_similarity"
      ],
      "execution_count": null,
      "outputs": []
    },
    {
      "cell_type": "code",
      "metadata": {
        "id": "irwgS02FXHPR"
      },
      "source": [
        "real_path = '/content/drive/MyDrive/NEW_JSOC_CODE_DATA/ImagesAndModels/2012_13_14_train_test/real/'\n",
        "pred_path = '/content/drive/MyDrive/NEW_JSOC_CODE_DATA/ImagesAndModels/2012_13_14_train_test/pred/'"
      ],
      "execution_count": null,
      "outputs": []
    },
    {
      "cell_type": "code",
      "metadata": {
        "id": "YjloFll5XJtC"
      },
      "source": [
        "real_files = natsorted(os.listdir(real_path))\n",
        "pred_files = natsorted(os.listdir(pred_path))"
      ],
      "execution_count": null,
      "outputs": []
    },
    {
      "cell_type": "code",
      "metadata": {
        "colab": {
          "base_uri": "https://localhost:8080/"
        },
        "id": "6dKzJRaTXJwR",
        "outputId": "5b9c2ae5-c280-4dac-e84f-77dcce31a58d"
      },
      "source": [
        "len(pred_files)\n",
        "len(real_files)"
      ],
      "execution_count": null,
      "outputs": [
        {
          "output_type": "execute_result",
          "data": {
            "text/plain": [
              "190"
            ]
          },
          "metadata": {
            "tags": []
          },
          "execution_count": 12
        }
      ]
    },
    {
      "cell_type": "code",
      "metadata": {
        "colab": {
          "base_uri": "https://localhost:8080/"
        },
        "id": "B0He2eqTW7FR",
        "outputId": "cc708681-5838-4ab5-abe0-4e98ac8b1b63"
      },
      "source": [
        "percentage_similar_pixel = []\n",
        "mse = []\n",
        "nrmse = []\n",
        "psnr = []\n",
        "ssim = []\n",
        "\n",
        "for i in range(190):\n",
        "  real1_img = Image.open(real_path + real_files[i])\n",
        "  pred1_img = Image.open(pred_path + pred_files[i]) \n",
        "\n",
        "  a1 = np.array(real1_img)\n",
        "  a2 = np.array(pred1_img)\n",
        "\n",
        "  percentage_similar_pixel.append(np.sum(a1 == a2) / a1.size)\n",
        "\n",
        "  mse.append(mean_squared_error(a1,a2))\n",
        "\n",
        "  nrmse.append(normalized_root_mse(a1,a2,normalization=\"min-max\"))\n",
        "\n",
        "  psnr.append(peak_signal_noise_ratio(a1,a2))\n",
        "\n",
        "  ssim.append(structural_similarity(a1,a2, multichannel=True))\n",
        "\n",
        "print(f'Average percentage of similar pixels: {sum(percentage_similar_pixel)/len(percentage_similar_pixel)}')\n",
        "print(f'MSE: {sum(mse)/len(mse)}')\n",
        "print(f'NRMSE: {sum(nrmse)/len(nrmse)}')\n",
        "print(f'PSNR: {sum(psnr)/len(psnr)}')\n",
        "print(f'SSIM: {sum(ssim)/len(ssim)}')"
      ],
      "execution_count": null,
      "outputs": [
        {
          "output_type": "stream",
          "text": [
            "Average percentage of similar pixels: 0.747799723917382\n",
            "MSE: 253.42267947937793\n",
            "NRMSE: 0.05775293201425953\n",
            "PSNR: 25.418364002703267\n",
            "SSIM: 0.867408726763903\n"
          ],
          "name": "stdout"
        }
      ]
    },
    {
      "cell_type": "code",
      "metadata": {
        "id": "8Ez77QgJW7H6"
      },
      "source": [
        ""
      ],
      "execution_count": null,
      "outputs": []
    },
    {
      "cell_type": "code",
      "metadata": {
        "id": "nfX2AFmcW7Kj"
      },
      "source": [
        ""
      ],
      "execution_count": null,
      "outputs": []
    },
    {
      "cell_type": "code",
      "metadata": {
        "id": "807qHDN5W7NS"
      },
      "source": [
        ""
      ],
      "execution_count": null,
      "outputs": []
    },
    {
      "cell_type": "code",
      "metadata": {
        "id": "-Cf_IX_PW7P4"
      },
      "source": [
        ""
      ],
      "execution_count": null,
      "outputs": []
    }
  ]
}