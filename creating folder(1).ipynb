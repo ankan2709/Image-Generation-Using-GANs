{
 "cells": [
  {
   "cell_type": "code",
   "execution_count": 1,
   "metadata": {},
   "outputs": [],
   "source": [
    "import os\n",
    "import sys\n",
    "import numpy\n",
    "import shutil "
   ]
  },
  {
   "cell_type": "code",
   "execution_count": 16,
   "metadata": {},
   "outputs": [
    {
     "name": "stdout",
     "output_type": "stream",
     "text": [
      "['0094', '0131', '0171', '0193', '0211', '0304', '0335', '1600', '1700']\n",
      "['bx', 'by', 'bz']\n"
     ]
    }
   ],
   "source": [
    "aia_dir = 'SDO_MINI/2011/AIA'\n",
    "hmi_dir = 'SDO_MINI/2011/HMI'\n",
    "print(sorted(os.listdir(aia_dir)))\n",
    "print(sorted(os.listdir(hmi_dir)))"
   ]
  },
  {
   "cell_type": "code",
   "execution_count": 19,
   "metadata": {},
   "outputs": [
    {
     "data": {
      "text/plain": [
       "['01', '02', '03', '04', '05', '06', '07', '08', '09', '10', '11', '12']"
      ]
     },
     "execution_count": 19,
     "metadata": {},
     "output_type": "execute_result"
    }
   ],
   "source": [
    "months = sorted(os.listdir(aia_dir + '/' + '0171'))\n",
    "months"
   ]
  },
  {
   "cell_type": "code",
   "execution_count": 20,
   "metadata": {},
   "outputs": [
    {
     "name": "stdout",
     "output_type": "stream",
     "text": [
      "['01', '02', '03', '04', '05', '06', '07', '08', '09', '10', '11', '12', '13', '14', '15', '16', '17', '18', '19', '20', '21', '22', '23', '24', '25', '26', '27', '28', '29', '30', '31']\n"
     ]
    }
   ],
   "source": [
    "days = sorted(os.listdir(aia_dir + '/' + '0171/' + '01' ))\n",
    "print(days)"
   ]
  },
  {
   "cell_type": "code",
   "execution_count": 57,
   "metadata": {},
   "outputs": [
    {
     "name": "stdout",
     "output_type": "stream",
     "text": [
      "[]\n"
     ]
    }
   ],
   "source": [
    "print(sorted(os.listdir(aia_dir + '/' + '0171/' + '01/' + '01')))"
   ]
  },
  {
   "cell_type": "code",
   "execution_count": 22,
   "metadata": {},
   "outputs": [
    {
     "data": {
      "text/plain": [
       "24"
      ]
     },
     "execution_count": 22,
     "metadata": {},
     "output_type": "execute_result"
    }
   ],
   "source": [
    "len(sorted(os.listdir(aia_dir + '/' + '0171/' + '01/' + '01')))"
   ]
  },
  {
   "cell_type": "code",
   "execution_count": 45,
   "metadata": {},
   "outputs": [],
   "source": [
    "for month in months:\n",
    "    for day in sorted(os.listdir(aia_dir + '/' + '1700/' + f'{month}')):\n",
    "        source = aia_dir + '/' + '1700/' + f'{month}/' + f'{day}/'\n",
    "        destination = '2011/AIA/1700/'\n",
    "#         print(source)\n",
    "#         print(destination)\n",
    "        files = sorted(os.listdir(source))\n",
    "        for file in files:\n",
    "            shutil.move(source+file, destination)"
   ]
  },
  {
   "cell_type": "code",
   "execution_count": 53,
   "metadata": {},
   "outputs": [
    {
     "name": "stdout",
     "output_type": "stream",
     "text": [
      "['0094', '0131', '0171', '0193', '0211', '0304', '0335', '1600', '1700']\n",
      "['bx', 'by', 'bz']\n"
     ]
    }
   ],
   "source": [
    "aia_dir = 'SDO_MINI/2011/AIA'\n",
    "hmi_dir = 'SDO_MINI/2011/HMI'\n",
    "print(sorted(os.listdir(aia_dir)))\n",
    "print(sorted(os.listdir(hmi_dir)))"
   ]
  },
  {
   "cell_type": "code",
   "execution_count": null,
   "metadata": {},
   "outputs": [],
   "source": []
  },
  {
   "cell_type": "code",
   "execution_count": 93,
   "metadata": {},
   "outputs": [
    {
     "data": {
      "text/plain": [
       "7718"
      ]
     },
     "execution_count": 93,
     "metadata": {},
     "output_type": "execute_result"
    }
   ],
   "source": [
    "len(os.listdir(destination))"
   ]
  },
  {
   "cell_type": "code",
   "execution_count": 54,
   "metadata": {},
   "outputs": [],
   "source": [
    "for month in months:\n",
    "    for day in sorted(os.listdir(hmi_dir + '/' + 'bz/' + f'{month}')):\n",
    "        source = hmi_dir + '/' + 'bz/' + f'{month}/' + f'{day}/'\n",
    "        destination = '2011/HMI/bz/'\n",
    "#         print(source)\n",
    "#         print(destination)\n",
    "        files = sorted(os.listdir(source))\n",
    "        for file in files:\n",
    "            shutil.move(source+file, destination)"
   ]
  },
  {
   "cell_type": "code",
   "execution_count": 55,
   "metadata": {},
   "outputs": [
    {
     "data": {
      "text/plain": [
       "7718"
      ]
     },
     "execution_count": 55,
     "metadata": {},
     "output_type": "execute_result"
    }
   ],
   "source": [
    "len(os.listdir(destination))"
   ]
  },
  {
   "cell_type": "code",
   "execution_count": 51,
   "metadata": {},
   "outputs": [],
   "source": [
    "aia = '2011/AIA'\n",
    "hmi = '2011/HMI'"
   ]
  },
  {
   "cell_type": "code",
   "execution_count": 58,
   "metadata": {},
   "outputs": [
    {
     "name": "stdout",
     "output_type": "stream",
     "text": [
      ".ipynb_checkpoints 0\n",
      "0094 7718\n",
      "0131 7718\n",
      "0171 7718\n",
      "0193 7718\n",
      "0211 7718\n",
      "0304 7718\n",
      "0335 7718\n",
      "1600 7718\n",
      "1700 7718\n"
     ]
    }
   ],
   "source": [
    "for folder in sorted(os.listdir(aia)):\n",
    "    print(folder, len(os.listdir(os.path.join(aia, folder))))"
   ]
  },
  {
   "cell_type": "code",
   "execution_count": 59,
   "metadata": {},
   "outputs": [
    {
     "name": "stdout",
     "output_type": "stream",
     "text": [
      ".ipynb_checkpoints 0\n",
      "bx 0\n",
      "by 0\n",
      "bz 7718\n"
     ]
    }
   ],
   "source": [
    "for folder in sorted(os.listdir(hmi)):\n",
    "    print(folder, len(os.listdir(os.path.join(hmi, folder))))"
   ]
  },
  {
   "cell_type": "code",
   "execution_count": null,
   "metadata": {},
   "outputs": [],
   "source": []
  },
  {
   "cell_type": "code",
   "execution_count": null,
   "metadata": {},
   "outputs": [],
   "source": []
  },
  {
   "cell_type": "code",
   "execution_count": null,
   "metadata": {},
   "outputs": [],
   "source": []
  },
  {
   "cell_type": "code",
   "execution_count": null,
   "metadata": {},
   "outputs": [],
   "source": []
  },
  {
   "cell_type": "code",
   "execution_count": null,
   "metadata": {},
   "outputs": [],
   "source": []
  },
  {
   "cell_type": "code",
   "execution_count": 2,
   "metadata": {},
   "outputs": [
    {
     "data": {
      "text/plain": [
       "['test', 'README.txt', 'training']"
      ]
     },
     "execution_count": 2,
     "metadata": {},
     "output_type": "execute_result"
    }
   ],
   "source": [
    "os.listdir('SDOBenchmark-data-full')"
   ]
  },
  {
   "cell_type": "code",
   "execution_count": 7,
   "metadata": {},
   "outputs": [
    {
     "data": {
      "text/plain": [
       "['2014-02-11T073401__193.jpg',\n",
       " '2014-02-11T003401__193.jpg',\n",
       " '2014-02-11T110401__304.jpg',\n",
       " '2014-02-11T003401__continuum.jpg',\n",
       " '2014-02-11T003401__94.jpg',\n",
       " '2014-02-11T073401__magnetogram.jpg',\n",
       " '2014-02-11T122401__1700.jpg',\n",
       " '2014-02-11T003401__211.jpg',\n",
       " '2014-02-11T122401__304.jpg',\n",
       " '2014-02-11T003401__131.jpg',\n",
       " '2014-02-11T110401__171.jpg',\n",
       " '2014-02-11T073401__171.jpg',\n",
       " '2014-02-11T122401__335.jpg',\n",
       " '2014-02-11T003401__171.jpg',\n",
       " '2014-02-11T110401__211.jpg',\n",
       " '2014-02-11T122401__94.jpg',\n",
       " '2014-02-11T122401__211.jpg',\n",
       " '2014-02-11T122401__magnetogram.jpg',\n",
       " '2014-02-11T122401__193.jpg',\n",
       " '2014-02-11T003401__304.jpg',\n",
       " '2014-02-11T073401__continuum.jpg',\n",
       " '2014-02-11T073401__131.jpg',\n",
       " '2014-02-11T110401__magnetogram.jpg',\n",
       " '2014-02-11T110401__335.jpg',\n",
       " '2014-02-11T073401__211.jpg',\n",
       " '2014-02-11T110401__193.jpg',\n",
       " '2014-02-11T073401__1700.jpg',\n",
       " '2014-02-11T110401__94.jpg',\n",
       " '2014-02-11T003401__magnetogram.jpg',\n",
       " '2014-02-11T122401__171.jpg',\n",
       " '2014-02-11T110401__continuum.jpg',\n",
       " '2014-02-11T073401__335.jpg',\n",
       " '2014-02-11T110401__131.jpg',\n",
       " '2014-02-11T073401__304.jpg',\n",
       " '2014-02-11T073401__94.jpg',\n",
       " '2014-02-11T122401__continuum.jpg',\n",
       " '2014-02-11T003401__1700.jpg',\n",
       " '2014-02-11T110401__1700.jpg',\n",
       " '2014-02-11T003401__335.jpg',\n",
       " '2014-02-11T122401__131.jpg']"
      ]
     },
     "execution_count": 7,
     "metadata": {},
     "output_type": "execute_result"
    }
   ],
   "source": [
    "os.listdir('SDOBenchmark-data-full/test/11971/2014_02_11_12_34_01_0/')"
   ]
  },
  {
   "cell_type": "code",
   "execution_count": null,
   "metadata": {},
   "outputs": [],
   "source": []
  },
  {
   "cell_type": "code",
   "execution_count": null,
   "metadata": {},
   "outputs": [],
   "source": []
  }
 ],
 "metadata": {
  "kernelspec": {
   "display_name": "Python 3",
   "language": "python",
   "name": "python3"
  },
  "language_info": {
   "codemirror_mode": {
    "name": "ipython",
    "version": 3
   },
   "file_extension": ".py",
   "mimetype": "text/x-python",
   "name": "python",
   "nbconvert_exporter": "python",
   "pygments_lexer": "ipython3",
   "version": "3.6.9"
  }
 },
 "nbformat": 4,
 "nbformat_minor": 4
}
