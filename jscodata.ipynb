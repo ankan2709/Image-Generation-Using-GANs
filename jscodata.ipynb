{
 "cells": [
  {
   "cell_type": "code",
   "execution_count": null,
   "metadata": {
    "id": "JV16Ut6tWcqY"
   },
   "outputs": [],
   "source": [
    "# # sunpy data\n",
    "# ! pip3 install sunpy\n",
    "# # ! pip3 install drms\n",
    "# # ! pip3 install sunpy zeep"
   ]
  },
  {
   "cell_type": "code",
   "execution_count": 11,
   "metadata": {
    "executionInfo": {
     "elapsed": 1436,
     "status": "ok",
     "timestamp": 1604759923184,
     "user": {
      "displayName": "Ankan Dash",
      "photoUrl": "https://lh3.googleusercontent.com/a-/AOh14GgZrmOw1hV6kmiTyiupYexh0VraYZou9xROApmx=s64",
      "userId": "17001824366533707810"
     },
     "user_tz": -330
    },
    "id": "D8j05vZjWctC"
   },
   "outputs": [],
   "source": [
    "from sunpy.net import Fido, attrs as a"
   ]
  },
  {
   "cell_type": "code",
   "execution_count": 13,
   "metadata": {
    "colab": {
     "base_uri": "https://localhost:8080/"
    },
    "executionInfo": {
     "elapsed": 1709,
     "status": "ok",
     "timestamp": 1604750012718,
     "user": {
      "displayName": "Ankan Dash",
      "photoUrl": "https://lh3.googleusercontent.com/a-/AOh14GgZrmOw1hV6kmiTyiupYexh0VraYZou9xROApmx=s64",
      "userId": "17001824366533707810"
     },
     "user_tz": -330
    },
    "id": "3uqN7f5PWcvr",
    "outputId": "5deaa6b3-47d6-46b4-bfd1-d5d9424b8007"
   },
   "outputs": [],
   "source": [
    "# print(a.Instrument.hmi)"
   ]
  },
  {
   "cell_type": "code",
   "execution_count": 14,
   "metadata": {
    "colab": {
     "base_uri": "https://localhost:8080/"
    },
    "executionInfo": {
     "elapsed": 1659,
     "status": "ok",
     "timestamp": 1604747008122,
     "user": {
      "displayName": "Ankan Dash",
      "photoUrl": "https://lh3.googleusercontent.com/a-/AOh14GgZrmOw1hV6kmiTyiupYexh0VraYZou9xROApmx=s64",
      "userId": "17001824366533707810"
     },
     "user_tz": -330
    },
    "id": "3q6H8g11WcyJ",
    "outputId": "4efec4c8-3bf2-4c2c-cffd-a806900c48bd"
   },
   "outputs": [],
   "source": [
    "# print(a.vso.Provider)"
   ]
  },
  {
   "cell_type": "code",
   "execution_count": 15,
   "metadata": {
    "colab": {
     "base_uri": "https://localhost:8080/"
    },
    "executionInfo": {
     "elapsed": 1668,
     "status": "ok",
     "timestamp": 1604747102331,
     "user": {
      "displayName": "Ankan Dash",
      "photoUrl": "https://lh3.googleusercontent.com/a-/AOh14GgZrmOw1hV6kmiTyiupYexh0VraYZou9xROApmx=s64",
      "userId": "17001824366533707810"
     },
     "user_tz": -330
    },
    "id": "vOSJDfCPWc0h",
    "outputId": "c04e00f6-4a6c-43d3-c5d7-b4bf43c60cab"
   },
   "outputs": [],
   "source": [
    "# print(a.jsoc.Series)"
   ]
  },
  {
   "cell_type": "code",
   "execution_count": 16,
   "metadata": {
    "executionInfo": {
     "elapsed": 1324,
     "status": "ok",
     "timestamp": 1604759966256,
     "user": {
      "displayName": "Ankan Dash",
      "photoUrl": "https://lh3.googleusercontent.com/a-/AOh14GgZrmOw1hV6kmiTyiupYexh0VraYZou9xROApmx=s64",
      "userId": "17001824366533707810"
     },
     "user_tz": -330
    },
    "id": "1t5Yqs_VWc54"
   },
   "outputs": [],
   "source": [
    "import astropy.units as u"
   ]
  },
  {
   "cell_type": "code",
   "execution_count": 162,
   "metadata": {
    "executionInfo": {
     "elapsed": 27968,
     "status": "ok",
     "timestamp": 1604766320045,
     "user": {
      "displayName": "Ankan Dash",
      "photoUrl": "https://lh3.googleusercontent.com/a-/AOh14GgZrmOw1hV6kmiTyiupYexh0VraYZou9xROApmx=s64",
      "userId": "17001824366533707810"
     },
     "user_tz": -330
    },
    "id": "5NDlFHXJY7Sq"
   },
   "outputs": [],
   "source": [
    "# VSO AIA\n",
    "vso_aia = Fido.search(a.Time('2012-01-01T00:00:00', '2012-12-31T00:00:00'), \n",
    "            a.Instrument.aia,\n",
    "            a.Wavelength(304*u.angstrom), \n",
    "            a.Sample(12*u.hour))"
   ]
  },
  {
   "cell_type": "code",
   "execution_count": 18,
   "metadata": {},
   "outputs": [
    {
     "data": {
      "text/html": [
       "Results from 1 Provider:</br></br>730 Results from the VSOClient:</br><i>QTable length=730</i>\n",
       "<table id=\"table140151231634176\" class=\"table-striped table-bordered table-condensed\">\n",
       "<thead><tr><th>Start Time [1]</th><th>End Time [1]</th><th>Source</th><th>Instrument</th><th>Type</th><th>Wavelength [2]</th></tr></thead>\n",
       "<thead><tr><th></th><th></th><th></th><th></th><th></th><th>Angstrom</th></tr></thead>\n",
       "<thead><tr><th>str19</th><th>str19</th><th>str3</th><th>str3</th><th>str8</th><th>float64</th></tr></thead>\n",
       "<tr><td>2012-01-01 00:00:08</td><td>2012-01-01 00:00:09</td><td>SDO</td><td>AIA</td><td>FULLDISK</td><td>304.0 .. 304.0</td></tr>\n",
       "<tr><td>2012-01-01 12:00:08</td><td>2012-01-01 12:00:09</td><td>SDO</td><td>AIA</td><td>FULLDISK</td><td>304.0 .. 304.0</td></tr>\n",
       "<tr><td>2012-01-02 00:00:08</td><td>2012-01-02 00:00:09</td><td>SDO</td><td>AIA</td><td>FULLDISK</td><td>304.0 .. 304.0</td></tr>\n",
       "<tr><td>2012-01-02 12:00:08</td><td>2012-01-02 12:00:09</td><td>SDO</td><td>AIA</td><td>FULLDISK</td><td>304.0 .. 304.0</td></tr>\n",
       "<tr><td>2012-01-03 00:00:08</td><td>2012-01-03 00:00:09</td><td>SDO</td><td>AIA</td><td>FULLDISK</td><td>304.0 .. 304.0</td></tr>\n",
       "<tr><td>2012-01-03 12:00:08</td><td>2012-01-03 12:00:09</td><td>SDO</td><td>AIA</td><td>FULLDISK</td><td>304.0 .. 304.0</td></tr>\n",
       "<tr><td>2012-01-04 00:00:08</td><td>2012-01-04 00:00:09</td><td>SDO</td><td>AIA</td><td>FULLDISK</td><td>304.0 .. 304.0</td></tr>\n",
       "<tr><td>2012-01-04 12:00:08</td><td>2012-01-04 12:00:09</td><td>SDO</td><td>AIA</td><td>FULLDISK</td><td>304.0 .. 304.0</td></tr>\n",
       "<tr><td>2012-01-05 00:00:08</td><td>2012-01-05 00:00:09</td><td>SDO</td><td>AIA</td><td>FULLDISK</td><td>304.0 .. 304.0</td></tr>\n",
       "<tr><td>...</td><td>...</td><td>...</td><td>...</td><td>...</td><td>...</td></tr>\n",
       "<tr><td>2012-12-26 00:00:07</td><td>2012-12-26 00:00:08</td><td>SDO</td><td>AIA</td><td>FULLDISK</td><td>304.0 .. 304.0</td></tr>\n",
       "<tr><td>2012-12-26 12:00:07</td><td>2012-12-26 12:00:08</td><td>SDO</td><td>AIA</td><td>FULLDISK</td><td>304.0 .. 304.0</td></tr>\n",
       "<tr><td>2012-12-27 00:00:07</td><td>2012-12-27 00:00:08</td><td>SDO</td><td>AIA</td><td>FULLDISK</td><td>304.0 .. 304.0</td></tr>\n",
       "<tr><td>2012-12-27 12:00:07</td><td>2012-12-27 12:00:08</td><td>SDO</td><td>AIA</td><td>FULLDISK</td><td>304.0 .. 304.0</td></tr>\n",
       "<tr><td>2012-12-28 00:00:07</td><td>2012-12-28 00:00:08</td><td>SDO</td><td>AIA</td><td>FULLDISK</td><td>304.0 .. 304.0</td></tr>\n",
       "<tr><td>2012-12-28 12:00:07</td><td>2012-12-28 12:00:08</td><td>SDO</td><td>AIA</td><td>FULLDISK</td><td>304.0 .. 304.0</td></tr>\n",
       "<tr><td>2012-12-29 00:00:07</td><td>2012-12-29 00:00:08</td><td>SDO</td><td>AIA</td><td>FULLDISK</td><td>304.0 .. 304.0</td></tr>\n",
       "<tr><td>2012-12-29 12:00:07</td><td>2012-12-29 12:00:08</td><td>SDO</td><td>AIA</td><td>FULLDISK</td><td>304.0 .. 304.0</td></tr>\n",
       "<tr><td>2012-12-30 00:00:07</td><td>2012-12-30 00:00:08</td><td>SDO</td><td>AIA</td><td>FULLDISK</td><td>304.0 .. 304.0</td></tr>\n",
       "<tr><td>2012-12-30 12:00:07</td><td>2012-12-30 12:00:08</td><td>SDO</td><td>AIA</td><td>FULLDISK</td><td>304.0 .. 304.0</td></tr>\n",
       "</table></br>"
      ],
      "text/plain": [
       "<sunpy.net.fido_factory.UnifiedResponse object at 0x7f777fce5f28>\n",
       "Results from 1 Provider:\n",
       "\n",
       "730 Results from the VSOClient:\n",
       "   Start Time [1]       End Time [1]    Source ...   Type   Wavelength [2]\n",
       "                                               ...             Angstrom   \n",
       "------------------- ------------------- ------ ... -------- --------------\n",
       "2012-01-01 00:00:08 2012-01-01 00:00:09    SDO ... FULLDISK 304.0 .. 304.0\n",
       "2012-01-01 12:00:08 2012-01-01 12:00:09    SDO ... FULLDISK 304.0 .. 304.0\n",
       "2012-01-02 00:00:08 2012-01-02 00:00:09    SDO ... FULLDISK 304.0 .. 304.0\n",
       "2012-01-02 12:00:08 2012-01-02 12:00:09    SDO ... FULLDISK 304.0 .. 304.0\n",
       "2012-01-03 00:00:08 2012-01-03 00:00:09    SDO ... FULLDISK 304.0 .. 304.0\n",
       "2012-01-03 12:00:08 2012-01-03 12:00:09    SDO ... FULLDISK 304.0 .. 304.0\n",
       "2012-01-04 00:00:08 2012-01-04 00:00:09    SDO ... FULLDISK 304.0 .. 304.0\n",
       "2012-01-04 12:00:08 2012-01-04 12:00:09    SDO ... FULLDISK 304.0 .. 304.0\n",
       "2012-01-05 00:00:08 2012-01-05 00:00:09    SDO ... FULLDISK 304.0 .. 304.0\n",
       "2012-01-05 12:00:08 2012-01-05 12:00:09    SDO ... FULLDISK 304.0 .. 304.0\n",
       "                ...                 ...    ... ...      ...            ...\n",
       "2012-12-26 00:00:07 2012-12-26 00:00:08    SDO ... FULLDISK 304.0 .. 304.0\n",
       "2012-12-26 12:00:07 2012-12-26 12:00:08    SDO ... FULLDISK 304.0 .. 304.0\n",
       "2012-12-27 00:00:07 2012-12-27 00:00:08    SDO ... FULLDISK 304.0 .. 304.0\n",
       "2012-12-27 12:00:07 2012-12-27 12:00:08    SDO ... FULLDISK 304.0 .. 304.0\n",
       "2012-12-28 00:00:07 2012-12-28 00:00:08    SDO ... FULLDISK 304.0 .. 304.0\n",
       "2012-12-28 12:00:07 2012-12-28 12:00:08    SDO ... FULLDISK 304.0 .. 304.0\n",
       "2012-12-29 00:00:07 2012-12-29 00:00:08    SDO ... FULLDISK 304.0 .. 304.0\n",
       "2012-12-29 12:00:07 2012-12-29 12:00:08    SDO ... FULLDISK 304.0 .. 304.0\n",
       "2012-12-30 00:00:07 2012-12-30 00:00:08    SDO ... FULLDISK 304.0 .. 304.0\n",
       "2012-12-30 12:00:07 2012-12-30 12:00:08    SDO ... FULLDISK 304.0 .. 304.0\n",
       "Length = 730 rows\n"
      ]
     },
     "execution_count": 18,
     "metadata": {},
     "output_type": "execute_result"
    }
   ],
   "source": [
    "Fido.search(a.Time('2012-01-01T00:00:00', '2012-12-31T00:00:00'), \n",
    "            a.Instrument.aia,\n",
    "            a.Wavelength(304*u.angstrom), \n",
    "            a.Sample(12*u.hour))"
   ]
  },
  {
   "cell_type": "code",
   "execution_count": 17,
   "metadata": {
    "colab": {
     "base_uri": "https://localhost:8080/"
    },
    "id": "RuXont36hwUG",
    "outputId": "c5f6decf-fbfb-4e7c-83e4-659a875f46d2"
   },
   "outputs": [],
   "source": [
    "# downloaded_files = Fido.fetch(vso_aia, path='/content/drive/My Drive/newSolarGAN/data/vsoaia/{file}')"
   ]
  },
  {
   "cell_type": "code",
   "execution_count": null,
   "metadata": {
    "id": "QrW8xG4RiAoG"
   },
   "outputs": [],
   "source": []
  },
  {
   "cell_type": "code",
   "execution_count": null,
   "metadata": {
    "id": "VMlEwVfIiAqp"
   },
   "outputs": [],
   "source": []
  },
  {
   "cell_type": "code",
   "execution_count": 118,
   "metadata": {
    "executionInfo": {
     "elapsed": 1335,
     "status": "ok",
     "timestamp": 1604761773914,
     "user": {
      "displayName": "Ankan Dash",
      "photoUrl": "https://lh3.googleusercontent.com/a-/AOh14GgZrmOw1hV6kmiTyiupYexh0VraYZou9xROApmx=s64",
      "userId": "17001824366533707810"
     },
     "user_tz": -330
    },
    "id": "rh0Gk-1KY7YL"
   },
   "outputs": [],
   "source": [
    "# VSO HMI\n",
    "Fido.search(a.Time('2012-01-01T00:00:00', '2012-12-31T00:00:00'), \n",
    "            a.Instrument.hmi,\n",
    "            a.Sample(12*u.hour)\n",
    "            )"
   ]
  },
  {
   "cell_type": "code",
   "execution_count": null,
   "metadata": {
    "id": "G98RtV5gY7ao"
   },
   "outputs": [],
   "source": []
  },
  {
   "cell_type": "code",
   "execution_count": null,
   "metadata": {
    "id": "msyinoCGNrwu"
   },
   "outputs": [],
   "source": []
  },
  {
   "cell_type": "code",
   "execution_count": null,
   "metadata": {
    "id": "yQoELDbbNrzh"
   },
   "outputs": [],
   "source": []
  },
  {
   "cell_type": "code",
   "execution_count": 121,
   "metadata": {
    "colab": {
     "base_uri": "https://localhost:8080/",
     "height": 601
    },
    "executionInfo": {
     "elapsed": 51372,
     "status": "ok",
     "timestamp": 1604762554729,
     "user": {
      "displayName": "Ankan Dash",
      "photoUrl": "https://lh3.googleusercontent.com/a-/AOh14GgZrmOw1hV6kmiTyiupYexh0VraYZou9xROApmx=s64",
      "userId": "17001824366533707810"
     },
     "user_tz": -330
    },
    "id": "_eK6PmURY7gJ",
    "outputId": "c792c13c-de22-421d-9801-d5068ef1753a"
   },
   "outputs": [
    {
     "name": "stderr",
     "output_type": "stream",
     "text": [
      "WARNING: AstropyDeprecationWarning: The truth value of a Quantity is ambiguous. In the future this will raise a ValueError. [astropy.units.quantity]\n"
     ]
    },
    {
     "data": {
      "text/html": [
       "Results from 1 Provider:</br></br>728 Results from the JSOCClient:</br><i>QTable length=728</i>\n",
       "<table id=\"table140072996539528\" class=\"table-striped table-bordered table-condensed\">\n",
       "<thead><tr><th>T_REC</th><th>TELESCOP</th><th>INSTRUME</th><th>WAVELNTH</th><th>CAR_ROT</th></tr></thead>\n",
       "<thead><tr><th>str20</th><th>str7</th><th>str5</th><th>int64</th><th>int64</th></tr></thead>\n",
       "<tr><td>2016-12-31T23:59:60Z</td><td>SDO/AIA</td><td>AIA_4</td><td>304</td><td>2185</td></tr>\n",
       "<tr><td>2017-01-01T11:59:59Z</td><td>SDO/AIA</td><td>AIA_4</td><td>304</td><td>2185</td></tr>\n",
       "<tr><td>2017-01-01T23:59:59Z</td><td>SDO/AIA</td><td>AIA_4</td><td>304</td><td>2185</td></tr>\n",
       "<tr><td>2017-01-02T11:59:59Z</td><td>SDO/AIA</td><td>AIA_4</td><td>304</td><td>2185</td></tr>\n",
       "<tr><td>2017-01-02T23:59:59Z</td><td>SDO/AIA</td><td>AIA_4</td><td>304</td><td>2185</td></tr>\n",
       "<tr><td>2017-01-03T11:59:59Z</td><td>SDO/AIA</td><td>AIA_4</td><td>304</td><td>2185</td></tr>\n",
       "<tr><td>2017-01-03T23:59:59Z</td><td>SDO/AIA</td><td>AIA_4</td><td>304</td><td>2185</td></tr>\n",
       "<tr><td>2017-01-04T11:59:59Z</td><td>SDO/AIA</td><td>AIA_4</td><td>304</td><td>2185</td></tr>\n",
       "<tr><td>2017-01-04T23:59:59Z</td><td>SDO/AIA</td><td>AIA_4</td><td>304</td><td>2185</td></tr>\n",
       "<tr><td>2017-01-05T11:59:59Z</td><td>SDO/AIA</td><td>AIA_4</td><td>304</td><td>2185</td></tr>\n",
       "<tr><td>...</td><td>...</td><td>...</td><td>...</td><td>...</td></tr>\n",
       "<tr><td>2017-12-26T11:59:59Z</td><td>SDO/AIA</td><td>AIA_4</td><td>304</td><td>2198</td></tr>\n",
       "<tr><td>2017-12-26T23:59:59Z</td><td>SDO/AIA</td><td>AIA_4</td><td>304</td><td>2198</td></tr>\n",
       "<tr><td>2017-12-27T11:59:59Z</td><td>SDO/AIA</td><td>AIA_4</td><td>304</td><td>2198</td></tr>\n",
       "<tr><td>2017-12-27T23:59:59Z</td><td>SDO/AIA</td><td>AIA_4</td><td>304</td><td>2198</td></tr>\n",
       "<tr><td>2017-12-28T11:59:59Z</td><td>SDO/AIA</td><td>AIA_4</td><td>304</td><td>2198</td></tr>\n",
       "<tr><td>2017-12-28T23:59:59Z</td><td>SDO/AIA</td><td>AIA_4</td><td>304</td><td>2198</td></tr>\n",
       "<tr><td>2017-12-29T11:59:59Z</td><td>SDO/AIA</td><td>AIA_4</td><td>304</td><td>2198</td></tr>\n",
       "<tr><td>2017-12-29T23:59:59Z</td><td>SDO/AIA</td><td>AIA_4</td><td>304</td><td>2198</td></tr>\n",
       "<tr><td>2017-12-30T11:59:59Z</td><td>SDO/AIA</td><td>AIA_4</td><td>304</td><td>2198</td></tr>\n",
       "<tr><td>2017-12-30T23:59:59Z</td><td>SDO/AIA</td><td>AIA_4</td><td>304</td><td>2199</td></tr>\n",
       "</table></br>"
      ],
      "text/plain": [
       "<sunpy.net.fido_factory.UnifiedResponse object at 0x7f654afe90b8>\n",
       "Results from 1 Provider:\n",
       "\n",
       "728 Results from the JSOCClient:\n",
       "       T_REC         TELESCOP INSTRUME WAVELNTH CAR_ROT\n",
       "-------------------- -------- -------- -------- -------\n",
       "2016-12-31T23:59:60Z  SDO/AIA    AIA_4      304    2185\n",
       "2017-01-01T11:59:59Z  SDO/AIA    AIA_4      304    2185\n",
       "2017-01-01T23:59:59Z  SDO/AIA    AIA_4      304    2185\n",
       "2017-01-02T11:59:59Z  SDO/AIA    AIA_4      304    2185\n",
       "2017-01-02T23:59:59Z  SDO/AIA    AIA_4      304    2185\n",
       "2017-01-03T11:59:59Z  SDO/AIA    AIA_4      304    2185\n",
       "2017-01-03T23:59:59Z  SDO/AIA    AIA_4      304    2185\n",
       "2017-01-04T11:59:59Z  SDO/AIA    AIA_4      304    2185\n",
       "2017-01-04T23:59:59Z  SDO/AIA    AIA_4      304    2185\n",
       "2017-01-05T11:59:59Z  SDO/AIA    AIA_4      304    2185\n",
       "                 ...      ...      ...      ...     ...\n",
       "2017-12-25T23:59:59Z  SDO/AIA    AIA_4      304    2198\n",
       "2017-12-26T11:59:59Z  SDO/AIA    AIA_4      304    2198\n",
       "2017-12-26T23:59:59Z  SDO/AIA    AIA_4      304    2198\n",
       "2017-12-27T11:59:59Z  SDO/AIA    AIA_4      304    2198\n",
       "2017-12-27T23:59:59Z  SDO/AIA    AIA_4      304    2198\n",
       "2017-12-28T11:59:59Z  SDO/AIA    AIA_4      304    2198\n",
       "2017-12-28T23:59:59Z  SDO/AIA    AIA_4      304    2198\n",
       "2017-12-29T11:59:59Z  SDO/AIA    AIA_4      304    2198\n",
       "2017-12-29T23:59:59Z  SDO/AIA    AIA_4      304    2198\n",
       "2017-12-30T11:59:59Z  SDO/AIA    AIA_4      304    2198\n",
       "2017-12-30T23:59:59Z  SDO/AIA    AIA_4      304    2199\n",
       "Length = 728 rows\n"
      ]
     },
     "execution_count": 121,
     "metadata": {
      "tags": []
     },
     "output_type": "execute_result"
    }
   ],
   "source": [
    "# jsoc aia \n",
    "Fido.search(a.Time('2017-01-01T00:00:00', '2017-12-31T00:00:00'),\n",
    "                               a.jsoc.Notify('sunpy@sunpy.org'),\n",
    "                              a.jsoc.Series('aia.lev1_euv_12s'),\n",
    "                               a.jsoc.Wavelength(304*u.AA),\n",
    "                  a.Sample(12*u.hour))"
   ]
  },
  {
   "cell_type": "markdown",
   "metadata": {
    "id": "Csz9jbuip0xs"
   },
   "source": [
    "# HMI Magnetograms\n",
    "\n",
    "## Magnetograms are maps of the observed solar magnetic field in the photosphere. The line-of-sight component of the field can be accurately measured as it evolves in time over the full visible disk of the Sun. The HMI instrument exploits the Zeeman effect, which allows the strength of the line-of-sight component of the magnetic field to be determined by measurements of the spectral line in circularly polarized light.\n",
    "\n",
    "HMI makes two independent measurements of the line-of-sight component of the photospheric magnetic field. One is collected every 45 seconds with the HMI Doppler camera. The other is computed every 720 seconds using filtergrams recorded by the Vector Field camera. The spatial resolution is 1 arc second (half arc-second pixels) and the full disk images are collected on a 4096**2 detector. The noise level is nominally between 5 and 10 Gauss. HMI really measures flux density in Mx/cm2 in each pixel.\n",
    "\n",
    "1. hmi.M_720s magnetograms are computed every 12 minutes (720 seconds) by combining registered filtergrams obtained over a 1260 second time interval. The images provide a full-disk low-noise image of the Sun.\n",
    "\n",
    "1. hmi.M_45s magnetograms are derived every 45 seconds. They provide a full disk image of the magnetic field and are best used to investigate rapidlly evolving field structures."
   ]
  },
  {
   "cell_type": "code",
   "execution_count": 20,
   "metadata": {
    "executionInfo": {
     "elapsed": 7370,
     "status": "ok",
     "timestamp": 1604763331769,
     "user": {
      "displayName": "Ankan Dash",
      "photoUrl": "https://lh3.googleusercontent.com/a-/AOh14GgZrmOw1hV6kmiTyiupYexh0VraYZou9xROApmx=s64",
      "userId": "17001824366533707810"
     },
     "user_tz": -330
    },
    "id": "90kpXO2CmWeZ"
   },
   "outputs": [],
   "source": [
    "# # Line-of-Sight Magnetograms, hmi.M_45s\n",
    "# resHmi45 = Fido.search(a.Time('2012-01-01T00:00:00', '2012-12-31T00:00:00'),\n",
    "#                                a.jsoc.Notify('sunpy@sunpy.org'),\n",
    "#                               a.jsoc.Series('hmi.M_45s'),\n",
    "#                   a.Sample(12*u.hour))"
   ]
  },
  {
   "cell_type": "code",
   "execution_count": 19,
   "metadata": {
    "colab": {
     "base_uri": "https://localhost:8080/",
     "height": 314
    },
    "executionInfo": {
     "elapsed": 2716,
     "status": "error",
     "timestamp": 1604766134666,
     "user": {
      "displayName": "Ankan Dash",
      "photoUrl": "https://lh3.googleusercontent.com/a-/AOh14GgZrmOw1hV6kmiTyiupYexh0VraYZou9xROApmx=s64",
      "userId": "17001824366533707810"
     },
     "user_tz": -330
    },
    "id": "RxcVLdFuWTXU",
    "outputId": "ca1c4f8d-e18b-4846-9edf-64864868f385"
   },
   "outputs": [],
   "source": [
    "# resHmi45_downloaded_files = Fido.fetch(resHmi45) "
   ]
  },
  {
   "cell_type": "code",
   "execution_count": null,
   "metadata": {
    "id": "FpLpAGnNWW-U"
   },
   "outputs": [],
   "source": []
  },
  {
   "cell_type": "code",
   "execution_count": null,
   "metadata": {
    "id": "0FcTJQaAWXBL"
   },
   "outputs": [],
   "source": []
  },
  {
   "cell_type": "code",
   "execution_count": null,
   "metadata": {
    "id": "CGzc6-feWXDs"
   },
   "outputs": [],
   "source": []
  },
  {
   "cell_type": "code",
   "execution_count": 21,
   "metadata": {
    "colab": {
     "base_uri": "https://localhost:8080/",
     "height": 563
    },
    "executionInfo": {
     "elapsed": 5537,
     "status": "ok",
     "timestamp": 1604761748190,
     "user": {
      "displayName": "Ankan Dash",
      "photoUrl": "https://lh3.googleusercontent.com/a-/AOh14GgZrmOw1hV6kmiTyiupYexh0VraYZou9xROApmx=s64",
      "userId": "17001824366533707810"
     },
     "user_tz": -330
    },
    "id": "ohtpwrRCY7lh",
    "outputId": "d3bef411-6a7c-48fb-9087-7b0589c62e25"
   },
   "outputs": [],
   "source": [
    "# # Line-of-Sight Magnetograms hmi.M_720s\n",
    "# Fido.search(a.Time('2012-01-01T00:00:00', '2012-12-31T00:00:00'),\n",
    "#                                a.jsoc.Notify('sunpy@sunpy.org'),\n",
    "#                               a.jsoc.Series('hmi.M_720s'),\n",
    "#                               #  a.jsoc.Wavelength(304*u.AA),\n",
    "#                   a.Sample(12*u.hour))"
   ]
  },
  {
   "cell_type": "code",
   "execution_count": null,
   "metadata": {
    "id": "pm2p8_JDWR0N"
   },
   "outputs": [],
   "source": []
  },
  {
   "cell_type": "code",
   "execution_count": null,
   "metadata": {
    "id": "WOBXB5HpY7oF"
   },
   "outputs": [],
   "source": []
  },
  {
   "cell_type": "code",
   "execution_count": 22,
   "metadata": {
    "colab": {
     "base_uri": "https://localhost:8080/",
     "height": 601
    },
    "executionInfo": {
     "elapsed": 108005,
     "status": "ok",
     "timestamp": 1604753398170,
     "user": {
      "displayName": "Ankan Dash",
      "photoUrl": "https://lh3.googleusercontent.com/a-/AOh14GgZrmOw1hV6kmiTyiupYexh0VraYZou9xROApmx=s64",
      "userId": "17001824366533707810"
     },
     "user_tz": -330
    },
    "id": "XBFA6lNWY7q2",
    "outputId": "0734c2ee-a637-4a43-e0e1-a5d87494a993"
   },
   "outputs": [],
   "source": [
    "# # AIA\n",
    "# Fido.search(a.Time('2011-01-01T00:00:00', '2011-12-31T01:00:00'),\n",
    "#                                a.jsoc.Notify('sunpy@sunpy.org'),\n",
    "#                               a.jsoc.Series('aia.lev1_euv_12s'),\n",
    "#                                a.jsoc.Wavelength(304*u.AA),\n",
    "#                   a.Sample(12*u.hour))"
   ]
  },
  {
   "cell_type": "code",
   "execution_count": null,
   "metadata": {
    "id": "gagqlkh1Wc8h"
   },
   "outputs": [],
   "source": []
  }
 ],
 "metadata": {
  "colab": {
   "authorship_tag": "ABX9TyNG2aWJ+N0RV7mxYzsTNUFr",
   "collapsed_sections": [],
   "mount_file_id": "1SEdUHy_S2HlEwnmAY2lPcEa5QKvAqHX9",
   "name": "Untitled0.ipynb",
   "provenance": []
  },
  "kernelspec": {
   "display_name": "Python 3",
   "language": "python",
   "name": "python3"
  },
  "language_info": {
   "codemirror_mode": {
    "name": "ipython",
    "version": 3
   },
   "file_extension": ".py",
   "mimetype": "text/x-python",
   "name": "python",
   "nbconvert_exporter": "python",
   "pygments_lexer": "ipython3",
   "version": "3.6.9"
  }
 },
 "nbformat": 4,
 "nbformat_minor": 1
}
