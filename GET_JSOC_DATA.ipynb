{
 "cells": [
  {
   "cell_type": "code",
   "execution_count": 1,
   "metadata": {
    "executionInfo": {
     "elapsed": 1236,
     "status": "ok",
     "timestamp": 1604804246027,
     "user": {
      "displayName": "Ankan Dash",
      "photoUrl": "https://lh3.googleusercontent.com/a-/AOh14GgZrmOw1hV6kmiTyiupYexh0VraYZou9xROApmx=s64",
      "userId": "17001824366533707810"
     },
     "user_tz": -330
    },
    "id": "K8q_x7XLE5mm"
   },
   "outputs": [],
   "source": [
    "import numpy as np\n",
    "import matplotlib.pyplot as plt\n",
    "import os"
   ]
  },
  {
   "cell_type": "code",
   "execution_count": 2,
   "metadata": {
    "colab": {
     "base_uri": "https://localhost:8080/"
    },
    "executionInfo": {
     "elapsed": 5358,
     "status": "ok",
     "timestamp": 1604804374728,
     "user": {
      "displayName": "Ankan Dash",
      "photoUrl": "https://lh3.googleusercontent.com/a-/AOh14GgZrmOw1hV6kmiTyiupYexh0VraYZou9xROApmx=s64",
      "userId": "17001824366533707810"
     },
     "user_tz": -330
    },
    "id": "JV16Ut6tWcqY",
    "outputId": "5c1de9f3-3a18-41ac-e30d-325f43ac65b2"
   },
   "outputs": [],
   "source": [
    "# sunpy data\n",
    "# ! pip3 install sunpy\n",
    "# ! pip3 install drms\n",
    "# ! pip3 install sunpy zeep"
   ]
  },
  {
   "cell_type": "code",
   "execution_count": 3,
   "metadata": {
    "executionInfo": {
     "elapsed": 1223,
     "status": "ok",
     "timestamp": 1604804397965,
     "user": {
      "displayName": "Ankan Dash",
      "photoUrl": "https://lh3.googleusercontent.com/a-/AOh14GgZrmOw1hV6kmiTyiupYexh0VraYZou9xROApmx=s64",
      "userId": "17001824366533707810"
     },
     "user_tz": -330
    },
    "id": "D8j05vZjWctC"
   },
   "outputs": [],
   "source": [
    "from sunpy.net import Fido, attrs as a"
   ]
  },
  {
   "cell_type": "code",
   "execution_count": 4,
   "metadata": {
    "colab": {
     "base_uri": "https://localhost:8080/"
    },
    "executionInfo": {
     "elapsed": 1709,
     "status": "ok",
     "timestamp": 1604750012718,
     "user": {
      "displayName": "Ankan Dash",
      "photoUrl": "https://lh3.googleusercontent.com/a-/AOh14GgZrmOw1hV6kmiTyiupYexh0VraYZou9xROApmx=s64",
      "userId": "17001824366533707810"
     },
     "user_tz": -330
    },
    "id": "3uqN7f5PWcvr",
    "outputId": "5deaa6b3-47d6-46b4-bfd1-d5d9424b8007"
   },
   "outputs": [],
   "source": [
    "# print(a.Instrument.hmi)"
   ]
  },
  {
   "cell_type": "code",
   "execution_count": 5,
   "metadata": {
    "executionInfo": {
     "elapsed": 1131,
     "status": "ok",
     "timestamp": 1604804389196,
     "user": {
      "displayName": "Ankan Dash",
      "photoUrl": "https://lh3.googleusercontent.com/a-/AOh14GgZrmOw1hV6kmiTyiupYexh0VraYZou9xROApmx=s64",
      "userId": "17001824366533707810"
     },
     "user_tz": -330
    },
    "id": "3q6H8g11WcyJ"
   },
   "outputs": [],
   "source": [
    "# print(a.vso.Provider)"
   ]
  },
  {
   "cell_type": "code",
   "execution_count": 6,
   "metadata": {
    "executionInfo": {
     "elapsed": 1097,
     "status": "ok",
     "timestamp": 1604804393888,
     "user": {
      "displayName": "Ankan Dash",
      "photoUrl": "https://lh3.googleusercontent.com/a-/AOh14GgZrmOw1hV6kmiTyiupYexh0VraYZou9xROApmx=s64",
      "userId": "17001824366533707810"
     },
     "user_tz": -330
    },
    "id": "vOSJDfCPWc0h"
   },
   "outputs": [],
   "source": [
    "# print(a.jsoc.Series)"
   ]
  },
  {
   "cell_type": "code",
   "execution_count": 7,
   "metadata": {
    "executionInfo": {
     "elapsed": 1104,
     "status": "ok",
     "timestamp": 1604804399502,
     "user": {
      "displayName": "Ankan Dash",
      "photoUrl": "https://lh3.googleusercontent.com/a-/AOh14GgZrmOw1hV6kmiTyiupYexh0VraYZou9xROApmx=s64",
      "userId": "17001824366533707810"
     },
     "user_tz": -330
    },
    "id": "1t5Yqs_VWc54"
   },
   "outputs": [],
   "source": [
    "import astropy.units as u"
   ]
  },
  {
   "cell_type": "code",
   "execution_count": 8,
   "metadata": {
    "executionInfo": {
     "elapsed": 17821,
     "status": "ok",
     "timestamp": 1604807965729,
     "user": {
      "displayName": "Ankan Dash",
      "photoUrl": "https://lh3.googleusercontent.com/a-/AOh14GgZrmOw1hV6kmiTyiupYexh0VraYZou9xROApmx=s64",
      "userId": "17001824366533707810"
     },
     "user_tz": -330
    },
    "id": "5NDlFHXJY7Sq"
   },
   "outputs": [],
   "source": [
    "# # VSO image\n",
    "# vso_aia = Fido.search(a.Time('2012-01-01T00:00:00', '2012-12-31T00:00:00'), \n",
    "#             a.Instrument.aia,\n",
    "#             a.Wavelength(304*u.angstrom), \n",
    "#             a.Sample(12*u.hour))"
   ]
  },
  {
   "cell_type": "code",
   "execution_count": 9,
   "metadata": {
    "executionInfo": {
     "elapsed": 1116,
     "status": "ok",
     "timestamp": 1604804405511,
     "user": {
      "displayName": "Ankan Dash",
      "photoUrl": "https://lh3.googleusercontent.com/a-/AOh14GgZrmOw1hV6kmiTyiupYexh0VraYZou9xROApmx=s64",
      "userId": "17001824366533707810"
     },
     "user_tz": -330
    },
    "id": "RuXont36hwUG"
   },
   "outputs": [],
   "source": [
    "# downloaded_files = Fido.fetch(vso_aia, path='/content/drive/My Drive/newSolarGAN/data/vsoaia/{file}')"
   ]
  },
  {
   "cell_type": "code",
   "execution_count": 10,
   "metadata": {
    "id": "VMlEwVfIiAqp"
   },
   "outputs": [],
   "source": [
    "# result = Fido.search(a.Time('2020/01/20 00:00:00', '2020/01/20 00:01:00'),\n",
    "#                      a.Instrument.hmi, a.Physobs.los_magnetic_field)"
   ]
  },
  {
   "cell_type": "code",
   "execution_count": 8,
   "metadata": {
    "colab": {
     "base_uri": "https://localhost:8080/",
     "height": 597
    },
    "executionInfo": {
     "elapsed": 22455,
     "status": "ok",
     "timestamp": 1604806169161,
     "user": {
      "displayName": "Ankan Dash",
      "photoUrl": "https://lh3.googleusercontent.com/a-/AOh14GgZrmOw1hV6kmiTyiupYexh0VraYZou9xROApmx=s64",
      "userId": "17001824366533707810"
     },
     "user_tz": -330
    },
    "id": "4h7Ej3r309zm",
    "outputId": "9139480b-9b03-4fce-c9bc-1377e831b17f"
   },
   "outputs": [
    {
     "data": {
      "text/html": [
       "Results from 1 Provider:</br></br>728 Results from the VSOClient:</br><i>QTable length=728</i>\n",
       "<table id=\"table1697041431088\" class=\"table-striped table-bordered table-condensed\">\n",
       "<thead><tr><th>Start Time [1]</th><th>End Time [1]</th><th>Source</th><th>Instrument</th><th>Type</th><th>Wavelength [2]</th></tr></thead>\n",
       "<thead><tr><th></th><th></th><th></th><th></th><th></th><th>Angstrom</th></tr></thead>\n",
       "<thead><tr><th>str19</th><th>str19</th><th>str3</th><th>str3</th><th>str8</th><th>float64</th></tr></thead>\n",
       "<tr><td>2014-01-01 00:00:07</td><td>2014-01-01 00:00:08</td><td>SDO</td><td>AIA</td><td>FULLDISK</td><td>304.0 .. 304.0</td></tr>\n",
       "<tr><td>2014-01-01 12:00:07</td><td>2014-01-01 12:00:08</td><td>SDO</td><td>AIA</td><td>FULLDISK</td><td>304.0 .. 304.0</td></tr>\n",
       "<tr><td>2014-01-02 00:00:07</td><td>2014-01-02 00:00:08</td><td>SDO</td><td>AIA</td><td>FULLDISK</td><td>304.0 .. 304.0</td></tr>\n",
       "<tr><td>2014-01-02 12:00:07</td><td>2014-01-02 12:00:08</td><td>SDO</td><td>AIA</td><td>FULLDISK</td><td>304.0 .. 304.0</td></tr>\n",
       "<tr><td>2014-01-03 00:00:07</td><td>2014-01-03 00:00:08</td><td>SDO</td><td>AIA</td><td>FULLDISK</td><td>304.0 .. 304.0</td></tr>\n",
       "<tr><td>2014-01-03 12:00:07</td><td>2014-01-03 12:00:08</td><td>SDO</td><td>AIA</td><td>FULLDISK</td><td>304.0 .. 304.0</td></tr>\n",
       "<tr><td>2014-01-04 00:00:07</td><td>2014-01-04 00:00:08</td><td>SDO</td><td>AIA</td><td>FULLDISK</td><td>304.0 .. 304.0</td></tr>\n",
       "<tr><td>2014-01-04 12:00:07</td><td>2014-01-04 12:00:08</td><td>SDO</td><td>AIA</td><td>FULLDISK</td><td>304.0 .. 304.0</td></tr>\n",
       "<tr><td>2014-01-05 00:00:07</td><td>2014-01-05 00:00:08</td><td>SDO</td><td>AIA</td><td>FULLDISK</td><td>304.0 .. 304.0</td></tr>\n",
       "<tr><td>...</td><td>...</td><td>...</td><td>...</td><td>...</td><td>...</td></tr>\n",
       "<tr><td>2014-12-26 00:00:07</td><td>2014-12-26 00:00:08</td><td>SDO</td><td>AIA</td><td>FULLDISK</td><td>304.0 .. 304.0</td></tr>\n",
       "<tr><td>2014-12-26 12:14:31</td><td>2014-12-26 12:14:32</td><td>SDO</td><td>AIA</td><td>FULLDISK</td><td>304.0 .. 304.0</td></tr>\n",
       "<tr><td>2014-12-27 00:00:07</td><td>2014-12-27 00:00:08</td><td>SDO</td><td>AIA</td><td>FULLDISK</td><td>304.0 .. 304.0</td></tr>\n",
       "<tr><td>2014-12-27 12:00:07</td><td>2014-12-27 12:00:08</td><td>SDO</td><td>AIA</td><td>FULLDISK</td><td>304.0 .. 304.0</td></tr>\n",
       "<tr><td>2014-12-28 00:00:07</td><td>2014-12-28 00:00:08</td><td>SDO</td><td>AIA</td><td>FULLDISK</td><td>304.0 .. 304.0</td></tr>\n",
       "<tr><td>2014-12-28 12:00:07</td><td>2014-12-28 12:00:08</td><td>SDO</td><td>AIA</td><td>FULLDISK</td><td>304.0 .. 304.0</td></tr>\n",
       "<tr><td>2014-12-29 00:00:07</td><td>2014-12-29 00:00:08</td><td>SDO</td><td>AIA</td><td>FULLDISK</td><td>304.0 .. 304.0</td></tr>\n",
       "<tr><td>2014-12-29 12:00:07</td><td>2014-12-29 12:00:08</td><td>SDO</td><td>AIA</td><td>FULLDISK</td><td>304.0 .. 304.0</td></tr>\n",
       "<tr><td>2014-12-30 00:00:07</td><td>2014-12-30 00:00:08</td><td>SDO</td><td>AIA</td><td>FULLDISK</td><td>304.0 .. 304.0</td></tr>\n",
       "<tr><td>2014-12-30 12:00:07</td><td>2014-12-30 12:00:08</td><td>SDO</td><td>AIA</td><td>FULLDISK</td><td>304.0 .. 304.0</td></tr>\n",
       "</table></br>"
      ],
      "text/plain": [
       "<sunpy.net.fido_factory.UnifiedResponse object at 0x0000018B19FFBF70>\n",
       "Results from 1 Provider:\n",
       "\n",
       "728 Results from the VSOClient:\n",
       "   Start Time [1]       End Time [1]    Source ...   Type   Wavelength [2]\n",
       "                                               ...             Angstrom   \n",
       "------------------- ------------------- ------ ... -------- --------------\n",
       "2014-01-01 00:00:07 2014-01-01 00:00:08    SDO ... FULLDISK 304.0 .. 304.0\n",
       "2014-01-01 12:00:07 2014-01-01 12:00:08    SDO ... FULLDISK 304.0 .. 304.0\n",
       "2014-01-02 00:00:07 2014-01-02 00:00:08    SDO ... FULLDISK 304.0 .. 304.0\n",
       "2014-01-02 12:00:07 2014-01-02 12:00:08    SDO ... FULLDISK 304.0 .. 304.0\n",
       "2014-01-03 00:00:07 2014-01-03 00:00:08    SDO ... FULLDISK 304.0 .. 304.0\n",
       "2014-01-03 12:00:07 2014-01-03 12:00:08    SDO ... FULLDISK 304.0 .. 304.0\n",
       "2014-01-04 00:00:07 2014-01-04 00:00:08    SDO ... FULLDISK 304.0 .. 304.0\n",
       "2014-01-04 12:00:07 2014-01-04 12:00:08    SDO ... FULLDISK 304.0 .. 304.0\n",
       "2014-01-05 00:00:07 2014-01-05 00:00:08    SDO ... FULLDISK 304.0 .. 304.0\n",
       "2014-01-05 12:00:07 2014-01-05 12:00:08    SDO ... FULLDISK 304.0 .. 304.0\n",
       "                ...                 ...    ... ...      ...            ...\n",
       "2014-12-26 00:00:07 2014-12-26 00:00:08    SDO ... FULLDISK 304.0 .. 304.0\n",
       "2014-12-26 12:14:31 2014-12-26 12:14:32    SDO ... FULLDISK 304.0 .. 304.0\n",
       "2014-12-27 00:00:07 2014-12-27 00:00:08    SDO ... FULLDISK 304.0 .. 304.0\n",
       "2014-12-27 12:00:07 2014-12-27 12:00:08    SDO ... FULLDISK 304.0 .. 304.0\n",
       "2014-12-28 00:00:07 2014-12-28 00:00:08    SDO ... FULLDISK 304.0 .. 304.0\n",
       "2014-12-28 12:00:07 2014-12-28 12:00:08    SDO ... FULLDISK 304.0 .. 304.0\n",
       "2014-12-29 00:00:07 2014-12-29 00:00:08    SDO ... FULLDISK 304.0 .. 304.0\n",
       "2014-12-29 12:00:07 2014-12-29 12:00:08    SDO ... FULLDISK 304.0 .. 304.0\n",
       "2014-12-30 00:00:07 2014-12-30 00:00:08    SDO ... FULLDISK 304.0 .. 304.0\n",
       "2014-12-30 12:00:07 2014-12-30 12:00:08    SDO ... FULLDISK 304.0 .. 304.0\n",
       "Length = 728 rows\n"
      ]
     },
     "execution_count": 8,
     "metadata": {},
     "output_type": "execute_result"
    }
   ],
   "source": [
    "# VSO AIA\n",
    "Fido.search(a.Time('2014-01-01T00:00:00', '2014-12-31T00:00:00'), \n",
    "            a.Instrument.aia,\n",
    "            a.Wavelength(304*u.angstrom), \n",
    "            a.Sample(12*u.hour))"
   ]
  },
  {
   "cell_type": "code",
   "execution_count": 9,
   "metadata": {},
   "outputs": [
    {
     "data": {
      "text/html": [
       "Results from 1 Provider:</br></br>728 Results from the VSOClient:</br><i>QTable length=728</i>\n",
       "<table id=\"table1697044783408\" class=\"table-striped table-bordered table-condensed\">\n",
       "<thead><tr><th>Start Time [1]</th><th>End Time [1]</th><th>Source</th><th>Instrument</th><th>Type</th><th>Wavelength [2]</th></tr></thead>\n",
       "<thead><tr><th></th><th></th><th></th><th></th><th></th><th>Angstrom</th></tr></thead>\n",
       "<thead><tr><th>str19</th><th>str19</th><th>str3</th><th>str3</th><th>str8</th><th>float64</th></tr></thead>\n",
       "<tr><td>2014-01-01 00:00:24</td><td>2014-01-01 00:00:25</td><td>SDO</td><td>HMI</td><td>FULLDISK</td><td>6173.0 .. 6174.0</td></tr>\n",
       "<tr><td>2014-01-01 12:00:24</td><td>2014-01-01 12:00:25</td><td>SDO</td><td>HMI</td><td>FULLDISK</td><td>6173.0 .. 6174.0</td></tr>\n",
       "<tr><td>2014-01-02 00:00:24</td><td>2014-01-02 00:00:25</td><td>SDO</td><td>HMI</td><td>FULLDISK</td><td>6173.0 .. 6174.0</td></tr>\n",
       "<tr><td>2014-01-02 12:00:24</td><td>2014-01-02 12:00:25</td><td>SDO</td><td>HMI</td><td>FULLDISK</td><td>6173.0 .. 6174.0</td></tr>\n",
       "<tr><td>2014-01-03 00:00:24</td><td>2014-01-03 00:00:25</td><td>SDO</td><td>HMI</td><td>FULLDISK</td><td>6173.0 .. 6174.0</td></tr>\n",
       "<tr><td>2014-01-03 12:00:24</td><td>2014-01-03 12:00:25</td><td>SDO</td><td>HMI</td><td>FULLDISK</td><td>6173.0 .. 6174.0</td></tr>\n",
       "<tr><td>2014-01-04 00:00:24</td><td>2014-01-04 00:00:25</td><td>SDO</td><td>HMI</td><td>FULLDISK</td><td>6173.0 .. 6174.0</td></tr>\n",
       "<tr><td>2014-01-04 12:00:24</td><td>2014-01-04 12:00:25</td><td>SDO</td><td>HMI</td><td>FULLDISK</td><td>6173.0 .. 6174.0</td></tr>\n",
       "<tr><td>2014-01-05 00:00:24</td><td>2014-01-05 00:00:25</td><td>SDO</td><td>HMI</td><td>FULLDISK</td><td>6173.0 .. 6174.0</td></tr>\n",
       "<tr><td>...</td><td>...</td><td>...</td><td>...</td><td>...</td><td>...</td></tr>\n",
       "<tr><td>2014-12-26 00:00:24</td><td>2014-12-26 00:00:25</td><td>SDO</td><td>HMI</td><td>FULLDISK</td><td>6173.0 .. 6174.0</td></tr>\n",
       "<tr><td>2014-12-26 13:06:24</td><td>2014-12-26 13:06:25</td><td>SDO</td><td>HMI</td><td>FULLDISK</td><td>6173.0 .. 6174.0</td></tr>\n",
       "<tr><td>2014-12-27 00:00:24</td><td>2014-12-27 00:00:25</td><td>SDO</td><td>HMI</td><td>FULLDISK</td><td>6173.0 .. 6174.0</td></tr>\n",
       "<tr><td>2014-12-27 12:00:24</td><td>2014-12-27 12:00:25</td><td>SDO</td><td>HMI</td><td>FULLDISK</td><td>6173.0 .. 6174.0</td></tr>\n",
       "<tr><td>2014-12-28 00:00:24</td><td>2014-12-28 00:00:25</td><td>SDO</td><td>HMI</td><td>FULLDISK</td><td>6173.0 .. 6174.0</td></tr>\n",
       "<tr><td>2014-12-28 12:00:24</td><td>2014-12-28 12:00:25</td><td>SDO</td><td>HMI</td><td>FULLDISK</td><td>6173.0 .. 6174.0</td></tr>\n",
       "<tr><td>2014-12-29 00:00:24</td><td>2014-12-29 00:00:25</td><td>SDO</td><td>HMI</td><td>FULLDISK</td><td>6173.0 .. 6174.0</td></tr>\n",
       "<tr><td>2014-12-29 12:00:24</td><td>2014-12-29 12:00:25</td><td>SDO</td><td>HMI</td><td>FULLDISK</td><td>6173.0 .. 6174.0</td></tr>\n",
       "<tr><td>2014-12-30 00:00:24</td><td>2014-12-30 00:00:25</td><td>SDO</td><td>HMI</td><td>FULLDISK</td><td>6173.0 .. 6174.0</td></tr>\n",
       "<tr><td>2014-12-30 12:00:24</td><td>2014-12-30 12:00:25</td><td>SDO</td><td>HMI</td><td>FULLDISK</td><td>6173.0 .. 6174.0</td></tr>\n",
       "</table></br>"
      ],
      "text/plain": [
       "<sunpy.net.fido_factory.UnifiedResponse object at 0x0000018B1FBD91F0>\n",
       "Results from 1 Provider:\n",
       "\n",
       "728 Results from the VSOClient:\n",
       "   Start Time [1]       End Time [1]    Source ...   Type    Wavelength [2] \n",
       "                                               ...              Angstrom    \n",
       "------------------- ------------------- ------ ... -------- ----------------\n",
       "2014-01-01 00:00:24 2014-01-01 00:00:25    SDO ... FULLDISK 6173.0 .. 6174.0\n",
       "2014-01-01 12:00:24 2014-01-01 12:00:25    SDO ... FULLDISK 6173.0 .. 6174.0\n",
       "2014-01-02 00:00:24 2014-01-02 00:00:25    SDO ... FULLDISK 6173.0 .. 6174.0\n",
       "2014-01-02 12:00:24 2014-01-02 12:00:25    SDO ... FULLDISK 6173.0 .. 6174.0\n",
       "2014-01-03 00:00:24 2014-01-03 00:00:25    SDO ... FULLDISK 6173.0 .. 6174.0\n",
       "2014-01-03 12:00:24 2014-01-03 12:00:25    SDO ... FULLDISK 6173.0 .. 6174.0\n",
       "2014-01-04 00:00:24 2014-01-04 00:00:25    SDO ... FULLDISK 6173.0 .. 6174.0\n",
       "2014-01-04 12:00:24 2014-01-04 12:00:25    SDO ... FULLDISK 6173.0 .. 6174.0\n",
       "2014-01-05 00:00:24 2014-01-05 00:00:25    SDO ... FULLDISK 6173.0 .. 6174.0\n",
       "2014-01-05 12:00:24 2014-01-05 12:00:25    SDO ... FULLDISK 6173.0 .. 6174.0\n",
       "                ...                 ...    ... ...      ...              ...\n",
       "2014-12-26 00:00:24 2014-12-26 00:00:25    SDO ... FULLDISK 6173.0 .. 6174.0\n",
       "2014-12-26 13:06:24 2014-12-26 13:06:25    SDO ... FULLDISK 6173.0 .. 6174.0\n",
       "2014-12-27 00:00:24 2014-12-27 00:00:25    SDO ... FULLDISK 6173.0 .. 6174.0\n",
       "2014-12-27 12:00:24 2014-12-27 12:00:25    SDO ... FULLDISK 6173.0 .. 6174.0\n",
       "2014-12-28 00:00:24 2014-12-28 00:00:25    SDO ... FULLDISK 6173.0 .. 6174.0\n",
       "2014-12-28 12:00:24 2014-12-28 12:00:25    SDO ... FULLDISK 6173.0 .. 6174.0\n",
       "2014-12-29 00:00:24 2014-12-29 00:00:25    SDO ... FULLDISK 6173.0 .. 6174.0\n",
       "2014-12-29 12:00:24 2014-12-29 12:00:25    SDO ... FULLDISK 6173.0 .. 6174.0\n",
       "2014-12-30 00:00:24 2014-12-30 00:00:25    SDO ... FULLDISK 6173.0 .. 6174.0\n",
       "2014-12-30 12:00:24 2014-12-30 12:00:25    SDO ... FULLDISK 6173.0 .. 6174.0\n",
       "Length = 728 rows\n"
      ]
     },
     "execution_count": 9,
     "metadata": {},
     "output_type": "execute_result"
    }
   ],
   "source": [
    "# VSO HMI\n",
    "Fido.search(a.Time('2014-01-01T00:00:00', '2014-12-31T00:00:00')\n",
    "            & a.vso.Extent(0, 0, 0, 0, \"FULLDISK\"),\n",
    "            a.Instrument.hmi, \n",
    "            a.Physobs.los_magnetic_field,\n",
    "            a.Sample(12*u.hour), \n",
    "            )"
   ]
  },
  {
   "cell_type": "code",
   "execution_count": 8,
   "metadata": {},
   "outputs": [],
   "source": [
    "vso_aia = Fido.search(a.Time('2015-01-01T00:00:00', '2015-12-31T00:00:00'), \n",
    "            a.Instrument.aia,\n",
    "            a.Wavelength(304*u.angstrom), \n",
    "            a.Sample(12*u.hour))"
   ]
  },
  {
   "cell_type": "code",
   "execution_count": 9,
   "metadata": {},
   "outputs": [
    {
     "data": {
      "text/plain": [
       "<bound method Sequence.count of <sunpy.net.fido_factory.UnifiedResponse object at 0x000001ACB8E5B880>\n",
       "Results from 1 Provider:\n",
       "\n",
       "728 Results from the VSOClient:\n",
       "   Start Time [1]       End Time [1]    Source ...   Type   Wavelength [2]\n",
       "                                               ...             Angstrom   \n",
       "------------------- ------------------- ------ ... -------- --------------\n",
       "2015-01-01 00:00:07 2015-01-01 00:00:08    SDO ... FULLDISK 304.0 .. 304.0\n",
       "2015-01-01 12:00:07 2015-01-01 12:00:08    SDO ... FULLDISK 304.0 .. 304.0\n",
       "2015-01-02 00:00:07 2015-01-02 00:00:08    SDO ... FULLDISK 304.0 .. 304.0\n",
       "2015-01-02 12:00:07 2015-01-02 12:00:08    SDO ... FULLDISK 304.0 .. 304.0\n",
       "2015-01-03 00:00:07 2015-01-03 00:00:08    SDO ... FULLDISK 304.0 .. 304.0\n",
       "2015-01-03 12:00:07 2015-01-03 12:00:08    SDO ... FULLDISK 304.0 .. 304.0\n",
       "2015-01-04 00:00:07 2015-01-04 00:00:08    SDO ... FULLDISK 304.0 .. 304.0\n",
       "2015-01-04 12:00:07 2015-01-04 12:00:08    SDO ... FULLDISK 304.0 .. 304.0\n",
       "2015-01-05 00:00:07 2015-01-05 00:00:08    SDO ... FULLDISK 304.0 .. 304.0\n",
       "2015-01-05 12:00:07 2015-01-05 12:00:08    SDO ... FULLDISK 304.0 .. 304.0\n",
       "                ...                 ...    ... ...      ...            ...\n",
       "2015-12-26 00:00:06 2015-12-26 00:00:07    SDO ... FULLDISK 304.0 .. 304.0\n",
       "2015-12-26 12:00:06 2015-12-26 12:00:07    SDO ... FULLDISK 304.0 .. 304.0\n",
       "2015-12-27 06:02:54 2015-12-27 06:02:55    SDO ... FULLDISK 304.0 .. 304.0\n",
       "2015-12-27 12:00:06 2015-12-27 12:00:07    SDO ... FULLDISK 304.0 .. 304.0\n",
       "2015-12-28 03:16:42 2015-12-28 03:16:43    SDO ... FULLDISK 304.0 .. 304.0\n",
       "2015-12-28 12:00:06 2015-12-28 12:00:07    SDO ... FULLDISK 304.0 .. 304.0\n",
       "2015-12-29 00:00:06 2015-12-29 00:00:07    SDO ... FULLDISK 304.0 .. 304.0\n",
       "2015-12-29 12:00:06 2015-12-29 12:00:07    SDO ... FULLDISK 304.0 .. 304.0\n",
       "2015-12-30 00:00:06 2015-12-30 00:00:07    SDO ... FULLDISK 304.0 .. 304.0\n",
       "2015-12-30 12:00:06 2015-12-30 12:00:07    SDO ... FULLDISK 304.0 .. 304.0\n",
       "Length = 728 rows\n",
       "\n",
       ">"
      ]
     },
     "execution_count": 9,
     "metadata": {},
     "output_type": "execute_result"
    }
   ],
   "source": [
    "vso_aia.count"
   ]
  },
  {
   "cell_type": "code",
   "execution_count": 10,
   "metadata": {},
   "outputs": [
    {
     "data": {
      "application/vnd.jupyter.widget-view+json": {
       "model_id": "3e7af110524a4c3a8a87dc2fc0a01851",
       "version_major": 2,
       "version_minor": 0
      },
      "text/plain": [
       "HBox(children=(FloatProgress(value=0.0, description='Files Downloaded', max=728.0, style=ProgressStyle(descrip…"
      ]
     },
     "metadata": {},
     "output_type": "display_data"
    },
    {
     "data": {
      "application/vnd.jupyter.widget-view+json": {
       "model_id": "04c1279ad9fd4ad39a862c56d6f3ad29",
       "version_major": 2,
       "version_minor": 0
      },
      "text/plain": [
       "HBox(children=(FloatProgress(value=0.0, description='aia_lev1_304a_2015_01_02t00_00_07_12z_image_lev1.fits', m…"
      ]
     },
     "metadata": {},
     "output_type": "display_data"
    },
    {
     "data": {
      "application/vnd.jupyter.widget-view+json": {
       "model_id": "1bb36635d0224149ada39fd8376aee1f",
       "version_major": 2,
       "version_minor": 0
      },
      "text/plain": [
       "HBox(children=(FloatProgress(value=0.0, description='aia_lev1_304a_2015_01_01t12_00_07_12z_image_lev1.fits', m…"
      ]
     },
     "metadata": {},
     "output_type": "display_data"
    },
    {
     "data": {
      "application/vnd.jupyter.widget-view+json": {
       "model_id": "c51ada8081ad4cbe9badb044eb788200",
       "version_major": 2,
       "version_minor": 0
      },
      "text/plain": [
       "HBox(children=(FloatProgress(value=0.0, description='aia_lev1_304a_2015_01_01t00_00_07_12z_image_lev1.fits', m…"
      ]
     },
     "metadata": {},
     "output_type": "display_data"
    },
    {
     "data": {
      "application/vnd.jupyter.widget-view+json": {
       "model_id": "6aa0dc1e917941d2af850b3a28ddc0bf",
       "version_major": 2,
       "version_minor": 0
      },
      "text/plain": [
       "HBox(children=(FloatProgress(value=0.0, description='aia_lev1_304a_2015_01_03t00_00_07_14z_image_lev1.fits', m…"
      ]
     },
     "metadata": {},
     "output_type": "display_data"
    },
    {
     "data": {
      "application/vnd.jupyter.widget-view+json": {
       "model_id": "36023cbe993d4b6a9e5a8835ad416a38",
       "version_major": 2,
       "version_minor": 0
      },
      "text/plain": [
       "HBox(children=(FloatProgress(value=0.0, description='aia_lev1_304a_2015_01_02t12_00_07_12z_image_lev1.fits', m…"
      ]
     },
     "metadata": {},
     "output_type": "display_data"
    },
    {
     "data": {
      "application/vnd.jupyter.widget-view+json": {
       "model_id": "91076c1886324642b5146b1ae818cfef",
       "version_major": 2,
       "version_minor": 0
      },
      "text/plain": [
       "HBox(children=(FloatProgress(value=0.0, description='aia_lev1_304a_2015_01_03t12_00_07_12z_image_lev1.fits', m…"
      ]
     },
     "metadata": {},
     "output_type": "display_data"
    },
    {
     "data": {
      "application/vnd.jupyter.widget-view+json": {
       "model_id": "6b7c1d605767467f9169ff8bd9b07975",
       "version_major": 2,
       "version_minor": 0
      },
      "text/plain": [
       "HBox(children=(FloatProgress(value=0.0, description='aia_lev1_304a_2015_01_04t12_00_07_12z_image_lev1.fits', m…"
      ]
     },
     "metadata": {},
     "output_type": "display_data"
    },
    {
     "data": {
      "application/vnd.jupyter.widget-view+json": {
       "model_id": "380c8eb8cc844e42a6064425cf4e96b8",
       "version_major": 2,
       "version_minor": 0
      },
      "text/plain": [
       "HBox(children=(FloatProgress(value=0.0, description='aia_lev1_304a_2015_01_04t00_00_07_12z_image_lev1.fits', m…"
      ]
     },
     "metadata": {},
     "output_type": "display_data"
    },
    {
     "data": {
      "application/vnd.jupyter.widget-view+json": {
       "model_id": "709806bbf92143038f8f27e0e26130ca",
       "version_major": 2,
       "version_minor": 0
      },
      "text/plain": [
       "HBox(children=(FloatProgress(value=0.0, description='aia_lev1_304a_2015_01_05t00_00_07_12z_image_lev1.fits', m…"
      ]
     },
     "metadata": {},
     "output_type": "display_data"
    },
    {
     "data": {
      "application/vnd.jupyter.widget-view+json": {
       "model_id": "1b237033cd5a40a6bbc2647c5be340f9",
       "version_major": 2,
       "version_minor": 0
      },
      "text/plain": [
       "HBox(children=(FloatProgress(value=0.0, description='aia_lev1_304a_2015_01_05t12_00_07_12z_image_lev1.fits', m…"
      ]
     },
     "metadata": {},
     "output_type": "display_data"
    },
    {
     "data": {
      "application/vnd.jupyter.widget-view+json": {
       "model_id": "da16e13fc60f416099b81051f31472f8",
       "version_major": 2,
       "version_minor": 0
      },
      "text/plain": [
       "HBox(children=(FloatProgress(value=0.0, description='aia_lev1_304a_2015_01_06t00_00_07_12z_image_lev1.fits', m…"
      ]
     },
     "metadata": {},
     "output_type": "display_data"
    },
    {
     "data": {
      "application/vnd.jupyter.widget-view+json": {
       "model_id": "5bc4a233b0554b76ab50083e02c0313d",
       "version_major": 2,
       "version_minor": 0
      },
      "text/plain": [
       "HBox(children=(FloatProgress(value=0.0, description='aia_lev1_304a_2015_01_06t12_00_07_12z_image_lev1.fits', m…"
      ]
     },
     "metadata": {},
     "output_type": "display_data"
    },
    {
     "data": {
      "application/vnd.jupyter.widget-view+json": {
       "model_id": "d3e95f0a7c7741fa834e33adab151f86",
       "version_major": 2,
       "version_minor": 0
      },
      "text/plain": [
       "HBox(children=(FloatProgress(value=0.0, description='aia_lev1_304a_2015_01_07t00_00_07_12z_image_lev1.fits', m…"
      ]
     },
     "metadata": {},
     "output_type": "display_data"
    },
    {
     "data": {
      "application/vnd.jupyter.widget-view+json": {
       "model_id": "224740472799494ba0cc662b499f96e5",
       "version_major": 2,
       "version_minor": 0
      },
      "text/plain": [
       "HBox(children=(FloatProgress(value=0.0, description='aia_lev1_304a_2015_01_07t12_00_07_15z_image_lev1.fits', m…"
      ]
     },
     "metadata": {},
     "output_type": "display_data"
    },
    {
     "data": {
      "application/vnd.jupyter.widget-view+json": {
       "model_id": "123a68756c9c42b1b4128c0754a9a9ae",
       "version_major": 2,
       "version_minor": 0
      },
      "text/plain": [
       "HBox(children=(FloatProgress(value=0.0, description='aia_lev1_304a_2015_01_08t00_00_07_12z_image_lev1.fits', m…"
      ]
     },
     "metadata": {},
     "output_type": "display_data"
    },
    {
     "data": {
      "application/vnd.jupyter.widget-view+json": {
       "model_id": "7b44395ac4784854be236130757b60d8",
       "version_major": 2,
       "version_minor": 0
      },
      "text/plain": [
       "HBox(children=(FloatProgress(value=0.0, description='aia_lev1_304a_2015_01_08t12_00_07_12z_image_lev1.fits', m…"
      ]
     },
     "metadata": {},
     "output_type": "display_data"
    },
    {
     "data": {
      "application/vnd.jupyter.widget-view+json": {
       "model_id": "269855f186fe440980f57089dbaca0f3",
       "version_major": 2,
       "version_minor": 0
      },
      "text/plain": [
       "HBox(children=(FloatProgress(value=0.0, description='aia_lev1_304a_2015_01_09t00_00_07_13z_image_lev1.fits', m…"
      ]
     },
     "metadata": {},
     "output_type": "display_data"
    },
    {
     "data": {
      "application/vnd.jupyter.widget-view+json": {
       "model_id": "4f01720138c14e67862af6fbd3d4ca48",
       "version_major": 2,
       "version_minor": 0
      },
      "text/plain": [
       "HBox(children=(FloatProgress(value=0.0, description='aia_lev1_304a_2015_01_09t12_00_07_12z_image_lev1.fits', m…"
      ]
     },
     "metadata": {},
     "output_type": "display_data"
    },
    {
     "data": {
      "application/vnd.jupyter.widget-view+json": {
       "model_id": "a3fb67e3aa35477ea7a5449d83a7f28f",
       "version_major": 2,
       "version_minor": 0
      },
      "text/plain": [
       "HBox(children=(FloatProgress(value=0.0, description='aia_lev1_304a_2015_01_10t00_00_07_14z_image_lev1.fits', m…"
      ]
     },
     "metadata": {},
     "output_type": "display_data"
    },
    {
     "data": {
      "application/vnd.jupyter.widget-view+json": {
       "model_id": "ea171acd798c48458d0b2952c4edf8e0",
       "version_major": 2,
       "version_minor": 0
      },
      "text/plain": [
       "HBox(children=(FloatProgress(value=0.0, description='aia_lev1_304a_2015_01_10t12_00_07_12z_image_lev1.fits', m…"
      ]
     },
     "metadata": {},
     "output_type": "display_data"
    },
    {
     "data": {
      "application/vnd.jupyter.widget-view+json": {
       "model_id": "5a16a796b1c148738776e80e02ceec18",
       "version_major": 2,
       "version_minor": 0
      },
      "text/plain": [
       "HBox(children=(FloatProgress(value=0.0, description='aia_lev1_304a_2015_01_11t00_00_07_12z_image_lev1.fits', m…"
      ]
     },
     "metadata": {},
     "output_type": "display_data"
    },
    {
     "data": {
      "application/vnd.jupyter.widget-view+json": {
       "model_id": "93092943061b4e8cb011ad0106fef5b2",
       "version_major": 2,
       "version_minor": 0
      },
      "text/plain": [
       "HBox(children=(FloatProgress(value=0.0, description='aia_lev1_304a_2015_01_11t12_00_07_12z_image_lev1.fits', m…"
      ]
     },
     "metadata": {},
     "output_type": "display_data"
    },
    {
     "data": {
      "application/vnd.jupyter.widget-view+json": {
       "model_id": "78ddad469ef247cc88a0c879b458f664",
       "version_major": 2,
       "version_minor": 0
      },
      "text/plain": [
       "HBox(children=(FloatProgress(value=0.0, description='aia_lev1_304a_2015_01_12t00_00_07_12z_image_lev1.fits', m…"
      ]
     },
     "metadata": {},
     "output_type": "display_data"
    },
    {
     "data": {
      "application/vnd.jupyter.widget-view+json": {
       "model_id": "8bc35c2ef2ab4c4481e76a01aacec7b6",
       "version_major": 2,
       "version_minor": 0
      },
      "text/plain": [
       "HBox(children=(FloatProgress(value=0.0, description='aia_lev1_304a_2015_01_12t12_00_07_12z_image_lev1.fits', m…"
      ]
     },
     "metadata": {},
     "output_type": "display_data"
    },
    {
     "data": {
      "application/vnd.jupyter.widget-view+json": {
       "model_id": "a3f8e2bdd0d44a36b62b8b09db37fe53",
       "version_major": 2,
       "version_minor": 0
      },
      "text/plain": [
       "HBox(children=(FloatProgress(value=0.0, description='aia_lev1_304a_2015_01_13t00_00_07_12z_image_lev1.fits', m…"
      ]
     },
     "metadata": {},
     "output_type": "display_data"
    },
    {
     "data": {
      "application/vnd.jupyter.widget-view+json": {
       "model_id": "9760aa04001649d1a46f7f6810ebea44",
       "version_major": 2,
       "version_minor": 0
      },
      "text/plain": [
       "HBox(children=(FloatProgress(value=0.0, description='aia_lev1_304a_2015_01_13t12_00_07_13z_image_lev1.fits', m…"
      ]
     },
     "metadata": {},
     "output_type": "display_data"
    },
    {
     "data": {
      "application/vnd.jupyter.widget-view+json": {
       "model_id": "88d38a09d7b04b65b3e409a838c87e7a",
       "version_major": 2,
       "version_minor": 0
      },
      "text/plain": [
       "HBox(children=(FloatProgress(value=0.0, description='aia_lev1_304a_2015_01_14t00_00_07_12z_image_lev1.fits', m…"
      ]
     },
     "metadata": {},
     "output_type": "display_data"
    },
    {
     "data": {
      "application/vnd.jupyter.widget-view+json": {
       "model_id": "62ac042a83ec45c294fa5b533825082b",
       "version_major": 2,
       "version_minor": 0
      },
      "text/plain": [
       "HBox(children=(FloatProgress(value=0.0, description='aia_lev1_304a_2015_01_14t12_00_07_12z_image_lev1.fits', m…"
      ]
     },
     "metadata": {},
     "output_type": "display_data"
    },
    {
     "data": {
      "application/vnd.jupyter.widget-view+json": {
       "model_id": "3382b24c508e40778ac9898ed1b36182",
       "version_major": 2,
       "version_minor": 0
      },
      "text/plain": [
       "HBox(children=(FloatProgress(value=0.0, description='aia_lev1_304a_2015_01_15t00_00_07_12z_image_lev1.fits', m…"
      ]
     },
     "metadata": {},
     "output_type": "display_data"
    },
    {
     "data": {
      "application/vnd.jupyter.widget-view+json": {
       "model_id": "fb66f0f2ffc7436a96437a73e991e1ab",
       "version_major": 2,
       "version_minor": 0
      },
      "text/plain": [
       "HBox(children=(FloatProgress(value=0.0, description='aia_lev1_304a_2015_01_15t12_00_07_12z_image_lev1.fits', m…"
      ]
     },
     "metadata": {},
     "output_type": "display_data"
    },
    {
     "data": {
      "application/vnd.jupyter.widget-view+json": {
       "model_id": "9bb5fe80599b42c6ab0af70b5c5a5b02",
       "version_major": 2,
       "version_minor": 0
      },
      "text/plain": [
       "HBox(children=(FloatProgress(value=0.0, description='aia_lev1_304a_2015_01_16t00_00_07_12z_image_lev1.fits', m…"
      ]
     },
     "metadata": {},
     "output_type": "display_data"
    },
    {
     "data": {
      "application/vnd.jupyter.widget-view+json": {
       "model_id": "51b8a27336eb4be78b271a7b06eca27d",
       "version_major": 2,
       "version_minor": 0
      },
      "text/plain": [
       "HBox(children=(FloatProgress(value=0.0, description='aia_lev1_304a_2015_01_16t12_00_07_13z_image_lev1.fits', m…"
      ]
     },
     "metadata": {},
     "output_type": "display_data"
    },
    {
     "data": {
      "application/vnd.jupyter.widget-view+json": {
       "model_id": "4fd06a33d20c4be3846e5216a3951f00",
       "version_major": 2,
       "version_minor": 0
      },
      "text/plain": [
       "HBox(children=(FloatProgress(value=0.0, description='aia_lev1_304a_2015_01_17t00_00_07_12z_image_lev1.fits', m…"
      ]
     },
     "metadata": {},
     "output_type": "display_data"
    },
    {
     "data": {
      "application/vnd.jupyter.widget-view+json": {
       "model_id": "937cdf5e5c9e4661a78ffb336bebd3d1",
       "version_major": 2,
       "version_minor": 0
      },
      "text/plain": [
       "HBox(children=(FloatProgress(value=0.0, description='aia_lev1_304a_2015_01_17t12_00_07_12z_image_lev1.fits', m…"
      ]
     },
     "metadata": {},
     "output_type": "display_data"
    },
    {
     "data": {
      "application/vnd.jupyter.widget-view+json": {
       "model_id": "c9de647503394669b0a9b1da9edf58d5",
       "version_major": 2,
       "version_minor": 0
      },
      "text/plain": [
       "HBox(children=(FloatProgress(value=0.0, description='aia_lev1_304a_2015_01_18t00_00_07_12z_image_lev1.fits', m…"
      ]
     },
     "metadata": {},
     "output_type": "display_data"
    },
    {
     "data": {
      "application/vnd.jupyter.widget-view+json": {
       "model_id": "c7ad7af6dd2c4e6b89872fcc73530a68",
       "version_major": 2,
       "version_minor": 0
      },
      "text/plain": [
       "HBox(children=(FloatProgress(value=0.0, description='aia_lev1_304a_2015_01_18t12_00_07_12z_image_lev1.fits', m…"
      ]
     },
     "metadata": {},
     "output_type": "display_data"
    },
    {
     "data": {
      "application/vnd.jupyter.widget-view+json": {
       "model_id": "304d67d4f6f040ac9bc3831ea66ab0d1",
       "version_major": 2,
       "version_minor": 0
      },
      "text/plain": [
       "HBox(children=(FloatProgress(value=0.0, description='aia_lev1_304a_2015_01_19t00_00_07_12z_image_lev1.fits', m…"
      ]
     },
     "metadata": {},
     "output_type": "display_data"
    },
    {
     "data": {
      "application/vnd.jupyter.widget-view+json": {
       "model_id": "22ce3c38a66c424aac9cf62be1b42831",
       "version_major": 2,
       "version_minor": 0
      },
      "text/plain": [
       "HBox(children=(FloatProgress(value=0.0, description='aia_lev1_304a_2015_01_19t12_00_07_12z_image_lev1.fits', m…"
      ]
     },
     "metadata": {},
     "output_type": "display_data"
    },
    {
     "data": {
      "application/vnd.jupyter.widget-view+json": {
       "model_id": "c92e6bdcaf084c7cb010765715c182d4",
       "version_major": 2,
       "version_minor": 0
      },
      "text/plain": [
       "HBox(children=(FloatProgress(value=0.0, description='aia_lev1_304a_2015_01_20t00_00_07_12z_image_lev1.fits', m…"
      ]
     },
     "metadata": {},
     "output_type": "display_data"
    },
    {
     "data": {
      "application/vnd.jupyter.widget-view+json": {
       "model_id": "41bcf3f357234d319e7e9fdb24a39587",
       "version_major": 2,
       "version_minor": 0
      },
      "text/plain": [
       "HBox(children=(FloatProgress(value=0.0, description='aia_lev1_304a_2015_01_20t12_00_07_13z_image_lev1.fits', m…"
      ]
     },
     "metadata": {},
     "output_type": "display_data"
    },
    {
     "data": {
      "application/vnd.jupyter.widget-view+json": {
       "model_id": "832eb924b7c0473a99c054c947e3eb21",
       "version_major": 2,
       "version_minor": 0
      },
      "text/plain": [
       "HBox(children=(FloatProgress(value=0.0, description='aia_lev1_304a_2015_01_21t00_00_07_12z_image_lev1.fits', m…"
      ]
     },
     "metadata": {},
     "output_type": "display_data"
    },
    {
     "data": {
      "application/vnd.jupyter.widget-view+json": {
       "model_id": "a8dd43d358ee4ba99395dd83348511b4",
       "version_major": 2,
       "version_minor": 0
      },
      "text/plain": [
       "HBox(children=(FloatProgress(value=0.0, description='aia_lev1_304a_2015_01_21t12_00_07_12z_image_lev1.fits', m…"
      ]
     },
     "metadata": {},
     "output_type": "display_data"
    },
    {
     "data": {
      "application/vnd.jupyter.widget-view+json": {
       "model_id": "99500d24f04e48e398ba72dd0ae9ab68",
       "version_major": 2,
       "version_minor": 0
      },
      "text/plain": [
       "HBox(children=(FloatProgress(value=0.0, description='aia_lev1_304a_2015_01_22t00_00_07_14z_image_lev1.fits', m…"
      ]
     },
     "metadata": {},
     "output_type": "display_data"
    },
    {
     "data": {
      "application/vnd.jupyter.widget-view+json": {
       "model_id": "e78465cf5cd944f88088be759fc111a7",
       "version_major": 2,
       "version_minor": 0
      },
      "text/plain": [
       "HBox(children=(FloatProgress(value=0.0, description='aia_lev1_304a_2015_01_22t12_00_07_13z_image_lev1.fits', m…"
      ]
     },
     "metadata": {},
     "output_type": "display_data"
    },
    {
     "data": {
      "application/vnd.jupyter.widget-view+json": {
       "model_id": "76ce0d6d77d0409dab3e462f19c0e278",
       "version_major": 2,
       "version_minor": 0
      },
      "text/plain": [
       "HBox(children=(FloatProgress(value=0.0, description='aia_lev1_304a_2015_01_23t00_00_07_13z_image_lev1.fits', m…"
      ]
     },
     "metadata": {},
     "output_type": "display_data"
    },
    {
     "data": {
      "application/vnd.jupyter.widget-view+json": {
       "model_id": "a03dd6baa690451b905e0237e41b2f98",
       "version_major": 2,
       "version_minor": 0
      },
      "text/plain": [
       "HBox(children=(FloatProgress(value=0.0, description='aia_lev1_304a_2015_01_23t12_00_07_13z_image_lev1.fits', m…"
      ]
     },
     "metadata": {},
     "output_type": "display_data"
    },
    {
     "data": {
      "application/vnd.jupyter.widget-view+json": {
       "model_id": "7c5251d025384d7398d21bf0629898a1",
       "version_major": 2,
       "version_minor": 0
      },
      "text/plain": [
       "HBox(children=(FloatProgress(value=0.0, description='aia_lev1_304a_2015_01_24t00_00_07_12z_image_lev1.fits', m…"
      ]
     },
     "metadata": {},
     "output_type": "display_data"
    },
    {
     "data": {
      "application/vnd.jupyter.widget-view+json": {
       "model_id": "7188f9566594492293d77adcbe805983",
       "version_major": 2,
       "version_minor": 0
      },
      "text/plain": [
       "HBox(children=(FloatProgress(value=0.0, description='aia_lev1_304a_2015_01_24t12_00_07_12z_image_lev1.fits', m…"
      ]
     },
     "metadata": {},
     "output_type": "display_data"
    },
    {
     "data": {
      "application/vnd.jupyter.widget-view+json": {
       "model_id": "72ea77397d054576bdef38e215bd2664",
       "version_major": 2,
       "version_minor": 0
      },
      "text/plain": [
       "HBox(children=(FloatProgress(value=0.0, description='aia_lev1_304a_2015_01_25t00_00_07_12z_image_lev1.fits', m…"
      ]
     },
     "metadata": {},
     "output_type": "display_data"
    },
    {
     "data": {
      "application/vnd.jupyter.widget-view+json": {
       "model_id": "8191374bed1e4ceaaa7d2f0d3da040a5",
       "version_major": 2,
       "version_minor": 0
      },
      "text/plain": [
       "HBox(children=(FloatProgress(value=0.0, description='aia_lev1_304a_2015_01_25t12_00_07_12z_image_lev1.fits', m…"
      ]
     },
     "metadata": {},
     "output_type": "display_data"
    },
    {
     "data": {
      "application/vnd.jupyter.widget-view+json": {
       "model_id": "a4078e59c0ad4ab1a2869e56c4d4a20d",
       "version_major": 2,
       "version_minor": 0
      },
      "text/plain": [
       "HBox(children=(FloatProgress(value=0.0, description='aia_lev1_304a_2015_01_26t00_00_07_12z_image_lev1.fits', m…"
      ]
     },
     "metadata": {},
     "output_type": "display_data"
    },
    {
     "data": {
      "application/vnd.jupyter.widget-view+json": {
       "model_id": "d86c69c27d76491d900078b299732849",
       "version_major": 2,
       "version_minor": 0
      },
      "text/plain": [
       "HBox(children=(FloatProgress(value=0.0, description='aia_lev1_304a_2015_01_26t12_00_07_12z_image_lev1.fits', m…"
      ]
     },
     "metadata": {},
     "output_type": "display_data"
    },
    {
     "data": {
      "application/vnd.jupyter.widget-view+json": {
       "model_id": "7619f03677784c38a2c349840292638b",
       "version_major": 2,
       "version_minor": 0
      },
      "text/plain": [
       "HBox(children=(FloatProgress(value=0.0, description='aia_lev1_304a_2015_01_27t00_00_07_12z_image_lev1.fits', m…"
      ]
     },
     "metadata": {},
     "output_type": "display_data"
    },
    {
     "data": {
      "application/vnd.jupyter.widget-view+json": {
       "model_id": "f2e87af5728247f9abb4b224af5fb606",
       "version_major": 2,
       "version_minor": 0
      },
      "text/plain": [
       "HBox(children=(FloatProgress(value=0.0, description='aia_lev1_304a_2015_01_27t12_00_07_12z_image_lev1.fits', m…"
      ]
     },
     "metadata": {},
     "output_type": "display_data"
    },
    {
     "data": {
      "application/vnd.jupyter.widget-view+json": {
       "model_id": "9803152be7b1400aa05885e825037b2f",
       "version_major": 2,
       "version_minor": 0
      },
      "text/plain": [
       "HBox(children=(FloatProgress(value=0.0, description='aia_lev1_304a_2015_01_28t00_00_07_14z_image_lev1.fits', m…"
      ]
     },
     "metadata": {},
     "output_type": "display_data"
    },
    {
     "data": {
      "application/vnd.jupyter.widget-view+json": {
       "model_id": "a34f9f4b36a248f7978ba3a95ad7d5be",
       "version_major": 2,
       "version_minor": 0
      },
      "text/plain": [
       "HBox(children=(FloatProgress(value=0.0, description='aia_lev1_304a_2015_01_28t12_00_07_13z_image_lev1.fits', m…"
      ]
     },
     "metadata": {},
     "output_type": "display_data"
    },
    {
     "data": {
      "application/vnd.jupyter.widget-view+json": {
       "model_id": "4338e8315a004cd4a97c7d1b187cee99",
       "version_major": 2,
       "version_minor": 0
      },
      "text/plain": [
       "HBox(children=(FloatProgress(value=0.0, description='aia_lev1_304a_2015_01_29t00_00_07_12z_image_lev1.fits', m…"
      ]
     },
     "metadata": {},
     "output_type": "display_data"
    },
    {
     "data": {
      "application/vnd.jupyter.widget-view+json": {
       "model_id": "b825fa5e844c48ffae33b41ea84e1bac",
       "version_major": 2,
       "version_minor": 0
      },
      "text/plain": [
       "HBox(children=(FloatProgress(value=0.0, description='aia_lev1_304a_2015_01_29t12_00_07_12z_image_lev1.fits', m…"
      ]
     },
     "metadata": {},
     "output_type": "display_data"
    },
    {
     "data": {
      "application/vnd.jupyter.widget-view+json": {
       "model_id": "73b14c950fe641d1907249030318e46b",
       "version_major": 2,
       "version_minor": 0
      },
      "text/plain": [
       "HBox(children=(FloatProgress(value=0.0, description='aia_lev1_304a_2015_01_30t00_00_07_13z_image_lev1.fits', m…"
      ]
     },
     "metadata": {},
     "output_type": "display_data"
    },
    {
     "data": {
      "application/vnd.jupyter.widget-view+json": {
       "model_id": "57f18dd938074d2c81ac80cb7aba5b48",
       "version_major": 2,
       "version_minor": 0
      },
      "text/plain": [
       "HBox(children=(FloatProgress(value=0.0, description='aia_lev1_304a_2015_01_30t12_00_07_12z_image_lev1.fits', m…"
      ]
     },
     "metadata": {},
     "output_type": "display_data"
    },
    {
     "data": {
      "application/vnd.jupyter.widget-view+json": {
       "model_id": "a8b4a9197d624ad1805bbf37a00a365a",
       "version_major": 2,
       "version_minor": 0
      },
      "text/plain": [
       "HBox(children=(FloatProgress(value=0.0, description='aia_lev1_304a_2015_01_31t00_00_07_12z_image_lev1.fits', m…"
      ]
     },
     "metadata": {},
     "output_type": "display_data"
    },
    {
     "data": {
      "application/vnd.jupyter.widget-view+json": {
       "model_id": "415d8513c2aa4c6b8041c09c9335e567",
       "version_major": 2,
       "version_minor": 0
      },
      "text/plain": [
       "HBox(children=(FloatProgress(value=0.0, description='aia_lev1_304a_2015_01_31t12_00_07_12z_image_lev1.fits', m…"
      ]
     },
     "metadata": {},
     "output_type": "display_data"
    },
    {
     "data": {
      "application/vnd.jupyter.widget-view+json": {
       "model_id": "6899bdca874843fd969e2b28444f5ba6",
       "version_major": 2,
       "version_minor": 0
      },
      "text/plain": [
       "HBox(children=(FloatProgress(value=0.0, description='aia_lev1_304a_2015_02_01t00_00_07_12z_image_lev1.fits', m…"
      ]
     },
     "metadata": {},
     "output_type": "display_data"
    },
    {
     "data": {
      "application/vnd.jupyter.widget-view+json": {
       "model_id": "d10654afc0174a7e9ee6b0168b21debe",
       "version_major": 2,
       "version_minor": 0
      },
      "text/plain": [
       "HBox(children=(FloatProgress(value=0.0, description='aia_lev1_304a_2015_02_01t12_00_07_12z_image_lev1.fits', m…"
      ]
     },
     "metadata": {},
     "output_type": "display_data"
    },
    {
     "data": {
      "application/vnd.jupyter.widget-view+json": {
       "model_id": "efdb68f26abe4dc6be4e01e5d46528d3",
       "version_major": 2,
       "version_minor": 0
      },
      "text/plain": [
       "HBox(children=(FloatProgress(value=0.0, description='aia_lev1_304a_2015_02_02t00_00_07_12z_image_lev1.fits', m…"
      ]
     },
     "metadata": {},
     "output_type": "display_data"
    },
    {
     "data": {
      "application/vnd.jupyter.widget-view+json": {
       "model_id": "d45501d60704429ca5f0d7ce950cf0f8",
       "version_major": 2,
       "version_minor": 0
      },
      "text/plain": [
       "HBox(children=(FloatProgress(value=0.0, description='aia_lev1_304a_2015_02_02t12_00_07_12z_image_lev1.fits', m…"
      ]
     },
     "metadata": {},
     "output_type": "display_data"
    },
    {
     "data": {
      "application/vnd.jupyter.widget-view+json": {
       "model_id": "3978ad1da79743a79f25a7e5676a57d3",
       "version_major": 2,
       "version_minor": 0
      },
      "text/plain": [
       "HBox(children=(FloatProgress(value=0.0, description='aia_lev1_304a_2015_02_03t00_00_07_12z_image_lev1.fits', m…"
      ]
     },
     "metadata": {},
     "output_type": "display_data"
    },
    {
     "data": {
      "application/vnd.jupyter.widget-view+json": {
       "model_id": "4f178b3c111440b5aa7e108278b2cc24",
       "version_major": 2,
       "version_minor": 0
      },
      "text/plain": [
       "HBox(children=(FloatProgress(value=0.0, description='aia_lev1_304a_2015_02_03t12_00_07_12z_image_lev1.fits', m…"
      ]
     },
     "metadata": {},
     "output_type": "display_data"
    },
    {
     "data": {
      "application/vnd.jupyter.widget-view+json": {
       "model_id": "d464f8e6348842d4969c45a5562381f1",
       "version_major": 2,
       "version_minor": 0
      },
      "text/plain": [
       "HBox(children=(FloatProgress(value=0.0, description='aia_lev1_304a_2015_02_04t00_00_07_12z_image_lev1.fits', m…"
      ]
     },
     "metadata": {},
     "output_type": "display_data"
    },
    {
     "data": {
      "application/vnd.jupyter.widget-view+json": {
       "model_id": "07823a66b2904a3c92eef42040b09e19",
       "version_major": 2,
       "version_minor": 0
      },
      "text/plain": [
       "HBox(children=(FloatProgress(value=0.0, description='aia_lev1_304a_2015_02_04t12_00_07_12z_image_lev1.fits', m…"
      ]
     },
     "metadata": {},
     "output_type": "display_data"
    },
    {
     "data": {
      "application/vnd.jupyter.widget-view+json": {
       "model_id": "08a449d1b1464302b4c9c589a1b742c6",
       "version_major": 2,
       "version_minor": 0
      },
      "text/plain": [
       "HBox(children=(FloatProgress(value=0.0, description='aia_lev1_304a_2015_02_05t00_00_07_12z_image_lev1.fits', m…"
      ]
     },
     "metadata": {},
     "output_type": "display_data"
    },
    {
     "data": {
      "application/vnd.jupyter.widget-view+json": {
       "model_id": "ee85364d655a42a098feb96ce70cd24f",
       "version_major": 2,
       "version_minor": 0
      },
      "text/plain": [
       "HBox(children=(FloatProgress(value=0.0, description='aia_lev1_304a_2015_02_05t12_00_07_12z_image_lev1.fits', m…"
      ]
     },
     "metadata": {},
     "output_type": "display_data"
    },
    {
     "data": {
      "application/vnd.jupyter.widget-view+json": {
       "model_id": "0438c30ea01a4de9ad4566b26e04b6fe",
       "version_major": 2,
       "version_minor": 0
      },
      "text/plain": [
       "HBox(children=(FloatProgress(value=0.0, description='aia_lev1_304a_2015_02_06t00_00_07_12z_image_lev1.fits', m…"
      ]
     },
     "metadata": {},
     "output_type": "display_data"
    },
    {
     "data": {
      "application/vnd.jupyter.widget-view+json": {
       "model_id": "ad3463915a454d7d80cabaaeea870c45",
       "version_major": 2,
       "version_minor": 0
      },
      "text/plain": [
       "HBox(children=(FloatProgress(value=0.0, description='aia_lev1_304a_2015_02_06t12_00_07_13z_image_lev1.fits', m…"
      ]
     },
     "metadata": {},
     "output_type": "display_data"
    },
    {
     "data": {
      "application/vnd.jupyter.widget-view+json": {
       "model_id": "e4366e6503dd4e29a518de5d8e9ebf7f",
       "version_major": 2,
       "version_minor": 0
      },
      "text/plain": [
       "HBox(children=(FloatProgress(value=0.0, description='aia_lev1_304a_2015_02_07t00_00_07_12z_image_lev1.fits', m…"
      ]
     },
     "metadata": {},
     "output_type": "display_data"
    },
    {
     "data": {
      "application/vnd.jupyter.widget-view+json": {
       "model_id": "264c90d072574753b9459e50355d27e7",
       "version_major": 2,
       "version_minor": 0
      },
      "text/plain": [
       "HBox(children=(FloatProgress(value=0.0, description='aia_lev1_304a_2015_02_07t12_00_07_12z_image_lev1.fits', m…"
      ]
     },
     "metadata": {},
     "output_type": "display_data"
    },
    {
     "data": {
      "application/vnd.jupyter.widget-view+json": {
       "model_id": "ea7a5e48fa2745aeb2e7f0465792cf85",
       "version_major": 2,
       "version_minor": 0
      },
      "text/plain": [
       "HBox(children=(FloatProgress(value=0.0, description='aia_lev1_304a_2015_02_08t00_00_07_12z_image_lev1.fits', m…"
      ]
     },
     "metadata": {},
     "output_type": "display_data"
    },
    {
     "data": {
      "application/vnd.jupyter.widget-view+json": {
       "model_id": "2ee4cc136c66487590b183786edf1910",
       "version_major": 2,
       "version_minor": 0
      },
      "text/plain": [
       "HBox(children=(FloatProgress(value=0.0, description='aia_lev1_304a_2015_02_08t12_00_07_14z_image_lev1.fits', m…"
      ]
     },
     "metadata": {},
     "output_type": "display_data"
    },
    {
     "data": {
      "application/vnd.jupyter.widget-view+json": {
       "model_id": "ef9af295165b4b79b5715ba9b80da665",
       "version_major": 2,
       "version_minor": 0
      },
      "text/plain": [
       "HBox(children=(FloatProgress(value=0.0, description='aia_lev1_304a_2015_02_09t00_00_07_12z_image_lev1.fits', m…"
      ]
     },
     "metadata": {},
     "output_type": "display_data"
    },
    {
     "data": {
      "application/vnd.jupyter.widget-view+json": {
       "model_id": "702654621cb146f6921e5b4d96d7b574",
       "version_major": 2,
       "version_minor": 0
      },
      "text/plain": [
       "HBox(children=(FloatProgress(value=0.0, description='aia_lev1_304a_2015_02_09t12_00_07_12z_image_lev1.fits', m…"
      ]
     },
     "metadata": {},
     "output_type": "display_data"
    },
    {
     "data": {
      "application/vnd.jupyter.widget-view+json": {
       "model_id": "4476021f7c264a6d9f45bb9ea161acda",
       "version_major": 2,
       "version_minor": 0
      },
      "text/plain": [
       "HBox(children=(FloatProgress(value=0.0, description='aia_lev1_304a_2015_02_10t00_00_07_14z_image_lev1.fits', m…"
      ]
     },
     "metadata": {},
     "output_type": "display_data"
    },
    {
     "data": {
      "application/vnd.jupyter.widget-view+json": {
       "model_id": "a0f26a5bd1554933bf6ed835c301a680",
       "version_major": 2,
       "version_minor": 0
      },
      "text/plain": [
       "HBox(children=(FloatProgress(value=0.0, description='aia_lev1_304a_2015_02_10t12_00_07_12z_image_lev1.fits', m…"
      ]
     },
     "metadata": {},
     "output_type": "display_data"
    },
    {
     "data": {
      "application/vnd.jupyter.widget-view+json": {
       "model_id": "244f68358db540318c8d534997e152d5",
       "version_major": 2,
       "version_minor": 0
      },
      "text/plain": [
       "HBox(children=(FloatProgress(value=0.0, description='aia_lev1_304a_2015_02_11t00_00_07_12z_image_lev1.fits', m…"
      ]
     },
     "metadata": {},
     "output_type": "display_data"
    },
    {
     "data": {
      "application/vnd.jupyter.widget-view+json": {
       "model_id": "6c1cc5937ca94935942f8449efab8e04",
       "version_major": 2,
       "version_minor": 0
      },
      "text/plain": [
       "HBox(children=(FloatProgress(value=0.0, description='aia_lev1_304a_2015_02_11t12_00_07_12z_image_lev1.fits', m…"
      ]
     },
     "metadata": {},
     "output_type": "display_data"
    },
    {
     "data": {
      "application/vnd.jupyter.widget-view+json": {
       "model_id": "44c943f9f77745b1813e5218b171d72c",
       "version_major": 2,
       "version_minor": 0
      },
      "text/plain": [
       "HBox(children=(FloatProgress(value=0.0, description='aia_lev1_304a_2015_02_12t00_00_07_12z_image_lev1.fits', m…"
      ]
     },
     "metadata": {},
     "output_type": "display_data"
    },
    {
     "data": {
      "application/vnd.jupyter.widget-view+json": {
       "model_id": "a0e8520ab95b4c019d2c336e9684395c",
       "version_major": 2,
       "version_minor": 0
      },
      "text/plain": [
       "HBox(children=(FloatProgress(value=0.0, description='aia_lev1_304a_2015_02_12t12_00_07_12z_image_lev1.fits', m…"
      ]
     },
     "metadata": {},
     "output_type": "display_data"
    },
    {
     "data": {
      "application/vnd.jupyter.widget-view+json": {
       "model_id": "2e259b169b1a4ac08f87cb4feb4c23c5",
       "version_major": 2,
       "version_minor": 0
      },
      "text/plain": [
       "HBox(children=(FloatProgress(value=0.0, description='aia_lev1_304a_2015_02_13t00_00_07_12z_image_lev1.fits', m…"
      ]
     },
     "metadata": {},
     "output_type": "display_data"
    },
    {
     "data": {
      "application/vnd.jupyter.widget-view+json": {
       "model_id": "b3de0f1f796b4c47a5baed346791b843",
       "version_major": 2,
       "version_minor": 0
      },
      "text/plain": [
       "HBox(children=(FloatProgress(value=0.0, description='aia_lev1_304a_2015_02_13t12_00_07_12z_image_lev1.fits', m…"
      ]
     },
     "metadata": {},
     "output_type": "display_data"
    },
    {
     "data": {
      "application/vnd.jupyter.widget-view+json": {
       "model_id": "e2f5b504812740c59b2f207bc4f4a6b2",
       "version_major": 2,
       "version_minor": 0
      },
      "text/plain": [
       "HBox(children=(FloatProgress(value=0.0, description='aia_lev1_304a_2015_02_14t00_00_07_13z_image_lev1.fits', m…"
      ]
     },
     "metadata": {},
     "output_type": "display_data"
    },
    {
     "data": {
      "application/vnd.jupyter.widget-view+json": {
       "model_id": "4a89af8588c44e89bd36243586c16012",
       "version_major": 2,
       "version_minor": 0
      },
      "text/plain": [
       "HBox(children=(FloatProgress(value=0.0, description='aia_lev1_304a_2015_02_14t12_00_07_13z_image_lev1.fits', m…"
      ]
     },
     "metadata": {},
     "output_type": "display_data"
    },
    {
     "data": {
      "application/vnd.jupyter.widget-view+json": {
       "model_id": "77ea0dc2c352470392aa811b28b91bda",
       "version_major": 2,
       "version_minor": 0
      },
      "text/plain": [
       "HBox(children=(FloatProgress(value=0.0, description='aia_lev1_304a_2015_02_15t00_00_07_12z_image_lev1.fits', m…"
      ]
     },
     "metadata": {},
     "output_type": "display_data"
    },
    {
     "data": {
      "application/vnd.jupyter.widget-view+json": {
       "model_id": "d6bd1dfd74894f71995ca64ffcfa11a7",
       "version_major": 2,
       "version_minor": 0
      },
      "text/plain": [
       "HBox(children=(FloatProgress(value=0.0, description='aia_lev1_304a_2015_02_15t12_00_07_13z_image_lev1.fits', m…"
      ]
     },
     "metadata": {},
     "output_type": "display_data"
    },
    {
     "data": {
      "application/vnd.jupyter.widget-view+json": {
       "model_id": "8ef669433cee4860abf8c38c0bca1ee4",
       "version_major": 2,
       "version_minor": 0
      },
      "text/plain": [
       "HBox(children=(FloatProgress(value=0.0, description='aia_lev1_304a_2015_02_16t00_00_07_13z_image_lev1.fits', m…"
      ]
     },
     "metadata": {},
     "output_type": "display_data"
    },
    {
     "data": {
      "application/vnd.jupyter.widget-view+json": {
       "model_id": "b35bd9bcd7ff4f81b48ceb5724867005",
       "version_major": 2,
       "version_minor": 0
      },
      "text/plain": [
       "HBox(children=(FloatProgress(value=0.0, description='aia_lev1_304a_2015_02_16t12_00_07_13z_image_lev1.fits', m…"
      ]
     },
     "metadata": {},
     "output_type": "display_data"
    },
    {
     "data": {
      "application/vnd.jupyter.widget-view+json": {
       "model_id": "f06272d08a0d4f6cba55266155774a9f",
       "version_major": 2,
       "version_minor": 0
      },
      "text/plain": [
       "HBox(children=(FloatProgress(value=0.0, description='aia_lev1_304a_2015_02_17t00_00_07_13z_image_lev1.fits', m…"
      ]
     },
     "metadata": {},
     "output_type": "display_data"
    },
    {
     "data": {
      "application/vnd.jupyter.widget-view+json": {
       "model_id": "e44c3aaa5e2b44aea81b14bd4de3628f",
       "version_major": 2,
       "version_minor": 0
      },
      "text/plain": [
       "HBox(children=(FloatProgress(value=0.0, description='aia_lev1_304a_2015_02_17t12_00_07_12z_image_lev1.fits', m…"
      ]
     },
     "metadata": {},
     "output_type": "display_data"
    },
    {
     "data": {
      "application/vnd.jupyter.widget-view+json": {
       "model_id": "57b75e223efb42639741a1e8fe29ecb0",
       "version_major": 2,
       "version_minor": 0
      },
      "text/plain": [
       "HBox(children=(FloatProgress(value=0.0, description='aia_lev1_304a_2015_02_18t00_00_07_12z_image_lev1.fits', m…"
      ]
     },
     "metadata": {},
     "output_type": "display_data"
    },
    {
     "data": {
      "application/vnd.jupyter.widget-view+json": {
       "model_id": "8aa53d8ff85140b694c7e13bf82797ff",
       "version_major": 2,
       "version_minor": 0
      },
      "text/plain": [
       "HBox(children=(FloatProgress(value=0.0, description='aia_lev1_304a_2015_02_18t12_00_07_12z_image_lev1.fits', m…"
      ]
     },
     "metadata": {},
     "output_type": "display_data"
    },
    {
     "data": {
      "application/vnd.jupyter.widget-view+json": {
       "model_id": "0e90719a70da4b99872f06e2b01a7dfa",
       "version_major": 2,
       "version_minor": 0
      },
      "text/plain": [
       "HBox(children=(FloatProgress(value=0.0, description='aia_lev1_304a_2015_02_19t00_00_07_12z_image_lev1.fits', m…"
      ]
     },
     "metadata": {},
     "output_type": "display_data"
    },
    {
     "data": {
      "application/vnd.jupyter.widget-view+json": {
       "model_id": "98af3b2b54c44cdcbd560acf5eb87e4d",
       "version_major": 2,
       "version_minor": 0
      },
      "text/plain": [
       "HBox(children=(FloatProgress(value=0.0, description='aia_lev1_304a_2015_02_19t12_00_07_13z_image_lev1.fits', m…"
      ]
     },
     "metadata": {},
     "output_type": "display_data"
    },
    {
     "data": {
      "application/vnd.jupyter.widget-view+json": {
       "model_id": "106266bfcc8d4d73ba353c0a409f770e",
       "version_major": 2,
       "version_minor": 0
      },
      "text/plain": [
       "HBox(children=(FloatProgress(value=0.0, description='aia_lev1_304a_2015_02_20t00_00_07_13z_image_lev1.fits', m…"
      ]
     },
     "metadata": {},
     "output_type": "display_data"
    },
    {
     "data": {
      "application/vnd.jupyter.widget-view+json": {
       "model_id": "253f560ee2684af48b789c13d5018a3f",
       "version_major": 2,
       "version_minor": 0
      },
      "text/plain": [
       "HBox(children=(FloatProgress(value=0.0, description='aia_lev1_304a_2015_02_20t12_00_07_12z_image_lev1.fits', m…"
      ]
     },
     "metadata": {},
     "output_type": "display_data"
    },
    {
     "data": {
      "application/vnd.jupyter.widget-view+json": {
       "model_id": "475fef51ac734ec299b03cf936e28f44",
       "version_major": 2,
       "version_minor": 0
      },
      "text/plain": [
       "HBox(children=(FloatProgress(value=0.0, description='aia_lev1_304a_2015_02_21t00_00_07_12z_image_lev1.fits', m…"
      ]
     },
     "metadata": {},
     "output_type": "display_data"
    },
    {
     "data": {
      "application/vnd.jupyter.widget-view+json": {
       "model_id": "b59ce92dc8214489af4b793a659dba84",
       "version_major": 2,
       "version_minor": 0
      },
      "text/plain": [
       "HBox(children=(FloatProgress(value=0.0, description='aia_lev1_304a_2015_02_21t12_00_07_12z_image_lev1.fits', m…"
      ]
     },
     "metadata": {},
     "output_type": "display_data"
    },
    {
     "data": {
      "application/vnd.jupyter.widget-view+json": {
       "model_id": "56170a6a96cb4a1e95f9238ce5484142",
       "version_major": 2,
       "version_minor": 0
      },
      "text/plain": [
       "HBox(children=(FloatProgress(value=0.0, description='aia_lev1_304a_2015_02_22t00_00_07_12z_image_lev1.fits', m…"
      ]
     },
     "metadata": {},
     "output_type": "display_data"
    },
    {
     "data": {
      "application/vnd.jupyter.widget-view+json": {
       "model_id": "38564c5708354b7ea663565889689317",
       "version_major": 2,
       "version_minor": 0
      },
      "text/plain": [
       "HBox(children=(FloatProgress(value=0.0, description='aia_lev1_304a_2015_02_22t12_00_07_12z_image_lev1.fits', m…"
      ]
     },
     "metadata": {},
     "output_type": "display_data"
    },
    {
     "data": {
      "application/vnd.jupyter.widget-view+json": {
       "model_id": "50586d3d012742aa9f5d2619c5bd8cde",
       "version_major": 2,
       "version_minor": 0
      },
      "text/plain": [
       "HBox(children=(FloatProgress(value=0.0, description='aia_lev1_304a_2015_02_23t00_00_07_14z_image_lev1.fits', m…"
      ]
     },
     "metadata": {},
     "output_type": "display_data"
    },
    {
     "data": {
      "application/vnd.jupyter.widget-view+json": {
       "model_id": "686f8b3be9054b409cf8682bd88a1524",
       "version_major": 2,
       "version_minor": 0
      },
      "text/plain": [
       "HBox(children=(FloatProgress(value=0.0, description='aia_lev1_304a_2015_02_23t12_00_07_12z_image_lev1.fits', m…"
      ]
     },
     "metadata": {},
     "output_type": "display_data"
    },
    {
     "data": {
      "application/vnd.jupyter.widget-view+json": {
       "model_id": "b0aa54d58b17480cb36930af9435ab7c",
       "version_major": 2,
       "version_minor": 0
      },
      "text/plain": [
       "HBox(children=(FloatProgress(value=0.0, description='aia_lev1_304a_2015_02_24t00_00_07_12z_image_lev1.fits', m…"
      ]
     },
     "metadata": {},
     "output_type": "display_data"
    },
    {
     "data": {
      "application/vnd.jupyter.widget-view+json": {
       "model_id": "2ebaf790a38e4d52b77f435c14181cb9",
       "version_major": 2,
       "version_minor": 0
      },
      "text/plain": [
       "HBox(children=(FloatProgress(value=0.0, description='aia_lev1_304a_2015_02_24t12_00_07_12z_image_lev1.fits', m…"
      ]
     },
     "metadata": {},
     "output_type": "display_data"
    },
    {
     "data": {
      "application/vnd.jupyter.widget-view+json": {
       "model_id": "a5998247d027475c9d093e35bda8c9a6",
       "version_major": 2,
       "version_minor": 0
      },
      "text/plain": [
       "HBox(children=(FloatProgress(value=0.0, description='aia_lev1_304a_2015_02_25t00_00_07_12z_image_lev1.fits', m…"
      ]
     },
     "metadata": {},
     "output_type": "display_data"
    },
    {
     "data": {
      "application/vnd.jupyter.widget-view+json": {
       "model_id": "445e173d64934fee9b0a2d94d68eccfb",
       "version_major": 2,
       "version_minor": 0
      },
      "text/plain": [
       "HBox(children=(FloatProgress(value=0.0, description='aia_lev1_304a_2015_02_25t12_00_07_12z_image_lev1.fits', m…"
      ]
     },
     "metadata": {},
     "output_type": "display_data"
    },
    {
     "data": {
      "application/vnd.jupyter.widget-view+json": {
       "model_id": "90fabaf4f3b04e4696b86238b0d9eebe",
       "version_major": 2,
       "version_minor": 0
      },
      "text/plain": [
       "HBox(children=(FloatProgress(value=0.0, description='aia_lev1_304a_2015_02_26t00_00_07_12z_image_lev1.fits', m…"
      ]
     },
     "metadata": {},
     "output_type": "display_data"
    },
    {
     "data": {
      "application/vnd.jupyter.widget-view+json": {
       "model_id": "0518cc564d83449487c5a24a5d9e7922",
       "version_major": 2,
       "version_minor": 0
      },
      "text/plain": [
       "HBox(children=(FloatProgress(value=0.0, description='aia_lev1_304a_2015_02_26t12_00_07_12z_image_lev1.fits', m…"
      ]
     },
     "metadata": {},
     "output_type": "display_data"
    },
    {
     "data": {
      "application/vnd.jupyter.widget-view+json": {
       "model_id": "4a741651f62d4f0f8e326bce96da6079",
       "version_major": 2,
       "version_minor": 0
      },
      "text/plain": [
       "HBox(children=(FloatProgress(value=0.0, description='aia_lev1_304a_2015_02_27t00_00_07_12z_image_lev1.fits', m…"
      ]
     },
     "metadata": {},
     "output_type": "display_data"
    },
    {
     "data": {
      "application/vnd.jupyter.widget-view+json": {
       "model_id": "5a6a7a1e1ae949a0855d46cd34165232",
       "version_major": 2,
       "version_minor": 0
      },
      "text/plain": [
       "HBox(children=(FloatProgress(value=0.0, description='aia_lev1_304a_2015_02_27t12_00_07_12z_image_lev1.fits', m…"
      ]
     },
     "metadata": {},
     "output_type": "display_data"
    },
    {
     "data": {
      "application/vnd.jupyter.widget-view+json": {
       "model_id": "6ab8640e8a88472cb987a9b43a89c3ae",
       "version_major": 2,
       "version_minor": 0
      },
      "text/plain": [
       "HBox(children=(FloatProgress(value=0.0, description='aia_lev1_304a_2015_02_28t00_00_07_12z_image_lev1.fits', m…"
      ]
     },
     "metadata": {},
     "output_type": "display_data"
    },
    {
     "data": {
      "application/vnd.jupyter.widget-view+json": {
       "model_id": "0db133a44b6d4b42a13aa857ea83f906",
       "version_major": 2,
       "version_minor": 0
      },
      "text/plain": [
       "HBox(children=(FloatProgress(value=0.0, description='aia_lev1_304a_2015_02_28t12_00_07_12z_image_lev1.fits', m…"
      ]
     },
     "metadata": {},
     "output_type": "display_data"
    },
    {
     "data": {
      "application/vnd.jupyter.widget-view+json": {
       "model_id": "14eb60f30e8a46ec9c5fe472f6d0f319",
       "version_major": 2,
       "version_minor": 0
      },
      "text/plain": [
       "HBox(children=(FloatProgress(value=0.0, description='aia_lev1_304a_2015_03_01t00_00_07_12z_image_lev1.fits', m…"
      ]
     },
     "metadata": {},
     "output_type": "display_data"
    },
    {
     "data": {
      "application/vnd.jupyter.widget-view+json": {
       "model_id": "d50ccf0a49aa4d9899baedfeeb206aba",
       "version_major": 2,
       "version_minor": 0
      },
      "text/plain": [
       "HBox(children=(FloatProgress(value=0.0, description='aia_lev1_304a_2015_03_01t12_00_07_12z_image_lev1.fits', m…"
      ]
     },
     "metadata": {},
     "output_type": "display_data"
    },
    {
     "data": {
      "application/vnd.jupyter.widget-view+json": {
       "model_id": "73579147d33b41e5b739e62aa5906c47",
       "version_major": 2,
       "version_minor": 0
      },
      "text/plain": [
       "HBox(children=(FloatProgress(value=0.0, description='aia_lev1_304a_2015_03_02t00_00_07_12z_image_lev1.fits', m…"
      ]
     },
     "metadata": {},
     "output_type": "display_data"
    },
    {
     "data": {
      "application/vnd.jupyter.widget-view+json": {
       "model_id": "b9a57f8dbb7641a3b11bc5f2ddf90743",
       "version_major": 2,
       "version_minor": 0
      },
      "text/plain": [
       "HBox(children=(FloatProgress(value=0.0, description='aia_lev1_304a_2015_03_02t12_00_07_12z_image_lev1.fits', m…"
      ]
     },
     "metadata": {},
     "output_type": "display_data"
    },
    {
     "data": {
      "application/vnd.jupyter.widget-view+json": {
       "model_id": "973e3c81bbd64c44bbcb6edf8de31dc4",
       "version_major": 2,
       "version_minor": 0
      },
      "text/plain": [
       "HBox(children=(FloatProgress(value=0.0, description='aia_lev1_304a_2015_03_03t00_00_07_12z_image_lev1.fits', m…"
      ]
     },
     "metadata": {},
     "output_type": "display_data"
    },
    {
     "data": {
      "application/vnd.jupyter.widget-view+json": {
       "model_id": "b00794dce5c446148b80e4a6724fde69",
       "version_major": 2,
       "version_minor": 0
      },
      "text/plain": [
       "HBox(children=(FloatProgress(value=0.0, description='aia_lev1_304a_2015_03_03t12_00_07_13z_image_lev1.fits', m…"
      ]
     },
     "metadata": {},
     "output_type": "display_data"
    },
    {
     "data": {
      "application/vnd.jupyter.widget-view+json": {
       "model_id": "6038004c1fa740bca0c3071923926c3e",
       "version_major": 2,
       "version_minor": 0
      },
      "text/plain": [
       "HBox(children=(FloatProgress(value=0.0, description='aia_lev1_304a_2015_03_04t00_00_07_12z_image_lev1.fits', m…"
      ]
     },
     "metadata": {},
     "output_type": "display_data"
    },
    {
     "data": {
      "application/vnd.jupyter.widget-view+json": {
       "model_id": "26e73d82498c4aa8bc2b7237626c4ea3",
       "version_major": 2,
       "version_minor": 0
      },
      "text/plain": [
       "HBox(children=(FloatProgress(value=0.0, description='aia_lev1_304a_2015_03_04t12_00_07_13z_image_lev1.fits', m…"
      ]
     },
     "metadata": {},
     "output_type": "display_data"
    },
    {
     "data": {
      "application/vnd.jupyter.widget-view+json": {
       "model_id": "dc9753f4f0144191874f3604cf2bd7ab",
       "version_major": 2,
       "version_minor": 0
      },
      "text/plain": [
       "HBox(children=(FloatProgress(value=0.0, description='aia_lev1_304a_2015_03_05t00_00_07_12z_image_lev1.fits', m…"
      ]
     },
     "metadata": {},
     "output_type": "display_data"
    },
    {
     "data": {
      "application/vnd.jupyter.widget-view+json": {
       "model_id": "75a8af07bb3a40bfbfe0ec4c48f25dc0",
       "version_major": 2,
       "version_minor": 0
      },
      "text/plain": [
       "HBox(children=(FloatProgress(value=0.0, description='aia_lev1_304a_2015_03_05t12_00_07_12z_image_lev1.fits', m…"
      ]
     },
     "metadata": {},
     "output_type": "display_data"
    },
    {
     "data": {
      "application/vnd.jupyter.widget-view+json": {
       "model_id": "fdc8585499e545238f1783ae180382aa",
       "version_major": 2,
       "version_minor": 0
      },
      "text/plain": [
       "HBox(children=(FloatProgress(value=0.0, description='aia_lev1_304a_2015_03_06t00_00_07_12z_image_lev1.fits', m…"
      ]
     },
     "metadata": {},
     "output_type": "display_data"
    },
    {
     "data": {
      "application/vnd.jupyter.widget-view+json": {
       "model_id": "13481e81e8e5412a88d27f07421e66c4",
       "version_major": 2,
       "version_minor": 0
      },
      "text/plain": [
       "HBox(children=(FloatProgress(value=0.0, description='aia_lev1_304a_2015_03_06t12_00_07_12z_image_lev1.fits', m…"
      ]
     },
     "metadata": {},
     "output_type": "display_data"
    },
    {
     "data": {
      "application/vnd.jupyter.widget-view+json": {
       "model_id": "e3aa766a93b4498a94b3a7fc186928ac",
       "version_major": 2,
       "version_minor": 0
      },
      "text/plain": [
       "HBox(children=(FloatProgress(value=0.0, description='aia_lev1_304a_2015_03_07t00_00_07_12z_image_lev1.fits', m…"
      ]
     },
     "metadata": {},
     "output_type": "display_data"
    },
    {
     "data": {
      "application/vnd.jupyter.widget-view+json": {
       "model_id": "dd02cca1ddb34a86a71ab6f4593317b0",
       "version_major": 2,
       "version_minor": 0
      },
      "text/plain": [
       "HBox(children=(FloatProgress(value=0.0, description='aia_lev1_304a_2015_03_07t12_00_07_12z_image_lev1.fits', m…"
      ]
     },
     "metadata": {},
     "output_type": "display_data"
    },
    {
     "data": {
      "application/vnd.jupyter.widget-view+json": {
       "model_id": "e8e7268e309f4b998f28e406c14e8b63",
       "version_major": 2,
       "version_minor": 0
      },
      "text/plain": [
       "HBox(children=(FloatProgress(value=0.0, description='aia_lev1_304a_2015_03_08t00_00_07_12z_image_lev1.fits', m…"
      ]
     },
     "metadata": {},
     "output_type": "display_data"
    },
    {
     "data": {
      "application/vnd.jupyter.widget-view+json": {
       "model_id": "a72cf257ad7c4290af6055569360a5c0",
       "version_major": 2,
       "version_minor": 0
      },
      "text/plain": [
       "HBox(children=(FloatProgress(value=0.0, description='aia_lev1_304a_2015_03_08t12_00_07_12z_image_lev1.fits', m…"
      ]
     },
     "metadata": {},
     "output_type": "display_data"
    },
    {
     "data": {
      "application/vnd.jupyter.widget-view+json": {
       "model_id": "231cff2e5e384ca7bb8ed909d42c7a9c",
       "version_major": 2,
       "version_minor": 0
      },
      "text/plain": [
       "HBox(children=(FloatProgress(value=0.0, description='aia_lev1_304a_2015_03_09t00_00_07_12z_image_lev1.fits', m…"
      ]
     },
     "metadata": {},
     "output_type": "display_data"
    },
    {
     "data": {
      "application/vnd.jupyter.widget-view+json": {
       "model_id": "ff32743aeca84381865523698f005d94",
       "version_major": 2,
       "version_minor": 0
      },
      "text/plain": [
       "HBox(children=(FloatProgress(value=0.0, description='aia_lev1_304a_2015_03_09t12_00_07_14z_image_lev1.fits', m…"
      ]
     },
     "metadata": {},
     "output_type": "display_data"
    },
    {
     "data": {
      "application/vnd.jupyter.widget-view+json": {
       "model_id": "c8028ebb05b84c0f8eeb96da20388d20",
       "version_major": 2,
       "version_minor": 0
      },
      "text/plain": [
       "HBox(children=(FloatProgress(value=0.0, description='aia_lev1_304a_2015_03_10t00_00_07_12z_image_lev1.fits', m…"
      ]
     },
     "metadata": {},
     "output_type": "display_data"
    },
    {
     "data": {
      "application/vnd.jupyter.widget-view+json": {
       "model_id": "9294e487b1d640ffa572b28005ea1d84",
       "version_major": 2,
       "version_minor": 0
      },
      "text/plain": [
       "HBox(children=(FloatProgress(value=0.0, description='aia_lev1_304a_2015_03_10t12_00_07_12z_image_lev1.fits', m…"
      ]
     },
     "metadata": {},
     "output_type": "display_data"
    },
    {
     "data": {
      "application/vnd.jupyter.widget-view+json": {
       "model_id": "b64306914501437f8f49ab853590344a",
       "version_major": 2,
       "version_minor": 0
      },
      "text/plain": [
       "HBox(children=(FloatProgress(value=0.0, description='aia_lev1_304a_2015_03_11t00_00_07_13z_image_lev1.fits', m…"
      ]
     },
     "metadata": {},
     "output_type": "display_data"
    },
    {
     "data": {
      "application/vnd.jupyter.widget-view+json": {
       "model_id": "3a9cbf09ce0744699bd2bc754e9336db",
       "version_major": 2,
       "version_minor": 0
      },
      "text/plain": [
       "HBox(children=(FloatProgress(value=0.0, description='aia_lev1_304a_2015_03_11t12_00_07_12z_image_lev1.fits', m…"
      ]
     },
     "metadata": {},
     "output_type": "display_data"
    },
    {
     "data": {
      "application/vnd.jupyter.widget-view+json": {
       "model_id": "df47eb645918402ea0258d77ae6cb1fa",
       "version_major": 2,
       "version_minor": 0
      },
      "text/plain": [
       "HBox(children=(FloatProgress(value=0.0, description='aia_lev1_304a_2015_03_12t00_00_07_16z_image_lev1.fits', m…"
      ]
     },
     "metadata": {},
     "output_type": "display_data"
    },
    {
     "data": {
      "application/vnd.jupyter.widget-view+json": {
       "model_id": "50ef036e54344845b744d509e6925416",
       "version_major": 2,
       "version_minor": 0
      },
      "text/plain": [
       "HBox(children=(FloatProgress(value=0.0, description='aia_lev1_304a_2015_03_12t12_00_07_13z_image_lev1.fits', m…"
      ]
     },
     "metadata": {},
     "output_type": "display_data"
    },
    {
     "data": {
      "application/vnd.jupyter.widget-view+json": {
       "model_id": "892029a7c5c2492a883ab42f1b4eb3a6",
       "version_major": 2,
       "version_minor": 0
      },
      "text/plain": [
       "HBox(children=(FloatProgress(value=0.0, description='aia_lev1_304a_2015_03_13t00_00_07_12z_image_lev1.fits', m…"
      ]
     },
     "metadata": {},
     "output_type": "display_data"
    },
    {
     "data": {
      "application/vnd.jupyter.widget-view+json": {
       "model_id": "2ecdf32738dd4d87b5021267dce87e3d",
       "version_major": 2,
       "version_minor": 0
      },
      "text/plain": [
       "HBox(children=(FloatProgress(value=0.0, description='aia_lev1_304a_2015_03_13t12_00_07_12z_image_lev1.fits', m…"
      ]
     },
     "metadata": {},
     "output_type": "display_data"
    },
    {
     "data": {
      "application/vnd.jupyter.widget-view+json": {
       "model_id": "56621c7ba729416eb44914da428f052b",
       "version_major": 2,
       "version_minor": 0
      },
      "text/plain": [
       "HBox(children=(FloatProgress(value=0.0, description='aia_lev1_304a_2015_03_14t00_00_07_12z_image_lev1.fits', m…"
      ]
     },
     "metadata": {},
     "output_type": "display_data"
    },
    {
     "data": {
      "application/vnd.jupyter.widget-view+json": {
       "model_id": "c75987fee0a84200a2c3df197ec1bf55",
       "version_major": 2,
       "version_minor": 0
      },
      "text/plain": [
       "HBox(children=(FloatProgress(value=0.0, description='aia_lev1_304a_2015_03_14t12_00_07_12z_image_lev1.fits', m…"
      ]
     },
     "metadata": {},
     "output_type": "display_data"
    },
    {
     "data": {
      "application/vnd.jupyter.widget-view+json": {
       "model_id": "b8f0bd42cd8c46de837ace3e2b2d9562",
       "version_major": 2,
       "version_minor": 0
      },
      "text/plain": [
       "HBox(children=(FloatProgress(value=0.0, description='aia_lev1_304a_2015_03_15t00_00_07_12z_image_lev1.fits', m…"
      ]
     },
     "metadata": {},
     "output_type": "display_data"
    },
    {
     "data": {
      "application/vnd.jupyter.widget-view+json": {
       "model_id": "a6e7ae1242c24f22aedad8b73c06e835",
       "version_major": 2,
       "version_minor": 0
      },
      "text/plain": [
       "HBox(children=(FloatProgress(value=0.0, description='aia_lev1_304a_2015_03_15t12_00_07_12z_image_lev1.fits', m…"
      ]
     },
     "metadata": {},
     "output_type": "display_data"
    },
    {
     "data": {
      "application/vnd.jupyter.widget-view+json": {
       "model_id": "472a36f7f976431ea8bc105977e5f284",
       "version_major": 2,
       "version_minor": 0
      },
      "text/plain": [
       "HBox(children=(FloatProgress(value=0.0, description='aia_lev1_304a_2015_03_16t00_00_07_12z_image_lev1.fits', m…"
      ]
     },
     "metadata": {},
     "output_type": "display_data"
    },
    {
     "data": {
      "application/vnd.jupyter.widget-view+json": {
       "model_id": "ab08ea68ab1a4eb8a90e23d4d0e8d66d",
       "version_major": 2,
       "version_minor": 0
      },
      "text/plain": [
       "HBox(children=(FloatProgress(value=0.0, description='aia_lev1_304a_2015_03_16t12_00_07_12z_image_lev1.fits', m…"
      ]
     },
     "metadata": {},
     "output_type": "display_data"
    },
    {
     "data": {
      "application/vnd.jupyter.widget-view+json": {
       "model_id": "28a394fc73524b159dd2c3410614e753",
       "version_major": 2,
       "version_minor": 0
      },
      "text/plain": [
       "HBox(children=(FloatProgress(value=0.0, description='aia_lev1_304a_2015_03_17t00_00_07_12z_image_lev1.fits', m…"
      ]
     },
     "metadata": {},
     "output_type": "display_data"
    },
    {
     "data": {
      "application/vnd.jupyter.widget-view+json": {
       "model_id": "aea6e556f169461b9d012f882b7bfa43",
       "version_major": 2,
       "version_minor": 0
      },
      "text/plain": [
       "HBox(children=(FloatProgress(value=0.0, description='aia_lev1_304a_2015_03_17t12_00_07_12z_image_lev1.fits', m…"
      ]
     },
     "metadata": {},
     "output_type": "display_data"
    },
    {
     "data": {
      "application/vnd.jupyter.widget-view+json": {
       "model_id": "be22d5e4e0a749aeb8149d1eb2e25190",
       "version_major": 2,
       "version_minor": 0
      },
      "text/plain": [
       "HBox(children=(FloatProgress(value=0.0, description='aia_lev1_304a_2015_03_18t00_00_07_14z_image_lev1.fits', m…"
      ]
     },
     "metadata": {},
     "output_type": "display_data"
    },
    {
     "data": {
      "application/vnd.jupyter.widget-view+json": {
       "model_id": "0cc6e40f02404d39abeeb81549449cf9",
       "version_major": 2,
       "version_minor": 0
      },
      "text/plain": [
       "HBox(children=(FloatProgress(value=0.0, description='aia_lev1_304a_2015_03_18t12_00_07_13z_image_lev1.fits', m…"
      ]
     },
     "metadata": {},
     "output_type": "display_data"
    },
    {
     "data": {
      "application/vnd.jupyter.widget-view+json": {
       "model_id": "279c754743d04f76b0023b8b840f02c3",
       "version_major": 2,
       "version_minor": 0
      },
      "text/plain": [
       "HBox(children=(FloatProgress(value=0.0, description='aia_lev1_304a_2015_03_19t00_00_07_12z_image_lev1.fits', m…"
      ]
     },
     "metadata": {},
     "output_type": "display_data"
    },
    {
     "data": {
      "application/vnd.jupyter.widget-view+json": {
       "model_id": "a80246256a794378b2aa5c73be0c59f4",
       "version_major": 2,
       "version_minor": 0
      },
      "text/plain": [
       "HBox(children=(FloatProgress(value=0.0, description='aia_lev1_304a_2015_03_19t12_00_07_12z_image_lev1.fits', m…"
      ]
     },
     "metadata": {},
     "output_type": "display_data"
    },
    {
     "data": {
      "application/vnd.jupyter.widget-view+json": {
       "model_id": "71391bb0e3634051ab8fa1cdb535adfd",
       "version_major": 2,
       "version_minor": 0
      },
      "text/plain": [
       "HBox(children=(FloatProgress(value=0.0, description='aia_lev1_304a_2015_03_20t00_00_07_12z_image_lev1.fits', m…"
      ]
     },
     "metadata": {},
     "output_type": "display_data"
    },
    {
     "data": {
      "application/vnd.jupyter.widget-view+json": {
       "model_id": "8127564740d14667ae48a3e9de35c55b",
       "version_major": 2,
       "version_minor": 0
      },
      "text/plain": [
       "HBox(children=(FloatProgress(value=0.0, description='aia_lev1_304a_2015_03_20t12_00_07_12z_image_lev1.fits', m…"
      ]
     },
     "metadata": {},
     "output_type": "display_data"
    },
    {
     "data": {
      "application/vnd.jupyter.widget-view+json": {
       "model_id": "b96549cd6b654056b5d8d10f31385d14",
       "version_major": 2,
       "version_minor": 0
      },
      "text/plain": [
       "HBox(children=(FloatProgress(value=0.0, description='aia_lev1_304a_2015_03_21t00_00_07_12z_image_lev1.fits', m…"
      ]
     },
     "metadata": {},
     "output_type": "display_data"
    },
    {
     "data": {
      "application/vnd.jupyter.widget-view+json": {
       "model_id": "f83d9f52ae544e39bbdfa8642ac00b27",
       "version_major": 2,
       "version_minor": 0
      },
      "text/plain": [
       "HBox(children=(FloatProgress(value=0.0, description='aia_lev1_304a_2015_03_21t12_00_07_12z_image_lev1.fits', m…"
      ]
     },
     "metadata": {},
     "output_type": "display_data"
    },
    {
     "data": {
      "application/vnd.jupyter.widget-view+json": {
       "model_id": "46655bd3da5f470393f423dabf799234",
       "version_major": 2,
       "version_minor": 0
      },
      "text/plain": [
       "HBox(children=(FloatProgress(value=0.0, description='aia_lev1_304a_2015_03_22t00_00_07_12z_image_lev1.fits', m…"
      ]
     },
     "metadata": {},
     "output_type": "display_data"
    },
    {
     "data": {
      "application/vnd.jupyter.widget-view+json": {
       "model_id": "8254f0f482404d55844ec1299a57098d",
       "version_major": 2,
       "version_minor": 0
      },
      "text/plain": [
       "HBox(children=(FloatProgress(value=0.0, description='aia_lev1_304a_2015_03_22t12_00_07_12z_image_lev1.fits', m…"
      ]
     },
     "metadata": {},
     "output_type": "display_data"
    },
    {
     "data": {
      "application/vnd.jupyter.widget-view+json": {
       "model_id": "be5aa143b53843b1a549d2daaec92c48",
       "version_major": 2,
       "version_minor": 0
      },
      "text/plain": [
       "HBox(children=(FloatProgress(value=0.0, description='aia_lev1_304a_2015_03_23t00_00_07_12z_image_lev1.fits', m…"
      ]
     },
     "metadata": {},
     "output_type": "display_data"
    },
    {
     "data": {
      "application/vnd.jupyter.widget-view+json": {
       "model_id": "0dadf9f9e0d44f429a853845dbfa96ce",
       "version_major": 2,
       "version_minor": 0
      },
      "text/plain": [
       "HBox(children=(FloatProgress(value=0.0, description='aia_lev1_304a_2015_03_23t12_00_07_12z_image_lev1.fits', m…"
      ]
     },
     "metadata": {},
     "output_type": "display_data"
    },
    {
     "data": {
      "application/vnd.jupyter.widget-view+json": {
       "model_id": "4e945cb932d04123a2358713140bcfbd",
       "version_major": 2,
       "version_minor": 0
      },
      "text/plain": [
       "HBox(children=(FloatProgress(value=0.0, description='aia_lev1_304a_2015_03_24t00_00_07_12z_image_lev1.fits', m…"
      ]
     },
     "metadata": {},
     "output_type": "display_data"
    },
    {
     "data": {
      "application/vnd.jupyter.widget-view+json": {
       "model_id": "97753041934644c4aea9c44e866cef56",
       "version_major": 2,
       "version_minor": 0
      },
      "text/plain": [
       "HBox(children=(FloatProgress(value=0.0, description='aia_lev1_304a_2015_03_25t00_00_07_12z_image_lev1.fits', m…"
      ]
     },
     "metadata": {},
     "output_type": "display_data"
    },
    {
     "data": {
      "application/vnd.jupyter.widget-view+json": {
       "model_id": "ceba287562f74aa5a387e964ef199d2b",
       "version_major": 2,
       "version_minor": 0
      },
      "text/plain": [
       "HBox(children=(FloatProgress(value=0.0, description='aia_lev1_304a_2015_03_24t12_00_07_12z_image_lev1.fits', m…"
      ]
     },
     "metadata": {},
     "output_type": "display_data"
    },
    {
     "data": {
      "application/vnd.jupyter.widget-view+json": {
       "model_id": "dff2a4d242ba498b896997b95e412e2e",
       "version_major": 2,
       "version_minor": 0
      },
      "text/plain": [
       "HBox(children=(FloatProgress(value=0.0, description='aia_lev1_304a_2015_03_25t12_00_07_12z_image_lev1.fits', m…"
      ]
     },
     "metadata": {},
     "output_type": "display_data"
    },
    {
     "data": {
      "application/vnd.jupyter.widget-view+json": {
       "model_id": "72378a2c0ab8401a9618e7e7608ab092",
       "version_major": 2,
       "version_minor": 0
      },
      "text/plain": [
       "HBox(children=(FloatProgress(value=0.0, description='aia_lev1_304a_2015_03_26t00_00_07_12z_image_lev1.fits', m…"
      ]
     },
     "metadata": {},
     "output_type": "display_data"
    },
    {
     "data": {
      "application/vnd.jupyter.widget-view+json": {
       "model_id": "eaf0fa78edec40a8ab48310a8419c145",
       "version_major": 2,
       "version_minor": 0
      },
      "text/plain": [
       "HBox(children=(FloatProgress(value=0.0, description='aia_lev1_304a_2015_03_26t12_00_07_12z_image_lev1.fits', m…"
      ]
     },
     "metadata": {},
     "output_type": "display_data"
    },
    {
     "data": {
      "application/vnd.jupyter.widget-view+json": {
       "model_id": "7c9982b7e6834c4991ce0e9f47180b95",
       "version_major": 2,
       "version_minor": 0
      },
      "text/plain": [
       "HBox(children=(FloatProgress(value=0.0, description='aia_lev1_304a_2015_03_27t00_00_07_13z_image_lev1.fits', m…"
      ]
     },
     "metadata": {},
     "output_type": "display_data"
    },
    {
     "data": {
      "application/vnd.jupyter.widget-view+json": {
       "model_id": "0fa61ab90e914bc18ee0e64b72c67753",
       "version_major": 2,
       "version_minor": 0
      },
      "text/plain": [
       "HBox(children=(FloatProgress(value=0.0, description='aia_lev1_304a_2015_03_27t12_00_07_12z_image_lev1.fits', m…"
      ]
     },
     "metadata": {},
     "output_type": "display_data"
    },
    {
     "data": {
      "application/vnd.jupyter.widget-view+json": {
       "model_id": "f3fd9f5d419443c9894299d03c9182da",
       "version_major": 2,
       "version_minor": 0
      },
      "text/plain": [
       "HBox(children=(FloatProgress(value=0.0, description='aia_lev1_304a_2015_03_28t00_00_07_12z_image_lev1.fits', m…"
      ]
     },
     "metadata": {},
     "output_type": "display_data"
    },
    {
     "data": {
      "application/vnd.jupyter.widget-view+json": {
       "model_id": "8eca1128cf0b4856bfe61ffc661ee4bf",
       "version_major": 2,
       "version_minor": 0
      },
      "text/plain": [
       "HBox(children=(FloatProgress(value=0.0, description='aia_lev1_304a_2015_03_28t12_00_07_13z_image_lev1.fits', m…"
      ]
     },
     "metadata": {},
     "output_type": "display_data"
    },
    {
     "data": {
      "application/vnd.jupyter.widget-view+json": {
       "model_id": "bf69f4fa1ae34519abfbc993a23f8848",
       "version_major": 2,
       "version_minor": 0
      },
      "text/plain": [
       "HBox(children=(FloatProgress(value=0.0, description='aia_lev1_304a_2015_03_29t00_00_07_12z_image_lev1.fits', m…"
      ]
     },
     "metadata": {},
     "output_type": "display_data"
    },
    {
     "data": {
      "application/vnd.jupyter.widget-view+json": {
       "model_id": "9428a6fb691a48fea0a8e3291b3fe924",
       "version_major": 2,
       "version_minor": 0
      },
      "text/plain": [
       "HBox(children=(FloatProgress(value=0.0, description='aia_lev1_304a_2015_03_29t12_00_07_12z_image_lev1.fits', m…"
      ]
     },
     "metadata": {},
     "output_type": "display_data"
    },
    {
     "data": {
      "application/vnd.jupyter.widget-view+json": {
       "model_id": "65a81403b4d949c880299e31b644579b",
       "version_major": 2,
       "version_minor": 0
      },
      "text/plain": [
       "HBox(children=(FloatProgress(value=0.0, description='aia_lev1_304a_2015_03_30t00_00_07_12z_image_lev1.fits', m…"
      ]
     },
     "metadata": {},
     "output_type": "display_data"
    },
    {
     "data": {
      "application/vnd.jupyter.widget-view+json": {
       "model_id": "99fef4a20e9b4355b22b9023c7e92df4",
       "version_major": 2,
       "version_minor": 0
      },
      "text/plain": [
       "HBox(children=(FloatProgress(value=0.0, description='aia_lev1_304a_2015_03_30t12_00_07_12z_image_lev1.fits', m…"
      ]
     },
     "metadata": {},
     "output_type": "display_data"
    },
    {
     "data": {
      "application/vnd.jupyter.widget-view+json": {
       "model_id": "fb4abce1fc0f4a3eb9933faabac15bb4",
       "version_major": 2,
       "version_minor": 0
      },
      "text/plain": [
       "HBox(children=(FloatProgress(value=0.0, description='aia_lev1_304a_2015_03_31t00_00_07_12z_image_lev1.fits', m…"
      ]
     },
     "metadata": {},
     "output_type": "display_data"
    },
    {
     "data": {
      "application/vnd.jupyter.widget-view+json": {
       "model_id": "8fcb7845c98a43df83aa5d5d9e299a51",
       "version_major": 2,
       "version_minor": 0
      },
      "text/plain": [
       "HBox(children=(FloatProgress(value=0.0, description='aia_lev1_304a_2015_03_31t12_00_07_12z_image_lev1.fits', m…"
      ]
     },
     "metadata": {},
     "output_type": "display_data"
    },
    {
     "data": {
      "application/vnd.jupyter.widget-view+json": {
       "model_id": "b2d169c0ff0b45dbb5771d5f0e826b8e",
       "version_major": 2,
       "version_minor": 0
      },
      "text/plain": [
       "HBox(children=(FloatProgress(value=0.0, description='aia_lev1_304a_2015_04_01t00_00_07_12z_image_lev1.fits', m…"
      ]
     },
     "metadata": {},
     "output_type": "display_data"
    },
    {
     "data": {
      "application/vnd.jupyter.widget-view+json": {
       "model_id": "3226a02fadf04495a7e8873783bbf7c9",
       "version_major": 2,
       "version_minor": 0
      },
      "text/plain": [
       "HBox(children=(FloatProgress(value=0.0, description='aia_lev1_304a_2015_04_01t14_06_32_62z_image_lev1.fits', m…"
      ]
     },
     "metadata": {},
     "output_type": "display_data"
    },
    {
     "data": {
      "application/vnd.jupyter.widget-view+json": {
       "model_id": "6912c36942084dd2842e84d47a8ac01a",
       "version_major": 2,
       "version_minor": 0
      },
      "text/plain": [
       "HBox(children=(FloatProgress(value=0.0, description='aia_lev1_304a_2015_04_02t00_00_07_12z_image_lev1.fits', m…"
      ]
     },
     "metadata": {},
     "output_type": "display_data"
    },
    {
     "data": {
      "application/vnd.jupyter.widget-view+json": {
       "model_id": "dc2e3f227dea4fdeb3e59a959a1985be",
       "version_major": 2,
       "version_minor": 0
      },
      "text/plain": [
       "HBox(children=(FloatProgress(value=0.0, description='aia_lev1_304a_2015_04_02t12_00_07_13z_image_lev1.fits', m…"
      ]
     },
     "metadata": {},
     "output_type": "display_data"
    },
    {
     "data": {
      "application/vnd.jupyter.widget-view+json": {
       "model_id": "5af2dad6e5d247ebb10b9a6c02d50c5d",
       "version_major": 2,
       "version_minor": 0
      },
      "text/plain": [
       "HBox(children=(FloatProgress(value=0.0, description='aia_lev1_304a_2015_04_03t00_00_07_12z_image_lev1.fits', m…"
      ]
     },
     "metadata": {},
     "output_type": "display_data"
    },
    {
     "data": {
      "application/vnd.jupyter.widget-view+json": {
       "model_id": "a4145c7202304942a26f512e980c3334",
       "version_major": 2,
       "version_minor": 0
      },
      "text/plain": [
       "HBox(children=(FloatProgress(value=0.0, description='aia_lev1_304a_2015_04_03t12_00_07_12z_image_lev1.fits', m…"
      ]
     },
     "metadata": {},
     "output_type": "display_data"
    },
    {
     "data": {
      "application/vnd.jupyter.widget-view+json": {
       "model_id": "2bb1aa39523e4e30b3bf1c3eeee7e909",
       "version_major": 2,
       "version_minor": 0
      },
      "text/plain": [
       "HBox(children=(FloatProgress(value=0.0, description='aia_lev1_304a_2015_04_04t00_00_07_12z_image_lev1.fits', m…"
      ]
     },
     "metadata": {},
     "output_type": "display_data"
    },
    {
     "data": {
      "application/vnd.jupyter.widget-view+json": {
       "model_id": "e894ec3b31794f779e9a07d02dd0a165",
       "version_major": 2,
       "version_minor": 0
      },
      "text/plain": [
       "HBox(children=(FloatProgress(value=0.0, description='aia_lev1_304a_2015_04_04t12_00_07_12z_image_lev1.fits', m…"
      ]
     },
     "metadata": {},
     "output_type": "display_data"
    },
    {
     "data": {
      "application/vnd.jupyter.widget-view+json": {
       "model_id": "f8432eeb483a466c9af4edf58a391830",
       "version_major": 2,
       "version_minor": 0
      },
      "text/plain": [
       "HBox(children=(FloatProgress(value=0.0, description='aia_lev1_304a_2015_04_05t00_00_07_15z_image_lev1.fits', m…"
      ]
     },
     "metadata": {},
     "output_type": "display_data"
    },
    {
     "data": {
      "application/vnd.jupyter.widget-view+json": {
       "model_id": "2cebbc570bf0473cb2e7ff8da56d36e7",
       "version_major": 2,
       "version_minor": 0
      },
      "text/plain": [
       "HBox(children=(FloatProgress(value=0.0, description='aia_lev1_304a_2015_04_05t12_00_07_12z_image_lev1.fits', m…"
      ]
     },
     "metadata": {},
     "output_type": "display_data"
    },
    {
     "data": {
      "application/vnd.jupyter.widget-view+json": {
       "model_id": "f92aaa58065e467895aabc7e20ac6eba",
       "version_major": 2,
       "version_minor": 0
      },
      "text/plain": [
       "HBox(children=(FloatProgress(value=0.0, description='aia_lev1_304a_2015_04_06t00_00_07_12z_image_lev1.fits', m…"
      ]
     },
     "metadata": {},
     "output_type": "display_data"
    },
    {
     "data": {
      "application/vnd.jupyter.widget-view+json": {
       "model_id": "1cca27187434487994cb9859cb3de437",
       "version_major": 2,
       "version_minor": 0
      },
      "text/plain": [
       "HBox(children=(FloatProgress(value=0.0, description='aia_lev1_304a_2015_04_06t12_00_07_12z_image_lev1.fits', m…"
      ]
     },
     "metadata": {},
     "output_type": "display_data"
    },
    {
     "data": {
      "application/vnd.jupyter.widget-view+json": {
       "model_id": "c04bafad4e0f4ecd891a0c3d39b636ee",
       "version_major": 2,
       "version_minor": 0
      },
      "text/plain": [
       "HBox(children=(FloatProgress(value=0.0, description='aia_lev1_304a_2015_04_07t00_00_07_12z_image_lev1.fits', m…"
      ]
     },
     "metadata": {},
     "output_type": "display_data"
    },
    {
     "data": {
      "application/vnd.jupyter.widget-view+json": {
       "model_id": "7af9a1db6b6e4285b16b78976657f3e1",
       "version_major": 2,
       "version_minor": 0
      },
      "text/plain": [
       "HBox(children=(FloatProgress(value=0.0, description='aia_lev1_304a_2015_04_07t12_00_07_12z_image_lev1.fits', m…"
      ]
     },
     "metadata": {},
     "output_type": "display_data"
    },
    {
     "data": {
      "application/vnd.jupyter.widget-view+json": {
       "model_id": "f3b760e6d4e94dd5857f3be467b0883f",
       "version_major": 2,
       "version_minor": 0
      },
      "text/plain": [
       "HBox(children=(FloatProgress(value=0.0, description='aia_lev1_304a_2015_04_08t00_00_07_12z_image_lev1.fits', m…"
      ]
     },
     "metadata": {},
     "output_type": "display_data"
    },
    {
     "data": {
      "application/vnd.jupyter.widget-view+json": {
       "model_id": "e6c66c450c3447dc8470f1af65457518",
       "version_major": 2,
       "version_minor": 0
      },
      "text/plain": [
       "HBox(children=(FloatProgress(value=0.0, description='aia_lev1_304a_2015_04_08t12_00_07_12z_image_lev1.fits', m…"
      ]
     },
     "metadata": {},
     "output_type": "display_data"
    },
    {
     "data": {
      "application/vnd.jupyter.widget-view+json": {
       "model_id": "277de354264b4f51982f290799f8edc5",
       "version_major": 2,
       "version_minor": 0
      },
      "text/plain": [
       "HBox(children=(FloatProgress(value=0.0, description='aia_lev1_304a_2015_04_09t00_00_07_12z_image_lev1.fits', m…"
      ]
     },
     "metadata": {},
     "output_type": "display_data"
    },
    {
     "data": {
      "application/vnd.jupyter.widget-view+json": {
       "model_id": "78063dee5a5546d68f7c0ad30718d100",
       "version_major": 2,
       "version_minor": 0
      },
      "text/plain": [
       "HBox(children=(FloatProgress(value=0.0, description='aia_lev1_304a_2015_04_09t12_00_07_12z_image_lev1.fits', m…"
      ]
     },
     "metadata": {},
     "output_type": "display_data"
    },
    {
     "data": {
      "application/vnd.jupyter.widget-view+json": {
       "model_id": "53aeca168509498da945ffd84a8cf14a",
       "version_major": 2,
       "version_minor": 0
      },
      "text/plain": [
       "HBox(children=(FloatProgress(value=0.0, description='aia_lev1_304a_2015_04_10t00_00_07_12z_image_lev1.fits', m…"
      ]
     },
     "metadata": {},
     "output_type": "display_data"
    },
    {
     "data": {
      "application/vnd.jupyter.widget-view+json": {
       "model_id": "8b6a1cc215be45a7831232981ff0b587",
       "version_major": 2,
       "version_minor": 0
      },
      "text/plain": [
       "HBox(children=(FloatProgress(value=0.0, description='aia_lev1_304a_2015_04_10t12_00_07_12z_image_lev1.fits', m…"
      ]
     },
     "metadata": {},
     "output_type": "display_data"
    },
    {
     "data": {
      "application/vnd.jupyter.widget-view+json": {
       "model_id": "880716700064495a999c595ea2653bfc",
       "version_major": 2,
       "version_minor": 0
      },
      "text/plain": [
       "HBox(children=(FloatProgress(value=0.0, description='aia_lev1_304a_2015_04_11t00_00_07_14z_image_lev1.fits', m…"
      ]
     },
     "metadata": {},
     "output_type": "display_data"
    },
    {
     "data": {
      "application/vnd.jupyter.widget-view+json": {
       "model_id": "15584a9c601f4ba8bd19aceee931a93e",
       "version_major": 2,
       "version_minor": 0
      },
      "text/plain": [
       "HBox(children=(FloatProgress(value=0.0, description='aia_lev1_304a_2015_04_11t12_00_07_12z_image_lev1.fits', m…"
      ]
     },
     "metadata": {},
     "output_type": "display_data"
    },
    {
     "data": {
      "application/vnd.jupyter.widget-view+json": {
       "model_id": "6f33b8d5fd0549dead15ad37ed60133f",
       "version_major": 2,
       "version_minor": 0
      },
      "text/plain": [
       "HBox(children=(FloatProgress(value=0.0, description='aia_lev1_304a_2015_04_12t00_00_07_12z_image_lev1.fits', m…"
      ]
     },
     "metadata": {},
     "output_type": "display_data"
    },
    {
     "data": {
      "application/vnd.jupyter.widget-view+json": {
       "model_id": "14cd2fa938f645bb9efc96b33c31af3b",
       "version_major": 2,
       "version_minor": 0
      },
      "text/plain": [
       "HBox(children=(FloatProgress(value=0.0, description='aia_lev1_304a_2015_04_12t12_00_07_12z_image_lev1.fits', m…"
      ]
     },
     "metadata": {},
     "output_type": "display_data"
    },
    {
     "data": {
      "application/vnd.jupyter.widget-view+json": {
       "model_id": "13fc245964fb44cbbfb97e058dd47897",
       "version_major": 2,
       "version_minor": 0
      },
      "text/plain": [
       "HBox(children=(FloatProgress(value=0.0, description='aia_lev1_304a_2015_04_13t00_00_07_12z_image_lev1.fits', m…"
      ]
     },
     "metadata": {},
     "output_type": "display_data"
    },
    {
     "data": {
      "application/vnd.jupyter.widget-view+json": {
       "model_id": "83afb08194e445e58248bb43d90bc5d0",
       "version_major": 2,
       "version_minor": 0
      },
      "text/plain": [
       "HBox(children=(FloatProgress(value=0.0, description='aia_lev1_304a_2015_04_13t12_00_07_12z_image_lev1.fits', m…"
      ]
     },
     "metadata": {},
     "output_type": "display_data"
    },
    {
     "data": {
      "application/vnd.jupyter.widget-view+json": {
       "model_id": "2b5ada77101246ff95d670ea4f9373b9",
       "version_major": 2,
       "version_minor": 0
      },
      "text/plain": [
       "HBox(children=(FloatProgress(value=0.0, description='aia_lev1_304a_2015_04_14t00_00_07_13z_image_lev1.fits', m…"
      ]
     },
     "metadata": {},
     "output_type": "display_data"
    },
    {
     "data": {
      "application/vnd.jupyter.widget-view+json": {
       "model_id": "29f80befb0a6424a8f460508ea498a1e",
       "version_major": 2,
       "version_minor": 0
      },
      "text/plain": [
       "HBox(children=(FloatProgress(value=0.0, description='aia_lev1_304a_2015_04_14t12_00_07_12z_image_lev1.fits', m…"
      ]
     },
     "metadata": {},
     "output_type": "display_data"
    },
    {
     "data": {
      "application/vnd.jupyter.widget-view+json": {
       "model_id": "4842580ef18041b8be2954987fa06830",
       "version_major": 2,
       "version_minor": 0
      },
      "text/plain": [
       "HBox(children=(FloatProgress(value=0.0, description='aia_lev1_304a_2015_04_15t00_00_07_12z_image_lev1.fits', m…"
      ]
     },
     "metadata": {},
     "output_type": "display_data"
    },
    {
     "data": {
      "application/vnd.jupyter.widget-view+json": {
       "model_id": "1d10211ad012428da8e6e9c7ba8033e8",
       "version_major": 2,
       "version_minor": 0
      },
      "text/plain": [
       "HBox(children=(FloatProgress(value=0.0, description='aia_lev1_304a_2015_04_15t12_00_07_14z_image_lev1.fits', m…"
      ]
     },
     "metadata": {},
     "output_type": "display_data"
    },
    {
     "data": {
      "application/vnd.jupyter.widget-view+json": {
       "model_id": "c9ef72919c4b4133b4007a3330027efd",
       "version_major": 2,
       "version_minor": 0
      },
      "text/plain": [
       "HBox(children=(FloatProgress(value=0.0, description='aia_lev1_304a_2015_04_16t00_00_07_12z_image_lev1.fits', m…"
      ]
     },
     "metadata": {},
     "output_type": "display_data"
    },
    {
     "data": {
      "application/vnd.jupyter.widget-view+json": {
       "model_id": "1d23572dde644b958354d54550ab1d5b",
       "version_major": 2,
       "version_minor": 0
      },
      "text/plain": [
       "HBox(children=(FloatProgress(value=0.0, description='aia_lev1_304a_2015_04_16t12_00_07_12z_image_lev1.fits', m…"
      ]
     },
     "metadata": {},
     "output_type": "display_data"
    },
    {
     "data": {
      "application/vnd.jupyter.widget-view+json": {
       "model_id": "65a117b85e9741fc9af31f68e922ebee",
       "version_major": 2,
       "version_minor": 0
      },
      "text/plain": [
       "HBox(children=(FloatProgress(value=0.0, description='aia_lev1_304a_2015_04_17t00_00_07_12z_image_lev1.fits', m…"
      ]
     },
     "metadata": {},
     "output_type": "display_data"
    },
    {
     "data": {
      "application/vnd.jupyter.widget-view+json": {
       "model_id": "84c1044ceff7415d89b556c1ffd6a356",
       "version_major": 2,
       "version_minor": 0
      },
      "text/plain": [
       "HBox(children=(FloatProgress(value=0.0, description='aia_lev1_304a_2015_04_17t12_00_07_12z_image_lev1.fits', m…"
      ]
     },
     "metadata": {},
     "output_type": "display_data"
    },
    {
     "data": {
      "application/vnd.jupyter.widget-view+json": {
       "model_id": "9f55d6a02d414846b0aeadb5bf21060d",
       "version_major": 2,
       "version_minor": 0
      },
      "text/plain": [
       "HBox(children=(FloatProgress(value=0.0, description='aia_lev1_304a_2015_04_18t00_00_07_12z_image_lev1.fits', m…"
      ]
     },
     "metadata": {},
     "output_type": "display_data"
    },
    {
     "data": {
      "application/vnd.jupyter.widget-view+json": {
       "model_id": "a2707acbfb9b4fbcb3660080e15286d2",
       "version_major": 2,
       "version_minor": 0
      },
      "text/plain": [
       "HBox(children=(FloatProgress(value=0.0, description='aia_lev1_304a_2015_04_18t12_00_07_14z_image_lev1.fits', m…"
      ]
     },
     "metadata": {},
     "output_type": "display_data"
    },
    {
     "data": {
      "application/vnd.jupyter.widget-view+json": {
       "model_id": "e7477d94495d4cf39f029c9b0a6c888d",
       "version_major": 2,
       "version_minor": 0
      },
      "text/plain": [
       "HBox(children=(FloatProgress(value=0.0, description='aia_lev1_304a_2015_04_19t00_00_07_12z_image_lev1.fits', m…"
      ]
     },
     "metadata": {},
     "output_type": "display_data"
    },
    {
     "data": {
      "application/vnd.jupyter.widget-view+json": {
       "model_id": "7fa8fa0375b94914ab45cbdbfa07f1e1",
       "version_major": 2,
       "version_minor": 0
      },
      "text/plain": [
       "HBox(children=(FloatProgress(value=0.0, description='aia_lev1_304a_2015_04_19t12_00_07_14z_image_lev1.fits', m…"
      ]
     },
     "metadata": {},
     "output_type": "display_data"
    },
    {
     "data": {
      "application/vnd.jupyter.widget-view+json": {
       "model_id": "c06bd4b4768e4fb88a971c03881e350a",
       "version_major": 2,
       "version_minor": 0
      },
      "text/plain": [
       "HBox(children=(FloatProgress(value=0.0, description='aia_lev1_304a_2015_04_20t00_00_07_12z_image_lev1.fits', m…"
      ]
     },
     "metadata": {},
     "output_type": "display_data"
    },
    {
     "data": {
      "application/vnd.jupyter.widget-view+json": {
       "model_id": "28ed6d83b29a433d9caca6f8fcb2dc6f",
       "version_major": 2,
       "version_minor": 0
      },
      "text/plain": [
       "HBox(children=(FloatProgress(value=0.0, description='aia_lev1_304a_2015_04_20t12_00_07_12z_image_lev1.fits', m…"
      ]
     },
     "metadata": {},
     "output_type": "display_data"
    },
    {
     "data": {
      "application/vnd.jupyter.widget-view+json": {
       "model_id": "75d8271785ba4a788888fc71ad59e22d",
       "version_major": 2,
       "version_minor": 0
      },
      "text/plain": [
       "HBox(children=(FloatProgress(value=0.0, description='aia_lev1_304a_2015_04_21t00_00_07_12z_image_lev1.fits', m…"
      ]
     },
     "metadata": {},
     "output_type": "display_data"
    },
    {
     "data": {
      "application/vnd.jupyter.widget-view+json": {
       "model_id": "0a37494d19564ed780ea1e033062dbd6",
       "version_major": 2,
       "version_minor": 0
      },
      "text/plain": [
       "HBox(children=(FloatProgress(value=0.0, description='aia_lev1_304a_2015_04_21t12_00_07_13z_image_lev1.fits', m…"
      ]
     },
     "metadata": {},
     "output_type": "display_data"
    },
    {
     "data": {
      "application/vnd.jupyter.widget-view+json": {
       "model_id": "40f938a4c971486b80d1e7f14c00319d",
       "version_major": 2,
       "version_minor": 0
      },
      "text/plain": [
       "HBox(children=(FloatProgress(value=0.0, description='aia_lev1_304a_2015_04_22t00_00_07_12z_image_lev1.fits', m…"
      ]
     },
     "metadata": {},
     "output_type": "display_data"
    },
    {
     "data": {
      "application/vnd.jupyter.widget-view+json": {
       "model_id": "4003e7e466834ff19eac077086d45f68",
       "version_major": 2,
       "version_minor": 0
      },
      "text/plain": [
       "HBox(children=(FloatProgress(value=0.0, description='aia_lev1_304a_2015_04_22t12_00_07_12z_image_lev1.fits', m…"
      ]
     },
     "metadata": {},
     "output_type": "display_data"
    },
    {
     "data": {
      "application/vnd.jupyter.widget-view+json": {
       "model_id": "a693d61134de42e9832f30f13f33ab5f",
       "version_major": 2,
       "version_minor": 0
      },
      "text/plain": [
       "HBox(children=(FloatProgress(value=0.0, description='aia_lev1_304a_2015_04_23t00_00_07_12z_image_lev1.fits', m…"
      ]
     },
     "metadata": {},
     "output_type": "display_data"
    },
    {
     "data": {
      "application/vnd.jupyter.widget-view+json": {
       "model_id": "75b20fbd4b0743039d44c20598f79fe0",
       "version_major": 2,
       "version_minor": 0
      },
      "text/plain": [
       "HBox(children=(FloatProgress(value=0.0, description='aia_lev1_304a_2015_04_23t12_00_07_13z_image_lev1.fits', m…"
      ]
     },
     "metadata": {},
     "output_type": "display_data"
    },
    {
     "data": {
      "application/vnd.jupyter.widget-view+json": {
       "model_id": "a5ba584b2fbe4237a3bf4ed1399a35b4",
       "version_major": 2,
       "version_minor": 0
      },
      "text/plain": [
       "HBox(children=(FloatProgress(value=0.0, description='aia_lev1_304a_2015_04_24t00_00_07_14z_image_lev1.fits', m…"
      ]
     },
     "metadata": {},
     "output_type": "display_data"
    },
    {
     "data": {
      "application/vnd.jupyter.widget-view+json": {
       "model_id": "610964669e5242ac996f7304590f1ec7",
       "version_major": 2,
       "version_minor": 0
      },
      "text/plain": [
       "HBox(children=(FloatProgress(value=0.0, description='aia_lev1_304a_2015_04_24t12_00_07_13z_image_lev1.fits', m…"
      ]
     },
     "metadata": {},
     "output_type": "display_data"
    },
    {
     "data": {
      "application/vnd.jupyter.widget-view+json": {
       "model_id": "550dee95ded84ceda11840c0e5292b08",
       "version_major": 2,
       "version_minor": 0
      },
      "text/plain": [
       "HBox(children=(FloatProgress(value=0.0, description='aia_lev1_304a_2015_04_25t00_00_07_12z_image_lev1.fits', m…"
      ]
     },
     "metadata": {},
     "output_type": "display_data"
    },
    {
     "data": {
      "application/vnd.jupyter.widget-view+json": {
       "model_id": "bb2c8731459048fda14066216b6d6bb4",
       "version_major": 2,
       "version_minor": 0
      },
      "text/plain": [
       "HBox(children=(FloatProgress(value=0.0, description='aia_lev1_304a_2015_04_25t12_00_07_13z_image_lev1.fits', m…"
      ]
     },
     "metadata": {},
     "output_type": "display_data"
    },
    {
     "data": {
      "application/vnd.jupyter.widget-view+json": {
       "model_id": "5c8a628511684df7949e590bf3937f7a",
       "version_major": 2,
       "version_minor": 0
      },
      "text/plain": [
       "HBox(children=(FloatProgress(value=0.0, description='aia_lev1_304a_2015_04_26t00_00_07_12z_image_lev1.fits', m…"
      ]
     },
     "metadata": {},
     "output_type": "display_data"
    },
    {
     "data": {
      "application/vnd.jupyter.widget-view+json": {
       "model_id": "d7fca310a3c441058b40db7c1adec0d7",
       "version_major": 2,
       "version_minor": 0
      },
      "text/plain": [
       "HBox(children=(FloatProgress(value=0.0, description='aia_lev1_304a_2015_04_26t12_00_07_12z_image_lev1.fits', m…"
      ]
     },
     "metadata": {},
     "output_type": "display_data"
    },
    {
     "data": {
      "application/vnd.jupyter.widget-view+json": {
       "model_id": "ddecfab87b1b4077a4b4c0764bc74576",
       "version_major": 2,
       "version_minor": 0
      },
      "text/plain": [
       "HBox(children=(FloatProgress(value=0.0, description='aia_lev1_304a_2015_04_27t00_00_07_14z_image_lev1.fits', m…"
      ]
     },
     "metadata": {},
     "output_type": "display_data"
    },
    {
     "data": {
      "application/vnd.jupyter.widget-view+json": {
       "model_id": "487791b348294b1dbe6d7ed65cf2c531",
       "version_major": 2,
       "version_minor": 0
      },
      "text/plain": [
       "HBox(children=(FloatProgress(value=0.0, description='aia_lev1_304a_2015_04_27t12_00_07_12z_image_lev1.fits', m…"
      ]
     },
     "metadata": {},
     "output_type": "display_data"
    },
    {
     "data": {
      "application/vnd.jupyter.widget-view+json": {
       "model_id": "931b12161a80465aa53d7715ce9d0671",
       "version_major": 2,
       "version_minor": 0
      },
      "text/plain": [
       "HBox(children=(FloatProgress(value=0.0, description='aia_lev1_304a_2015_04_28t12_00_07_13z_image_lev1.fits', m…"
      ]
     },
     "metadata": {},
     "output_type": "display_data"
    },
    {
     "data": {
      "application/vnd.jupyter.widget-view+json": {
       "model_id": "bf70f06377964f658d5f795f93adc016",
       "version_major": 2,
       "version_minor": 0
      },
      "text/plain": [
       "HBox(children=(FloatProgress(value=0.0, description='aia_lev1_304a_2015_04_28t00_00_07_13z_image_lev1.fits', m…"
      ]
     },
     "metadata": {},
     "output_type": "display_data"
    },
    {
     "data": {
      "application/vnd.jupyter.widget-view+json": {
       "model_id": "b105349866e34a02b5ec9400a401c229",
       "version_major": 2,
       "version_minor": 0
      },
      "text/plain": [
       "HBox(children=(FloatProgress(value=0.0, description='aia_lev1_304a_2015_04_29t00_00_07_12z_image_lev1.fits', m…"
      ]
     },
     "metadata": {},
     "output_type": "display_data"
    },
    {
     "data": {
      "application/vnd.jupyter.widget-view+json": {
       "model_id": "9902822aa05345d9839fdced501ddbea",
       "version_major": 2,
       "version_minor": 0
      },
      "text/plain": [
       "HBox(children=(FloatProgress(value=0.0, description='aia_lev1_304a_2015_04_29t12_00_07_12z_image_lev1.fits', m…"
      ]
     },
     "metadata": {},
     "output_type": "display_data"
    },
    {
     "data": {
      "application/vnd.jupyter.widget-view+json": {
       "model_id": "be20cd97a50e41849458fe80af8d2efc",
       "version_major": 2,
       "version_minor": 0
      },
      "text/plain": [
       "HBox(children=(FloatProgress(value=0.0, description='aia_lev1_304a_2015_04_30t12_00_07_12z_image_lev1.fits', m…"
      ]
     },
     "metadata": {},
     "output_type": "display_data"
    },
    {
     "data": {
      "application/vnd.jupyter.widget-view+json": {
       "model_id": "82e52901ea9e4c568d233b6d6448a840",
       "version_major": 2,
       "version_minor": 0
      },
      "text/plain": [
       "HBox(children=(FloatProgress(value=0.0, description='aia_lev1_304a_2015_04_30t00_00_07_12z_image_lev1.fits', m…"
      ]
     },
     "metadata": {},
     "output_type": "display_data"
    },
    {
     "data": {
      "application/vnd.jupyter.widget-view+json": {
       "model_id": "c1628d33271444d0ad8f99d5c942e1a3",
       "version_major": 2,
       "version_minor": 0
      },
      "text/plain": [
       "HBox(children=(FloatProgress(value=0.0, description='aia_lev1_304a_2015_05_01t00_00_07_12z_image_lev1.fits', m…"
      ]
     },
     "metadata": {},
     "output_type": "display_data"
    },
    {
     "data": {
      "application/vnd.jupyter.widget-view+json": {
       "model_id": "7744baf2759a4addabdca99344f680a3",
       "version_major": 2,
       "version_minor": 0
      },
      "text/plain": [
       "HBox(children=(FloatProgress(value=0.0, description='aia_lev1_304a_2015_05_01t12_00_07_14z_image_lev1.fits', m…"
      ]
     },
     "metadata": {},
     "output_type": "display_data"
    },
    {
     "data": {
      "application/vnd.jupyter.widget-view+json": {
       "model_id": "a738729e375d4eb5a8bfe385da7348fa",
       "version_major": 2,
       "version_minor": 0
      },
      "text/plain": [
       "HBox(children=(FloatProgress(value=0.0, description='aia_lev1_304a_2015_05_02t00_00_07_12z_image_lev1.fits', m…"
      ]
     },
     "metadata": {},
     "output_type": "display_data"
    },
    {
     "data": {
      "application/vnd.jupyter.widget-view+json": {
       "model_id": "7d35fd881e0749dc957255e1d9271909",
       "version_major": 2,
       "version_minor": 0
      },
      "text/plain": [
       "HBox(children=(FloatProgress(value=0.0, description='aia_lev1_304a_2015_05_02t12_00_07_12z_image_lev1.fits', m…"
      ]
     },
     "metadata": {},
     "output_type": "display_data"
    },
    {
     "data": {
      "application/vnd.jupyter.widget-view+json": {
       "model_id": "3e7659e34b3b430897fe9fd7f8a9f2f3",
       "version_major": 2,
       "version_minor": 0
      },
      "text/plain": [
       "HBox(children=(FloatProgress(value=0.0, description='aia_lev1_304a_2015_05_03t00_00_07_12z_image_lev1.fits', m…"
      ]
     },
     "metadata": {},
     "output_type": "display_data"
    },
    {
     "data": {
      "application/vnd.jupyter.widget-view+json": {
       "model_id": "1fb4b14df0e94cf6b299fbf18cbbdf66",
       "version_major": 2,
       "version_minor": 0
      },
      "text/plain": [
       "HBox(children=(FloatProgress(value=0.0, description='aia_lev1_304a_2015_05_03t12_00_07_14z_image_lev1.fits', m…"
      ]
     },
     "metadata": {},
     "output_type": "display_data"
    },
    {
     "data": {
      "application/vnd.jupyter.widget-view+json": {
       "model_id": "5d36b6807c204d339ef2c8c7152d148b",
       "version_major": 2,
       "version_minor": 0
      },
      "text/plain": [
       "HBox(children=(FloatProgress(value=0.0, description='aia_lev1_304a_2015_05_04t00_00_07_12z_image_lev1.fits', m…"
      ]
     },
     "metadata": {},
     "output_type": "display_data"
    },
    {
     "data": {
      "application/vnd.jupyter.widget-view+json": {
       "model_id": "a38201dfac474002b4639718d714545a",
       "version_major": 2,
       "version_minor": 0
      },
      "text/plain": [
       "HBox(children=(FloatProgress(value=0.0, description='aia_lev1_304a_2015_05_04t12_00_07_12z_image_lev1.fits', m…"
      ]
     },
     "metadata": {},
     "output_type": "display_data"
    },
    {
     "data": {
      "application/vnd.jupyter.widget-view+json": {
       "model_id": "4a45f6f0bd9e46f8b05cb0c0b4f58d39",
       "version_major": 2,
       "version_minor": 0
      },
      "text/plain": [
       "HBox(children=(FloatProgress(value=0.0, description='aia_lev1_304a_2015_05_05t00_00_07_12z_image_lev1.fits', m…"
      ]
     },
     "metadata": {},
     "output_type": "display_data"
    },
    {
     "data": {
      "application/vnd.jupyter.widget-view+json": {
       "model_id": "db8e4dfd412444aca45a226649302cb4",
       "version_major": 2,
       "version_minor": 0
      },
      "text/plain": [
       "HBox(children=(FloatProgress(value=0.0, description='aia_lev1_304a_2015_05_05t12_00_07_12z_image_lev1.fits', m…"
      ]
     },
     "metadata": {},
     "output_type": "display_data"
    },
    {
     "data": {
      "application/vnd.jupyter.widget-view+json": {
       "model_id": "5b6f7f76a60e4dd295b55ad158505fbe",
       "version_major": 2,
       "version_minor": 0
      },
      "text/plain": [
       "HBox(children=(FloatProgress(value=0.0, description='aia_lev1_304a_2015_05_06t00_00_07_12z_image_lev1.fits', m…"
      ]
     },
     "metadata": {},
     "output_type": "display_data"
    },
    {
     "data": {
      "application/vnd.jupyter.widget-view+json": {
       "model_id": "f4237b1eeff84dacb9991c81ef2828db",
       "version_major": 2,
       "version_minor": 0
      },
      "text/plain": [
       "HBox(children=(FloatProgress(value=0.0, description='aia_lev1_304a_2015_05_06t12_00_07_13z_image_lev1.fits', m…"
      ]
     },
     "metadata": {},
     "output_type": "display_data"
    },
    {
     "data": {
      "application/vnd.jupyter.widget-view+json": {
       "model_id": "6b32446d5d634efdac0305ace53c1682",
       "version_major": 2,
       "version_minor": 0
      },
      "text/plain": [
       "HBox(children=(FloatProgress(value=0.0, description='aia_lev1_304a_2015_05_07t00_00_07_12z_image_lev1.fits', m…"
      ]
     },
     "metadata": {},
     "output_type": "display_data"
    },
    {
     "data": {
      "application/vnd.jupyter.widget-view+json": {
       "model_id": "4b7c32359f7f4bcf9fe2a838fe82b576",
       "version_major": 2,
       "version_minor": 0
      },
      "text/plain": [
       "HBox(children=(FloatProgress(value=0.0, description='aia_lev1_304a_2015_05_07t12_00_07_12z_image_lev1.fits', m…"
      ]
     },
     "metadata": {},
     "output_type": "display_data"
    },
    {
     "data": {
      "application/vnd.jupyter.widget-view+json": {
       "model_id": "e6e195ed53b54fcea50ae7ea5258887b",
       "version_major": 2,
       "version_minor": 0
      },
      "text/plain": [
       "HBox(children=(FloatProgress(value=0.0, description='aia_lev1_304a_2015_05_08t00_00_07_12z_image_lev1.fits', m…"
      ]
     },
     "metadata": {},
     "output_type": "display_data"
    },
    {
     "data": {
      "application/vnd.jupyter.widget-view+json": {
       "model_id": "45c5d7f3945643edafe369b4134fe181",
       "version_major": 2,
       "version_minor": 0
      },
      "text/plain": [
       "HBox(children=(FloatProgress(value=0.0, description='aia_lev1_304a_2015_05_08t12_00_07_12z_image_lev1.fits', m…"
      ]
     },
     "metadata": {},
     "output_type": "display_data"
    },
    {
     "data": {
      "application/vnd.jupyter.widget-view+json": {
       "model_id": "9962fb9eaa094b83a833575aeedbb94e",
       "version_major": 2,
       "version_minor": 0
      },
      "text/plain": [
       "HBox(children=(FloatProgress(value=0.0, description='aia_lev1_304a_2015_05_09t00_00_07_12z_image_lev1.fits', m…"
      ]
     },
     "metadata": {},
     "output_type": "display_data"
    },
    {
     "data": {
      "application/vnd.jupyter.widget-view+json": {
       "model_id": "2c9a56c73aa746b7bb85e0030245c09b",
       "version_major": 2,
       "version_minor": 0
      },
      "text/plain": [
       "HBox(children=(FloatProgress(value=0.0, description='aia_lev1_304a_2015_05_09t12_00_07_13z_image_lev1.fits', m…"
      ]
     },
     "metadata": {},
     "output_type": "display_data"
    },
    {
     "data": {
      "application/vnd.jupyter.widget-view+json": {
       "model_id": "fdbedb8ae6bb4599a1db8af23d9f24f0",
       "version_major": 2,
       "version_minor": 0
      },
      "text/plain": [
       "HBox(children=(FloatProgress(value=0.0, description='aia_lev1_304a_2015_05_10t00_00_07_12z_image_lev1.fits', m…"
      ]
     },
     "metadata": {},
     "output_type": "display_data"
    },
    {
     "data": {
      "application/vnd.jupyter.widget-view+json": {
       "model_id": "733829024c9748e28bfea23cc416ba31",
       "version_major": 2,
       "version_minor": 0
      },
      "text/plain": [
       "HBox(children=(FloatProgress(value=0.0, description='aia_lev1_304a_2015_05_10t12_00_07_15z_image_lev1.fits', m…"
      ]
     },
     "metadata": {},
     "output_type": "display_data"
    },
    {
     "data": {
      "application/vnd.jupyter.widget-view+json": {
       "model_id": "f4640dd12e9a4cbaa8fdfd28221f8891",
       "version_major": 2,
       "version_minor": 0
      },
      "text/plain": [
       "HBox(children=(FloatProgress(value=0.0, description='aia_lev1_304a_2015_05_11t00_00_07_13z_image_lev1.fits', m…"
      ]
     },
     "metadata": {},
     "output_type": "display_data"
    },
    {
     "data": {
      "application/vnd.jupyter.widget-view+json": {
       "model_id": "dab69317cde9443fafe50d6d116f4d1b",
       "version_major": 2,
       "version_minor": 0
      },
      "text/plain": [
       "HBox(children=(FloatProgress(value=0.0, description='aia_lev1_304a_2015_05_11t12_00_07_12z_image_lev1.fits', m…"
      ]
     },
     "metadata": {},
     "output_type": "display_data"
    },
    {
     "data": {
      "application/vnd.jupyter.widget-view+json": {
       "model_id": "d2f0edb1099e4ecea8fe2c89215e916e",
       "version_major": 2,
       "version_minor": 0
      },
      "text/plain": [
       "HBox(children=(FloatProgress(value=0.0, description='aia_lev1_304a_2015_05_12t00_00_07_12z_image_lev1.fits', m…"
      ]
     },
     "metadata": {},
     "output_type": "display_data"
    },
    {
     "data": {
      "application/vnd.jupyter.widget-view+json": {
       "model_id": "1d6e65b28a5b4a1db2061f123ac713f6",
       "version_major": 2,
       "version_minor": 0
      },
      "text/plain": [
       "HBox(children=(FloatProgress(value=0.0, description='aia_lev1_304a_2015_05_12t12_00_07_12z_image_lev1.fits', m…"
      ]
     },
     "metadata": {},
     "output_type": "display_data"
    },
    {
     "data": {
      "application/vnd.jupyter.widget-view+json": {
       "model_id": "dae6ddaf8b80450a944e536b402ebd87",
       "version_major": 2,
       "version_minor": 0
      },
      "text/plain": [
       "HBox(children=(FloatProgress(value=0.0, description='aia_lev1_304a_2015_05_13t00_00_07_12z_image_lev1.fits', m…"
      ]
     },
     "metadata": {},
     "output_type": "display_data"
    },
    {
     "data": {
      "application/vnd.jupyter.widget-view+json": {
       "model_id": "229aec565eff404283fbf59559faf18d",
       "version_major": 2,
       "version_minor": 0
      },
      "text/plain": [
       "HBox(children=(FloatProgress(value=0.0, description='aia_lev1_304a_2015_05_13t12_00_07_12z_image_lev1.fits', m…"
      ]
     },
     "metadata": {},
     "output_type": "display_data"
    },
    {
     "data": {
      "application/vnd.jupyter.widget-view+json": {
       "model_id": "af847dfadaab4058b75f6e3499167c7e",
       "version_major": 2,
       "version_minor": 0
      },
      "text/plain": [
       "HBox(children=(FloatProgress(value=0.0, description='aia_lev1_304a_2015_05_14t00_00_07_13z_image_lev1.fits', m…"
      ]
     },
     "metadata": {},
     "output_type": "display_data"
    },
    {
     "data": {
      "application/vnd.jupyter.widget-view+json": {
       "model_id": "a7c291702fec4a2ba8f2873a19d2beb2",
       "version_major": 2,
       "version_minor": 0
      },
      "text/plain": [
       "HBox(children=(FloatProgress(value=0.0, description='aia_lev1_304a_2015_05_14t12_00_07_14z_image_lev1.fits', m…"
      ]
     },
     "metadata": {},
     "output_type": "display_data"
    },
    {
     "data": {
      "application/vnd.jupyter.widget-view+json": {
       "model_id": "e360aaad249d4020808affd297c1fdd4",
       "version_major": 2,
       "version_minor": 0
      },
      "text/plain": [
       "HBox(children=(FloatProgress(value=0.0, description='aia_lev1_304a_2015_05_15t00_00_07_13z_image_lev1.fits', m…"
      ]
     },
     "metadata": {},
     "output_type": "display_data"
    },
    {
     "data": {
      "application/vnd.jupyter.widget-view+json": {
       "model_id": "6edbafc935304ad08989b4abe3db8ad9",
       "version_major": 2,
       "version_minor": 0
      },
      "text/plain": [
       "HBox(children=(FloatProgress(value=0.0, description='aia_lev1_304a_2015_05_15t12_00_07_13z_image_lev1.fits', m…"
      ]
     },
     "metadata": {},
     "output_type": "display_data"
    },
    {
     "data": {
      "application/vnd.jupyter.widget-view+json": {
       "model_id": "72751a9b094a4581a90209188c9cd159",
       "version_major": 2,
       "version_minor": 0
      },
      "text/plain": [
       "HBox(children=(FloatProgress(value=0.0, description='aia_lev1_304a_2015_05_16t00_00_07_12z_image_lev1.fits', m…"
      ]
     },
     "metadata": {},
     "output_type": "display_data"
    },
    {
     "data": {
      "application/vnd.jupyter.widget-view+json": {
       "model_id": "803e646a63f54d8fafb3c5a41e1875a9",
       "version_major": 2,
       "version_minor": 0
      },
      "text/plain": [
       "HBox(children=(FloatProgress(value=0.0, description='aia_lev1_304a_2015_05_16t12_00_07_12z_image_lev1.fits', m…"
      ]
     },
     "metadata": {},
     "output_type": "display_data"
    },
    {
     "data": {
      "application/vnd.jupyter.widget-view+json": {
       "model_id": "cb8caa33816a45a0901f2ff585d44bfd",
       "version_major": 2,
       "version_minor": 0
      },
      "text/plain": [
       "HBox(children=(FloatProgress(value=0.0, description='aia_lev1_304a_2015_05_17t00_00_07_12z_image_lev1.fits', m…"
      ]
     },
     "metadata": {},
     "output_type": "display_data"
    },
    {
     "data": {
      "application/vnd.jupyter.widget-view+json": {
       "model_id": "f190e9232622491baba3b32f501aa1e0",
       "version_major": 2,
       "version_minor": 0
      },
      "text/plain": [
       "HBox(children=(FloatProgress(value=0.0, description='aia_lev1_304a_2015_05_17t12_00_07_14z_image_lev1.fits', m…"
      ]
     },
     "metadata": {},
     "output_type": "display_data"
    },
    {
     "data": {
      "application/vnd.jupyter.widget-view+json": {
       "model_id": "5443a0867dbd486e90ea50771a1fbc5e",
       "version_major": 2,
       "version_minor": 0
      },
      "text/plain": [
       "HBox(children=(FloatProgress(value=0.0, description='aia_lev1_304a_2015_05_18t00_00_07_12z_image_lev1.fits', m…"
      ]
     },
     "metadata": {},
     "output_type": "display_data"
    },
    {
     "data": {
      "application/vnd.jupyter.widget-view+json": {
       "model_id": "81c092315b324d1da245b2630a21a84b",
       "version_major": 2,
       "version_minor": 0
      },
      "text/plain": [
       "HBox(children=(FloatProgress(value=0.0, description='aia_lev1_304a_2015_05_18t12_00_07_12z_image_lev1.fits', m…"
      ]
     },
     "metadata": {},
     "output_type": "display_data"
    },
    {
     "data": {
      "application/vnd.jupyter.widget-view+json": {
       "model_id": "c1a1f7b7be2a4cc3aec01a381693e3da",
       "version_major": 2,
       "version_minor": 0
      },
      "text/plain": [
       "HBox(children=(FloatProgress(value=0.0, description='aia_lev1_304a_2015_05_19t00_00_07_13z_image_lev1.fits', m…"
      ]
     },
     "metadata": {},
     "output_type": "display_data"
    },
    {
     "data": {
      "application/vnd.jupyter.widget-view+json": {
       "model_id": "365ad7b82e6046afbbeec9711ab0b83b",
       "version_major": 2,
       "version_minor": 0
      },
      "text/plain": [
       "HBox(children=(FloatProgress(value=0.0, description='aia_lev1_304a_2015_05_19t12_00_07_13z_image_lev1.fits', m…"
      ]
     },
     "metadata": {},
     "output_type": "display_data"
    },
    {
     "data": {
      "application/vnd.jupyter.widget-view+json": {
       "model_id": "6f6fa89b9b8c424a93e74a4a36bedcc2",
       "version_major": 2,
       "version_minor": 0
      },
      "text/plain": [
       "HBox(children=(FloatProgress(value=0.0, description='aia_lev1_304a_2015_05_20t00_00_07_12z_image_lev1.fits', m…"
      ]
     },
     "metadata": {},
     "output_type": "display_data"
    },
    {
     "data": {
      "application/vnd.jupyter.widget-view+json": {
       "model_id": "4b84d2fa587d41bf8a35d15fb8dc971d",
       "version_major": 2,
       "version_minor": 0
      },
      "text/plain": [
       "HBox(children=(FloatProgress(value=0.0, description='aia_lev1_304a_2015_05_20t12_00_07_12z_image_lev1.fits', m…"
      ]
     },
     "metadata": {},
     "output_type": "display_data"
    },
    {
     "data": {
      "application/vnd.jupyter.widget-view+json": {
       "model_id": "598d58d9ebd442f99531aa24f1375464",
       "version_major": 2,
       "version_minor": 0
      },
      "text/plain": [
       "HBox(children=(FloatProgress(value=0.0, description='aia_lev1_304a_2015_05_21t00_00_07_13z_image_lev1.fits', m…"
      ]
     },
     "metadata": {},
     "output_type": "display_data"
    },
    {
     "data": {
      "application/vnd.jupyter.widget-view+json": {
       "model_id": "f3f3c290a5f2485caa9e0dd2f2051ff9",
       "version_major": 2,
       "version_minor": 0
      },
      "text/plain": [
       "HBox(children=(FloatProgress(value=0.0, description='aia_lev1_304a_2015_05_21t12_00_07_12z_image_lev1.fits', m…"
      ]
     },
     "metadata": {},
     "output_type": "display_data"
    },
    {
     "data": {
      "application/vnd.jupyter.widget-view+json": {
       "model_id": "d4673a30bd014a929c65caaad933fdcc",
       "version_major": 2,
       "version_minor": 0
      },
      "text/plain": [
       "HBox(children=(FloatProgress(value=0.0, description='aia_lev1_304a_2015_05_22t00_00_07_12z_image_lev1.fits', m…"
      ]
     },
     "metadata": {},
     "output_type": "display_data"
    },
    {
     "data": {
      "application/vnd.jupyter.widget-view+json": {
       "model_id": "4246ba8469a341fbbcc86f1d57aa802a",
       "version_major": 2,
       "version_minor": 0
      },
      "text/plain": [
       "HBox(children=(FloatProgress(value=0.0, description='aia_lev1_304a_2015_05_22t12_00_07_12z_image_lev1.fits', m…"
      ]
     },
     "metadata": {},
     "output_type": "display_data"
    },
    {
     "data": {
      "application/vnd.jupyter.widget-view+json": {
       "model_id": "53ff3b973c394d56a07ea25c90e5d04f",
       "version_major": 2,
       "version_minor": 0
      },
      "text/plain": [
       "HBox(children=(FloatProgress(value=0.0, description='aia_lev1_304a_2015_05_23t00_00_07_13z_image_lev1.fits', m…"
      ]
     },
     "metadata": {},
     "output_type": "display_data"
    },
    {
     "data": {
      "application/vnd.jupyter.widget-view+json": {
       "model_id": "abc10f533c9148f98913f7caef2afff9",
       "version_major": 2,
       "version_minor": 0
      },
      "text/plain": [
       "HBox(children=(FloatProgress(value=0.0, description='aia_lev1_304a_2015_05_23t12_00_07_12z_image_lev1.fits', m…"
      ]
     },
     "metadata": {},
     "output_type": "display_data"
    },
    {
     "data": {
      "application/vnd.jupyter.widget-view+json": {
       "model_id": "5f74efe4944144bbbbace8ef5d87a883",
       "version_major": 2,
       "version_minor": 0
      },
      "text/plain": [
       "HBox(children=(FloatProgress(value=0.0, description='aia_lev1_304a_2015_05_24t00_00_07_12z_image_lev1.fits', m…"
      ]
     },
     "metadata": {},
     "output_type": "display_data"
    },
    {
     "data": {
      "application/vnd.jupyter.widget-view+json": {
       "model_id": "4e9a53a6fd4e48db9f4d7ddf90507ed0",
       "version_major": 2,
       "version_minor": 0
      },
      "text/plain": [
       "HBox(children=(FloatProgress(value=0.0, description='aia_lev1_304a_2015_05_24t12_00_07_12z_image_lev1.fits', m…"
      ]
     },
     "metadata": {},
     "output_type": "display_data"
    },
    {
     "data": {
      "application/vnd.jupyter.widget-view+json": {
       "model_id": "a43f9fa142f44caeb7ebb78240d5edd7",
       "version_major": 2,
       "version_minor": 0
      },
      "text/plain": [
       "HBox(children=(FloatProgress(value=0.0, description='aia_lev1_304a_2015_05_25t00_00_07_13z_image_lev1.fits', m…"
      ]
     },
     "metadata": {},
     "output_type": "display_data"
    },
    {
     "data": {
      "application/vnd.jupyter.widget-view+json": {
       "model_id": "00f8289a94e44d348f04489a7e8a950f",
       "version_major": 2,
       "version_minor": 0
      },
      "text/plain": [
       "HBox(children=(FloatProgress(value=0.0, description='aia_lev1_304a_2015_05_25t12_00_07_12z_image_lev1.fits', m…"
      ]
     },
     "metadata": {},
     "output_type": "display_data"
    },
    {
     "data": {
      "application/vnd.jupyter.widget-view+json": {
       "model_id": "7b85a5cf3f56445e891a295784455e29",
       "version_major": 2,
       "version_minor": 0
      },
      "text/plain": [
       "HBox(children=(FloatProgress(value=0.0, description='aia_lev1_304a_2015_05_26t00_00_07_12z_image_lev1.fits', m…"
      ]
     },
     "metadata": {},
     "output_type": "display_data"
    },
    {
     "data": {
      "application/vnd.jupyter.widget-view+json": {
       "model_id": "395e7d78716649e1bb7a2033f7b3cece",
       "version_major": 2,
       "version_minor": 0
      },
      "text/plain": [
       "HBox(children=(FloatProgress(value=0.0, description='aia_lev1_304a_2015_05_26t12_00_07_12z_image_lev1.fits', m…"
      ]
     },
     "metadata": {},
     "output_type": "display_data"
    },
    {
     "data": {
      "application/vnd.jupyter.widget-view+json": {
       "model_id": "93fc170270584dbeb0d348e64bfe3e1e",
       "version_major": 2,
       "version_minor": 0
      },
      "text/plain": [
       "HBox(children=(FloatProgress(value=0.0, description='aia_lev1_304a_2015_05_27t00_00_07_12z_image_lev1.fits', m…"
      ]
     },
     "metadata": {},
     "output_type": "display_data"
    },
    {
     "data": {
      "application/vnd.jupyter.widget-view+json": {
       "model_id": "0c505ca477234af0a1be9b1f6fe3b77e",
       "version_major": 2,
       "version_minor": 0
      },
      "text/plain": [
       "HBox(children=(FloatProgress(value=0.0, description='aia_lev1_304a_2015_05_27t12_00_07_12z_image_lev1.fits', m…"
      ]
     },
     "metadata": {},
     "output_type": "display_data"
    },
    {
     "data": {
      "application/vnd.jupyter.widget-view+json": {
       "model_id": "f15a76b4ff4e435d9af17d1f10324ecc",
       "version_major": 2,
       "version_minor": 0
      },
      "text/plain": [
       "HBox(children=(FloatProgress(value=0.0, description='aia_lev1_304a_2015_05_28t00_00_07_12z_image_lev1.fits', m…"
      ]
     },
     "metadata": {},
     "output_type": "display_data"
    },
    {
     "data": {
      "application/vnd.jupyter.widget-view+json": {
       "model_id": "7c87ccb9b0fb4eccac49e3454b9eb577",
       "version_major": 2,
       "version_minor": 0
      },
      "text/plain": [
       "HBox(children=(FloatProgress(value=0.0, description='aia_lev1_304a_2015_05_28t12_00_07_12z_image_lev1.fits', m…"
      ]
     },
     "metadata": {},
     "output_type": "display_data"
    },
    {
     "data": {
      "application/vnd.jupyter.widget-view+json": {
       "model_id": "20f1d2a345b34155a52157a1ac1ab3a2",
       "version_major": 2,
       "version_minor": 0
      },
      "text/plain": [
       "HBox(children=(FloatProgress(value=0.0, description='aia_lev1_304a_2015_05_29t00_00_07_14z_image_lev1.fits', m…"
      ]
     },
     "metadata": {},
     "output_type": "display_data"
    },
    {
     "data": {
      "application/vnd.jupyter.widget-view+json": {
       "model_id": "2d53282187984c16a5307be910f22f70",
       "version_major": 2,
       "version_minor": 0
      },
      "text/plain": [
       "HBox(children=(FloatProgress(value=0.0, description='aia_lev1_304a_2015_05_29t12_00_07_12z_image_lev1.fits', m…"
      ]
     },
     "metadata": {},
     "output_type": "display_data"
    },
    {
     "data": {
      "application/vnd.jupyter.widget-view+json": {
       "model_id": "a93322b9cc1e48d39340fcd0476b3ac2",
       "version_major": 2,
       "version_minor": 0
      },
      "text/plain": [
       "HBox(children=(FloatProgress(value=0.0, description='aia_lev1_304a_2015_05_30t00_00_07_12z_image_lev1.fits', m…"
      ]
     },
     "metadata": {},
     "output_type": "display_data"
    },
    {
     "data": {
      "application/vnd.jupyter.widget-view+json": {
       "model_id": "562da4d0f5114b95b043835b42894e65",
       "version_major": 2,
       "version_minor": 0
      },
      "text/plain": [
       "HBox(children=(FloatProgress(value=0.0, description='aia_lev1_304a_2015_05_30t12_00_07_12z_image_lev1.fits', m…"
      ]
     },
     "metadata": {},
     "output_type": "display_data"
    },
    {
     "data": {
      "application/vnd.jupyter.widget-view+json": {
       "model_id": "f2c15868700c427bbb6bbc42122515a0",
       "version_major": 2,
       "version_minor": 0
      },
      "text/plain": [
       "HBox(children=(FloatProgress(value=0.0, description='aia_lev1_304a_2015_05_31t00_00_07_15z_image_lev1.fits', m…"
      ]
     },
     "metadata": {},
     "output_type": "display_data"
    },
    {
     "data": {
      "application/vnd.jupyter.widget-view+json": {
       "model_id": "dbb5dc49f4224921bcde5b1581c838ad",
       "version_major": 2,
       "version_minor": 0
      },
      "text/plain": [
       "HBox(children=(FloatProgress(value=0.0, description='aia_lev1_304a_2015_05_31t12_00_07_12z_image_lev1.fits', m…"
      ]
     },
     "metadata": {},
     "output_type": "display_data"
    },
    {
     "data": {
      "application/vnd.jupyter.widget-view+json": {
       "model_id": "098de57411cc4ce9b66aa352124da93b",
       "version_major": 2,
       "version_minor": 0
      },
      "text/plain": [
       "HBox(children=(FloatProgress(value=0.0, description='aia_lev1_304a_2015_06_01t00_00_07_12z_image_lev1.fits', m…"
      ]
     },
     "metadata": {},
     "output_type": "display_data"
    },
    {
     "data": {
      "application/vnd.jupyter.widget-view+json": {
       "model_id": "0543d088a245495a8728a79d932c811b",
       "version_major": 2,
       "version_minor": 0
      },
      "text/plain": [
       "HBox(children=(FloatProgress(value=0.0, description='aia_lev1_304a_2015_06_01t12_00_07_12z_image_lev1.fits', m…"
      ]
     },
     "metadata": {},
     "output_type": "display_data"
    },
    {
     "data": {
      "application/vnd.jupyter.widget-view+json": {
       "model_id": "f7fe02d02abc4b628b8ac758aa1f780c",
       "version_major": 2,
       "version_minor": 0
      },
      "text/plain": [
       "HBox(children=(FloatProgress(value=0.0, description='aia_lev1_304a_2015_06_02t00_00_07_13z_image_lev1.fits', m…"
      ]
     },
     "metadata": {},
     "output_type": "display_data"
    },
    {
     "data": {
      "application/vnd.jupyter.widget-view+json": {
       "model_id": "7e89d9c101c64e89a60aed77968cb6f2",
       "version_major": 2,
       "version_minor": 0
      },
      "text/plain": [
       "HBox(children=(FloatProgress(value=0.0, description='aia_lev1_304a_2015_06_02t12_00_07_13z_image_lev1.fits', m…"
      ]
     },
     "metadata": {},
     "output_type": "display_data"
    },
    {
     "data": {
      "application/vnd.jupyter.widget-view+json": {
       "model_id": "b342f4be9263404a8818aeec72a35f18",
       "version_major": 2,
       "version_minor": 0
      },
      "text/plain": [
       "HBox(children=(FloatProgress(value=0.0, description='aia_lev1_304a_2015_06_03t00_00_07_12z_image_lev1.fits', m…"
      ]
     },
     "metadata": {},
     "output_type": "display_data"
    },
    {
     "data": {
      "application/vnd.jupyter.widget-view+json": {
       "model_id": "92e62ff31759412a98ede50eaba7277b",
       "version_major": 2,
       "version_minor": 0
      },
      "text/plain": [
       "HBox(children=(FloatProgress(value=0.0, description='aia_lev1_304a_2015_06_03t12_00_07_12z_image_lev1.fits', m…"
      ]
     },
     "metadata": {},
     "output_type": "display_data"
    },
    {
     "data": {
      "application/vnd.jupyter.widget-view+json": {
       "model_id": "28ed0e6673c34430b9bce10b7dc34579",
       "version_major": 2,
       "version_minor": 0
      },
      "text/plain": [
       "HBox(children=(FloatProgress(value=0.0, description='aia_lev1_304a_2015_06_04t00_00_07_12z_image_lev1.fits', m…"
      ]
     },
     "metadata": {},
     "output_type": "display_data"
    },
    {
     "data": {
      "application/vnd.jupyter.widget-view+json": {
       "model_id": "560eaaa5521b4e3194c09a9f9470d161",
       "version_major": 2,
       "version_minor": 0
      },
      "text/plain": [
       "HBox(children=(FloatProgress(value=0.0, description='aia_lev1_304a_2015_06_04t12_00_07_12z_image_lev1.fits', m…"
      ]
     },
     "metadata": {},
     "output_type": "display_data"
    },
    {
     "data": {
      "application/vnd.jupyter.widget-view+json": {
       "model_id": "ccc7497e99c64db59445748fdb5e38b9",
       "version_major": 2,
       "version_minor": 0
      },
      "text/plain": [
       "HBox(children=(FloatProgress(value=0.0, description='aia_lev1_304a_2015_06_05t00_00_07_12z_image_lev1.fits', m…"
      ]
     },
     "metadata": {},
     "output_type": "display_data"
    },
    {
     "data": {
      "application/vnd.jupyter.widget-view+json": {
       "model_id": "eb827320c5ed4e0c93aa477a1aedb3de",
       "version_major": 2,
       "version_minor": 0
      },
      "text/plain": [
       "HBox(children=(FloatProgress(value=0.0, description='aia_lev1_304a_2015_06_05t12_00_07_14z_image_lev1.fits', m…"
      ]
     },
     "metadata": {},
     "output_type": "display_data"
    },
    {
     "data": {
      "application/vnd.jupyter.widget-view+json": {
       "model_id": "778aa6dfdc034041b36a540fd10bda4c",
       "version_major": 2,
       "version_minor": 0
      },
      "text/plain": [
       "HBox(children=(FloatProgress(value=0.0, description='aia_lev1_304a_2015_06_06t00_00_07_12z_image_lev1.fits', m…"
      ]
     },
     "metadata": {},
     "output_type": "display_data"
    },
    {
     "data": {
      "application/vnd.jupyter.widget-view+json": {
       "model_id": "e078ae80524f4e499c91893474992dd3",
       "version_major": 2,
       "version_minor": 0
      },
      "text/plain": [
       "HBox(children=(FloatProgress(value=0.0, description='aia_lev1_304a_2015_06_06t12_00_07_12z_image_lev1.fits', m…"
      ]
     },
     "metadata": {},
     "output_type": "display_data"
    },
    {
     "data": {
      "application/vnd.jupyter.widget-view+json": {
       "model_id": "806de04131e447e58e136ee301ff0813",
       "version_major": 2,
       "version_minor": 0
      },
      "text/plain": [
       "HBox(children=(FloatProgress(value=0.0, description='aia_lev1_304a_2015_06_07t00_00_07_13z_image_lev1.fits', m…"
      ]
     },
     "metadata": {},
     "output_type": "display_data"
    },
    {
     "data": {
      "application/vnd.jupyter.widget-view+json": {
       "model_id": "cda4dc896e6148a9b7ff0ab3bb99ea91",
       "version_major": 2,
       "version_minor": 0
      },
      "text/plain": [
       "HBox(children=(FloatProgress(value=0.0, description='aia_lev1_304a_2015_06_07t12_00_07_12z_image_lev1.fits', m…"
      ]
     },
     "metadata": {},
     "output_type": "display_data"
    },
    {
     "data": {
      "application/vnd.jupyter.widget-view+json": {
       "model_id": "0fdb9fa47bf84360ae2fe27589cf0f79",
       "version_major": 2,
       "version_minor": 0
      },
      "text/plain": [
       "HBox(children=(FloatProgress(value=0.0, description='aia_lev1_304a_2015_06_08t00_00_07_12z_image_lev1.fits', m…"
      ]
     },
     "metadata": {},
     "output_type": "display_data"
    },
    {
     "data": {
      "application/vnd.jupyter.widget-view+json": {
       "model_id": "375b8668302b46c0a387e7d4dcf7225c",
       "version_major": 2,
       "version_minor": 0
      },
      "text/plain": [
       "HBox(children=(FloatProgress(value=0.0, description='aia_lev1_304a_2015_06_08t12_00_07_13z_image_lev1.fits', m…"
      ]
     },
     "metadata": {},
     "output_type": "display_data"
    },
    {
     "data": {
      "application/vnd.jupyter.widget-view+json": {
       "model_id": "ff723fcbd134418a9817ede6afd6508c",
       "version_major": 2,
       "version_minor": 0
      },
      "text/plain": [
       "HBox(children=(FloatProgress(value=0.0, description='aia_lev1_304a_2015_06_09t00_00_07_14z_image_lev1.fits', m…"
      ]
     },
     "metadata": {},
     "output_type": "display_data"
    },
    {
     "data": {
      "application/vnd.jupyter.widget-view+json": {
       "model_id": "ddef49bda221404488bd3dc799da529e",
       "version_major": 2,
       "version_minor": 0
      },
      "text/plain": [
       "HBox(children=(FloatProgress(value=0.0, description='aia_lev1_304a_2015_06_09t12_00_07_12z_image_lev1.fits', m…"
      ]
     },
     "metadata": {},
     "output_type": "display_data"
    },
    {
     "data": {
      "application/vnd.jupyter.widget-view+json": {
       "model_id": "2e4c132ec14a49e8b1b97214d4e181fa",
       "version_major": 2,
       "version_minor": 0
      },
      "text/plain": [
       "HBox(children=(FloatProgress(value=0.0, description='aia_lev1_304a_2015_06_10t00_00_07_12z_image_lev1.fits', m…"
      ]
     },
     "metadata": {},
     "output_type": "display_data"
    },
    {
     "data": {
      "application/vnd.jupyter.widget-view+json": {
       "model_id": "2d7b367cc91e46079d28af2ef368faec",
       "version_major": 2,
       "version_minor": 0
      },
      "text/plain": [
       "HBox(children=(FloatProgress(value=0.0, description='aia_lev1_304a_2015_06_10t12_00_07_12z_image_lev1.fits', m…"
      ]
     },
     "metadata": {},
     "output_type": "display_data"
    },
    {
     "data": {
      "application/vnd.jupyter.widget-view+json": {
       "model_id": "1f065b89031041a7a3f5a35937b80203",
       "version_major": 2,
       "version_minor": 0
      },
      "text/plain": [
       "HBox(children=(FloatProgress(value=0.0, description='aia_lev1_304a_2015_06_11t12_00_07_14z_image_lev1.fits', m…"
      ]
     },
     "metadata": {},
     "output_type": "display_data"
    },
    {
     "data": {
      "application/vnd.jupyter.widget-view+json": {
       "model_id": "02c299e5920b4e198151384194f0d6bf",
       "version_major": 2,
       "version_minor": 0
      },
      "text/plain": [
       "HBox(children=(FloatProgress(value=0.0, description='aia_lev1_304a_2015_06_12t00_00_07_12z_image_lev1.fits', m…"
      ]
     },
     "metadata": {},
     "output_type": "display_data"
    },
    {
     "data": {
      "application/vnd.jupyter.widget-view+json": {
       "model_id": "a4f389200f4340069a597fef398c4914",
       "version_major": 2,
       "version_minor": 0
      },
      "text/plain": [
       "HBox(children=(FloatProgress(value=0.0, description='aia_lev1_304a_2015_06_12t12_00_07_12z_image_lev1.fits', m…"
      ]
     },
     "metadata": {},
     "output_type": "display_data"
    },
    {
     "data": {
      "application/vnd.jupyter.widget-view+json": {
       "model_id": "49d9e652f4bf48f282800a714ad661bf",
       "version_major": 2,
       "version_minor": 0
      },
      "text/plain": [
       "HBox(children=(FloatProgress(value=0.0, description='aia_lev1_304a_2015_06_11t00_00_07_12z_image_lev1.fits', m…"
      ]
     },
     "metadata": {},
     "output_type": "display_data"
    },
    {
     "data": {
      "application/vnd.jupyter.widget-view+json": {
       "model_id": "b089b386584749b5ac004f8abc72e4ad",
       "version_major": 2,
       "version_minor": 0
      },
      "text/plain": [
       "HBox(children=(FloatProgress(value=0.0, description='aia_lev1_304a_2015_06_13t00_00_07_13z_image_lev1.fits', m…"
      ]
     },
     "metadata": {},
     "output_type": "display_data"
    },
    {
     "data": {
      "application/vnd.jupyter.widget-view+json": {
       "model_id": "c3725b8be944486e8f4642d962c511dd",
       "version_major": 2,
       "version_minor": 0
      },
      "text/plain": [
       "HBox(children=(FloatProgress(value=0.0, description='aia_lev1_304a_2015_06_13t12_00_07_14z_image_lev1.fits', m…"
      ]
     },
     "metadata": {},
     "output_type": "display_data"
    },
    {
     "data": {
      "application/vnd.jupyter.widget-view+json": {
       "model_id": "f3ff54e9923c46d09ef19696d547f821",
       "version_major": 2,
       "version_minor": 0
      },
      "text/plain": [
       "HBox(children=(FloatProgress(value=0.0, description='aia_lev1_304a_2015_06_14t00_00_07_13z_image_lev1.fits', m…"
      ]
     },
     "metadata": {},
     "output_type": "display_data"
    },
    {
     "data": {
      "application/vnd.jupyter.widget-view+json": {
       "model_id": "c71711d2e7a046208f4b8cac6474f7fa",
       "version_major": 2,
       "version_minor": 0
      },
      "text/plain": [
       "HBox(children=(FloatProgress(value=0.0, description='aia_lev1_304a_2015_06_14t12_00_07_13z_image_lev1.fits', m…"
      ]
     },
     "metadata": {},
     "output_type": "display_data"
    },
    {
     "data": {
      "application/vnd.jupyter.widget-view+json": {
       "model_id": "bacc4de1a8214d0c94f270e1a4ef5544",
       "version_major": 2,
       "version_minor": 0
      },
      "text/plain": [
       "HBox(children=(FloatProgress(value=0.0, description='aia_lev1_304a_2015_06_15t00_00_07_14z_image_lev1.fits', m…"
      ]
     },
     "metadata": {},
     "output_type": "display_data"
    },
    {
     "data": {
      "application/vnd.jupyter.widget-view+json": {
       "model_id": "ace32af83f1e4340be5dc89c0b032efe",
       "version_major": 2,
       "version_minor": 0
      },
      "text/plain": [
       "HBox(children=(FloatProgress(value=0.0, description='aia_lev1_304a_2015_06_15t12_00_07_12z_image_lev1.fits', m…"
      ]
     },
     "metadata": {},
     "output_type": "display_data"
    },
    {
     "data": {
      "application/vnd.jupyter.widget-view+json": {
       "model_id": "fb225d1339314316a223093f6b47df09",
       "version_major": 2,
       "version_minor": 0
      },
      "text/plain": [
       "HBox(children=(FloatProgress(value=0.0, description='aia_lev1_304a_2015_06_16t00_00_07_12z_image_lev1.fits', m…"
      ]
     },
     "metadata": {},
     "output_type": "display_data"
    },
    {
     "data": {
      "application/vnd.jupyter.widget-view+json": {
       "model_id": "0dd1e6e0b4a844f5b254e80ce66dddbc",
       "version_major": 2,
       "version_minor": 0
      },
      "text/plain": [
       "HBox(children=(FloatProgress(value=0.0, description='aia_lev1_304a_2015_06_16t12_00_07_12z_image_lev1.fits', m…"
      ]
     },
     "metadata": {},
     "output_type": "display_data"
    },
    {
     "data": {
      "application/vnd.jupyter.widget-view+json": {
       "model_id": "e8ca183eba584118a767f0ad3375dac5",
       "version_major": 2,
       "version_minor": 0
      },
      "text/plain": [
       "HBox(children=(FloatProgress(value=0.0, description='aia_lev1_304a_2015_06_17t00_00_07_12z_image_lev1.fits', m…"
      ]
     },
     "metadata": {},
     "output_type": "display_data"
    },
    {
     "data": {
      "application/vnd.jupyter.widget-view+json": {
       "model_id": "192b0e3aaf414edda37ef7cc3b1228c1",
       "version_major": 2,
       "version_minor": 0
      },
      "text/plain": [
       "HBox(children=(FloatProgress(value=0.0, description='aia_lev1_304a_2015_06_17t12_00_07_12z_image_lev1.fits', m…"
      ]
     },
     "metadata": {},
     "output_type": "display_data"
    },
    {
     "data": {
      "application/vnd.jupyter.widget-view+json": {
       "model_id": "e2de11dc77ad4a33b63a3b576c2fd2a1",
       "version_major": 2,
       "version_minor": 0
      },
      "text/plain": [
       "HBox(children=(FloatProgress(value=0.0, description='aia_lev1_304a_2015_06_18t00_00_07_12z_image_lev1.fits', m…"
      ]
     },
     "metadata": {},
     "output_type": "display_data"
    },
    {
     "data": {
      "application/vnd.jupyter.widget-view+json": {
       "model_id": "74b4feb81ce645da9449e073eaa32467",
       "version_major": 2,
       "version_minor": 0
      },
      "text/plain": [
       "HBox(children=(FloatProgress(value=0.0, description='aia_lev1_304a_2015_06_18t12_00_07_12z_image_lev1.fits', m…"
      ]
     },
     "metadata": {},
     "output_type": "display_data"
    },
    {
     "data": {
      "application/vnd.jupyter.widget-view+json": {
       "model_id": "ff3d2d32a099415a8d00081d1fae204f",
       "version_major": 2,
       "version_minor": 0
      },
      "text/plain": [
       "HBox(children=(FloatProgress(value=0.0, description='aia_lev1_304a_2015_06_19t00_00_07_12z_image_lev1.fits', m…"
      ]
     },
     "metadata": {},
     "output_type": "display_data"
    },
    {
     "data": {
      "application/vnd.jupyter.widget-view+json": {
       "model_id": "1ed0183d43434311831d51b1c15bcadf",
       "version_major": 2,
       "version_minor": 0
      },
      "text/plain": [
       "HBox(children=(FloatProgress(value=0.0, description='aia_lev1_304a_2015_06_19t12_00_07_12z_image_lev1.fits', m…"
      ]
     },
     "metadata": {},
     "output_type": "display_data"
    },
    {
     "data": {
      "application/vnd.jupyter.widget-view+json": {
       "model_id": "35e1e79947ee486eae54c418d03beb81",
       "version_major": 2,
       "version_minor": 0
      },
      "text/plain": [
       "HBox(children=(FloatProgress(value=0.0, description='aia_lev1_304a_2015_06_20t00_00_07_13z_image_lev1.fits', m…"
      ]
     },
     "metadata": {},
     "output_type": "display_data"
    },
    {
     "data": {
      "application/vnd.jupyter.widget-view+json": {
       "model_id": "63fe00a509b8474fa2acb828284cfd75",
       "version_major": 2,
       "version_minor": 0
      },
      "text/plain": [
       "HBox(children=(FloatProgress(value=0.0, description='aia_lev1_304a_2015_06_20t12_00_07_12z_image_lev1.fits', m…"
      ]
     },
     "metadata": {},
     "output_type": "display_data"
    },
    {
     "data": {
      "application/vnd.jupyter.widget-view+json": {
       "model_id": "a8401764c88a478d82955be6e3ff2d03",
       "version_major": 2,
       "version_minor": 0
      },
      "text/plain": [
       "HBox(children=(FloatProgress(value=0.0, description='aia_lev1_304a_2015_06_21t00_00_07_12z_image_lev1.fits', m…"
      ]
     },
     "metadata": {},
     "output_type": "display_data"
    },
    {
     "data": {
      "application/vnd.jupyter.widget-view+json": {
       "model_id": "c11896ce355a4e65a619d3ba24cb484f",
       "version_major": 2,
       "version_minor": 0
      },
      "text/plain": [
       "HBox(children=(FloatProgress(value=0.0, description='aia_lev1_304a_2015_06_21t12_00_07_12z_image_lev1.fits', m…"
      ]
     },
     "metadata": {},
     "output_type": "display_data"
    },
    {
     "data": {
      "application/vnd.jupyter.widget-view+json": {
       "model_id": "13160dc56b1640fe9434daeea3efe9f9",
       "version_major": 2,
       "version_minor": 0
      },
      "text/plain": [
       "HBox(children=(FloatProgress(value=0.0, description='aia_lev1_304a_2015_06_22t00_00_07_12z_image_lev1.fits', m…"
      ]
     },
     "metadata": {},
     "output_type": "display_data"
    },
    {
     "data": {
      "application/vnd.jupyter.widget-view+json": {
       "model_id": "ba71419c7a874f679bcec40e0ba2c9fc",
       "version_major": 2,
       "version_minor": 0
      },
      "text/plain": [
       "HBox(children=(FloatProgress(value=0.0, description='aia_lev1_304a_2015_06_22t12_00_07_13z_image_lev1.fits', m…"
      ]
     },
     "metadata": {},
     "output_type": "display_data"
    },
    {
     "data": {
      "application/vnd.jupyter.widget-view+json": {
       "model_id": "898c81e1e667441e8e914224104620b7",
       "version_major": 2,
       "version_minor": 0
      },
      "text/plain": [
       "HBox(children=(FloatProgress(value=0.0, description='aia_lev1_304a_2015_06_23t00_00_07_12z_image_lev1.fits', m…"
      ]
     },
     "metadata": {},
     "output_type": "display_data"
    },
    {
     "data": {
      "application/vnd.jupyter.widget-view+json": {
       "model_id": "e8a22ceda5e14177a51df2ce04dc3dcf",
       "version_major": 2,
       "version_minor": 0
      },
      "text/plain": [
       "HBox(children=(FloatProgress(value=0.0, description='aia_lev1_304a_2015_06_23t12_00_07_12z_image_lev1.fits', m…"
      ]
     },
     "metadata": {},
     "output_type": "display_data"
    },
    {
     "data": {
      "application/vnd.jupyter.widget-view+json": {
       "model_id": "9ce9c7594e7a4f13be33852ba3207f06",
       "version_major": 2,
       "version_minor": 0
      },
      "text/plain": [
       "HBox(children=(FloatProgress(value=0.0, description='aia_lev1_304a_2015_06_24t00_00_07_12z_image_lev1.fits', m…"
      ]
     },
     "metadata": {},
     "output_type": "display_data"
    },
    {
     "data": {
      "application/vnd.jupyter.widget-view+json": {
       "model_id": "3735786fc49f4ab28433ca014e7a35c5",
       "version_major": 2,
       "version_minor": 0
      },
      "text/plain": [
       "HBox(children=(FloatProgress(value=0.0, description='aia_lev1_304a_2015_06_24t12_00_07_12z_image_lev1.fits', m…"
      ]
     },
     "metadata": {},
     "output_type": "display_data"
    },
    {
     "data": {
      "application/vnd.jupyter.widget-view+json": {
       "model_id": "74d72bd689bf487994715aeef935846e",
       "version_major": 2,
       "version_minor": 0
      },
      "text/plain": [
       "HBox(children=(FloatProgress(value=0.0, description='aia_lev1_304a_2015_06_25t00_00_07_13z_image_lev1.fits', m…"
      ]
     },
     "metadata": {},
     "output_type": "display_data"
    },
    {
     "data": {
      "application/vnd.jupyter.widget-view+json": {
       "model_id": "19002e6d09484043a361725155b8a503",
       "version_major": 2,
       "version_minor": 0
      },
      "text/plain": [
       "HBox(children=(FloatProgress(value=0.0, description='aia_lev1_304a_2015_06_25t12_00_07_13z_image_lev1.fits', m…"
      ]
     },
     "metadata": {},
     "output_type": "display_data"
    },
    {
     "data": {
      "application/vnd.jupyter.widget-view+json": {
       "model_id": "1f2e21952e5247a9a080499968bacb04",
       "version_major": 2,
       "version_minor": 0
      },
      "text/plain": [
       "HBox(children=(FloatProgress(value=0.0, description='aia_lev1_304a_2015_06_26t00_00_07_13z_image_lev1.fits', m…"
      ]
     },
     "metadata": {},
     "output_type": "display_data"
    },
    {
     "data": {
      "application/vnd.jupyter.widget-view+json": {
       "model_id": "88aa689b900d4b4381b741832cd0acab",
       "version_major": 2,
       "version_minor": 0
      },
      "text/plain": [
       "HBox(children=(FloatProgress(value=0.0, description='aia_lev1_304a_2015_06_26t12_00_07_12z_image_lev1.fits', m…"
      ]
     },
     "metadata": {},
     "output_type": "display_data"
    },
    {
     "data": {
      "application/vnd.jupyter.widget-view+json": {
       "model_id": "8e28db05321f41428d5ad31240b7cea3",
       "version_major": 2,
       "version_minor": 0
      },
      "text/plain": [
       "HBox(children=(FloatProgress(value=0.0, description='aia_lev1_304a_2015_06_27t00_00_07_12z_image_lev1.fits', m…"
      ]
     },
     "metadata": {},
     "output_type": "display_data"
    },
    {
     "data": {
      "application/vnd.jupyter.widget-view+json": {
       "model_id": "f5d2e2bf645a440898c29b9915e56884",
       "version_major": 2,
       "version_minor": 0
      },
      "text/plain": [
       "HBox(children=(FloatProgress(value=0.0, description='aia_lev1_304a_2015_06_27t12_00_07_12z_image_lev1.fits', m…"
      ]
     },
     "metadata": {},
     "output_type": "display_data"
    },
    {
     "data": {
      "application/vnd.jupyter.widget-view+json": {
       "model_id": "816abb202081401abe3f00bbe7e67dd8",
       "version_major": 2,
       "version_minor": 0
      },
      "text/plain": [
       "HBox(children=(FloatProgress(value=0.0, description='aia_lev1_304a_2015_06_28t00_00_07_12z_image_lev1.fits', m…"
      ]
     },
     "metadata": {},
     "output_type": "display_data"
    },
    {
     "data": {
      "application/vnd.jupyter.widget-view+json": {
       "model_id": "d822c0d266de4da689fd68b1a5b8adf7",
       "version_major": 2,
       "version_minor": 0
      },
      "text/plain": [
       "HBox(children=(FloatProgress(value=0.0, description='aia_lev1_304a_2015_06_28t12_00_07_12z_image_lev1.fits', m…"
      ]
     },
     "metadata": {},
     "output_type": "display_data"
    },
    {
     "data": {
      "application/vnd.jupyter.widget-view+json": {
       "model_id": "86baa3b5890f49d9889e3a14b229dec5",
       "version_major": 2,
       "version_minor": 0
      },
      "text/plain": [
       "HBox(children=(FloatProgress(value=0.0, description='aia_lev1_304a_2015_06_29t00_00_07_12z_image_lev1.fits', m…"
      ]
     },
     "metadata": {},
     "output_type": "display_data"
    },
    {
     "data": {
      "application/vnd.jupyter.widget-view+json": {
       "model_id": "cbd57efcbc7d499f8ba40bd10a59eed9",
       "version_major": 2,
       "version_minor": 0
      },
      "text/plain": [
       "HBox(children=(FloatProgress(value=0.0, description='aia_lev1_304a_2015_06_29t12_00_07_14z_image_lev1.fits', m…"
      ]
     },
     "metadata": {},
     "output_type": "display_data"
    },
    {
     "data": {
      "application/vnd.jupyter.widget-view+json": {
       "model_id": "f708ee13179c4c7fbc0cfecd50c075d2",
       "version_major": 2,
       "version_minor": 0
      },
      "text/plain": [
       "HBox(children=(FloatProgress(value=0.0, description='aia_lev1_304a_2015_06_30t00_00_07_12z_image_lev1.fits', m…"
      ]
     },
     "metadata": {},
     "output_type": "display_data"
    },
    {
     "data": {
      "application/vnd.jupyter.widget-view+json": {
       "model_id": "a2cf4c573daa4c1aa2de6331f189fd21",
       "version_major": 2,
       "version_minor": 0
      },
      "text/plain": [
       "HBox(children=(FloatProgress(value=0.0, description='aia_lev1_304a_2015_06_30t12_00_07_12z_image_lev1.fits', m…"
      ]
     },
     "metadata": {},
     "output_type": "display_data"
    },
    {
     "data": {
      "application/vnd.jupyter.widget-view+json": {
       "model_id": "62de2794202f4bf0917743c0e2e1e3e8",
       "version_major": 2,
       "version_minor": 0
      },
      "text/plain": [
       "HBox(children=(FloatProgress(value=0.0, description='aia_lev1_304a_2015_07_01t00_00_06_12z_image_lev1.fits', m…"
      ]
     },
     "metadata": {},
     "output_type": "display_data"
    },
    {
     "data": {
      "application/vnd.jupyter.widget-view+json": {
       "model_id": "d1e5dd0835784e8abf4fb344714f2ee1",
       "version_major": 2,
       "version_minor": 0
      },
      "text/plain": [
       "HBox(children=(FloatProgress(value=0.0, description='aia_lev1_304a_2015_07_01t12_00_06_12z_image_lev1.fits', m…"
      ]
     },
     "metadata": {},
     "output_type": "display_data"
    },
    {
     "data": {
      "application/vnd.jupyter.widget-view+json": {
       "model_id": "7ffdc80523b74549bd7517778f6266c9",
       "version_major": 2,
       "version_minor": 0
      },
      "text/plain": [
       "HBox(children=(FloatProgress(value=0.0, description='aia_lev1_304a_2015_07_02t00_00_06_13z_image_lev1.fits', m…"
      ]
     },
     "metadata": {},
     "output_type": "display_data"
    },
    {
     "data": {
      "application/vnd.jupyter.widget-view+json": {
       "model_id": "cc4133309ec64238a3958a0d54257a17",
       "version_major": 2,
       "version_minor": 0
      },
      "text/plain": [
       "HBox(children=(FloatProgress(value=0.0, description='aia_lev1_304a_2015_07_02t12_00_06_12z_image_lev1.fits', m…"
      ]
     },
     "metadata": {},
     "output_type": "display_data"
    },
    {
     "data": {
      "application/vnd.jupyter.widget-view+json": {
       "model_id": "5af6957850b64b72bf9ba190c882c58c",
       "version_major": 2,
       "version_minor": 0
      },
      "text/plain": [
       "HBox(children=(FloatProgress(value=0.0, description='aia_lev1_304a_2015_07_03t00_00_06_12z_image_lev1.fits', m…"
      ]
     },
     "metadata": {},
     "output_type": "display_data"
    },
    {
     "data": {
      "application/vnd.jupyter.widget-view+json": {
       "model_id": "7c1c861ebe21469bb43407f35036f40e",
       "version_major": 2,
       "version_minor": 0
      },
      "text/plain": [
       "HBox(children=(FloatProgress(value=0.0, description='aia_lev1_304a_2015_07_03t12_00_06_12z_image_lev1.fits', m…"
      ]
     },
     "metadata": {},
     "output_type": "display_data"
    },
    {
     "data": {
      "application/vnd.jupyter.widget-view+json": {
       "model_id": "e44452d4c1744b6f9a36f50acce600e2",
       "version_major": 2,
       "version_minor": 0
      },
      "text/plain": [
       "HBox(children=(FloatProgress(value=0.0, description='aia_lev1_304a_2015_07_04t00_00_06_12z_image_lev1.fits', m…"
      ]
     },
     "metadata": {},
     "output_type": "display_data"
    },
    {
     "data": {
      "application/vnd.jupyter.widget-view+json": {
       "model_id": "c4a93e0fce9d442fb728ec263ff4e8b3",
       "version_major": 2,
       "version_minor": 0
      },
      "text/plain": [
       "HBox(children=(FloatProgress(value=0.0, description='aia_lev1_304a_2015_07_04t12_00_06_12z_image_lev1.fits', m…"
      ]
     },
     "metadata": {},
     "output_type": "display_data"
    },
    {
     "data": {
      "application/vnd.jupyter.widget-view+json": {
       "model_id": "7e6581faba724be4a30211d5cd0291c2",
       "version_major": 2,
       "version_minor": 0
      },
      "text/plain": [
       "HBox(children=(FloatProgress(value=0.0, description='aia_lev1_304a_2015_07_05t00_00_06_12z_image_lev1.fits', m…"
      ]
     },
     "metadata": {},
     "output_type": "display_data"
    },
    {
     "data": {
      "application/vnd.jupyter.widget-view+json": {
       "model_id": "1c91e027c0a8423e98a97bf699958184",
       "version_major": 2,
       "version_minor": 0
      },
      "text/plain": [
       "HBox(children=(FloatProgress(value=0.0, description='aia_lev1_304a_2015_07_05t12_00_06_12z_image_lev1.fits', m…"
      ]
     },
     "metadata": {},
     "output_type": "display_data"
    },
    {
     "data": {
      "application/vnd.jupyter.widget-view+json": {
       "model_id": "7a2ba68ea599457bb89830fd2bb679f3",
       "version_major": 2,
       "version_minor": 0
      },
      "text/plain": [
       "HBox(children=(FloatProgress(value=0.0, description='aia_lev1_304a_2015_07_06t00_00_06_12z_image_lev1.fits', m…"
      ]
     },
     "metadata": {},
     "output_type": "display_data"
    },
    {
     "data": {
      "application/vnd.jupyter.widget-view+json": {
       "model_id": "70cd790f42db432b9fbc2bb04aa5e555",
       "version_major": 2,
       "version_minor": 0
      },
      "text/plain": [
       "HBox(children=(FloatProgress(value=0.0, description='aia_lev1_304a_2015_07_06t12_00_06_12z_image_lev1.fits', m…"
      ]
     },
     "metadata": {},
     "output_type": "display_data"
    },
    {
     "data": {
      "application/vnd.jupyter.widget-view+json": {
       "model_id": "5a21862391644139a5551b8d471b74e2",
       "version_major": 2,
       "version_minor": 0
      },
      "text/plain": [
       "HBox(children=(FloatProgress(value=0.0, description='aia_lev1_304a_2015_07_07t00_00_06_12z_image_lev1.fits', m…"
      ]
     },
     "metadata": {},
     "output_type": "display_data"
    },
    {
     "data": {
      "application/vnd.jupyter.widget-view+json": {
       "model_id": "35a4860ddaab41ae959efec04d769a74",
       "version_major": 2,
       "version_minor": 0
      },
      "text/plain": [
       "HBox(children=(FloatProgress(value=0.0, description='aia_lev1_304a_2015_07_07t12_00_06_13z_image_lev1.fits', m…"
      ]
     },
     "metadata": {},
     "output_type": "display_data"
    },
    {
     "data": {
      "application/vnd.jupyter.widget-view+json": {
       "model_id": "d06b06d672a64419a95a86c53526424b",
       "version_major": 2,
       "version_minor": 0
      },
      "text/plain": [
       "HBox(children=(FloatProgress(value=0.0, description='aia_lev1_304a_2015_07_08t00_00_06_12z_image_lev1.fits', m…"
      ]
     },
     "metadata": {},
     "output_type": "display_data"
    },
    {
     "data": {
      "application/vnd.jupyter.widget-view+json": {
       "model_id": "944005e537d944b0998106d609b5f031",
       "version_major": 2,
       "version_minor": 0
      },
      "text/plain": [
       "HBox(children=(FloatProgress(value=0.0, description='aia_lev1_304a_2015_07_08t12_00_06_12z_image_lev1.fits', m…"
      ]
     },
     "metadata": {},
     "output_type": "display_data"
    },
    {
     "data": {
      "application/vnd.jupyter.widget-view+json": {
       "model_id": "74316905654143b08e8dbe39c7ec4cb9",
       "version_major": 2,
       "version_minor": 0
      },
      "text/plain": [
       "HBox(children=(FloatProgress(value=0.0, description='aia_lev1_304a_2015_07_09t00_00_06_12z_image_lev1.fits', m…"
      ]
     },
     "metadata": {},
     "output_type": "display_data"
    },
    {
     "data": {
      "application/vnd.jupyter.widget-view+json": {
       "model_id": "79ae6419f5064bd39f116f03e62328b6",
       "version_major": 2,
       "version_minor": 0
      },
      "text/plain": [
       "HBox(children=(FloatProgress(value=0.0, description='aia_lev1_304a_2015_07_09t12_00_06_12z_image_lev1.fits', m…"
      ]
     },
     "metadata": {},
     "output_type": "display_data"
    },
    {
     "data": {
      "application/vnd.jupyter.widget-view+json": {
       "model_id": "16f7c46716514fe89e97a83eb85ebe37",
       "version_major": 2,
       "version_minor": 0
      },
      "text/plain": [
       "HBox(children=(FloatProgress(value=0.0, description='aia_lev1_304a_2015_07_10t00_00_06_12z_image_lev1.fits', m…"
      ]
     },
     "metadata": {},
     "output_type": "display_data"
    },
    {
     "data": {
      "application/vnd.jupyter.widget-view+json": {
       "model_id": "6cb7deac81f34bafab6168979ee5aff7",
       "version_major": 2,
       "version_minor": 0
      },
      "text/plain": [
       "HBox(children=(FloatProgress(value=0.0, description='aia_lev1_304a_2015_07_10t12_00_06_12z_image_lev1.fits', m…"
      ]
     },
     "metadata": {},
     "output_type": "display_data"
    },
    {
     "data": {
      "application/vnd.jupyter.widget-view+json": {
       "model_id": "2643aff76d5c4263803bcc74d148e2da",
       "version_major": 2,
       "version_minor": 0
      },
      "text/plain": [
       "HBox(children=(FloatProgress(value=0.0, description='aia_lev1_304a_2015_07_11t00_00_06_14z_image_lev1.fits', m…"
      ]
     },
     "metadata": {},
     "output_type": "display_data"
    },
    {
     "data": {
      "application/vnd.jupyter.widget-view+json": {
       "model_id": "40118a0c90cd4b32bb82b9e27ac34eba",
       "version_major": 2,
       "version_minor": 0
      },
      "text/plain": [
       "HBox(children=(FloatProgress(value=0.0, description='aia_lev1_304a_2015_07_11t12_00_06_13z_image_lev1.fits', m…"
      ]
     },
     "metadata": {},
     "output_type": "display_data"
    },
    {
     "data": {
      "application/vnd.jupyter.widget-view+json": {
       "model_id": "03029ee4847943e69bed6d4ccf75aaf7",
       "version_major": 2,
       "version_minor": 0
      },
      "text/plain": [
       "HBox(children=(FloatProgress(value=0.0, description='aia_lev1_304a_2015_07_12t00_00_06_12z_image_lev1.fits', m…"
      ]
     },
     "metadata": {},
     "output_type": "display_data"
    },
    {
     "data": {
      "application/vnd.jupyter.widget-view+json": {
       "model_id": "6e6f0cbaf62c4381b55444c43cac3d05",
       "version_major": 2,
       "version_minor": 0
      },
      "text/plain": [
       "HBox(children=(FloatProgress(value=0.0, description='aia_lev1_304a_2015_07_12t12_00_06_12z_image_lev1.fits', m…"
      ]
     },
     "metadata": {},
     "output_type": "display_data"
    },
    {
     "data": {
      "application/vnd.jupyter.widget-view+json": {
       "model_id": "13921ef64861480cb65298332a61325f",
       "version_major": 2,
       "version_minor": 0
      },
      "text/plain": [
       "HBox(children=(FloatProgress(value=0.0, description='aia_lev1_304a_2015_07_13t00_00_06_12z_image_lev1.fits', m…"
      ]
     },
     "metadata": {},
     "output_type": "display_data"
    },
    {
     "data": {
      "application/vnd.jupyter.widget-view+json": {
       "model_id": "bf8bafc13ab4447a9d5896c278cfdb7e",
       "version_major": 2,
       "version_minor": 0
      },
      "text/plain": [
       "HBox(children=(FloatProgress(value=0.0, description='aia_lev1_304a_2015_07_13t12_00_06_12z_image_lev1.fits', m…"
      ]
     },
     "metadata": {},
     "output_type": "display_data"
    },
    {
     "data": {
      "application/vnd.jupyter.widget-view+json": {
       "model_id": "050e58fbd0be436a89b384e82d10596e",
       "version_major": 2,
       "version_minor": 0
      },
      "text/plain": [
       "HBox(children=(FloatProgress(value=0.0, description='aia_lev1_304a_2015_07_14t00_00_06_12z_image_lev1.fits', m…"
      ]
     },
     "metadata": {},
     "output_type": "display_data"
    },
    {
     "data": {
      "application/vnd.jupyter.widget-view+json": {
       "model_id": "3f176b4ce17e4fdabcdf87b32bd3fc8c",
       "version_major": 2,
       "version_minor": 0
      },
      "text/plain": [
       "HBox(children=(FloatProgress(value=0.0, description='aia_lev1_304a_2015_07_15t00_00_06_12z_image_lev1.fits', m…"
      ]
     },
     "metadata": {},
     "output_type": "display_data"
    },
    {
     "data": {
      "application/vnd.jupyter.widget-view+json": {
       "model_id": "e837659003b14ef08cfa63b7b7d59bd7",
       "version_major": 2,
       "version_minor": 0
      },
      "text/plain": [
       "HBox(children=(FloatProgress(value=0.0, description='aia_lev1_304a_2015_07_14t12_00_06_12z_image_lev1.fits', m…"
      ]
     },
     "metadata": {},
     "output_type": "display_data"
    },
    {
     "data": {
      "application/vnd.jupyter.widget-view+json": {
       "model_id": "ffe6b788c9ad40358a2eb88684d0b9a1",
       "version_major": 2,
       "version_minor": 0
      },
      "text/plain": [
       "HBox(children=(FloatProgress(value=0.0, description='aia_lev1_304a_2015_07_15t12_00_06_12z_image_lev1.fits', m…"
      ]
     },
     "metadata": {},
     "output_type": "display_data"
    },
    {
     "data": {
      "application/vnd.jupyter.widget-view+json": {
       "model_id": "356580786c9340fab51e3b78e5d40cbe",
       "version_major": 2,
       "version_minor": 0
      },
      "text/plain": [
       "HBox(children=(FloatProgress(value=0.0, description='aia_lev1_304a_2015_07_16t00_00_06_12z_image_lev1.fits', m…"
      ]
     },
     "metadata": {},
     "output_type": "display_data"
    },
    {
     "data": {
      "application/vnd.jupyter.widget-view+json": {
       "model_id": "359d93398b774aaa87449ce5927954c2",
       "version_major": 2,
       "version_minor": 0
      },
      "text/plain": [
       "HBox(children=(FloatProgress(value=0.0, description='aia_lev1_304a_2015_07_16t12_00_06_13z_image_lev1.fits', m…"
      ]
     },
     "metadata": {},
     "output_type": "display_data"
    },
    {
     "data": {
      "application/vnd.jupyter.widget-view+json": {
       "model_id": "6730d7cbfeb14aea8fa518e7d9a39d67",
       "version_major": 2,
       "version_minor": 0
      },
      "text/plain": [
       "HBox(children=(FloatProgress(value=0.0, description='aia_lev1_304a_2015_07_17t00_00_06_12z_image_lev1.fits', m…"
      ]
     },
     "metadata": {},
     "output_type": "display_data"
    },
    {
     "data": {
      "application/vnd.jupyter.widget-view+json": {
       "model_id": "8fe1d7d314964634acf39c8b61af44eb",
       "version_major": 2,
       "version_minor": 0
      },
      "text/plain": [
       "HBox(children=(FloatProgress(value=0.0, description='aia_lev1_304a_2015_07_17t12_00_06_12z_image_lev1.fits', m…"
      ]
     },
     "metadata": {},
     "output_type": "display_data"
    },
    {
     "data": {
      "application/vnd.jupyter.widget-view+json": {
       "model_id": "00f2b56dc2d94c8783cea59dfbd8a8bd",
       "version_major": 2,
       "version_minor": 0
      },
      "text/plain": [
       "HBox(children=(FloatProgress(value=0.0, description='aia_lev1_304a_2015_07_18t00_00_06_12z_image_lev1.fits', m…"
      ]
     },
     "metadata": {},
     "output_type": "display_data"
    },
    {
     "data": {
      "application/vnd.jupyter.widget-view+json": {
       "model_id": "9f8e4f645e474a1885292312830e1932",
       "version_major": 2,
       "version_minor": 0
      },
      "text/plain": [
       "HBox(children=(FloatProgress(value=0.0, description='aia_lev1_304a_2015_07_18t12_00_06_13z_image_lev1.fits', m…"
      ]
     },
     "metadata": {},
     "output_type": "display_data"
    },
    {
     "data": {
      "application/vnd.jupyter.widget-view+json": {
       "model_id": "219ed2098c244cd7af918634b0add3ce",
       "version_major": 2,
       "version_minor": 0
      },
      "text/plain": [
       "HBox(children=(FloatProgress(value=0.0, description='aia_lev1_304a_2015_07_19t00_00_06_12z_image_lev1.fits', m…"
      ]
     },
     "metadata": {},
     "output_type": "display_data"
    },
    {
     "data": {
      "application/vnd.jupyter.widget-view+json": {
       "model_id": "4ea40758175c418f980db070139f17fa",
       "version_major": 2,
       "version_minor": 0
      },
      "text/plain": [
       "HBox(children=(FloatProgress(value=0.0, description='aia_lev1_304a_2015_07_19t12_00_06_12z_image_lev1.fits', m…"
      ]
     },
     "metadata": {},
     "output_type": "display_data"
    },
    {
     "data": {
      "application/vnd.jupyter.widget-view+json": {
       "model_id": "99bcf2cea5fc4444a754902f08c80635",
       "version_major": 2,
       "version_minor": 0
      },
      "text/plain": [
       "HBox(children=(FloatProgress(value=0.0, description='aia_lev1_304a_2015_07_20t00_00_06_13z_image_lev1.fits', m…"
      ]
     },
     "metadata": {},
     "output_type": "display_data"
    },
    {
     "data": {
      "application/vnd.jupyter.widget-view+json": {
       "model_id": "2fe353db155440aa9b3caee7c76f0050",
       "version_major": 2,
       "version_minor": 0
      },
      "text/plain": [
       "HBox(children=(FloatProgress(value=0.0, description='aia_lev1_304a_2015_07_20t12_00_06_12z_image_lev1.fits', m…"
      ]
     },
     "metadata": {},
     "output_type": "display_data"
    },
    {
     "data": {
      "application/vnd.jupyter.widget-view+json": {
       "model_id": "b951cb9da2614d8fab05c86b5b70a0d0",
       "version_major": 2,
       "version_minor": 0
      },
      "text/plain": [
       "HBox(children=(FloatProgress(value=0.0, description='aia_lev1_304a_2015_07_21t00_00_06_12z_image_lev1.fits', m…"
      ]
     },
     "metadata": {},
     "output_type": "display_data"
    },
    {
     "data": {
      "application/vnd.jupyter.widget-view+json": {
       "model_id": "c165435ffc2444ddad4bdd53d4b3dc9c",
       "version_major": 2,
       "version_minor": 0
      },
      "text/plain": [
       "HBox(children=(FloatProgress(value=0.0, description='aia_lev1_304a_2015_07_21t12_00_06_12z_image_lev1.fits', m…"
      ]
     },
     "metadata": {},
     "output_type": "display_data"
    },
    {
     "data": {
      "application/vnd.jupyter.widget-view+json": {
       "model_id": "93eeaff91e224a0abce8d9d9b8c9e6b7",
       "version_major": 2,
       "version_minor": 0
      },
      "text/plain": [
       "HBox(children=(FloatProgress(value=0.0, description='aia_lev1_304a_2015_07_22t00_00_06_12z_image_lev1.fits', m…"
      ]
     },
     "metadata": {},
     "output_type": "display_data"
    },
    {
     "data": {
      "application/vnd.jupyter.widget-view+json": {
       "model_id": "c3c8f5d01a2e40a0b88ab7f91eb4ec59",
       "version_major": 2,
       "version_minor": 0
      },
      "text/plain": [
       "HBox(children=(FloatProgress(value=0.0, description='aia_lev1_304a_2015_07_22t12_00_06_12z_image_lev1.fits', m…"
      ]
     },
     "metadata": {},
     "output_type": "display_data"
    },
    {
     "data": {
      "application/vnd.jupyter.widget-view+json": {
       "model_id": "7183793fdd11480a81eb88e2b75fbe98",
       "version_major": 2,
       "version_minor": 0
      },
      "text/plain": [
       "HBox(children=(FloatProgress(value=0.0, description='aia_lev1_304a_2015_07_23t00_00_06_12z_image_lev1.fits', m…"
      ]
     },
     "metadata": {},
     "output_type": "display_data"
    },
    {
     "data": {
      "application/vnd.jupyter.widget-view+json": {
       "model_id": "cb98de7702134de4bba304f86b79b20a",
       "version_major": 2,
       "version_minor": 0
      },
      "text/plain": [
       "HBox(children=(FloatProgress(value=0.0, description='aia_lev1_304a_2015_07_23t12_00_06_12z_image_lev1.fits', m…"
      ]
     },
     "metadata": {},
     "output_type": "display_data"
    },
    {
     "data": {
      "application/vnd.jupyter.widget-view+json": {
       "model_id": "cad7657f1b5548ac834e3f13a1744be8",
       "version_major": 2,
       "version_minor": 0
      },
      "text/plain": [
       "HBox(children=(FloatProgress(value=0.0, description='aia_lev1_304a_2015_07_24t00_00_06_14z_image_lev1.fits', m…"
      ]
     },
     "metadata": {},
     "output_type": "display_data"
    },
    {
     "data": {
      "application/vnd.jupyter.widget-view+json": {
       "model_id": "d976656efa1949e18fb282ffd099292e",
       "version_major": 2,
       "version_minor": 0
      },
      "text/plain": [
       "HBox(children=(FloatProgress(value=0.0, description='aia_lev1_304a_2015_07_24t12_00_06_12z_image_lev1.fits', m…"
      ]
     },
     "metadata": {},
     "output_type": "display_data"
    },
    {
     "data": {
      "application/vnd.jupyter.widget-view+json": {
       "model_id": "f3a19b926b2540a094e803e01c065dfc",
       "version_major": 2,
       "version_minor": 0
      },
      "text/plain": [
       "HBox(children=(FloatProgress(value=0.0, description='aia_lev1_304a_2015_07_25t00_00_06_12z_image_lev1.fits', m…"
      ]
     },
     "metadata": {},
     "output_type": "display_data"
    },
    {
     "data": {
      "application/vnd.jupyter.widget-view+json": {
       "model_id": "dbe1cbcf7de843889b948980ec222d8b",
       "version_major": 2,
       "version_minor": 0
      },
      "text/plain": [
       "HBox(children=(FloatProgress(value=0.0, description='aia_lev1_304a_2015_07_25t12_00_06_13z_image_lev1.fits', m…"
      ]
     },
     "metadata": {},
     "output_type": "display_data"
    },
    {
     "data": {
      "application/vnd.jupyter.widget-view+json": {
       "model_id": "3b745f6393bb47579d809c6b47dfc38c",
       "version_major": 2,
       "version_minor": 0
      },
      "text/plain": [
       "HBox(children=(FloatProgress(value=0.0, description='aia_lev1_304a_2015_07_26t00_00_06_12z_image_lev1.fits', m…"
      ]
     },
     "metadata": {},
     "output_type": "display_data"
    },
    {
     "data": {
      "application/vnd.jupyter.widget-view+json": {
       "model_id": "ce17b104135e4d52bc5ef3dc186effd3",
       "version_major": 2,
       "version_minor": 0
      },
      "text/plain": [
       "HBox(children=(FloatProgress(value=0.0, description='aia_lev1_304a_2015_07_26t12_00_06_12z_image_lev1.fits', m…"
      ]
     },
     "metadata": {},
     "output_type": "display_data"
    },
    {
     "data": {
      "application/vnd.jupyter.widget-view+json": {
       "model_id": "641b64065136468caab0c0a6f6a3fc9d",
       "version_major": 2,
       "version_minor": 0
      },
      "text/plain": [
       "HBox(children=(FloatProgress(value=0.0, description='aia_lev1_304a_2015_07_27t00_00_06_14z_image_lev1.fits', m…"
      ]
     },
     "metadata": {},
     "output_type": "display_data"
    },
    {
     "data": {
      "application/vnd.jupyter.widget-view+json": {
       "model_id": "1d9a9f1447de4b9ba4ba285447099c7f",
       "version_major": 2,
       "version_minor": 0
      },
      "text/plain": [
       "HBox(children=(FloatProgress(value=0.0, description='aia_lev1_304a_2015_07_27t12_00_06_12z_image_lev1.fits', m…"
      ]
     },
     "metadata": {},
     "output_type": "display_data"
    },
    {
     "data": {
      "application/vnd.jupyter.widget-view+json": {
       "model_id": "9dffce14f7844187bc7329df945f206a",
       "version_major": 2,
       "version_minor": 0
      },
      "text/plain": [
       "HBox(children=(FloatProgress(value=0.0, description='aia_lev1_304a_2015_07_28t00_00_06_12z_image_lev1.fits', m…"
      ]
     },
     "metadata": {},
     "output_type": "display_data"
    },
    {
     "data": {
      "application/vnd.jupyter.widget-view+json": {
       "model_id": "2adc9f2d8aa34046b2a79ea034df7e58",
       "version_major": 2,
       "version_minor": 0
      },
      "text/plain": [
       "HBox(children=(FloatProgress(value=0.0, description='aia_lev1_304a_2015_07_28t12_00_06_12z_image_lev1.fits', m…"
      ]
     },
     "metadata": {},
     "output_type": "display_data"
    },
    {
     "data": {
      "application/vnd.jupyter.widget-view+json": {
       "model_id": "ffbf7beb5e554d73abf9f01a90838c89",
       "version_major": 2,
       "version_minor": 0
      },
      "text/plain": [
       "HBox(children=(FloatProgress(value=0.0, description='aia_lev1_304a_2015_07_29t00_00_06_12z_image_lev1.fits', m…"
      ]
     },
     "metadata": {},
     "output_type": "display_data"
    },
    {
     "data": {
      "application/vnd.jupyter.widget-view+json": {
       "model_id": "68f2f65ade2e4b24891e6d585bddac20",
       "version_major": 2,
       "version_minor": 0
      },
      "text/plain": [
       "HBox(children=(FloatProgress(value=0.0, description='aia_lev1_304a_2015_07_29t12_00_06_12z_image_lev1.fits', m…"
      ]
     },
     "metadata": {},
     "output_type": "display_data"
    },
    {
     "data": {
      "application/vnd.jupyter.widget-view+json": {
       "model_id": "5b83e766722a4e86a443d7400284b3b7",
       "version_major": 2,
       "version_minor": 0
      },
      "text/plain": [
       "HBox(children=(FloatProgress(value=0.0, description='aia_lev1_304a_2015_07_30t00_00_06_12z_image_lev1.fits', m…"
      ]
     },
     "metadata": {},
     "output_type": "display_data"
    },
    {
     "data": {
      "application/vnd.jupyter.widget-view+json": {
       "model_id": "91b5a7ace6764991abeeeb1ecf1d4389",
       "version_major": 2,
       "version_minor": 0
      },
      "text/plain": [
       "HBox(children=(FloatProgress(value=0.0, description='aia_lev1_304a_2015_07_30t12_00_06_13z_image_lev1.fits', m…"
      ]
     },
     "metadata": {},
     "output_type": "display_data"
    },
    {
     "data": {
      "application/vnd.jupyter.widget-view+json": {
       "model_id": "58d55a35a7f24e2aaf35d8dfddbd0456",
       "version_major": 2,
       "version_minor": 0
      },
      "text/plain": [
       "HBox(children=(FloatProgress(value=0.0, description='aia_lev1_304a_2015_07_31t00_00_06_12z_image_lev1.fits', m…"
      ]
     },
     "metadata": {},
     "output_type": "display_data"
    },
    {
     "data": {
      "application/vnd.jupyter.widget-view+json": {
       "model_id": "6717d3db7aea491b84f91f55c12c48ce",
       "version_major": 2,
       "version_minor": 0
      },
      "text/plain": [
       "HBox(children=(FloatProgress(value=0.0, description='aia_lev1_304a_2015_07_31t12_00_06_12z_image_lev1.fits', m…"
      ]
     },
     "metadata": {},
     "output_type": "display_data"
    },
    {
     "data": {
      "application/vnd.jupyter.widget-view+json": {
       "model_id": "85295e33045241919724c005d6e7e5f7",
       "version_major": 2,
       "version_minor": 0
      },
      "text/plain": [
       "HBox(children=(FloatProgress(value=0.0, description='aia_lev1_304a_2015_08_01t00_00_06_12z_image_lev1.fits', m…"
      ]
     },
     "metadata": {},
     "output_type": "display_data"
    },
    {
     "data": {
      "application/vnd.jupyter.widget-view+json": {
       "model_id": "00ae17a901444ca8892d801eaabb8134",
       "version_major": 2,
       "version_minor": 0
      },
      "text/plain": [
       "HBox(children=(FloatProgress(value=0.0, description='aia_lev1_304a_2015_08_01t12_00_06_12z_image_lev1.fits', m…"
      ]
     },
     "metadata": {},
     "output_type": "display_data"
    },
    {
     "data": {
      "application/vnd.jupyter.widget-view+json": {
       "model_id": "2fd8226b74cd4d90a9a34019d19ed1e6",
       "version_major": 2,
       "version_minor": 0
      },
      "text/plain": [
       "HBox(children=(FloatProgress(value=0.0, description='aia_lev1_304a_2015_08_02t00_00_06_12z_image_lev1.fits', m…"
      ]
     },
     "metadata": {},
     "output_type": "display_data"
    },
    {
     "data": {
      "application/vnd.jupyter.widget-view+json": {
       "model_id": "bd6b7d33dd9749f28d264b5707118f1b",
       "version_major": 2,
       "version_minor": 0
      },
      "text/plain": [
       "HBox(children=(FloatProgress(value=0.0, description='aia_lev1_304a_2015_08_02t12_00_06_12z_image_lev1.fits', m…"
      ]
     },
     "metadata": {},
     "output_type": "display_data"
    },
    {
     "data": {
      "application/vnd.jupyter.widget-view+json": {
       "model_id": "2ecd2c5f160944a98c1ec1d3cc65a579",
       "version_major": 2,
       "version_minor": 0
      },
      "text/plain": [
       "HBox(children=(FloatProgress(value=0.0, description='aia_lev1_304a_2015_08_03t00_00_06_12z_image_lev1.fits', m…"
      ]
     },
     "metadata": {},
     "output_type": "display_data"
    },
    {
     "data": {
      "application/vnd.jupyter.widget-view+json": {
       "model_id": "844a54fcb71b4b4abd5fd3384e5c8190",
       "version_major": 2,
       "version_minor": 0
      },
      "text/plain": [
       "HBox(children=(FloatProgress(value=0.0, description='aia_lev1_304a_2015_08_03t12_00_06_12z_image_lev1.fits', m…"
      ]
     },
     "metadata": {},
     "output_type": "display_data"
    },
    {
     "data": {
      "application/vnd.jupyter.widget-view+json": {
       "model_id": "ecf3d01c96984f5c86aa3eb64a1ae0b9",
       "version_major": 2,
       "version_minor": 0
      },
      "text/plain": [
       "HBox(children=(FloatProgress(value=0.0, description='aia_lev1_304a_2015_08_04t00_00_06_12z_image_lev1.fits', m…"
      ]
     },
     "metadata": {},
     "output_type": "display_data"
    },
    {
     "data": {
      "application/vnd.jupyter.widget-view+json": {
       "model_id": "8f4a7a8def664ac9809554df853a40a7",
       "version_major": 2,
       "version_minor": 0
      },
      "text/plain": [
       "HBox(children=(FloatProgress(value=0.0, description='aia_lev1_304a_2015_08_04t12_00_06_12z_image_lev1.fits', m…"
      ]
     },
     "metadata": {},
     "output_type": "display_data"
    },
    {
     "data": {
      "application/vnd.jupyter.widget-view+json": {
       "model_id": "6c006f150c4e49eab4d1a9acee6a996d",
       "version_major": 2,
       "version_minor": 0
      },
      "text/plain": [
       "HBox(children=(FloatProgress(value=0.0, description='aia_lev1_304a_2015_08_05t00_00_06_13z_image_lev1.fits', m…"
      ]
     },
     "metadata": {},
     "output_type": "display_data"
    },
    {
     "data": {
      "application/vnd.jupyter.widget-view+json": {
       "model_id": "5337a4e3e0ea438b9dc439c8125e938e",
       "version_major": 2,
       "version_minor": 0
      },
      "text/plain": [
       "HBox(children=(FloatProgress(value=0.0, description='aia_lev1_304a_2015_08_05t12_00_06_12z_image_lev1.fits', m…"
      ]
     },
     "metadata": {},
     "output_type": "display_data"
    },
    {
     "data": {
      "application/vnd.jupyter.widget-view+json": {
       "model_id": "214f9658b93e43e0960b2d6ce9c6a80a",
       "version_major": 2,
       "version_minor": 0
      },
      "text/plain": [
       "HBox(children=(FloatProgress(value=0.0, description='aia_lev1_304a_2015_08_06t00_00_06_12z_image_lev1.fits', m…"
      ]
     },
     "metadata": {},
     "output_type": "display_data"
    },
    {
     "data": {
      "application/vnd.jupyter.widget-view+json": {
       "model_id": "975d155c84034125a0a08ff6add275ad",
       "version_major": 2,
       "version_minor": 0
      },
      "text/plain": [
       "HBox(children=(FloatProgress(value=0.0, description='aia_lev1_304a_2015_08_06t12_00_06_12z_image_lev1.fits', m…"
      ]
     },
     "metadata": {},
     "output_type": "display_data"
    },
    {
     "data": {
      "application/vnd.jupyter.widget-view+json": {
       "model_id": "3307f4a4fb834364b847b09840a13cea",
       "version_major": 2,
       "version_minor": 0
      },
      "text/plain": [
       "HBox(children=(FloatProgress(value=0.0, description='aia_lev1_304a_2015_08_07t00_00_06_14z_image_lev1.fits', m…"
      ]
     },
     "metadata": {},
     "output_type": "display_data"
    },
    {
     "data": {
      "application/vnd.jupyter.widget-view+json": {
       "model_id": "33aafca2f1a44db7aa18789741ddfac3",
       "version_major": 2,
       "version_minor": 0
      },
      "text/plain": [
       "HBox(children=(FloatProgress(value=0.0, description='aia_lev1_304a_2015_08_07t12_00_06_13z_image_lev1.fits', m…"
      ]
     },
     "metadata": {},
     "output_type": "display_data"
    },
    {
     "data": {
      "application/vnd.jupyter.widget-view+json": {
       "model_id": "72f29bfc83f44ec39f1a8baa3467d8d7",
       "version_major": 2,
       "version_minor": 0
      },
      "text/plain": [
       "HBox(children=(FloatProgress(value=0.0, description='aia_lev1_304a_2015_08_08t00_00_06_12z_image_lev1.fits', m…"
      ]
     },
     "metadata": {},
     "output_type": "display_data"
    },
    {
     "data": {
      "application/vnd.jupyter.widget-view+json": {
       "model_id": "3069be52e4e9415baa0d229f32cf133b",
       "version_major": 2,
       "version_minor": 0
      },
      "text/plain": [
       "HBox(children=(FloatProgress(value=0.0, description='aia_lev1_304a_2015_08_08t12_00_06_14z_image_lev1.fits', m…"
      ]
     },
     "metadata": {},
     "output_type": "display_data"
    },
    {
     "data": {
      "application/vnd.jupyter.widget-view+json": {
       "model_id": "a83b9380b3c644e4ba9babd6bba0418e",
       "version_major": 2,
       "version_minor": 0
      },
      "text/plain": [
       "HBox(children=(FloatProgress(value=0.0, description='aia_lev1_304a_2015_08_09t00_00_06_14z_image_lev1.fits', m…"
      ]
     },
     "metadata": {},
     "output_type": "display_data"
    },
    {
     "data": {
      "application/vnd.jupyter.widget-view+json": {
       "model_id": "1da50ff2dbad4d39afc7c7fd928e500e",
       "version_major": 2,
       "version_minor": 0
      },
      "text/plain": [
       "HBox(children=(FloatProgress(value=0.0, description='aia_lev1_304a_2015_08_09t12_00_06_12z_image_lev1.fits', m…"
      ]
     },
     "metadata": {},
     "output_type": "display_data"
    },
    {
     "data": {
      "application/vnd.jupyter.widget-view+json": {
       "model_id": "d798fb566c0247b3b7304267560501f6",
       "version_major": 2,
       "version_minor": 0
      },
      "text/plain": [
       "HBox(children=(FloatProgress(value=0.0, description='aia_lev1_304a_2015_08_10t00_00_06_12z_image_lev1.fits', m…"
      ]
     },
     "metadata": {},
     "output_type": "display_data"
    },
    {
     "data": {
      "application/vnd.jupyter.widget-view+json": {
       "model_id": "d856e46c9e05483a86a49e73e5afc3f9",
       "version_major": 2,
       "version_minor": 0
      },
      "text/plain": [
       "HBox(children=(FloatProgress(value=0.0, description='aia_lev1_304a_2015_08_10t12_00_06_12z_image_lev1.fits', m…"
      ]
     },
     "metadata": {},
     "output_type": "display_data"
    },
    {
     "data": {
      "application/vnd.jupyter.widget-view+json": {
       "model_id": "a196a888c7784c42b69285fb72ae0cab",
       "version_major": 2,
       "version_minor": 0
      },
      "text/plain": [
       "HBox(children=(FloatProgress(value=0.0, description='aia_lev1_304a_2015_08_11t00_00_06_14z_image_lev1.fits', m…"
      ]
     },
     "metadata": {},
     "output_type": "display_data"
    },
    {
     "data": {
      "application/vnd.jupyter.widget-view+json": {
       "model_id": "82fce0530e4b4ba1a5c460e6743c48d5",
       "version_major": 2,
       "version_minor": 0
      },
      "text/plain": [
       "HBox(children=(FloatProgress(value=0.0, description='aia_lev1_304a_2015_08_11t12_00_06_12z_image_lev1.fits', m…"
      ]
     },
     "metadata": {},
     "output_type": "display_data"
    },
    {
     "data": {
      "application/vnd.jupyter.widget-view+json": {
       "model_id": "9ecc55a630b441a19b3065b0ecce2b42",
       "version_major": 2,
       "version_minor": 0
      },
      "text/plain": [
       "HBox(children=(FloatProgress(value=0.0, description='aia_lev1_304a_2015_08_12t00_00_06_14z_image_lev1.fits', m…"
      ]
     },
     "metadata": {},
     "output_type": "display_data"
    },
    {
     "data": {
      "application/vnd.jupyter.widget-view+json": {
       "model_id": "9ecc07de67a447d3a2b10706434cee69",
       "version_major": 2,
       "version_minor": 0
      },
      "text/plain": [
       "HBox(children=(FloatProgress(value=0.0, description='aia_lev1_304a_2015_08_12t12_00_06_14z_image_lev1.fits', m…"
      ]
     },
     "metadata": {},
     "output_type": "display_data"
    },
    {
     "data": {
      "application/vnd.jupyter.widget-view+json": {
       "model_id": "d92eaa8011544d49900df36ac2474fb9",
       "version_major": 2,
       "version_minor": 0
      },
      "text/plain": [
       "HBox(children=(FloatProgress(value=0.0, description='aia_lev1_304a_2015_08_13t00_00_06_14z_image_lev1.fits', m…"
      ]
     },
     "metadata": {},
     "output_type": "display_data"
    },
    {
     "data": {
      "application/vnd.jupyter.widget-view+json": {
       "model_id": "2d1b361816ad464fb707dc237a4f427f",
       "version_major": 2,
       "version_minor": 0
      },
      "text/plain": [
       "HBox(children=(FloatProgress(value=0.0, description='aia_lev1_304a_2015_08_13t12_00_06_12z_image_lev1.fits', m…"
      ]
     },
     "metadata": {},
     "output_type": "display_data"
    },
    {
     "data": {
      "application/vnd.jupyter.widget-view+json": {
       "model_id": "4ee0af163d664db0b8324ad40e362930",
       "version_major": 2,
       "version_minor": 0
      },
      "text/plain": [
       "HBox(children=(FloatProgress(value=0.0, description='aia_lev1_304a_2015_08_14t00_00_06_12z_image_lev1.fits', m…"
      ]
     },
     "metadata": {},
     "output_type": "display_data"
    },
    {
     "data": {
      "application/vnd.jupyter.widget-view+json": {
       "model_id": "8045d26a95d24e108a01f7c3f7b7c92a",
       "version_major": 2,
       "version_minor": 0
      },
      "text/plain": [
       "HBox(children=(FloatProgress(value=0.0, description='aia_lev1_304a_2015_08_14t12_00_06_13z_image_lev1.fits', m…"
      ]
     },
     "metadata": {},
     "output_type": "display_data"
    },
    {
     "data": {
      "application/vnd.jupyter.widget-view+json": {
       "model_id": "796edd2c1e6c4b60b85b81dfbc79e380",
       "version_major": 2,
       "version_minor": 0
      },
      "text/plain": [
       "HBox(children=(FloatProgress(value=0.0, description='aia_lev1_304a_2015_08_15t00_00_06_12z_image_lev1.fits', m…"
      ]
     },
     "metadata": {},
     "output_type": "display_data"
    },
    {
     "data": {
      "application/vnd.jupyter.widget-view+json": {
       "model_id": "1cf68df7dba246c2acf038910d3fe0be",
       "version_major": 2,
       "version_minor": 0
      },
      "text/plain": [
       "HBox(children=(FloatProgress(value=0.0, description='aia_lev1_304a_2015_08_15t12_00_06_13z_image_lev1.fits', m…"
      ]
     },
     "metadata": {},
     "output_type": "display_data"
    },
    {
     "data": {
      "application/vnd.jupyter.widget-view+json": {
       "model_id": "1b70b2a7a8d944f88add43aacd0a7ab8",
       "version_major": 2,
       "version_minor": 0
      },
      "text/plain": [
       "HBox(children=(FloatProgress(value=0.0, description='aia_lev1_304a_2015_08_16t00_00_06_12z_image_lev1.fits', m…"
      ]
     },
     "metadata": {},
     "output_type": "display_data"
    },
    {
     "data": {
      "application/vnd.jupyter.widget-view+json": {
       "model_id": "f0112f4a031642b9844728044aa02665",
       "version_major": 2,
       "version_minor": 0
      },
      "text/plain": [
       "HBox(children=(FloatProgress(value=0.0, description='aia_lev1_304a_2015_08_16t12_00_06_12z_image_lev1.fits', m…"
      ]
     },
     "metadata": {},
     "output_type": "display_data"
    },
    {
     "data": {
      "application/vnd.jupyter.widget-view+json": {
       "model_id": "ac57af9e5e7f4dad95f0319808d4bcbb",
       "version_major": 2,
       "version_minor": 0
      },
      "text/plain": [
       "HBox(children=(FloatProgress(value=0.0, description='aia_lev1_304a_2015_08_17t00_00_06_12z_image_lev1.fits', m…"
      ]
     },
     "metadata": {},
     "output_type": "display_data"
    },
    {
     "data": {
      "application/vnd.jupyter.widget-view+json": {
       "model_id": "c186c788760748b8b18351afec405c3b",
       "version_major": 2,
       "version_minor": 0
      },
      "text/plain": [
       "HBox(children=(FloatProgress(value=0.0, description='aia_lev1_304a_2015_08_17t12_00_06_13z_image_lev1.fits', m…"
      ]
     },
     "metadata": {},
     "output_type": "display_data"
    },
    {
     "data": {
      "application/vnd.jupyter.widget-view+json": {
       "model_id": "aa07d2c725ab4624a49dea42f65005f4",
       "version_major": 2,
       "version_minor": 0
      },
      "text/plain": [
       "HBox(children=(FloatProgress(value=0.0, description='aia_lev1_304a_2015_08_18t00_00_06_12z_image_lev1.fits', m…"
      ]
     },
     "metadata": {},
     "output_type": "display_data"
    },
    {
     "data": {
      "application/vnd.jupyter.widget-view+json": {
       "model_id": "6639df1023d74fb4bab687cbbc675aeb",
       "version_major": 2,
       "version_minor": 0
      },
      "text/plain": [
       "HBox(children=(FloatProgress(value=0.0, description='aia_lev1_304a_2015_08_18t12_00_06_12z_image_lev1.fits', m…"
      ]
     },
     "metadata": {},
     "output_type": "display_data"
    },
    {
     "data": {
      "application/vnd.jupyter.widget-view+json": {
       "model_id": "8e2a65cc59d644bf812b9de5774d02ce",
       "version_major": 2,
       "version_minor": 0
      },
      "text/plain": [
       "HBox(children=(FloatProgress(value=0.0, description='aia_lev1_304a_2015_08_19t00_00_06_12z_image_lev1.fits', m…"
      ]
     },
     "metadata": {},
     "output_type": "display_data"
    },
    {
     "data": {
      "application/vnd.jupyter.widget-view+json": {
       "model_id": "403a37c5e76c4b228c7d634e6998a680",
       "version_major": 2,
       "version_minor": 0
      },
      "text/plain": [
       "HBox(children=(FloatProgress(value=0.0, description='aia_lev1_304a_2015_08_19t12_00_06_12z_image_lev1.fits', m…"
      ]
     },
     "metadata": {},
     "output_type": "display_data"
    },
    {
     "data": {
      "application/vnd.jupyter.widget-view+json": {
       "model_id": "4720e55751d742368b17a364fa38cb53",
       "version_major": 2,
       "version_minor": 0
      },
      "text/plain": [
       "HBox(children=(FloatProgress(value=0.0, description='aia_lev1_304a_2015_08_20t00_00_06_12z_image_lev1.fits', m…"
      ]
     },
     "metadata": {},
     "output_type": "display_data"
    },
    {
     "data": {
      "application/vnd.jupyter.widget-view+json": {
       "model_id": "97d615bb37cc4fd5a5f762de83888aa3",
       "version_major": 2,
       "version_minor": 0
      },
      "text/plain": [
       "HBox(children=(FloatProgress(value=0.0, description='aia_lev1_304a_2015_08_20t12_00_06_12z_image_lev1.fits', m…"
      ]
     },
     "metadata": {},
     "output_type": "display_data"
    },
    {
     "data": {
      "application/vnd.jupyter.widget-view+json": {
       "model_id": "0cda35861c09473fb6cf9819632da8c1",
       "version_major": 2,
       "version_minor": 0
      },
      "text/plain": [
       "HBox(children=(FloatProgress(value=0.0, description='aia_lev1_304a_2015_08_21t00_00_06_12z_image_lev1.fits', m…"
      ]
     },
     "metadata": {},
     "output_type": "display_data"
    },
    {
     "data": {
      "application/vnd.jupyter.widget-view+json": {
       "model_id": "decf84f7b4ec4e65bae19ade29080516",
       "version_major": 2,
       "version_minor": 0
      },
      "text/plain": [
       "HBox(children=(FloatProgress(value=0.0, description='aia_lev1_304a_2015_08_21t12_00_06_12z_image_lev1.fits', m…"
      ]
     },
     "metadata": {},
     "output_type": "display_data"
    },
    {
     "data": {
      "application/vnd.jupyter.widget-view+json": {
       "model_id": "4c353b71d7e54645858ef36a642467c8",
       "version_major": 2,
       "version_minor": 0
      },
      "text/plain": [
       "HBox(children=(FloatProgress(value=0.0, description='aia_lev1_304a_2015_08_22t00_00_06_12z_image_lev1.fits', m…"
      ]
     },
     "metadata": {},
     "output_type": "display_data"
    },
    {
     "data": {
      "application/vnd.jupyter.widget-view+json": {
       "model_id": "eb984eda5d4c4751b03954989851d4cd",
       "version_major": 2,
       "version_minor": 0
      },
      "text/plain": [
       "HBox(children=(FloatProgress(value=0.0, description='aia_lev1_304a_2015_08_22t12_00_06_12z_image_lev1.fits', m…"
      ]
     },
     "metadata": {},
     "output_type": "display_data"
    },
    {
     "data": {
      "application/vnd.jupyter.widget-view+json": {
       "model_id": "897725cb457e40599ebdec675889919b",
       "version_major": 2,
       "version_minor": 0
      },
      "text/plain": [
       "HBox(children=(FloatProgress(value=0.0, description='aia_lev1_304a_2015_08_23t00_00_06_12z_image_lev1.fits', m…"
      ]
     },
     "metadata": {},
     "output_type": "display_data"
    },
    {
     "data": {
      "application/vnd.jupyter.widget-view+json": {
       "model_id": "a249289cfe1b48c58b23d7443ad1cb85",
       "version_major": 2,
       "version_minor": 0
      },
      "text/plain": [
       "HBox(children=(FloatProgress(value=0.0, description='aia_lev1_304a_2015_08_23t12_00_06_13z_image_lev1.fits', m…"
      ]
     },
     "metadata": {},
     "output_type": "display_data"
    },
    {
     "data": {
      "application/vnd.jupyter.widget-view+json": {
       "model_id": "c52cac033d0e467283d5191a92fdc16c",
       "version_major": 2,
       "version_minor": 0
      },
      "text/plain": [
       "HBox(children=(FloatProgress(value=0.0, description='aia_lev1_304a_2015_08_24t00_00_06_13z_image_lev1.fits', m…"
      ]
     },
     "metadata": {},
     "output_type": "display_data"
    },
    {
     "data": {
      "application/vnd.jupyter.widget-view+json": {
       "model_id": "b98e43a48beb453ea83030813516749c",
       "version_major": 2,
       "version_minor": 0
      },
      "text/plain": [
       "HBox(children=(FloatProgress(value=0.0, description='aia_lev1_304a_2015_08_24t12_00_06_12z_image_lev1.fits', m…"
      ]
     },
     "metadata": {},
     "output_type": "display_data"
    },
    {
     "data": {
      "application/vnd.jupyter.widget-view+json": {
       "model_id": "6988d1688f1a4ee9bfc25db8d8c02177",
       "version_major": 2,
       "version_minor": 0
      },
      "text/plain": [
       "HBox(children=(FloatProgress(value=0.0, description='aia_lev1_304a_2015_08_25t00_00_06_12z_image_lev1.fits', m…"
      ]
     },
     "metadata": {},
     "output_type": "display_data"
    },
    {
     "data": {
      "application/vnd.jupyter.widget-view+json": {
       "model_id": "f4d54dcfee184aa292dae002344636b6",
       "version_major": 2,
       "version_minor": 0
      },
      "text/plain": [
       "HBox(children=(FloatProgress(value=0.0, description='aia_lev1_304a_2015_08_25t12_00_06_12z_image_lev1.fits', m…"
      ]
     },
     "metadata": {},
     "output_type": "display_data"
    },
    {
     "data": {
      "application/vnd.jupyter.widget-view+json": {
       "model_id": "53f7acad57ec4f6494b9fc809d1a6e42",
       "version_major": 2,
       "version_minor": 0
      },
      "text/plain": [
       "HBox(children=(FloatProgress(value=0.0, description='aia_lev1_304a_2015_08_26t00_00_06_12z_image_lev1.fits', m…"
      ]
     },
     "metadata": {},
     "output_type": "display_data"
    },
    {
     "data": {
      "application/vnd.jupyter.widget-view+json": {
       "model_id": "33afd9e16f9543099d6246752db11634",
       "version_major": 2,
       "version_minor": 0
      },
      "text/plain": [
       "HBox(children=(FloatProgress(value=0.0, description='aia_lev1_304a_2015_08_26t12_00_06_13z_image_lev1.fits', m…"
      ]
     },
     "metadata": {},
     "output_type": "display_data"
    },
    {
     "data": {
      "application/vnd.jupyter.widget-view+json": {
       "model_id": "708ca2b4f8144e5988233aefb142caa9",
       "version_major": 2,
       "version_minor": 0
      },
      "text/plain": [
       "HBox(children=(FloatProgress(value=0.0, description='aia_lev1_304a_2015_08_27t00_00_06_12z_image_lev1.fits', m…"
      ]
     },
     "metadata": {},
     "output_type": "display_data"
    },
    {
     "data": {
      "application/vnd.jupyter.widget-view+json": {
       "model_id": "eaa7a2b88c544319893256b98868355c",
       "version_major": 2,
       "version_minor": 0
      },
      "text/plain": [
       "HBox(children=(FloatProgress(value=0.0, description='aia_lev1_304a_2015_08_27t12_00_06_12z_image_lev1.fits', m…"
      ]
     },
     "metadata": {},
     "output_type": "display_data"
    },
    {
     "data": {
      "application/vnd.jupyter.widget-view+json": {
       "model_id": "7d2d4bc0575c4dde97b78d8548f34e8d",
       "version_major": 2,
       "version_minor": 0
      },
      "text/plain": [
       "HBox(children=(FloatProgress(value=0.0, description='aia_lev1_304a_2015_08_28t00_00_06_13z_image_lev1.fits', m…"
      ]
     },
     "metadata": {},
     "output_type": "display_data"
    },
    {
     "data": {
      "application/vnd.jupyter.widget-view+json": {
       "model_id": "9cc40783834842448ada3f459395675d",
       "version_major": 2,
       "version_minor": 0
      },
      "text/plain": [
       "HBox(children=(FloatProgress(value=0.0, description='aia_lev1_304a_2015_08_28t12_00_06_13z_image_lev1.fits', m…"
      ]
     },
     "metadata": {},
     "output_type": "display_data"
    },
    {
     "data": {
      "application/vnd.jupyter.widget-view+json": {
       "model_id": "bad753aadda2447ea75653a30d5400c4",
       "version_major": 2,
       "version_minor": 0
      },
      "text/plain": [
       "HBox(children=(FloatProgress(value=0.0, description='aia_lev1_304a_2015_08_29t00_00_06_15z_image_lev1.fits', m…"
      ]
     },
     "metadata": {},
     "output_type": "display_data"
    },
    {
     "data": {
      "application/vnd.jupyter.widget-view+json": {
       "model_id": "a0175f9156a84d79a447454c9c6206d0",
       "version_major": 2,
       "version_minor": 0
      },
      "text/plain": [
       "HBox(children=(FloatProgress(value=0.0, description='aia_lev1_304a_2015_08_29t12_00_06_14z_image_lev1.fits', m…"
      ]
     },
     "metadata": {},
     "output_type": "display_data"
    },
    {
     "data": {
      "application/vnd.jupyter.widget-view+json": {
       "model_id": "23f551aad81c42d19265b745e5f1f88c",
       "version_major": 2,
       "version_minor": 0
      },
      "text/plain": [
       "HBox(children=(FloatProgress(value=0.0, description='aia_lev1_304a_2015_08_30t00_00_06_12z_image_lev1.fits', m…"
      ]
     },
     "metadata": {},
     "output_type": "display_data"
    },
    {
     "data": {
      "application/vnd.jupyter.widget-view+json": {
       "model_id": "3dcc08772386410789db94b7b3f21b73",
       "version_major": 2,
       "version_minor": 0
      },
      "text/plain": [
       "HBox(children=(FloatProgress(value=0.0, description='aia_lev1_304a_2015_08_30t12_00_06_12z_image_lev1.fits', m…"
      ]
     },
     "metadata": {},
     "output_type": "display_data"
    },
    {
     "data": {
      "application/vnd.jupyter.widget-view+json": {
       "model_id": "74bc947ea7da4986873ea2a61ccb592c",
       "version_major": 2,
       "version_minor": 0
      },
      "text/plain": [
       "HBox(children=(FloatProgress(value=0.0, description='aia_lev1_304a_2015_08_31t00_00_06_14z_image_lev1.fits', m…"
      ]
     },
     "metadata": {},
     "output_type": "display_data"
    },
    {
     "data": {
      "application/vnd.jupyter.widget-view+json": {
       "model_id": "339565dd96a94835b132eb2685a3a315",
       "version_major": 2,
       "version_minor": 0
      },
      "text/plain": [
       "HBox(children=(FloatProgress(value=0.0, description='aia_lev1_304a_2015_08_31t12_00_06_12z_image_lev1.fits', m…"
      ]
     },
     "metadata": {},
     "output_type": "display_data"
    },
    {
     "data": {
      "application/vnd.jupyter.widget-view+json": {
       "model_id": "44fa44d82f1e4b1996dbd9da6560fda4",
       "version_major": 2,
       "version_minor": 0
      },
      "text/plain": [
       "HBox(children=(FloatProgress(value=0.0, description='aia_lev1_304a_2015_09_01t00_00_06_12z_image_lev1.fits', m…"
      ]
     },
     "metadata": {},
     "output_type": "display_data"
    },
    {
     "data": {
      "application/vnd.jupyter.widget-view+json": {
       "model_id": "ca3ce937b11645ef91bb9db87ed95be7",
       "version_major": 2,
       "version_minor": 0
      },
      "text/plain": [
       "HBox(children=(FloatProgress(value=0.0, description='aia_lev1_304a_2015_09_01t12_00_06_13z_image_lev1.fits', m…"
      ]
     },
     "metadata": {},
     "output_type": "display_data"
    },
    {
     "data": {
      "application/vnd.jupyter.widget-view+json": {
       "model_id": "1474addab98a4f558b56276fbccf5e1d",
       "version_major": 2,
       "version_minor": 0
      },
      "text/plain": [
       "HBox(children=(FloatProgress(value=0.0, description='aia_lev1_304a_2015_09_02t00_00_06_12z_image_lev1.fits', m…"
      ]
     },
     "metadata": {},
     "output_type": "display_data"
    },
    {
     "data": {
      "application/vnd.jupyter.widget-view+json": {
       "model_id": "a7958498707d46138baff2401a5f16a4",
       "version_major": 2,
       "version_minor": 0
      },
      "text/plain": [
       "HBox(children=(FloatProgress(value=0.0, description='aia_lev1_304a_2015_09_02t12_00_06_13z_image_lev1.fits', m…"
      ]
     },
     "metadata": {},
     "output_type": "display_data"
    },
    {
     "data": {
      "application/vnd.jupyter.widget-view+json": {
       "model_id": "84468189a4f54608a02929229e50acad",
       "version_major": 2,
       "version_minor": 0
      },
      "text/plain": [
       "HBox(children=(FloatProgress(value=0.0, description='aia_lev1_304a_2015_09_03t00_00_06_12z_image_lev1.fits', m…"
      ]
     },
     "metadata": {},
     "output_type": "display_data"
    },
    {
     "data": {
      "application/vnd.jupyter.widget-view+json": {
       "model_id": "e66ba7dbf7fe4dfe8078dacbb9bb13e4",
       "version_major": 2,
       "version_minor": 0
      },
      "text/plain": [
       "HBox(children=(FloatProgress(value=0.0, description='aia_lev1_304a_2015_09_03t12_00_06_13z_image_lev1.fits', m…"
      ]
     },
     "metadata": {},
     "output_type": "display_data"
    },
    {
     "data": {
      "application/vnd.jupyter.widget-view+json": {
       "model_id": "a3a654009eac43b9854236565487e354",
       "version_major": 2,
       "version_minor": 0
      },
      "text/plain": [
       "HBox(children=(FloatProgress(value=0.0, description='aia_lev1_304a_2015_09_04t00_00_06_14z_image_lev1.fits', m…"
      ]
     },
     "metadata": {},
     "output_type": "display_data"
    },
    {
     "data": {
      "application/vnd.jupyter.widget-view+json": {
       "model_id": "6aa64db77de6453dad3cc486f0899a73",
       "version_major": 2,
       "version_minor": 0
      },
      "text/plain": [
       "HBox(children=(FloatProgress(value=0.0, description='aia_lev1_304a_2015_09_04t12_00_06_12z_image_lev1.fits', m…"
      ]
     },
     "metadata": {},
     "output_type": "display_data"
    },
    {
     "data": {
      "application/vnd.jupyter.widget-view+json": {
       "model_id": "8b8d49a982394643ac7e8157cd6c84a2",
       "version_major": 2,
       "version_minor": 0
      },
      "text/plain": [
       "HBox(children=(FloatProgress(value=0.0, description='aia_lev1_304a_2015_09_05t00_00_06_12z_image_lev1.fits', m…"
      ]
     },
     "metadata": {},
     "output_type": "display_data"
    },
    {
     "data": {
      "application/vnd.jupyter.widget-view+json": {
       "model_id": "d33a8d6b1ad6478a8a94f29d22ea9698",
       "version_major": 2,
       "version_minor": 0
      },
      "text/plain": [
       "HBox(children=(FloatProgress(value=0.0, description='aia_lev1_304a_2015_09_05t12_00_06_12z_image_lev1.fits', m…"
      ]
     },
     "metadata": {},
     "output_type": "display_data"
    },
    {
     "data": {
      "application/vnd.jupyter.widget-view+json": {
       "model_id": "311acf9dffc04e7985e7bf79a591da32",
       "version_major": 2,
       "version_minor": 0
      },
      "text/plain": [
       "HBox(children=(FloatProgress(value=0.0, description='aia_lev1_304a_2015_09_06t00_00_06_13z_image_lev1.fits', m…"
      ]
     },
     "metadata": {},
     "output_type": "display_data"
    },
    {
     "data": {
      "application/vnd.jupyter.widget-view+json": {
       "model_id": "8451683df07947d19c8802f8948c34d8",
       "version_major": 2,
       "version_minor": 0
      },
      "text/plain": [
       "HBox(children=(FloatProgress(value=0.0, description='aia_lev1_304a_2015_09_06t12_00_06_12z_image_lev1.fits', m…"
      ]
     },
     "metadata": {},
     "output_type": "display_data"
    },
    {
     "data": {
      "application/vnd.jupyter.widget-view+json": {
       "model_id": "ee02afd3eb9444beb77ae9097f961cfb",
       "version_major": 2,
       "version_minor": 0
      },
      "text/plain": [
       "HBox(children=(FloatProgress(value=0.0, description='aia_lev1_304a_2015_09_07t00_00_06_12z_image_lev1.fits', m…"
      ]
     },
     "metadata": {},
     "output_type": "display_data"
    },
    {
     "data": {
      "application/vnd.jupyter.widget-view+json": {
       "model_id": "0286ca57267544eeabe03473d5680b09",
       "version_major": 2,
       "version_minor": 0
      },
      "text/plain": [
       "HBox(children=(FloatProgress(value=0.0, description='aia_lev1_304a_2015_09_07t12_00_06_12z_image_lev1.fits', m…"
      ]
     },
     "metadata": {},
     "output_type": "display_data"
    },
    {
     "data": {
      "application/vnd.jupyter.widget-view+json": {
       "model_id": "f5e58d291a8448c6b0615c6eefdfa040",
       "version_major": 2,
       "version_minor": 0
      },
      "text/plain": [
       "HBox(children=(FloatProgress(value=0.0, description='aia_lev1_304a_2015_09_08t00_00_06_12z_image_lev1.fits', m…"
      ]
     },
     "metadata": {},
     "output_type": "display_data"
    },
    {
     "data": {
      "application/vnd.jupyter.widget-view+json": {
       "model_id": "7095c72052dd44f0b87a72075f18a7cf",
       "version_major": 2,
       "version_minor": 0
      },
      "text/plain": [
       "HBox(children=(FloatProgress(value=0.0, description='aia_lev1_304a_2015_09_08t12_00_06_12z_image_lev1.fits', m…"
      ]
     },
     "metadata": {},
     "output_type": "display_data"
    },
    {
     "data": {
      "application/vnd.jupyter.widget-view+json": {
       "model_id": "63968e79e4a54825a8fbc52ab12852eb",
       "version_major": 2,
       "version_minor": 0
      },
      "text/plain": [
       "HBox(children=(FloatProgress(value=0.0, description='aia_lev1_304a_2015_09_09t00_00_06_12z_image_lev1.fits', m…"
      ]
     },
     "metadata": {},
     "output_type": "display_data"
    },
    {
     "data": {
      "application/vnd.jupyter.widget-view+json": {
       "model_id": "d86cd5bd511e45728ede13f20eed8284",
       "version_major": 2,
       "version_minor": 0
      },
      "text/plain": [
       "HBox(children=(FloatProgress(value=0.0, description='aia_lev1_304a_2015_09_09t12_00_06_12z_image_lev1.fits', m…"
      ]
     },
     "metadata": {},
     "output_type": "display_data"
    },
    {
     "data": {
      "application/vnd.jupyter.widget-view+json": {
       "model_id": "5e343c373e994588aa34d966321db6f3",
       "version_major": 2,
       "version_minor": 0
      },
      "text/plain": [
       "HBox(children=(FloatProgress(value=0.0, description='aia_lev1_304a_2015_09_10t00_00_06_12z_image_lev1.fits', m…"
      ]
     },
     "metadata": {},
     "output_type": "display_data"
    },
    {
     "data": {
      "application/vnd.jupyter.widget-view+json": {
       "model_id": "4e814c8c01a24b538d198bd58cb619b5",
       "version_major": 2,
       "version_minor": 0
      },
      "text/plain": [
       "HBox(children=(FloatProgress(value=0.0, description='aia_lev1_304a_2015_09_10t12_00_06_14z_image_lev1.fits', m…"
      ]
     },
     "metadata": {},
     "output_type": "display_data"
    },
    {
     "data": {
      "application/vnd.jupyter.widget-view+json": {
       "model_id": "521aa7863cc040818bf22b19daf5b8b9",
       "version_major": 2,
       "version_minor": 0
      },
      "text/plain": [
       "HBox(children=(FloatProgress(value=0.0, description='aia_lev1_304a_2015_09_11t00_00_06_14z_image_lev1.fits', m…"
      ]
     },
     "metadata": {},
     "output_type": "display_data"
    },
    {
     "data": {
      "application/vnd.jupyter.widget-view+json": {
       "model_id": "61ca0f87d0034c149b4676d31ce76b93",
       "version_major": 2,
       "version_minor": 0
      },
      "text/plain": [
       "HBox(children=(FloatProgress(value=0.0, description='aia_lev1_304a_2015_09_11t12_00_06_12z_image_lev1.fits', m…"
      ]
     },
     "metadata": {},
     "output_type": "display_data"
    },
    {
     "data": {
      "application/vnd.jupyter.widget-view+json": {
       "model_id": "4242b08b05464149842e235f31851a43",
       "version_major": 2,
       "version_minor": 0
      },
      "text/plain": [
       "HBox(children=(FloatProgress(value=0.0, description='aia_lev1_304a_2015_09_12t00_00_06_12z_image_lev1.fits', m…"
      ]
     },
     "metadata": {},
     "output_type": "display_data"
    },
    {
     "data": {
      "application/vnd.jupyter.widget-view+json": {
       "model_id": "a3cb0502d9754258970f39958c348d81",
       "version_major": 2,
       "version_minor": 0
      },
      "text/plain": [
       "HBox(children=(FloatProgress(value=0.0, description='aia_lev1_304a_2015_09_12t12_00_06_12z_image_lev1.fits', m…"
      ]
     },
     "metadata": {},
     "output_type": "display_data"
    },
    {
     "data": {
      "application/vnd.jupyter.widget-view+json": {
       "model_id": "f5a4027482524d208fd5233792f73e9c",
       "version_major": 2,
       "version_minor": 0
      },
      "text/plain": [
       "HBox(children=(FloatProgress(value=0.0, description='aia_lev1_304a_2015_09_13t00_00_06_12z_image_lev1.fits', m…"
      ]
     },
     "metadata": {},
     "output_type": "display_data"
    },
    {
     "data": {
      "application/vnd.jupyter.widget-view+json": {
       "model_id": "c051a3c6490c4067b2f68fcb0ee6c347",
       "version_major": 2,
       "version_minor": 0
      },
      "text/plain": [
       "HBox(children=(FloatProgress(value=0.0, description='aia_lev1_304a_2015_09_13t12_00_06_12z_image_lev1.fits', m…"
      ]
     },
     "metadata": {},
     "output_type": "display_data"
    },
    {
     "data": {
      "application/vnd.jupyter.widget-view+json": {
       "model_id": "5c595ba31fa047a2afd415d6b94f785e",
       "version_major": 2,
       "version_minor": 0
      },
      "text/plain": [
       "HBox(children=(FloatProgress(value=0.0, description='aia_lev1_304a_2015_09_14t00_00_06_12z_image_lev1.fits', m…"
      ]
     },
     "metadata": {},
     "output_type": "display_data"
    },
    {
     "data": {
      "application/vnd.jupyter.widget-view+json": {
       "model_id": "474627bdd0c9492c88041fa9cacadf14",
       "version_major": 2,
       "version_minor": 0
      },
      "text/plain": [
       "HBox(children=(FloatProgress(value=0.0, description='aia_lev1_304a_2015_09_14t12_00_06_12z_image_lev1.fits', m…"
      ]
     },
     "metadata": {},
     "output_type": "display_data"
    },
    {
     "data": {
      "application/vnd.jupyter.widget-view+json": {
       "model_id": "ceec49db22e44c739a6f7f0cf082207f",
       "version_major": 2,
       "version_minor": 0
      },
      "text/plain": [
       "HBox(children=(FloatProgress(value=0.0, description='aia_lev1_304a_2015_09_15t00_00_06_13z_image_lev1.fits', m…"
      ]
     },
     "metadata": {},
     "output_type": "display_data"
    },
    {
     "data": {
      "application/vnd.jupyter.widget-view+json": {
       "model_id": "55f608f6cac04221af172a527be3914d",
       "version_major": 2,
       "version_minor": 0
      },
      "text/plain": [
       "HBox(children=(FloatProgress(value=0.0, description='aia_lev1_304a_2015_09_15t12_00_06_12z_image_lev1.fits', m…"
      ]
     },
     "metadata": {},
     "output_type": "display_data"
    },
    {
     "data": {
      "application/vnd.jupyter.widget-view+json": {
       "model_id": "0f25f65a86e745adbd4d8a34c87db15d",
       "version_major": 2,
       "version_minor": 0
      },
      "text/plain": [
       "HBox(children=(FloatProgress(value=0.0, description='aia_lev1_304a_2015_09_16t00_00_06_12z_image_lev1.fits', m…"
      ]
     },
     "metadata": {},
     "output_type": "display_data"
    },
    {
     "data": {
      "application/vnd.jupyter.widget-view+json": {
       "model_id": "c5dc290067f84698b436c2dfee415ef7",
       "version_major": 2,
       "version_minor": 0
      },
      "text/plain": [
       "HBox(children=(FloatProgress(value=0.0, description='aia_lev1_304a_2015_09_16t12_00_06_12z_image_lev1.fits', m…"
      ]
     },
     "metadata": {},
     "output_type": "display_data"
    },
    {
     "data": {
      "application/vnd.jupyter.widget-view+json": {
       "model_id": "3c1bc45cca544207bb71cbd8000ae42b",
       "version_major": 2,
       "version_minor": 0
      },
      "text/plain": [
       "HBox(children=(FloatProgress(value=0.0, description='aia_lev1_304a_2015_09_17t00_00_06_12z_image_lev1.fits', m…"
      ]
     },
     "metadata": {},
     "output_type": "display_data"
    },
    {
     "data": {
      "application/vnd.jupyter.widget-view+json": {
       "model_id": "86d37cb14b7c409289baffdd88c6d580",
       "version_major": 2,
       "version_minor": 0
      },
      "text/plain": [
       "HBox(children=(FloatProgress(value=0.0, description='aia_lev1_304a_2015_09_17t12_00_06_12z_image_lev1.fits', m…"
      ]
     },
     "metadata": {},
     "output_type": "display_data"
    },
    {
     "data": {
      "application/vnd.jupyter.widget-view+json": {
       "model_id": "615db72eb7784f17b76e6a0dd79d0328",
       "version_major": 2,
       "version_minor": 0
      },
      "text/plain": [
       "HBox(children=(FloatProgress(value=0.0, description='aia_lev1_304a_2015_09_18t00_00_06_12z_image_lev1.fits', m…"
      ]
     },
     "metadata": {},
     "output_type": "display_data"
    },
    {
     "data": {
      "application/vnd.jupyter.widget-view+json": {
       "model_id": "d07c2c04803340c09b4f01ef9f2deffc",
       "version_major": 2,
       "version_minor": 0
      },
      "text/plain": [
       "HBox(children=(FloatProgress(value=0.0, description='aia_lev1_304a_2015_09_18t12_00_06_12z_image_lev1.fits', m…"
      ]
     },
     "metadata": {},
     "output_type": "display_data"
    },
    {
     "data": {
      "application/vnd.jupyter.widget-view+json": {
       "model_id": "0ce11cb12dc24175aac6aa82401b6cb8",
       "version_major": 2,
       "version_minor": 0
      },
      "text/plain": [
       "HBox(children=(FloatProgress(value=0.0, description='aia_lev1_304a_2015_09_19t00_00_06_12z_image_lev1.fits', m…"
      ]
     },
     "metadata": {},
     "output_type": "display_data"
    },
    {
     "data": {
      "application/vnd.jupyter.widget-view+json": {
       "model_id": "d505c64ab19f47d3b131829a76f6f499",
       "version_major": 2,
       "version_minor": 0
      },
      "text/plain": [
       "HBox(children=(FloatProgress(value=0.0, description='aia_lev1_304a_2015_09_19t12_00_06_12z_image_lev1.fits', m…"
      ]
     },
     "metadata": {},
     "output_type": "display_data"
    },
    {
     "data": {
      "application/vnd.jupyter.widget-view+json": {
       "model_id": "11f51fcca28547849fce1d2ae4ce2fce",
       "version_major": 2,
       "version_minor": 0
      },
      "text/plain": [
       "HBox(children=(FloatProgress(value=0.0, description='aia_lev1_304a_2015_09_20t00_00_06_12z_image_lev1.fits', m…"
      ]
     },
     "metadata": {},
     "output_type": "display_data"
    },
    {
     "data": {
      "application/vnd.jupyter.widget-view+json": {
       "model_id": "e14ec0a778c745c28dd74ed56d971d81",
       "version_major": 2,
       "version_minor": 0
      },
      "text/plain": [
       "HBox(children=(FloatProgress(value=0.0, description='aia_lev1_304a_2015_09_20t12_00_06_13z_image_lev1.fits', m…"
      ]
     },
     "metadata": {},
     "output_type": "display_data"
    },
    {
     "data": {
      "application/vnd.jupyter.widget-view+json": {
       "model_id": "336190609fa440bbbd5f8a29c27244f0",
       "version_major": 2,
       "version_minor": 0
      },
      "text/plain": [
       "HBox(children=(FloatProgress(value=0.0, description='aia_lev1_304a_2015_09_21t00_00_06_12z_image_lev1.fits', m…"
      ]
     },
     "metadata": {},
     "output_type": "display_data"
    },
    {
     "data": {
      "application/vnd.jupyter.widget-view+json": {
       "model_id": "16aefe80eee1436bbfc537dee60499f5",
       "version_major": 2,
       "version_minor": 0
      },
      "text/plain": [
       "HBox(children=(FloatProgress(value=0.0, description='aia_lev1_304a_2015_09_21t12_00_06_12z_image_lev1.fits', m…"
      ]
     },
     "metadata": {},
     "output_type": "display_data"
    },
    {
     "data": {
      "application/vnd.jupyter.widget-view+json": {
       "model_id": "48026c8f632641d0b9b0ac1485537176",
       "version_major": 2,
       "version_minor": 0
      },
      "text/plain": [
       "HBox(children=(FloatProgress(value=0.0, description='aia_lev1_304a_2015_09_22t00_00_06_12z_image_lev1.fits', m…"
      ]
     },
     "metadata": {},
     "output_type": "display_data"
    },
    {
     "data": {
      "application/vnd.jupyter.widget-view+json": {
       "model_id": "e7936c1c7eb5488fb82dade9221d0907",
       "version_major": 2,
       "version_minor": 0
      },
      "text/plain": [
       "HBox(children=(FloatProgress(value=0.0, description='aia_lev1_304a_2015_09_22t12_00_06_12z_image_lev1.fits', m…"
      ]
     },
     "metadata": {},
     "output_type": "display_data"
    },
    {
     "data": {
      "application/vnd.jupyter.widget-view+json": {
       "model_id": "0b5983c245574504b28a311abdc3a2a3",
       "version_major": 2,
       "version_minor": 0
      },
      "text/plain": [
       "HBox(children=(FloatProgress(value=0.0, description='aia_lev1_304a_2015_09_23t00_00_06_12z_image_lev1.fits', m…"
      ]
     },
     "metadata": {},
     "output_type": "display_data"
    },
    {
     "data": {
      "application/vnd.jupyter.widget-view+json": {
       "model_id": "fc4129c7e40d4054859a17d994254540",
       "version_major": 2,
       "version_minor": 0
      },
      "text/plain": [
       "HBox(children=(FloatProgress(value=0.0, description='aia_lev1_304a_2015_09_23t12_00_06_12z_image_lev1.fits', m…"
      ]
     },
     "metadata": {},
     "output_type": "display_data"
    },
    {
     "data": {
      "application/vnd.jupyter.widget-view+json": {
       "model_id": "3ab106de4af34c1a9a3456c031957615",
       "version_major": 2,
       "version_minor": 0
      },
      "text/plain": [
       "HBox(children=(FloatProgress(value=0.0, description='aia_lev1_304a_2015_09_24t00_00_06_12z_image_lev1.fits', m…"
      ]
     },
     "metadata": {},
     "output_type": "display_data"
    },
    {
     "data": {
      "application/vnd.jupyter.widget-view+json": {
       "model_id": "186117d47e8d440b82545f6a6f6f0a40",
       "version_major": 2,
       "version_minor": 0
      },
      "text/plain": [
       "HBox(children=(FloatProgress(value=0.0, description='aia_lev1_304a_2015_09_24t12_00_06_12z_image_lev1.fits', m…"
      ]
     },
     "metadata": {},
     "output_type": "display_data"
    },
    {
     "data": {
      "application/vnd.jupyter.widget-view+json": {
       "model_id": "9952e7b35e5d4e65923793d1f70eee1a",
       "version_major": 2,
       "version_minor": 0
      },
      "text/plain": [
       "HBox(children=(FloatProgress(value=0.0, description='aia_lev1_304a_2015_09_25t00_00_06_13z_image_lev1.fits', m…"
      ]
     },
     "metadata": {},
     "output_type": "display_data"
    },
    {
     "data": {
      "application/vnd.jupyter.widget-view+json": {
       "model_id": "9acde0516e974c739e9f9f7da15c35c3",
       "version_major": 2,
       "version_minor": 0
      },
      "text/plain": [
       "HBox(children=(FloatProgress(value=0.0, description='aia_lev1_304a_2015_09_25t12_00_06_12z_image_lev1.fits', m…"
      ]
     },
     "metadata": {},
     "output_type": "display_data"
    },
    {
     "data": {
      "application/vnd.jupyter.widget-view+json": {
       "model_id": "f2c68890003b42b0882ceba4611963a9",
       "version_major": 2,
       "version_minor": 0
      },
      "text/plain": [
       "HBox(children=(FloatProgress(value=0.0, description='aia_lev1_304a_2015_09_26t12_00_06_12z_image_lev1.fits', m…"
      ]
     },
     "metadata": {},
     "output_type": "display_data"
    },
    {
     "data": {
      "application/vnd.jupyter.widget-view+json": {
       "model_id": "79f05d5877104452924276e80cddfc68",
       "version_major": 2,
       "version_minor": 0
      },
      "text/plain": [
       "HBox(children=(FloatProgress(value=0.0, description='aia_lev1_304a_2015_09_26t00_00_06_12z_image_lev1.fits', m…"
      ]
     },
     "metadata": {},
     "output_type": "display_data"
    },
    {
     "data": {
      "application/vnd.jupyter.widget-view+json": {
       "model_id": "c465098c934a48e0b9102f8335070d83",
       "version_major": 2,
       "version_minor": 0
      },
      "text/plain": [
       "HBox(children=(FloatProgress(value=0.0, description='aia_lev1_304a_2015_09_27t00_00_06_12z_image_lev1.fits', m…"
      ]
     },
     "metadata": {},
     "output_type": "display_data"
    },
    {
     "data": {
      "application/vnd.jupyter.widget-view+json": {
       "model_id": "2df8059258ff4cd38a5eb0de3d9902bb",
       "version_major": 2,
       "version_minor": 0
      },
      "text/plain": [
       "HBox(children=(FloatProgress(value=0.0, description='aia_lev1_304a_2015_09_27t12_00_06_13z_image_lev1.fits', m…"
      ]
     },
     "metadata": {},
     "output_type": "display_data"
    },
    {
     "data": {
      "application/vnd.jupyter.widget-view+json": {
       "model_id": "b400f4a63e0b4f79805e51493876d311",
       "version_major": 2,
       "version_minor": 0
      },
      "text/plain": [
       "HBox(children=(FloatProgress(value=0.0, description='aia_lev1_304a_2015_09_28t00_00_06_12z_image_lev1.fits', m…"
      ]
     },
     "metadata": {},
     "output_type": "display_data"
    },
    {
     "data": {
      "application/vnd.jupyter.widget-view+json": {
       "model_id": "0b5e94a19b9f49059899d01c27f03c90",
       "version_major": 2,
       "version_minor": 0
      },
      "text/plain": [
       "HBox(children=(FloatProgress(value=0.0, description='aia_lev1_304a_2015_09_28t12_00_06_13z_image_lev1.fits', m…"
      ]
     },
     "metadata": {},
     "output_type": "display_data"
    },
    {
     "data": {
      "application/vnd.jupyter.widget-view+json": {
       "model_id": "f22d4898b02a4d1b8c19c39e0227aa75",
       "version_major": 2,
       "version_minor": 0
      },
      "text/plain": [
       "HBox(children=(FloatProgress(value=0.0, description='aia_lev1_304a_2015_09_29t00_00_06_12z_image_lev1.fits', m…"
      ]
     },
     "metadata": {},
     "output_type": "display_data"
    },
    {
     "data": {
      "application/vnd.jupyter.widget-view+json": {
       "model_id": "4737c3b4d6ce41d7b9e189f5559ad81a",
       "version_major": 2,
       "version_minor": 0
      },
      "text/plain": [
       "HBox(children=(FloatProgress(value=0.0, description='aia_lev1_304a_2015_09_29t12_00_06_12z_image_lev1.fits', m…"
      ]
     },
     "metadata": {},
     "output_type": "display_data"
    },
    {
     "data": {
      "application/vnd.jupyter.widget-view+json": {
       "model_id": "af0dc1a192174ce68015e4e0734cdb50",
       "version_major": 2,
       "version_minor": 0
      },
      "text/plain": [
       "HBox(children=(FloatProgress(value=0.0, description='aia_lev1_304a_2015_09_30t00_00_06_12z_image_lev1.fits', m…"
      ]
     },
     "metadata": {},
     "output_type": "display_data"
    },
    {
     "data": {
      "application/vnd.jupyter.widget-view+json": {
       "model_id": "018c36a62d474726aadff8225261df6a",
       "version_major": 2,
       "version_minor": 0
      },
      "text/plain": [
       "HBox(children=(FloatProgress(value=0.0, description='aia_lev1_304a_2015_09_30t12_00_06_12z_image_lev1.fits', m…"
      ]
     },
     "metadata": {},
     "output_type": "display_data"
    },
    {
     "data": {
      "application/vnd.jupyter.widget-view+json": {
       "model_id": "1a7b07d0545d49829d7a8c234d98ea05",
       "version_major": 2,
       "version_minor": 0
      },
      "text/plain": [
       "HBox(children=(FloatProgress(value=0.0, description='aia_lev1_304a_2015_10_01t00_00_06_12z_image_lev1.fits', m…"
      ]
     },
     "metadata": {},
     "output_type": "display_data"
    },
    {
     "data": {
      "application/vnd.jupyter.widget-view+json": {
       "model_id": "91825ba56ee146868f70010a35cd6ec7",
       "version_major": 2,
       "version_minor": 0
      },
      "text/plain": [
       "HBox(children=(FloatProgress(value=0.0, description='aia_lev1_304a_2015_10_01t12_00_06_12z_image_lev1.fits', m…"
      ]
     },
     "metadata": {},
     "output_type": "display_data"
    },
    {
     "data": {
      "application/vnd.jupyter.widget-view+json": {
       "model_id": "9e5d2e649b654f34bf934aec282bf18c",
       "version_major": 2,
       "version_minor": 0
      },
      "text/plain": [
       "HBox(children=(FloatProgress(value=0.0, description='aia_lev1_304a_2015_10_02t00_00_06_12z_image_lev1.fits', m…"
      ]
     },
     "metadata": {},
     "output_type": "display_data"
    },
    {
     "data": {
      "application/vnd.jupyter.widget-view+json": {
       "model_id": "9707f7e608dd41c9903136f98c58539a",
       "version_major": 2,
       "version_minor": 0
      },
      "text/plain": [
       "HBox(children=(FloatProgress(value=0.0, description='aia_lev1_304a_2015_10_02t12_00_06_12z_image_lev1.fits', m…"
      ]
     },
     "metadata": {},
     "output_type": "display_data"
    },
    {
     "data": {
      "application/vnd.jupyter.widget-view+json": {
       "model_id": "3764c0b54c7745eb917bed0b51aaad6e",
       "version_major": 2,
       "version_minor": 0
      },
      "text/plain": [
       "HBox(children=(FloatProgress(value=0.0, description='aia_lev1_304a_2015_10_03t00_00_06_12z_image_lev1.fits', m…"
      ]
     },
     "metadata": {},
     "output_type": "display_data"
    },
    {
     "data": {
      "application/vnd.jupyter.widget-view+json": {
       "model_id": "38d3dd39676f4f62abf2f801fa7e116b",
       "version_major": 2,
       "version_minor": 0
      },
      "text/plain": [
       "HBox(children=(FloatProgress(value=0.0, description='aia_lev1_304a_2015_10_03t12_00_06_12z_image_lev1.fits', m…"
      ]
     },
     "metadata": {},
     "output_type": "display_data"
    },
    {
     "data": {
      "application/vnd.jupyter.widget-view+json": {
       "model_id": "72821767041544d398bb6fb16a1bd77b",
       "version_major": 2,
       "version_minor": 0
      },
      "text/plain": [
       "HBox(children=(FloatProgress(value=0.0, description='aia_lev1_304a_2015_10_04t00_00_06_12z_image_lev1.fits', m…"
      ]
     },
     "metadata": {},
     "output_type": "display_data"
    },
    {
     "data": {
      "application/vnd.jupyter.widget-view+json": {
       "model_id": "743ee3e241fa4fba9603e03a885fbf15",
       "version_major": 2,
       "version_minor": 0
      },
      "text/plain": [
       "HBox(children=(FloatProgress(value=0.0, description='aia_lev1_304a_2015_10_04t12_00_06_12z_image_lev1.fits', m…"
      ]
     },
     "metadata": {},
     "output_type": "display_data"
    },
    {
     "data": {
      "application/vnd.jupyter.widget-view+json": {
       "model_id": "ef9e3650f90c46f09e7682036e7c93b3",
       "version_major": 2,
       "version_minor": 0
      },
      "text/plain": [
       "HBox(children=(FloatProgress(value=0.0, description='aia_lev1_304a_2015_10_05t00_00_06_12z_image_lev1.fits', m…"
      ]
     },
     "metadata": {},
     "output_type": "display_data"
    },
    {
     "data": {
      "application/vnd.jupyter.widget-view+json": {
       "model_id": "4fc6398132fb4539adb4ed5526319af6",
       "version_major": 2,
       "version_minor": 0
      },
      "text/plain": [
       "HBox(children=(FloatProgress(value=0.0, description='aia_lev1_304a_2015_10_05t12_00_06_13z_image_lev1.fits', m…"
      ]
     },
     "metadata": {},
     "output_type": "display_data"
    },
    {
     "data": {
      "application/vnd.jupyter.widget-view+json": {
       "model_id": "6f8cf9d5b7414c22b1daf5eb0788b831",
       "version_major": 2,
       "version_minor": 0
      },
      "text/plain": [
       "HBox(children=(FloatProgress(value=0.0, description='aia_lev1_304a_2015_10_06t00_00_06_13z_image_lev1.fits', m…"
      ]
     },
     "metadata": {},
     "output_type": "display_data"
    },
    {
     "data": {
      "application/vnd.jupyter.widget-view+json": {
       "model_id": "72a72e5b6e524deeaeef06a1b05d9fe5",
       "version_major": 2,
       "version_minor": 0
      },
      "text/plain": [
       "HBox(children=(FloatProgress(value=0.0, description='aia_lev1_304a_2015_10_06t12_00_06_12z_image_lev1.fits', m…"
      ]
     },
     "metadata": {},
     "output_type": "display_data"
    },
    {
     "data": {
      "application/vnd.jupyter.widget-view+json": {
       "model_id": "e0e5ac540f76448bb05bb8485820d213",
       "version_major": 2,
       "version_minor": 0
      },
      "text/plain": [
       "HBox(children=(FloatProgress(value=0.0, description='aia_lev1_304a_2015_10_07t00_00_06_12z_image_lev1.fits', m…"
      ]
     },
     "metadata": {},
     "output_type": "display_data"
    },
    {
     "data": {
      "application/vnd.jupyter.widget-view+json": {
       "model_id": "edb8871d9d5e4fa0b93a3728a4f8323d",
       "version_major": 2,
       "version_minor": 0
      },
      "text/plain": [
       "HBox(children=(FloatProgress(value=0.0, description='aia_lev1_304a_2015_10_07t12_00_06_12z_image_lev1.fits', m…"
      ]
     },
     "metadata": {},
     "output_type": "display_data"
    },
    {
     "data": {
      "application/vnd.jupyter.widget-view+json": {
       "model_id": "38881de7b3e049d39f279c2420111082",
       "version_major": 2,
       "version_minor": 0
      },
      "text/plain": [
       "HBox(children=(FloatProgress(value=0.0, description='aia_lev1_304a_2015_10_08t00_00_06_12z_image_lev1.fits', m…"
      ]
     },
     "metadata": {},
     "output_type": "display_data"
    },
    {
     "data": {
      "application/vnd.jupyter.widget-view+json": {
       "model_id": "aa97d3f6b68f410692e13731860cd3d1",
       "version_major": 2,
       "version_minor": 0
      },
      "text/plain": [
       "HBox(children=(FloatProgress(value=0.0, description='aia_lev1_304a_2015_10_08t12_00_06_12z_image_lev1.fits', m…"
      ]
     },
     "metadata": {},
     "output_type": "display_data"
    },
    {
     "data": {
      "application/vnd.jupyter.widget-view+json": {
       "model_id": "ba47ab3dd9764d3e9f2674d4c22cb0a8",
       "version_major": 2,
       "version_minor": 0
      },
      "text/plain": [
       "HBox(children=(FloatProgress(value=0.0, description='aia_lev1_304a_2015_10_09t00_00_06_12z_image_lev1.fits', m…"
      ]
     },
     "metadata": {},
     "output_type": "display_data"
    },
    {
     "data": {
      "application/vnd.jupyter.widget-view+json": {
       "model_id": "31e27ad3ee824c948ec4436f8033c5d9",
       "version_major": 2,
       "version_minor": 0
      },
      "text/plain": [
       "HBox(children=(FloatProgress(value=0.0, description='aia_lev1_304a_2015_10_09t12_00_06_12z_image_lev1.fits', m…"
      ]
     },
     "metadata": {},
     "output_type": "display_data"
    },
    {
     "data": {
      "application/vnd.jupyter.widget-view+json": {
       "model_id": "c2d50a53dc6d4b80bbbdb4f0d21bd03d",
       "version_major": 2,
       "version_minor": 0
      },
      "text/plain": [
       "HBox(children=(FloatProgress(value=0.0, description='aia_lev1_304a_2015_10_10t00_00_06_12z_image_lev1.fits', m…"
      ]
     },
     "metadata": {},
     "output_type": "display_data"
    },
    {
     "data": {
      "application/vnd.jupyter.widget-view+json": {
       "model_id": "5fba5125a81d4d6b879249804db8dadb",
       "version_major": 2,
       "version_minor": 0
      },
      "text/plain": [
       "HBox(children=(FloatProgress(value=0.0, description='aia_lev1_304a_2015_10_10t12_00_06_12z_image_lev1.fits', m…"
      ]
     },
     "metadata": {},
     "output_type": "display_data"
    },
    {
     "data": {
      "application/vnd.jupyter.widget-view+json": {
       "model_id": "58d76af835ec46888294ed69070e8ce8",
       "version_major": 2,
       "version_minor": 0
      },
      "text/plain": [
       "HBox(children=(FloatProgress(value=0.0, description='aia_lev1_304a_2015_10_11t00_00_06_12z_image_lev1.fits', m…"
      ]
     },
     "metadata": {},
     "output_type": "display_data"
    },
    {
     "data": {
      "application/vnd.jupyter.widget-view+json": {
       "model_id": "1852694d0aea4fa3b67769531d6945a4",
       "version_major": 2,
       "version_minor": 0
      },
      "text/plain": [
       "HBox(children=(FloatProgress(value=0.0, description='aia_lev1_304a_2015_10_11t12_00_06_12z_image_lev1.fits', m…"
      ]
     },
     "metadata": {},
     "output_type": "display_data"
    },
    {
     "data": {
      "application/vnd.jupyter.widget-view+json": {
       "model_id": "d8af776465ff4fd8bffbc59dae47727c",
       "version_major": 2,
       "version_minor": 0
      },
      "text/plain": [
       "HBox(children=(FloatProgress(value=0.0, description='aia_lev1_304a_2015_10_12t00_00_06_12z_image_lev1.fits', m…"
      ]
     },
     "metadata": {},
     "output_type": "display_data"
    },
    {
     "data": {
      "application/vnd.jupyter.widget-view+json": {
       "model_id": "64e5863c2b014ea390ea077b4d28e2c3",
       "version_major": 2,
       "version_minor": 0
      },
      "text/plain": [
       "HBox(children=(FloatProgress(value=0.0, description='aia_lev1_304a_2015_10_12t12_00_06_12z_image_lev1.fits', m…"
      ]
     },
     "metadata": {},
     "output_type": "display_data"
    },
    {
     "data": {
      "application/vnd.jupyter.widget-view+json": {
       "model_id": "98a4087acce045adb62069f9a9e3ef00",
       "version_major": 2,
       "version_minor": 0
      },
      "text/plain": [
       "HBox(children=(FloatProgress(value=0.0, description='aia_lev1_304a_2015_10_13t00_00_06_12z_image_lev1.fits', m…"
      ]
     },
     "metadata": {},
     "output_type": "display_data"
    },
    {
     "data": {
      "application/vnd.jupyter.widget-view+json": {
       "model_id": "c27be33c3bed464d9450b88149ed2cd3",
       "version_major": 2,
       "version_minor": 0
      },
      "text/plain": [
       "HBox(children=(FloatProgress(value=0.0, description='aia_lev1_304a_2015_10_13t12_00_06_12z_image_lev1.fits', m…"
      ]
     },
     "metadata": {},
     "output_type": "display_data"
    },
    {
     "data": {
      "application/vnd.jupyter.widget-view+json": {
       "model_id": "aa32f1df37c04b4390fb469afaec8ee7",
       "version_major": 2,
       "version_minor": 0
      },
      "text/plain": [
       "HBox(children=(FloatProgress(value=0.0, description='aia_lev1_304a_2015_10_14t00_00_06_14z_image_lev1.fits', m…"
      ]
     },
     "metadata": {},
     "output_type": "display_data"
    },
    {
     "data": {
      "application/vnd.jupyter.widget-view+json": {
       "model_id": "1046d00a244944b19137c897cf81c645",
       "version_major": 2,
       "version_minor": 0
      },
      "text/plain": [
       "HBox(children=(FloatProgress(value=0.0, description='aia_lev1_304a_2015_10_14t12_00_06_12z_image_lev1.fits', m…"
      ]
     },
     "metadata": {},
     "output_type": "display_data"
    },
    {
     "data": {
      "application/vnd.jupyter.widget-view+json": {
       "model_id": "cc303cfc89414707b849287ab98e9ce0",
       "version_major": 2,
       "version_minor": 0
      },
      "text/plain": [
       "HBox(children=(FloatProgress(value=0.0, description='aia_lev1_304a_2015_10_15t00_00_06_12z_image_lev1.fits', m…"
      ]
     },
     "metadata": {},
     "output_type": "display_data"
    },
    {
     "data": {
      "application/vnd.jupyter.widget-view+json": {
       "model_id": "22780ec6f9ec4d24a65c2238f9578581",
       "version_major": 2,
       "version_minor": 0
      },
      "text/plain": [
       "HBox(children=(FloatProgress(value=0.0, description='aia_lev1_304a_2015_10_15t12_00_06_13z_image_lev1.fits', m…"
      ]
     },
     "metadata": {},
     "output_type": "display_data"
    },
    {
     "data": {
      "application/vnd.jupyter.widget-view+json": {
       "model_id": "59251103e05a4eb98376ac2a3757e2ac",
       "version_major": 2,
       "version_minor": 0
      },
      "text/plain": [
       "HBox(children=(FloatProgress(value=0.0, description='aia_lev1_304a_2015_10_16t00_00_06_12z_image_lev1.fits', m…"
      ]
     },
     "metadata": {},
     "output_type": "display_data"
    },
    {
     "data": {
      "application/vnd.jupyter.widget-view+json": {
       "model_id": "db1d772e263b44f1b0a342c752449a6c",
       "version_major": 2,
       "version_minor": 0
      },
      "text/plain": [
       "HBox(children=(FloatProgress(value=0.0, description='aia_lev1_304a_2015_10_16t12_00_06_12z_image_lev1.fits', m…"
      ]
     },
     "metadata": {},
     "output_type": "display_data"
    },
    {
     "data": {
      "application/vnd.jupyter.widget-view+json": {
       "model_id": "8f3b1e17ca2045b5a89e89a144b2d27c",
       "version_major": 2,
       "version_minor": 0
      },
      "text/plain": [
       "HBox(children=(FloatProgress(value=0.0, description='aia_lev1_304a_2015_10_17t00_00_06_12z_image_lev1.fits', m…"
      ]
     },
     "metadata": {},
     "output_type": "display_data"
    },
    {
     "data": {
      "application/vnd.jupyter.widget-view+json": {
       "model_id": "2f5fe608471b4d41a9a8e72011495eeb",
       "version_major": 2,
       "version_minor": 0
      },
      "text/plain": [
       "HBox(children=(FloatProgress(value=0.0, description='aia_lev1_304a_2015_10_17t12_00_06_12z_image_lev1.fits', m…"
      ]
     },
     "metadata": {},
     "output_type": "display_data"
    },
    {
     "data": {
      "application/vnd.jupyter.widget-view+json": {
       "model_id": "6e81493e6ae44423a0cbc7a4fc20a42c",
       "version_major": 2,
       "version_minor": 0
      },
      "text/plain": [
       "HBox(children=(FloatProgress(value=0.0, description='aia_lev1_304a_2015_10_18t00_00_06_14z_image_lev1.fits', m…"
      ]
     },
     "metadata": {},
     "output_type": "display_data"
    },
    {
     "data": {
      "application/vnd.jupyter.widget-view+json": {
       "model_id": "4af2b1bd9c5149229e89ffc14849aa4b",
       "version_major": 2,
       "version_minor": 0
      },
      "text/plain": [
       "HBox(children=(FloatProgress(value=0.0, description='aia_lev1_304a_2015_10_18t12_00_06_13z_image_lev1.fits', m…"
      ]
     },
     "metadata": {},
     "output_type": "display_data"
    },
    {
     "data": {
      "application/vnd.jupyter.widget-view+json": {
       "model_id": "e3be3ce86f094ef2808fb41520c14937",
       "version_major": 2,
       "version_minor": 0
      },
      "text/plain": [
       "HBox(children=(FloatProgress(value=0.0, description='aia_lev1_304a_2015_10_19t00_00_06_12z_image_lev1.fits', m…"
      ]
     },
     "metadata": {},
     "output_type": "display_data"
    },
    {
     "data": {
      "application/vnd.jupyter.widget-view+json": {
       "model_id": "c3320b86767842dda8826de887305cc2",
       "version_major": 2,
       "version_minor": 0
      },
      "text/plain": [
       "HBox(children=(FloatProgress(value=0.0, description='aia_lev1_304a_2015_10_19t12_00_06_12z_image_lev1.fits', m…"
      ]
     },
     "metadata": {},
     "output_type": "display_data"
    },
    {
     "data": {
      "application/vnd.jupyter.widget-view+json": {
       "model_id": "9742f048d045446ea23f9219b61e30a2",
       "version_major": 2,
       "version_minor": 0
      },
      "text/plain": [
       "HBox(children=(FloatProgress(value=0.0, description='aia_lev1_304a_2015_10_20t00_00_06_12z_image_lev1.fits', m…"
      ]
     },
     "metadata": {},
     "output_type": "display_data"
    },
    {
     "data": {
      "application/vnd.jupyter.widget-view+json": {
       "model_id": "eb91d1aa647d47848e3063b686070da8",
       "version_major": 2,
       "version_minor": 0
      },
      "text/plain": [
       "HBox(children=(FloatProgress(value=0.0, description='aia_lev1_304a_2015_10_20t12_00_06_12z_image_lev1.fits', m…"
      ]
     },
     "metadata": {},
     "output_type": "display_data"
    },
    {
     "data": {
      "application/vnd.jupyter.widget-view+json": {
       "model_id": "da47bc9f7378437aa0c9812770ecd41a",
       "version_major": 2,
       "version_minor": 0
      },
      "text/plain": [
       "HBox(children=(FloatProgress(value=0.0, description='aia_lev1_304a_2015_10_21t00_00_06_12z_image_lev1.fits', m…"
      ]
     },
     "metadata": {},
     "output_type": "display_data"
    },
    {
     "data": {
      "application/vnd.jupyter.widget-view+json": {
       "model_id": "fd46d04e376b4cb58a70e7d8bfbece28",
       "version_major": 2,
       "version_minor": 0
      },
      "text/plain": [
       "HBox(children=(FloatProgress(value=0.0, description='aia_lev1_304a_2015_10_21t12_00_06_12z_image_lev1.fits', m…"
      ]
     },
     "metadata": {},
     "output_type": "display_data"
    },
    {
     "data": {
      "application/vnd.jupyter.widget-view+json": {
       "model_id": "4d19bf5709954d7c82720708c20ef218",
       "version_major": 2,
       "version_minor": 0
      },
      "text/plain": [
       "HBox(children=(FloatProgress(value=0.0, description='aia_lev1_304a_2015_10_22t00_00_06_12z_image_lev1.fits', m…"
      ]
     },
     "metadata": {},
     "output_type": "display_data"
    },
    {
     "data": {
      "application/vnd.jupyter.widget-view+json": {
       "model_id": "4ae2e72d55354916930ce3cd2e67d881",
       "version_major": 2,
       "version_minor": 0
      },
      "text/plain": [
       "HBox(children=(FloatProgress(value=0.0, description='aia_lev1_304a_2015_10_22t12_00_06_12z_image_lev1.fits', m…"
      ]
     },
     "metadata": {},
     "output_type": "display_data"
    },
    {
     "data": {
      "application/vnd.jupyter.widget-view+json": {
       "model_id": "83cb99c1b2a240b482863a37cd2d5b5e",
       "version_major": 2,
       "version_minor": 0
      },
      "text/plain": [
       "HBox(children=(FloatProgress(value=0.0, description='aia_lev1_304a_2015_10_23t00_00_06_14z_image_lev1.fits', m…"
      ]
     },
     "metadata": {},
     "output_type": "display_data"
    },
    {
     "data": {
      "application/vnd.jupyter.widget-view+json": {
       "model_id": "16b6bc1e58854c36814335146b0c8b61",
       "version_major": 2,
       "version_minor": 0
      },
      "text/plain": [
       "HBox(children=(FloatProgress(value=0.0, description='aia_lev1_304a_2015_10_23t12_00_06_14z_image_lev1.fits', m…"
      ]
     },
     "metadata": {},
     "output_type": "display_data"
    },
    {
     "data": {
      "application/vnd.jupyter.widget-view+json": {
       "model_id": "7331a537aeeb49bdab4e7cacf3e93884",
       "version_major": 2,
       "version_minor": 0
      },
      "text/plain": [
       "HBox(children=(FloatProgress(value=0.0, description='aia_lev1_304a_2015_10_24t00_00_06_12z_image_lev1.fits', m…"
      ]
     },
     "metadata": {},
     "output_type": "display_data"
    },
    {
     "data": {
      "application/vnd.jupyter.widget-view+json": {
       "model_id": "6e2e2dfdcd3e46ae9e7a7902e1ff289a",
       "version_major": 2,
       "version_minor": 0
      },
      "text/plain": [
       "HBox(children=(FloatProgress(value=0.0, description='aia_lev1_304a_2015_10_24t12_00_06_12z_image_lev1.fits', m…"
      ]
     },
     "metadata": {},
     "output_type": "display_data"
    },
    {
     "data": {
      "application/vnd.jupyter.widget-view+json": {
       "model_id": "3055536917204e25b5f892f7d58fb376",
       "version_major": 2,
       "version_minor": 0
      },
      "text/plain": [
       "HBox(children=(FloatProgress(value=0.0, description='aia_lev1_304a_2015_10_25t00_00_06_14z_image_lev1.fits', m…"
      ]
     },
     "metadata": {},
     "output_type": "display_data"
    },
    {
     "data": {
      "application/vnd.jupyter.widget-view+json": {
       "model_id": "c0d7f3da49034298bb81dc208a082da5",
       "version_major": 2,
       "version_minor": 0
      },
      "text/plain": [
       "HBox(children=(FloatProgress(value=0.0, description='aia_lev1_304a_2015_10_25t12_00_06_12z_image_lev1.fits', m…"
      ]
     },
     "metadata": {},
     "output_type": "display_data"
    },
    {
     "data": {
      "application/vnd.jupyter.widget-view+json": {
       "model_id": "9425e33220744f6ea40ae1b5dff84a26",
       "version_major": 2,
       "version_minor": 0
      },
      "text/plain": [
       "HBox(children=(FloatProgress(value=0.0, description='aia_lev1_304a_2015_10_26t00_00_06_14z_image_lev1.fits', m…"
      ]
     },
     "metadata": {},
     "output_type": "display_data"
    },
    {
     "data": {
      "application/vnd.jupyter.widget-view+json": {
       "model_id": "19ab8a798972481cac5c7e03e6741697",
       "version_major": 2,
       "version_minor": 0
      },
      "text/plain": [
       "HBox(children=(FloatProgress(value=0.0, description='aia_lev1_304a_2015_10_26t12_00_06_12z_image_lev1.fits', m…"
      ]
     },
     "metadata": {},
     "output_type": "display_data"
    },
    {
     "data": {
      "application/vnd.jupyter.widget-view+json": {
       "model_id": "ddfdc8ed752348d38d3ae1c231dca62b",
       "version_major": 2,
       "version_minor": 0
      },
      "text/plain": [
       "HBox(children=(FloatProgress(value=0.0, description='aia_lev1_304a_2015_10_27t00_00_06_12z_image_lev1.fits', m…"
      ]
     },
     "metadata": {},
     "output_type": "display_data"
    },
    {
     "data": {
      "application/vnd.jupyter.widget-view+json": {
       "model_id": "c403a585280a4513a1b29081e3c707d4",
       "version_major": 2,
       "version_minor": 0
      },
      "text/plain": [
       "HBox(children=(FloatProgress(value=0.0, description='aia_lev1_304a_2015_10_27t12_00_06_12z_image_lev1.fits', m…"
      ]
     },
     "metadata": {},
     "output_type": "display_data"
    },
    {
     "data": {
      "application/vnd.jupyter.widget-view+json": {
       "model_id": "f24f3179558245b0b5bd257a95603b0d",
       "version_major": 2,
       "version_minor": 0
      },
      "text/plain": [
       "HBox(children=(FloatProgress(value=0.0, description='aia_lev1_304a_2015_10_28t00_00_06_12z_image_lev1.fits', m…"
      ]
     },
     "metadata": {},
     "output_type": "display_data"
    },
    {
     "data": {
      "application/vnd.jupyter.widget-view+json": {
       "model_id": "d620d9a272a84cfa96c3d7fa959bbfc4",
       "version_major": 2,
       "version_minor": 0
      },
      "text/plain": [
       "HBox(children=(FloatProgress(value=0.0, description='aia_lev1_304a_2015_10_28t12_00_06_12z_image_lev1.fits', m…"
      ]
     },
     "metadata": {},
     "output_type": "display_data"
    },
    {
     "data": {
      "application/vnd.jupyter.widget-view+json": {
       "model_id": "ec43a1aafb0b48d4a7716d40c1e62e0f",
       "version_major": 2,
       "version_minor": 0
      },
      "text/plain": [
       "HBox(children=(FloatProgress(value=0.0, description='aia_lev1_304a_2015_10_29t00_00_06_12z_image_lev1.fits', m…"
      ]
     },
     "metadata": {},
     "output_type": "display_data"
    },
    {
     "data": {
      "application/vnd.jupyter.widget-view+json": {
       "model_id": "88de3ace4b124addaa016a7fb1eefb19",
       "version_major": 2,
       "version_minor": 0
      },
      "text/plain": [
       "HBox(children=(FloatProgress(value=0.0, description='aia_lev1_304a_2015_10_29t12_00_06_12z_image_lev1.fits', m…"
      ]
     },
     "metadata": {},
     "output_type": "display_data"
    },
    {
     "data": {
      "application/vnd.jupyter.widget-view+json": {
       "model_id": "e3e1677c1c084591b4f4dd9c6bbf3a94",
       "version_major": 2,
       "version_minor": 0
      },
      "text/plain": [
       "HBox(children=(FloatProgress(value=0.0, description='aia_lev1_304a_2015_10_30t00_00_06_12z_image_lev1.fits', m…"
      ]
     },
     "metadata": {},
     "output_type": "display_data"
    },
    {
     "data": {
      "application/vnd.jupyter.widget-view+json": {
       "model_id": "43e197dc96054f299e539dcb8690586a",
       "version_major": 2,
       "version_minor": 0
      },
      "text/plain": [
       "HBox(children=(FloatProgress(value=0.0, description='aia_lev1_304a_2015_10_30t12_00_06_12z_image_lev1.fits', m…"
      ]
     },
     "metadata": {},
     "output_type": "display_data"
    },
    {
     "data": {
      "application/vnd.jupyter.widget-view+json": {
       "model_id": "e27307ecce45437ab86256f287ae032f",
       "version_major": 2,
       "version_minor": 0
      },
      "text/plain": [
       "HBox(children=(FloatProgress(value=0.0, description='aia_lev1_304a_2015_10_31t00_00_06_12z_image_lev1.fits', m…"
      ]
     },
     "metadata": {},
     "output_type": "display_data"
    },
    {
     "data": {
      "application/vnd.jupyter.widget-view+json": {
       "model_id": "1c4fafaeec234008832301e761f212e1",
       "version_major": 2,
       "version_minor": 0
      },
      "text/plain": [
       "HBox(children=(FloatProgress(value=0.0, description='aia_lev1_304a_2015_10_31t12_00_06_12z_image_lev1.fits', m…"
      ]
     },
     "metadata": {},
     "output_type": "display_data"
    },
    {
     "data": {
      "application/vnd.jupyter.widget-view+json": {
       "model_id": "1ae33b46476240298279acb42b154e40",
       "version_major": 2,
       "version_minor": 0
      },
      "text/plain": [
       "HBox(children=(FloatProgress(value=0.0, description='aia_lev1_304a_2015_11_01t12_00_06_12z_image_lev1.fits', m…"
      ]
     },
     "metadata": {},
     "output_type": "display_data"
    },
    {
     "data": {
      "application/vnd.jupyter.widget-view+json": {
       "model_id": "0abbde9307de49038364e9f85ffd3cec",
       "version_major": 2,
       "version_minor": 0
      },
      "text/plain": [
       "HBox(children=(FloatProgress(value=0.0, description='aia_lev1_304a_2015_11_01t00_00_06_12z_image_lev1.fits', m…"
      ]
     },
     "metadata": {},
     "output_type": "display_data"
    },
    {
     "data": {
      "application/vnd.jupyter.widget-view+json": {
       "model_id": "dd3ee856d6f64b40a9326b87a5f93392",
       "version_major": 2,
       "version_minor": 0
      },
      "text/plain": [
       "HBox(children=(FloatProgress(value=0.0, description='aia_lev1_304a_2015_11_02t00_00_06_12z_image_lev1.fits', m…"
      ]
     },
     "metadata": {},
     "output_type": "display_data"
    },
    {
     "data": {
      "application/vnd.jupyter.widget-view+json": {
       "model_id": "76ac582a964d447789fb93ac47201eec",
       "version_major": 2,
       "version_minor": 0
      },
      "text/plain": [
       "HBox(children=(FloatProgress(value=0.0, description='aia_lev1_304a_2015_11_02t12_00_06_12z_image_lev1.fits', m…"
      ]
     },
     "metadata": {},
     "output_type": "display_data"
    },
    {
     "data": {
      "application/vnd.jupyter.widget-view+json": {
       "model_id": "9bc8259d2d424ad79f6f1f4e102547a7",
       "version_major": 2,
       "version_minor": 0
      },
      "text/plain": [
       "HBox(children=(FloatProgress(value=0.0, description='aia_lev1_304a_2015_11_03t00_00_06_12z_image_lev1.fits', m…"
      ]
     },
     "metadata": {},
     "output_type": "display_data"
    },
    {
     "data": {
      "application/vnd.jupyter.widget-view+json": {
       "model_id": "bf51282e0fdf4b1a825838e6ad5222c1",
       "version_major": 2,
       "version_minor": 0
      },
      "text/plain": [
       "HBox(children=(FloatProgress(value=0.0, description='aia_lev1_304a_2015_11_03t12_00_06_12z_image_lev1.fits', m…"
      ]
     },
     "metadata": {},
     "output_type": "display_data"
    },
    {
     "data": {
      "application/vnd.jupyter.widget-view+json": {
       "model_id": "33899b484cba4d1a896200b9a8557e5c",
       "version_major": 2,
       "version_minor": 0
      },
      "text/plain": [
       "HBox(children=(FloatProgress(value=0.0, description='aia_lev1_304a_2015_11_04t00_00_06_12z_image_lev1.fits', m…"
      ]
     },
     "metadata": {},
     "output_type": "display_data"
    },
    {
     "data": {
      "application/vnd.jupyter.widget-view+json": {
       "model_id": "6a6e6c4928e54b0496e29281611b0b7e",
       "version_major": 2,
       "version_minor": 0
      },
      "text/plain": [
       "HBox(children=(FloatProgress(value=0.0, description='aia_lev1_304a_2015_11_04t12_00_06_12z_image_lev1.fits', m…"
      ]
     },
     "metadata": {},
     "output_type": "display_data"
    },
    {
     "data": {
      "application/vnd.jupyter.widget-view+json": {
       "model_id": "0dfea8cf4d0049a3acf1d159bbe9fb52",
       "version_major": 2,
       "version_minor": 0
      },
      "text/plain": [
       "HBox(children=(FloatProgress(value=0.0, description='aia_lev1_304a_2015_11_05t00_00_06_12z_image_lev1.fits', m…"
      ]
     },
     "metadata": {},
     "output_type": "display_data"
    },
    {
     "data": {
      "application/vnd.jupyter.widget-view+json": {
       "model_id": "6a3a3ac9056d4eadaf2d6a19151e5d91",
       "version_major": 2,
       "version_minor": 0
      },
      "text/plain": [
       "HBox(children=(FloatProgress(value=0.0, description='aia_lev1_304a_2015_11_05t12_00_06_12z_image_lev1.fits', m…"
      ]
     },
     "metadata": {},
     "output_type": "display_data"
    },
    {
     "data": {
      "application/vnd.jupyter.widget-view+json": {
       "model_id": "cb1005b807744e2b86b4bce54c0643a9",
       "version_major": 2,
       "version_minor": 0
      },
      "text/plain": [
       "HBox(children=(FloatProgress(value=0.0, description='aia_lev1_304a_2015_11_06t00_00_06_12z_image_lev1.fits', m…"
      ]
     },
     "metadata": {},
     "output_type": "display_data"
    },
    {
     "data": {
      "application/vnd.jupyter.widget-view+json": {
       "model_id": "9a9aebae3be049d99e96e4e1396e9fb1",
       "version_major": 2,
       "version_minor": 0
      },
      "text/plain": [
       "HBox(children=(FloatProgress(value=0.0, description='aia_lev1_304a_2015_11_06t12_00_06_12z_image_lev1.fits', m…"
      ]
     },
     "metadata": {},
     "output_type": "display_data"
    },
    {
     "data": {
      "application/vnd.jupyter.widget-view+json": {
       "model_id": "a9a2136cfa6344758a60a4b90d4c0aba",
       "version_major": 2,
       "version_minor": 0
      },
      "text/plain": [
       "HBox(children=(FloatProgress(value=0.0, description='aia_lev1_304a_2015_11_07t00_00_06_12z_image_lev1.fits', m…"
      ]
     },
     "metadata": {},
     "output_type": "display_data"
    },
    {
     "data": {
      "application/vnd.jupyter.widget-view+json": {
       "model_id": "4874c3c5320a4eb19feb26799588e173",
       "version_major": 2,
       "version_minor": 0
      },
      "text/plain": [
       "HBox(children=(FloatProgress(value=0.0, description='aia_lev1_304a_2015_11_07t12_00_06_14z_image_lev1.fits', m…"
      ]
     },
     "metadata": {},
     "output_type": "display_data"
    },
    {
     "data": {
      "application/vnd.jupyter.widget-view+json": {
       "model_id": "3064a6ffd4754969b88b5f7f6d363118",
       "version_major": 2,
       "version_minor": 0
      },
      "text/plain": [
       "HBox(children=(FloatProgress(value=0.0, description='aia_lev1_304a_2015_11_08t00_00_06_12z_image_lev1.fits', m…"
      ]
     },
     "metadata": {},
     "output_type": "display_data"
    },
    {
     "data": {
      "application/vnd.jupyter.widget-view+json": {
       "model_id": "e806bf37058844f9b97970bfb16d70e5",
       "version_major": 2,
       "version_minor": 0
      },
      "text/plain": [
       "HBox(children=(FloatProgress(value=0.0, description='aia_lev1_304a_2015_11_08t12_00_06_13z_image_lev1.fits', m…"
      ]
     },
     "metadata": {},
     "output_type": "display_data"
    },
    {
     "data": {
      "application/vnd.jupyter.widget-view+json": {
       "model_id": "3ae74568e75e4e03b93716d6517a1675",
       "version_major": 2,
       "version_minor": 0
      },
      "text/plain": [
       "HBox(children=(FloatProgress(value=0.0, description='aia_lev1_304a_2015_11_09t00_00_06_13z_image_lev1.fits', m…"
      ]
     },
     "metadata": {},
     "output_type": "display_data"
    },
    {
     "data": {
      "application/vnd.jupyter.widget-view+json": {
       "model_id": "2a36d9cfd95d40c3ba78246e22d26e2c",
       "version_major": 2,
       "version_minor": 0
      },
      "text/plain": [
       "HBox(children=(FloatProgress(value=0.0, description='aia_lev1_304a_2015_11_09t12_00_06_12z_image_lev1.fits', m…"
      ]
     },
     "metadata": {},
     "output_type": "display_data"
    },
    {
     "data": {
      "application/vnd.jupyter.widget-view+json": {
       "model_id": "ed8f430256674793a1fc6a555d6a0946",
       "version_major": 2,
       "version_minor": 0
      },
      "text/plain": [
       "HBox(children=(FloatProgress(value=0.0, description='aia_lev1_304a_2015_11_10t00_00_06_12z_image_lev1.fits', m…"
      ]
     },
     "metadata": {},
     "output_type": "display_data"
    },
    {
     "data": {
      "application/vnd.jupyter.widget-view+json": {
       "model_id": "b94d2bb1e73f4a55b6182be3a06bf5b7",
       "version_major": 2,
       "version_minor": 0
      },
      "text/plain": [
       "HBox(children=(FloatProgress(value=0.0, description='aia_lev1_304a_2015_11_10t12_00_06_12z_image_lev1.fits', m…"
      ]
     },
     "metadata": {},
     "output_type": "display_data"
    },
    {
     "data": {
      "application/vnd.jupyter.widget-view+json": {
       "model_id": "79f76b914c874cf5afa39f9a45a212fa",
       "version_major": 2,
       "version_minor": 0
      },
      "text/plain": [
       "HBox(children=(FloatProgress(value=0.0, description='aia_lev1_304a_2015_11_11t00_00_06_12z_image_lev1.fits', m…"
      ]
     },
     "metadata": {},
     "output_type": "display_data"
    },
    {
     "data": {
      "application/vnd.jupyter.widget-view+json": {
       "model_id": "c4a05e8272354aa4863b655dd978cfad",
       "version_major": 2,
       "version_minor": 0
      },
      "text/plain": [
       "HBox(children=(FloatProgress(value=0.0, description='aia_lev1_304a_2015_11_11t12_00_06_12z_image_lev1.fits', m…"
      ]
     },
     "metadata": {},
     "output_type": "display_data"
    },
    {
     "data": {
      "application/vnd.jupyter.widget-view+json": {
       "model_id": "d496814d2efd4d4893cbb459f43231e0",
       "version_major": 2,
       "version_minor": 0
      },
      "text/plain": [
       "HBox(children=(FloatProgress(value=0.0, description='aia_lev1_304a_2015_11_12t00_00_06_12z_image_lev1.fits', m…"
      ]
     },
     "metadata": {},
     "output_type": "display_data"
    },
    {
     "data": {
      "application/vnd.jupyter.widget-view+json": {
       "model_id": "e067d465970d43e2bdd4e70ea572d46e",
       "version_major": 2,
       "version_minor": 0
      },
      "text/plain": [
       "HBox(children=(FloatProgress(value=0.0, description='aia_lev1_304a_2015_11_12t12_00_06_12z_image_lev1.fits', m…"
      ]
     },
     "metadata": {},
     "output_type": "display_data"
    },
    {
     "data": {
      "application/vnd.jupyter.widget-view+json": {
       "model_id": "f8325d29d142449f8a0ef8b194b26702",
       "version_major": 2,
       "version_minor": 0
      },
      "text/plain": [
       "HBox(children=(FloatProgress(value=0.0, description='aia_lev1_304a_2015_11_13t00_00_06_12z_image_lev1.fits', m…"
      ]
     },
     "metadata": {},
     "output_type": "display_data"
    },
    {
     "data": {
      "application/vnd.jupyter.widget-view+json": {
       "model_id": "2f5add6ca78947e7b954441783d4e84d",
       "version_major": 2,
       "version_minor": 0
      },
      "text/plain": [
       "HBox(children=(FloatProgress(value=0.0, description='aia_lev1_304a_2015_11_13t12_00_06_12z_image_lev1.fits', m…"
      ]
     },
     "metadata": {},
     "output_type": "display_data"
    },
    {
     "data": {
      "application/vnd.jupyter.widget-view+json": {
       "model_id": "63ee7ed172014927bf572238344976ef",
       "version_major": 2,
       "version_minor": 0
      },
      "text/plain": [
       "HBox(children=(FloatProgress(value=0.0, description='aia_lev1_304a_2015_11_14t00_00_06_12z_image_lev1.fits', m…"
      ]
     },
     "metadata": {},
     "output_type": "display_data"
    },
    {
     "data": {
      "application/vnd.jupyter.widget-view+json": {
       "model_id": "e5507d23309e47149846822e9a451d90",
       "version_major": 2,
       "version_minor": 0
      },
      "text/plain": [
       "HBox(children=(FloatProgress(value=0.0, description='aia_lev1_304a_2015_11_14t12_00_06_13z_image_lev1.fits', m…"
      ]
     },
     "metadata": {},
     "output_type": "display_data"
    },
    {
     "data": {
      "application/vnd.jupyter.widget-view+json": {
       "model_id": "5a26e2ddd368422bb4b44a4913408da6",
       "version_major": 2,
       "version_minor": 0
      },
      "text/plain": [
       "HBox(children=(FloatProgress(value=0.0, description='aia_lev1_304a_2015_11_15t00_00_06_12z_image_lev1.fits', m…"
      ]
     },
     "metadata": {},
     "output_type": "display_data"
    },
    {
     "data": {
      "application/vnd.jupyter.widget-view+json": {
       "model_id": "f4aac5e9439744e693c6745b65271d56",
       "version_major": 2,
       "version_minor": 0
      },
      "text/plain": [
       "HBox(children=(FloatProgress(value=0.0, description='aia_lev1_304a_2015_11_15t12_00_06_13z_image_lev1.fits', m…"
      ]
     },
     "metadata": {},
     "output_type": "display_data"
    },
    {
     "data": {
      "application/vnd.jupyter.widget-view+json": {
       "model_id": "b5acd9dca30f42a1b53386b80c80c0d6",
       "version_major": 2,
       "version_minor": 0
      },
      "text/plain": [
       "HBox(children=(FloatProgress(value=0.0, description='aia_lev1_304a_2015_11_16t00_00_06_12z_image_lev1.fits', m…"
      ]
     },
     "metadata": {},
     "output_type": "display_data"
    },
    {
     "data": {
      "application/vnd.jupyter.widget-view+json": {
       "model_id": "4e138ea52b604596af9f48880fd0a404",
       "version_major": 2,
       "version_minor": 0
      },
      "text/plain": [
       "HBox(children=(FloatProgress(value=0.0, description='aia_lev1_304a_2015_11_16t12_00_06_12z_image_lev1.fits', m…"
      ]
     },
     "metadata": {},
     "output_type": "display_data"
    },
    {
     "data": {
      "application/vnd.jupyter.widget-view+json": {
       "model_id": "876cdedd49644225887e9b8f004132ee",
       "version_major": 2,
       "version_minor": 0
      },
      "text/plain": [
       "HBox(children=(FloatProgress(value=0.0, description='aia_lev1_304a_2015_11_17t00_00_06_12z_image_lev1.fits', m…"
      ]
     },
     "metadata": {},
     "output_type": "display_data"
    },
    {
     "data": {
      "application/vnd.jupyter.widget-view+json": {
       "model_id": "f7ff19afdefd421e8ab2e7f7be22e515",
       "version_major": 2,
       "version_minor": 0
      },
      "text/plain": [
       "HBox(children=(FloatProgress(value=0.0, description='aia_lev1_304a_2015_11_17t12_00_06_12z_image_lev1.fits', m…"
      ]
     },
     "metadata": {},
     "output_type": "display_data"
    },
    {
     "data": {
      "application/vnd.jupyter.widget-view+json": {
       "model_id": "e0252d341dd64334aebd3352af4e1878",
       "version_major": 2,
       "version_minor": 0
      },
      "text/plain": [
       "HBox(children=(FloatProgress(value=0.0, description='aia_lev1_304a_2015_11_18t00_00_06_14z_image_lev1.fits', m…"
      ]
     },
     "metadata": {},
     "output_type": "display_data"
    },
    {
     "data": {
      "application/vnd.jupyter.widget-view+json": {
       "model_id": "fd994f5a16b244c1bcc556813ca2c806",
       "version_major": 2,
       "version_minor": 0
      },
      "text/plain": [
       "HBox(children=(FloatProgress(value=0.0, description='aia_lev1_304a_2015_11_18t12_00_06_15z_image_lev1.fits', m…"
      ]
     },
     "metadata": {},
     "output_type": "display_data"
    },
    {
     "data": {
      "application/vnd.jupyter.widget-view+json": {
       "model_id": "40009da1c16f4015b5486b6ece86d388",
       "version_major": 2,
       "version_minor": 0
      },
      "text/plain": [
       "HBox(children=(FloatProgress(value=0.0, description='aia_lev1_304a_2015_11_19t00_00_06_12z_image_lev1.fits', m…"
      ]
     },
     "metadata": {},
     "output_type": "display_data"
    },
    {
     "data": {
      "application/vnd.jupyter.widget-view+json": {
       "model_id": "5da2a98ddecb40d5bfb2fb6d81a5d96a",
       "version_major": 2,
       "version_minor": 0
      },
      "text/plain": [
       "HBox(children=(FloatProgress(value=0.0, description='aia_lev1_304a_2015_11_19t12_00_06_12z_image_lev1.fits', m…"
      ]
     },
     "metadata": {},
     "output_type": "display_data"
    },
    {
     "data": {
      "application/vnd.jupyter.widget-view+json": {
       "model_id": "d0dcd8ad71914af6a8f1c75532bfc0e6",
       "version_major": 2,
       "version_minor": 0
      },
      "text/plain": [
       "HBox(children=(FloatProgress(value=0.0, description='aia_lev1_304a_2015_11_20t00_00_06_12z_image_lev1.fits', m…"
      ]
     },
     "metadata": {},
     "output_type": "display_data"
    },
    {
     "data": {
      "application/vnd.jupyter.widget-view+json": {
       "model_id": "26da35c050104bbcacbc5d283ad3c659",
       "version_major": 2,
       "version_minor": 0
      },
      "text/plain": [
       "HBox(children=(FloatProgress(value=0.0, description='aia_lev1_304a_2015_11_20t12_00_06_12z_image_lev1.fits', m…"
      ]
     },
     "metadata": {},
     "output_type": "display_data"
    },
    {
     "data": {
      "application/vnd.jupyter.widget-view+json": {
       "model_id": "08067cfd08a747928093f878def436a9",
       "version_major": 2,
       "version_minor": 0
      },
      "text/plain": [
       "HBox(children=(FloatProgress(value=0.0, description='aia_lev1_304a_2015_11_21t00_00_06_12z_image_lev1.fits', m…"
      ]
     },
     "metadata": {},
     "output_type": "display_data"
    },
    {
     "data": {
      "application/vnd.jupyter.widget-view+json": {
       "model_id": "1e25b157f9144b5b8cf8be8ed79c0021",
       "version_major": 2,
       "version_minor": 0
      },
      "text/plain": [
       "HBox(children=(FloatProgress(value=0.0, description='aia_lev1_304a_2015_11_21t12_00_06_12z_image_lev1.fits', m…"
      ]
     },
     "metadata": {},
     "output_type": "display_data"
    },
    {
     "data": {
      "application/vnd.jupyter.widget-view+json": {
       "model_id": "1931b149ba4c49e3991b170e1585043d",
       "version_major": 2,
       "version_minor": 0
      },
      "text/plain": [
       "HBox(children=(FloatProgress(value=0.0, description='aia_lev1_304a_2015_11_22t00_00_06_12z_image_lev1.fits', m…"
      ]
     },
     "metadata": {},
     "output_type": "display_data"
    },
    {
     "data": {
      "application/vnd.jupyter.widget-view+json": {
       "model_id": "df830d93e40a48e198f8b2818f49b5d3",
       "version_major": 2,
       "version_minor": 0
      },
      "text/plain": [
       "HBox(children=(FloatProgress(value=0.0, description='aia_lev1_304a_2015_11_22t12_00_06_12z_image_lev1.fits', m…"
      ]
     },
     "metadata": {},
     "output_type": "display_data"
    },
    {
     "data": {
      "application/vnd.jupyter.widget-view+json": {
       "model_id": "215db5b1d9c44d4fa2f23491a11ec299",
       "version_major": 2,
       "version_minor": 0
      },
      "text/plain": [
       "HBox(children=(FloatProgress(value=0.0, description='aia_lev1_304a_2015_11_23t00_00_06_12z_image_lev1.fits', m…"
      ]
     },
     "metadata": {},
     "output_type": "display_data"
    },
    {
     "data": {
      "application/vnd.jupyter.widget-view+json": {
       "model_id": "1871cbfea96e4aa2a8ab4e3461c02c8c",
       "version_major": 2,
       "version_minor": 0
      },
      "text/plain": [
       "HBox(children=(FloatProgress(value=0.0, description='aia_lev1_304a_2015_11_23t12_00_06_12z_image_lev1.fits', m…"
      ]
     },
     "metadata": {},
     "output_type": "display_data"
    },
    {
     "data": {
      "application/vnd.jupyter.widget-view+json": {
       "model_id": "bae0db06990c4a13914ccf628752e0eb",
       "version_major": 2,
       "version_minor": 0
      },
      "text/plain": [
       "HBox(children=(FloatProgress(value=0.0, description='aia_lev1_304a_2015_11_24t00_00_06_12z_image_lev1.fits', m…"
      ]
     },
     "metadata": {},
     "output_type": "display_data"
    },
    {
     "data": {
      "application/vnd.jupyter.widget-view+json": {
       "model_id": "5405858777284549bbc1f61e7ae4e99c",
       "version_major": 2,
       "version_minor": 0
      },
      "text/plain": [
       "HBox(children=(FloatProgress(value=0.0, description='aia_lev1_304a_2015_11_24t12_00_06_12z_image_lev1.fits', m…"
      ]
     },
     "metadata": {},
     "output_type": "display_data"
    },
    {
     "data": {
      "application/vnd.jupyter.widget-view+json": {
       "model_id": "cbd02088ca5a43c2bbcced4750e209b7",
       "version_major": 2,
       "version_minor": 0
      },
      "text/plain": [
       "HBox(children=(FloatProgress(value=0.0, description='aia_lev1_304a_2015_11_25t00_00_06_12z_image_lev1.fits', m…"
      ]
     },
     "metadata": {},
     "output_type": "display_data"
    },
    {
     "data": {
      "application/vnd.jupyter.widget-view+json": {
       "model_id": "734d6441e7c24665a0f12836d4891e7f",
       "version_major": 2,
       "version_minor": 0
      },
      "text/plain": [
       "HBox(children=(FloatProgress(value=0.0, description='aia_lev1_304a_2015_11_25t12_00_06_12z_image_lev1.fits', m…"
      ]
     },
     "metadata": {},
     "output_type": "display_data"
    },
    {
     "data": {
      "application/vnd.jupyter.widget-view+json": {
       "model_id": "ebb99a9517b24f49b51fe2a52e991d51",
       "version_major": 2,
       "version_minor": 0
      },
      "text/plain": [
       "HBox(children=(FloatProgress(value=0.0, description='aia_lev1_304a_2015_11_26t00_00_06_12z_image_lev1.fits', m…"
      ]
     },
     "metadata": {},
     "output_type": "display_data"
    },
    {
     "data": {
      "application/vnd.jupyter.widget-view+json": {
       "model_id": "e7056991addc4abfb02ff5fd0eb6ceda",
       "version_major": 2,
       "version_minor": 0
      },
      "text/plain": [
       "HBox(children=(FloatProgress(value=0.0, description='aia_lev1_304a_2015_11_26t12_00_06_12z_image_lev1.fits', m…"
      ]
     },
     "metadata": {},
     "output_type": "display_data"
    },
    {
     "data": {
      "application/vnd.jupyter.widget-view+json": {
       "model_id": "86276a23857e415b87c1267f64721b12",
       "version_major": 2,
       "version_minor": 0
      },
      "text/plain": [
       "HBox(children=(FloatProgress(value=0.0, description='aia_lev1_304a_2015_11_27t00_00_06_12z_image_lev1.fits', m…"
      ]
     },
     "metadata": {},
     "output_type": "display_data"
    },
    {
     "data": {
      "application/vnd.jupyter.widget-view+json": {
       "model_id": "fea4aba350ad490699b9964ad4d493b6",
       "version_major": 2,
       "version_minor": 0
      },
      "text/plain": [
       "HBox(children=(FloatProgress(value=0.0, description='aia_lev1_304a_2015_11_27t12_00_06_12z_image_lev1.fits', m…"
      ]
     },
     "metadata": {},
     "output_type": "display_data"
    },
    {
     "data": {
      "application/vnd.jupyter.widget-view+json": {
       "model_id": "151224f4f6b04a26bd4fdf75d868c36f",
       "version_major": 2,
       "version_minor": 0
      },
      "text/plain": [
       "HBox(children=(FloatProgress(value=0.0, description='aia_lev1_304a_2015_11_28t00_00_06_12z_image_lev1.fits', m…"
      ]
     },
     "metadata": {},
     "output_type": "display_data"
    },
    {
     "data": {
      "application/vnd.jupyter.widget-view+json": {
       "model_id": "39c653991c454376bf172961ea5a9028",
       "version_major": 2,
       "version_minor": 0
      },
      "text/plain": [
       "HBox(children=(FloatProgress(value=0.0, description='aia_lev1_304a_2015_11_28t12_00_06_12z_image_lev1.fits', m…"
      ]
     },
     "metadata": {},
     "output_type": "display_data"
    },
    {
     "data": {
      "application/vnd.jupyter.widget-view+json": {
       "model_id": "fc8c15c80d6c4483b4ed345031859547",
       "version_major": 2,
       "version_minor": 0
      },
      "text/plain": [
       "HBox(children=(FloatProgress(value=0.0, description='aia_lev1_304a_2015_11_29t00_00_06_12z_image_lev1.fits', m…"
      ]
     },
     "metadata": {},
     "output_type": "display_data"
    },
    {
     "data": {
      "application/vnd.jupyter.widget-view+json": {
       "model_id": "8b527e967b0148f894fd184bef9c65d0",
       "version_major": 2,
       "version_minor": 0
      },
      "text/plain": [
       "HBox(children=(FloatProgress(value=0.0, description='aia_lev1_304a_2015_11_29t12_00_06_12z_image_lev1.fits', m…"
      ]
     },
     "metadata": {},
     "output_type": "display_data"
    },
    {
     "data": {
      "application/vnd.jupyter.widget-view+json": {
       "model_id": "1dd3857bbae741cba2f61b249ce30af2",
       "version_major": 2,
       "version_minor": 0
      },
      "text/plain": [
       "HBox(children=(FloatProgress(value=0.0, description='aia_lev1_304a_2015_11_30t00_00_06_12z_image_lev1.fits', m…"
      ]
     },
     "metadata": {},
     "output_type": "display_data"
    },
    {
     "data": {
      "application/vnd.jupyter.widget-view+json": {
       "model_id": "25fdb12b0f504835b08761bdb6bdadc0",
       "version_major": 2,
       "version_minor": 0
      },
      "text/plain": [
       "HBox(children=(FloatProgress(value=0.0, description='aia_lev1_304a_2015_11_30t12_00_06_12z_image_lev1.fits', m…"
      ]
     },
     "metadata": {},
     "output_type": "display_data"
    },
    {
     "data": {
      "application/vnd.jupyter.widget-view+json": {
       "model_id": "dc9056a43a5943cb94487443356a080a",
       "version_major": 2,
       "version_minor": 0
      },
      "text/plain": [
       "HBox(children=(FloatProgress(value=0.0, description='aia_lev1_304a_2015_12_01t00_00_06_12z_image_lev1.fits', m…"
      ]
     },
     "metadata": {},
     "output_type": "display_data"
    },
    {
     "data": {
      "application/vnd.jupyter.widget-view+json": {
       "model_id": "02ecf24bc20f4875a8b971e3e26b3c1e",
       "version_major": 2,
       "version_minor": 0
      },
      "text/plain": [
       "HBox(children=(FloatProgress(value=0.0, description='aia_lev1_304a_2015_12_01t12_00_06_12z_image_lev1.fits', m…"
      ]
     },
     "metadata": {},
     "output_type": "display_data"
    },
    {
     "data": {
      "application/vnd.jupyter.widget-view+json": {
       "model_id": "806af6dc9b2642c9924d666985188983",
       "version_major": 2,
       "version_minor": 0
      },
      "text/plain": [
       "HBox(children=(FloatProgress(value=0.0, description='aia_lev1_304a_2015_12_02t00_00_06_12z_image_lev1.fits', m…"
      ]
     },
     "metadata": {},
     "output_type": "display_data"
    },
    {
     "data": {
      "application/vnd.jupyter.widget-view+json": {
       "model_id": "a8de5f32a4224e128eb4cc310e14c025",
       "version_major": 2,
       "version_minor": 0
      },
      "text/plain": [
       "HBox(children=(FloatProgress(value=0.0, description='aia_lev1_304a_2015_12_02t12_00_06_12z_image_lev1.fits', m…"
      ]
     },
     "metadata": {},
     "output_type": "display_data"
    },
    {
     "data": {
      "application/vnd.jupyter.widget-view+json": {
       "model_id": "01a913b2ad7442be9c4d03ffc2d42c61",
       "version_major": 2,
       "version_minor": 0
      },
      "text/plain": [
       "HBox(children=(FloatProgress(value=0.0, description='aia_lev1_304a_2015_12_03t00_00_06_14z_image_lev1.fits', m…"
      ]
     },
     "metadata": {},
     "output_type": "display_data"
    },
    {
     "data": {
      "application/vnd.jupyter.widget-view+json": {
       "model_id": "2433db5d41cb4d77827ddad8ebc4a76a",
       "version_major": 2,
       "version_minor": 0
      },
      "text/plain": [
       "HBox(children=(FloatProgress(value=0.0, description='aia_lev1_304a_2015_12_03t12_00_06_12z_image_lev1.fits', m…"
      ]
     },
     "metadata": {},
     "output_type": "display_data"
    },
    {
     "data": {
      "application/vnd.jupyter.widget-view+json": {
       "model_id": "2a9709f03c6a4585abb6a4550049e965",
       "version_major": 2,
       "version_minor": 0
      },
      "text/plain": [
       "HBox(children=(FloatProgress(value=0.0, description='aia_lev1_304a_2015_12_04t00_00_06_12z_image_lev1.fits', m…"
      ]
     },
     "metadata": {},
     "output_type": "display_data"
    },
    {
     "data": {
      "application/vnd.jupyter.widget-view+json": {
       "model_id": "3a26c57da8a3489bb17e5e0f7e7f5433",
       "version_major": 2,
       "version_minor": 0
      },
      "text/plain": [
       "HBox(children=(FloatProgress(value=0.0, description='aia_lev1_304a_2015_12_04t12_00_06_12z_image_lev1.fits', m…"
      ]
     },
     "metadata": {},
     "output_type": "display_data"
    },
    {
     "data": {
      "application/vnd.jupyter.widget-view+json": {
       "model_id": "2efd83f287f24d048383234b5372cb2e",
       "version_major": 2,
       "version_minor": 0
      },
      "text/plain": [
       "HBox(children=(FloatProgress(value=0.0, description='aia_lev1_304a_2015_12_05t00_00_06_12z_image_lev1.fits', m…"
      ]
     },
     "metadata": {},
     "output_type": "display_data"
    },
    {
     "data": {
      "application/vnd.jupyter.widget-view+json": {
       "model_id": "240a950bd9af4fbea5cac112a1af350a",
       "version_major": 2,
       "version_minor": 0
      },
      "text/plain": [
       "HBox(children=(FloatProgress(value=0.0, description='aia_lev1_304a_2015_12_05t12_00_06_14z_image_lev1.fits', m…"
      ]
     },
     "metadata": {},
     "output_type": "display_data"
    },
    {
     "data": {
      "application/vnd.jupyter.widget-view+json": {
       "model_id": "9ba03c5129aa496a819470f2eaf89c75",
       "version_major": 2,
       "version_minor": 0
      },
      "text/plain": [
       "HBox(children=(FloatProgress(value=0.0, description='aia_lev1_304a_2015_12_06t00_00_06_14z_image_lev1.fits', m…"
      ]
     },
     "metadata": {},
     "output_type": "display_data"
    },
    {
     "data": {
      "application/vnd.jupyter.widget-view+json": {
       "model_id": "d9ab9bcc7b754bbca40da4a4f6e6b51d",
       "version_major": 2,
       "version_minor": 0
      },
      "text/plain": [
       "HBox(children=(FloatProgress(value=0.0, description='aia_lev1_304a_2015_12_06t12_00_06_13z_image_lev1.fits', m…"
      ]
     },
     "metadata": {},
     "output_type": "display_data"
    },
    {
     "data": {
      "application/vnd.jupyter.widget-view+json": {
       "model_id": "4b538fca3e86487b9a268127175c5625",
       "version_major": 2,
       "version_minor": 0
      },
      "text/plain": [
       "HBox(children=(FloatProgress(value=0.0, description='aia_lev1_304a_2015_12_07t00_00_06_12z_image_lev1.fits', m…"
      ]
     },
     "metadata": {},
     "output_type": "display_data"
    },
    {
     "data": {
      "application/vnd.jupyter.widget-view+json": {
       "model_id": "2c80fc37beb44c10bd2764259a4bbec3",
       "version_major": 2,
       "version_minor": 0
      },
      "text/plain": [
       "HBox(children=(FloatProgress(value=0.0, description='aia_lev1_304a_2015_12_07t12_00_06_12z_image_lev1.fits', m…"
      ]
     },
     "metadata": {},
     "output_type": "display_data"
    },
    {
     "data": {
      "application/vnd.jupyter.widget-view+json": {
       "model_id": "782e5847f2a943d0b5bc2df2ffd952ca",
       "version_major": 2,
       "version_minor": 0
      },
      "text/plain": [
       "HBox(children=(FloatProgress(value=0.0, description='aia_lev1_304a_2015_12_08t00_00_06_12z_image_lev1.fits', m…"
      ]
     },
     "metadata": {},
     "output_type": "display_data"
    },
    {
     "data": {
      "application/vnd.jupyter.widget-view+json": {
       "model_id": "94b55b9c7e614d8787da1a25f2926b94",
       "version_major": 2,
       "version_minor": 0
      },
      "text/plain": [
       "HBox(children=(FloatProgress(value=0.0, description='aia_lev1_304a_2015_12_08t12_00_06_12z_image_lev1.fits', m…"
      ]
     },
     "metadata": {},
     "output_type": "display_data"
    },
    {
     "data": {
      "application/vnd.jupyter.widget-view+json": {
       "model_id": "4c06e427589848f1ab04273255d21ec3",
       "version_major": 2,
       "version_minor": 0
      },
      "text/plain": [
       "HBox(children=(FloatProgress(value=0.0, description='aia_lev1_304a_2015_12_09t00_00_06_13z_image_lev1.fits', m…"
      ]
     },
     "metadata": {},
     "output_type": "display_data"
    },
    {
     "data": {
      "application/vnd.jupyter.widget-view+json": {
       "model_id": "05d0c0df0191489cbe467e6cdeffd7ad",
       "version_major": 2,
       "version_minor": 0
      },
      "text/plain": [
       "HBox(children=(FloatProgress(value=0.0, description='aia_lev1_304a_2015_12_09t12_00_06_12z_image_lev1.fits', m…"
      ]
     },
     "metadata": {},
     "output_type": "display_data"
    },
    {
     "data": {
      "application/vnd.jupyter.widget-view+json": {
       "model_id": "21ac49e40e8748d6a52d8c975dbb8980",
       "version_major": 2,
       "version_minor": 0
      },
      "text/plain": [
       "HBox(children=(FloatProgress(value=0.0, description='aia_lev1_304a_2015_12_10t00_00_06_14z_image_lev1.fits', m…"
      ]
     },
     "metadata": {},
     "output_type": "display_data"
    },
    {
     "data": {
      "application/vnd.jupyter.widget-view+json": {
       "model_id": "d528dbc43ed94abfa6b27347d6e26525",
       "version_major": 2,
       "version_minor": 0
      },
      "text/plain": [
       "HBox(children=(FloatProgress(value=0.0, description='aia_lev1_304a_2015_12_10t12_00_06_12z_image_lev1.fits', m…"
      ]
     },
     "metadata": {},
     "output_type": "display_data"
    },
    {
     "data": {
      "application/vnd.jupyter.widget-view+json": {
       "model_id": "425c1ca1b91b45f1bc0a1c1a5e0779f2",
       "version_major": 2,
       "version_minor": 0
      },
      "text/plain": [
       "HBox(children=(FloatProgress(value=0.0, description='aia_lev1_304a_2015_12_11t00_00_06_12z_image_lev1.fits', m…"
      ]
     },
     "metadata": {},
     "output_type": "display_data"
    },
    {
     "data": {
      "application/vnd.jupyter.widget-view+json": {
       "model_id": "b6885a4891c14efebff03bc509a5baed",
       "version_major": 2,
       "version_minor": 0
      },
      "text/plain": [
       "HBox(children=(FloatProgress(value=0.0, description='aia_lev1_304a_2015_12_11t12_00_06_12z_image_lev1.fits', m…"
      ]
     },
     "metadata": {},
     "output_type": "display_data"
    },
    {
     "data": {
      "application/vnd.jupyter.widget-view+json": {
       "model_id": "9be1bf953d534b049680ce2385ea1f20",
       "version_major": 2,
       "version_minor": 0
      },
      "text/plain": [
       "HBox(children=(FloatProgress(value=0.0, description='aia_lev1_304a_2015_12_12t00_00_06_12z_image_lev1.fits', m…"
      ]
     },
     "metadata": {},
     "output_type": "display_data"
    },
    {
     "data": {
      "application/vnd.jupyter.widget-view+json": {
       "model_id": "1b5fe311f2274950bdb310d4bccc8a43",
       "version_major": 2,
       "version_minor": 0
      },
      "text/plain": [
       "HBox(children=(FloatProgress(value=0.0, description='aia_lev1_304a_2015_12_12t12_00_06_12z_image_lev1.fits', m…"
      ]
     },
     "metadata": {},
     "output_type": "display_data"
    },
    {
     "data": {
      "application/vnd.jupyter.widget-view+json": {
       "model_id": "bd4c1443ecf74b5ba2aaffb298f8e728",
       "version_major": 2,
       "version_minor": 0
      },
      "text/plain": [
       "HBox(children=(FloatProgress(value=0.0, description='aia_lev1_304a_2015_12_13t00_00_06_12z_image_lev1.fits', m…"
      ]
     },
     "metadata": {},
     "output_type": "display_data"
    },
    {
     "data": {
      "application/vnd.jupyter.widget-view+json": {
       "model_id": "9904d59942234d879842f9d3a058d15e",
       "version_major": 2,
       "version_minor": 0
      },
      "text/plain": [
       "HBox(children=(FloatProgress(value=0.0, description='aia_lev1_304a_2015_12_13t12_00_06_12z_image_lev1.fits', m…"
      ]
     },
     "metadata": {},
     "output_type": "display_data"
    },
    {
     "data": {
      "application/vnd.jupyter.widget-view+json": {
       "model_id": "ec05812d6c344481a713a81270f9df12",
       "version_major": 2,
       "version_minor": 0
      },
      "text/plain": [
       "HBox(children=(FloatProgress(value=0.0, description='aia_lev1_304a_2015_12_14t00_00_06_12z_image_lev1.fits', m…"
      ]
     },
     "metadata": {},
     "output_type": "display_data"
    },
    {
     "data": {
      "application/vnd.jupyter.widget-view+json": {
       "model_id": "0c51767e5e184116817a9b7652eaf794",
       "version_major": 2,
       "version_minor": 0
      },
      "text/plain": [
       "HBox(children=(FloatProgress(value=0.0, description='aia_lev1_304a_2015_12_14t12_00_06_13z_image_lev1.fits', m…"
      ]
     },
     "metadata": {},
     "output_type": "display_data"
    },
    {
     "data": {
      "application/vnd.jupyter.widget-view+json": {
       "model_id": "78f021b142b441fbb7a1ff212d275a94",
       "version_major": 2,
       "version_minor": 0
      },
      "text/plain": [
       "HBox(children=(FloatProgress(value=0.0, description='aia_lev1_304a_2015_12_15t00_00_06_12z_image_lev1.fits', m…"
      ]
     },
     "metadata": {},
     "output_type": "display_data"
    },
    {
     "data": {
      "application/vnd.jupyter.widget-view+json": {
       "model_id": "d85afb8bad3143d48a024bc96daea73f",
       "version_major": 2,
       "version_minor": 0
      },
      "text/plain": [
       "HBox(children=(FloatProgress(value=0.0, description='aia_lev1_304a_2015_12_15t12_00_06_12z_image_lev1.fits', m…"
      ]
     },
     "metadata": {},
     "output_type": "display_data"
    },
    {
     "data": {
      "application/vnd.jupyter.widget-view+json": {
       "model_id": "b5ddc1af776046599ee263347e6a3344",
       "version_major": 2,
       "version_minor": 0
      },
      "text/plain": [
       "HBox(children=(FloatProgress(value=0.0, description='aia_lev1_304a_2015_12_16t00_00_06_12z_image_lev1.fits', m…"
      ]
     },
     "metadata": {},
     "output_type": "display_data"
    },
    {
     "data": {
      "application/vnd.jupyter.widget-view+json": {
       "model_id": "0f7c81e2ff7b46209f6ab415021f0748",
       "version_major": 2,
       "version_minor": 0
      },
      "text/plain": [
       "HBox(children=(FloatProgress(value=0.0, description='aia_lev1_304a_2015_12_16t12_00_06_12z_image_lev1.fits', m…"
      ]
     },
     "metadata": {},
     "output_type": "display_data"
    },
    {
     "data": {
      "application/vnd.jupyter.widget-view+json": {
       "model_id": "665fe60936a14dda8f801cfbbb0cde12",
       "version_major": 2,
       "version_minor": 0
      },
      "text/plain": [
       "HBox(children=(FloatProgress(value=0.0, description='aia_lev1_304a_2015_12_17t00_00_06_12z_image_lev1.fits', m…"
      ]
     },
     "metadata": {},
     "output_type": "display_data"
    },
    {
     "data": {
      "application/vnd.jupyter.widget-view+json": {
       "model_id": "c3cde6c26b674764a4a181bcac784902",
       "version_major": 2,
       "version_minor": 0
      },
      "text/plain": [
       "HBox(children=(FloatProgress(value=0.0, description='aia_lev1_304a_2015_12_17t12_00_06_12z_image_lev1.fits', m…"
      ]
     },
     "metadata": {},
     "output_type": "display_data"
    },
    {
     "data": {
      "application/vnd.jupyter.widget-view+json": {
       "model_id": "8c232c3d86c44e6d9399e5ad0205b03b",
       "version_major": 2,
       "version_minor": 0
      },
      "text/plain": [
       "HBox(children=(FloatProgress(value=0.0, description='aia_lev1_304a_2015_12_18t00_00_06_12z_image_lev1.fits', m…"
      ]
     },
     "metadata": {},
     "output_type": "display_data"
    },
    {
     "data": {
      "application/vnd.jupyter.widget-view+json": {
       "model_id": "6c6e9df15a9249dcb0e37a92112837b6",
       "version_major": 2,
       "version_minor": 0
      },
      "text/plain": [
       "HBox(children=(FloatProgress(value=0.0, description='aia_lev1_304a_2015_12_18t12_00_06_12z_image_lev1.fits', m…"
      ]
     },
     "metadata": {},
     "output_type": "display_data"
    },
    {
     "data": {
      "application/vnd.jupyter.widget-view+json": {
       "model_id": "d80c11fe375e4777a99a7dfb108e422a",
       "version_major": 2,
       "version_minor": 0
      },
      "text/plain": [
       "HBox(children=(FloatProgress(value=0.0, description='aia_lev1_304a_2015_12_19t00_00_06_12z_image_lev1.fits', m…"
      ]
     },
     "metadata": {},
     "output_type": "display_data"
    },
    {
     "data": {
      "application/vnd.jupyter.widget-view+json": {
       "model_id": "b83b0e04e4a5408bb484d81ee47817c4",
       "version_major": 2,
       "version_minor": 0
      },
      "text/plain": [
       "HBox(children=(FloatProgress(value=0.0, description='aia_lev1_304a_2015_12_19t12_00_06_13z_image_lev1.fits', m…"
      ]
     },
     "metadata": {},
     "output_type": "display_data"
    },
    {
     "data": {
      "application/vnd.jupyter.widget-view+json": {
       "model_id": "e9d11fc5938f4f44abcbf2a1db446847",
       "version_major": 2,
       "version_minor": 0
      },
      "text/plain": [
       "HBox(children=(FloatProgress(value=0.0, description='aia_lev1_304a_2015_12_20t00_00_06_14z_image_lev1.fits', m…"
      ]
     },
     "metadata": {},
     "output_type": "display_data"
    },
    {
     "data": {
      "application/vnd.jupyter.widget-view+json": {
       "model_id": "6c7446d4a3e5490496398f97a1b64a92",
       "version_major": 2,
       "version_minor": 0
      },
      "text/plain": [
       "HBox(children=(FloatProgress(value=0.0, description='aia_lev1_304a_2015_12_20t12_00_06_12z_image_lev1.fits', m…"
      ]
     },
     "metadata": {},
     "output_type": "display_data"
    },
    {
     "data": {
      "application/vnd.jupyter.widget-view+json": {
       "model_id": "424126b96e07432893bc16598d394384",
       "version_major": 2,
       "version_minor": 0
      },
      "text/plain": [
       "HBox(children=(FloatProgress(value=0.0, description='aia_lev1_304a_2015_12_21t00_00_06_12z_image_lev1.fits', m…"
      ]
     },
     "metadata": {},
     "output_type": "display_data"
    },
    {
     "data": {
      "application/vnd.jupyter.widget-view+json": {
       "model_id": "0c38ce44dce44aed9dc29a1e17b3659c",
       "version_major": 2,
       "version_minor": 0
      },
      "text/plain": [
       "HBox(children=(FloatProgress(value=0.0, description='aia_lev1_304a_2015_12_21t12_00_06_13z_image_lev1.fits', m…"
      ]
     },
     "metadata": {},
     "output_type": "display_data"
    },
    {
     "data": {
      "application/vnd.jupyter.widget-view+json": {
       "model_id": "0cf53ef47e5549b0a6c89dfa5a8d55e0",
       "version_major": 2,
       "version_minor": 0
      },
      "text/plain": [
       "HBox(children=(FloatProgress(value=0.0, description='aia_lev1_304a_2015_12_22t00_00_06_12z_image_lev1.fits', m…"
      ]
     },
     "metadata": {},
     "output_type": "display_data"
    },
    {
     "data": {
      "application/vnd.jupyter.widget-view+json": {
       "model_id": "32976a4fbdba46f3a1db39316393c513",
       "version_major": 2,
       "version_minor": 0
      },
      "text/plain": [
       "HBox(children=(FloatProgress(value=0.0, description='aia_lev1_304a_2015_12_22t12_00_06_12z_image_lev1.fits', m…"
      ]
     },
     "metadata": {},
     "output_type": "display_data"
    },
    {
     "data": {
      "application/vnd.jupyter.widget-view+json": {
       "model_id": "80fd3acccf464b1aa981ed94584ca1e5",
       "version_major": 2,
       "version_minor": 0
      },
      "text/plain": [
       "HBox(children=(FloatProgress(value=0.0, description='aia_lev1_304a_2015_12_23t00_00_06_14z_image_lev1.fits', m…"
      ]
     },
     "metadata": {},
     "output_type": "display_data"
    },
    {
     "data": {
      "application/vnd.jupyter.widget-view+json": {
       "model_id": "f10ab83624cc4e189ad11122ae51039e",
       "version_major": 2,
       "version_minor": 0
      },
      "text/plain": [
       "HBox(children=(FloatProgress(value=0.0, description='aia_lev1_304a_2015_12_23t12_00_06_12z_image_lev1.fits', m…"
      ]
     },
     "metadata": {},
     "output_type": "display_data"
    },
    {
     "data": {
      "application/vnd.jupyter.widget-view+json": {
       "model_id": "ea1cfbcb87cd45c7a734624709cab9e7",
       "version_major": 2,
       "version_minor": 0
      },
      "text/plain": [
       "HBox(children=(FloatProgress(value=0.0, description='aia_lev1_304a_2015_12_24t00_00_06_12z_image_lev1.fits', m…"
      ]
     },
     "metadata": {},
     "output_type": "display_data"
    },
    {
     "data": {
      "application/vnd.jupyter.widget-view+json": {
       "model_id": "68c745f8fd334810a1ac0ec15bc1c48a",
       "version_major": 2,
       "version_minor": 0
      },
      "text/plain": [
       "HBox(children=(FloatProgress(value=0.0, description='aia_lev1_304a_2015_12_24t12_00_06_12z_image_lev1.fits', m…"
      ]
     },
     "metadata": {},
     "output_type": "display_data"
    },
    {
     "data": {
      "application/vnd.jupyter.widget-view+json": {
       "model_id": "a5e9160928254077913bb7de941320d7",
       "version_major": 2,
       "version_minor": 0
      },
      "text/plain": [
       "HBox(children=(FloatProgress(value=0.0, description='aia_lev1_304a_2015_12_25t00_00_06_12z_image_lev1.fits', m…"
      ]
     },
     "metadata": {},
     "output_type": "display_data"
    },
    {
     "data": {
      "application/vnd.jupyter.widget-view+json": {
       "model_id": "85fb800ed99842dcb1fc413cb0747ffb",
       "version_major": 2,
       "version_minor": 0
      },
      "text/plain": [
       "HBox(children=(FloatProgress(value=0.0, description='aia_lev1_304a_2015_12_25t12_00_06_12z_image_lev1.fits', m…"
      ]
     },
     "metadata": {},
     "output_type": "display_data"
    },
    {
     "data": {
      "application/vnd.jupyter.widget-view+json": {
       "model_id": "6dc2c2e4dc4f4ea6a0cf7a43255394db",
       "version_major": 2,
       "version_minor": 0
      },
      "text/plain": [
       "HBox(children=(FloatProgress(value=0.0, description='aia_lev1_304a_2015_12_26t00_00_06_12z_image_lev1.fits', m…"
      ]
     },
     "metadata": {},
     "output_type": "display_data"
    },
    {
     "data": {
      "application/vnd.jupyter.widget-view+json": {
       "model_id": "48bd8231fdb243308133d9e243b74ac0",
       "version_major": 2,
       "version_minor": 0
      },
      "text/plain": [
       "HBox(children=(FloatProgress(value=0.0, description='aia_lev1_304a_2015_12_26t12_00_06_12z_image_lev1.fits', m…"
      ]
     },
     "metadata": {},
     "output_type": "display_data"
    },
    {
     "data": {
      "application/vnd.jupyter.widget-view+json": {
       "model_id": "6bc7cb4530624b2a8c4c74b31d25f600",
       "version_major": 2,
       "version_minor": 0
      },
      "text/plain": [
       "HBox(children=(FloatProgress(value=0.0, description='aia_lev1_304a_2015_12_27t06_02_54_13z_image_lev1.fits', m…"
      ]
     },
     "metadata": {},
     "output_type": "display_data"
    },
    {
     "data": {
      "application/vnd.jupyter.widget-view+json": {
       "model_id": "771f90825cff4d779c7109fb2f0a59be",
       "version_major": 2,
       "version_minor": 0
      },
      "text/plain": [
       "HBox(children=(FloatProgress(value=0.0, description='aia_lev1_304a_2015_12_27t12_00_06_12z_image_lev1.fits', m…"
      ]
     },
     "metadata": {},
     "output_type": "display_data"
    },
    {
     "data": {
      "application/vnd.jupyter.widget-view+json": {
       "model_id": "f5d4c2efae6345bf890978247099d903",
       "version_major": 2,
       "version_minor": 0
      },
      "text/plain": [
       "HBox(children=(FloatProgress(value=0.0, description='aia_lev1_304a_2015_12_28t03_16_42_12z_image_lev1.fits', m…"
      ]
     },
     "metadata": {},
     "output_type": "display_data"
    },
    {
     "data": {
      "application/vnd.jupyter.widget-view+json": {
       "model_id": "2393f326958c4cd0bfb11a56cb5bc5ed",
       "version_major": 2,
       "version_minor": 0
      },
      "text/plain": [
       "HBox(children=(FloatProgress(value=0.0, description='aia_lev1_304a_2015_12_28t12_00_06_14z_image_lev1.fits', m…"
      ]
     },
     "metadata": {},
     "output_type": "display_data"
    },
    {
     "data": {
      "application/vnd.jupyter.widget-view+json": {
       "model_id": "a113850ba4b445b09c95c2c9168ea5fb",
       "version_major": 2,
       "version_minor": 0
      },
      "text/plain": [
       "HBox(children=(FloatProgress(value=0.0, description='aia_lev1_304a_2015_12_29t00_00_06_12z_image_lev1.fits', m…"
      ]
     },
     "metadata": {},
     "output_type": "display_data"
    },
    {
     "data": {
      "application/vnd.jupyter.widget-view+json": {
       "model_id": "048b1fe660dd450b8c36f482aa0cd730",
       "version_major": 2,
       "version_minor": 0
      },
      "text/plain": [
       "HBox(children=(FloatProgress(value=0.0, description='aia_lev1_304a_2015_12_29t12_00_06_13z_image_lev1.fits', m…"
      ]
     },
     "metadata": {},
     "output_type": "display_data"
    },
    {
     "data": {
      "application/vnd.jupyter.widget-view+json": {
       "model_id": "12fc9d39632641adbb34e929aa6408e8",
       "version_major": 2,
       "version_minor": 0
      },
      "text/plain": [
       "HBox(children=(FloatProgress(value=0.0, description='aia_lev1_304a_2015_12_30t00_00_06_12z_image_lev1.fits', m…"
      ]
     },
     "metadata": {},
     "output_type": "display_data"
    },
    {
     "data": {
      "application/vnd.jupyter.widget-view+json": {
       "model_id": "a533d73dcca645a1876932ea02df8c67",
       "version_major": 2,
       "version_minor": 0
      },
      "text/plain": [
       "HBox(children=(FloatProgress(value=0.0, description='aia_lev1_304a_2015_12_30t12_00_06_12z_image_lev1.fits', m…"
      ]
     },
     "metadata": {},
     "output_type": "display_data"
    },
    {
     "name": "stdout",
     "output_type": "stream",
     "text": [
      "\n"
     ]
    }
   ],
   "source": [
    "aia_downloaded_files = Fido.fetch(vso_aia, path='2015/2015_fits_AIA0304/{file}')"
   ]
  },
  {
   "cell_type": "code",
   "execution_count": 13,
   "metadata": {},
   "outputs": [
    {
     "name": "stdout",
     "output_type": "stream",
     "text": [
      "728\n"
     ]
    }
   ],
   "source": [
    "print(len(os.listdir('2014/2014_fits_AIA0304/')))\n",
    "# print(os.listdir('2013/2013_fits_AIA0304/')[0])"
   ]
  },
  {
   "cell_type": "code",
   "execution_count": 19,
   "metadata": {
    "executionInfo": {
     "elapsed": 7691,
     "status": "ok",
     "timestamp": 1604808033415,
     "user": {
      "displayName": "Ankan Dash",
      "photoUrl": "https://lh3.googleusercontent.com/a-/AOh14GgZrmOw1hV6kmiTyiupYexh0VraYZou9xROApmx=s64",
      "userId": "17001824366533707810"
     },
     "user_tz": -330
    },
    "id": "rh0Gk-1KY7YL"
   },
   "outputs": [],
   "source": [
    "# VSO HMI\n",
    "vso_hmi = Fido.search(a.Time('2013-01-01T00:00:00', '2013-12-31T00:00:00')\n",
    "            & a.vso.Extent(0, 0, 0, 0, \"FULLDISK\"),\n",
    "            a.Instrument.hmi, \n",
    "            a.Physobs.los_magnetic_field,\n",
    "            a.Sample(12*u.hour), \n",
    "            )"
   ]
  },
  {
   "cell_type": "code",
   "execution_count": 20,
   "metadata": {},
   "outputs": [
    {
     "data": {
      "text/plain": [
       "<bound method Sequence.count of <sunpy.net.fido_factory.UnifiedResponse object at 0x000001B769F852B0>\n",
       "Results from 1 Provider:\n",
       "\n",
       "34 Results from the VSOClient:\n",
       "   Start Time [1]       End Time [1]    Source ...   Type    Wavelength [2] \n",
       "                                               ...              Angstrom    \n",
       "------------------- ------------------- ------ ... -------- ----------------\n",
       "2012-12-14 00:00:24 2012-12-14 00:00:25    SDO ... FULLDISK 6173.0 .. 6174.0\n",
       "2012-12-14 12:00:24 2012-12-14 12:00:25    SDO ... FULLDISK 6173.0 .. 6174.0\n",
       "2012-12-15 00:00:24 2012-12-15 00:00:25    SDO ... FULLDISK 6173.0 .. 6174.0\n",
       "2012-12-15 12:00:24 2012-12-15 12:00:25    SDO ... FULLDISK 6173.0 .. 6174.0\n",
       "2012-12-16 00:00:24 2012-12-16 00:00:25    SDO ... FULLDISK 6173.0 .. 6174.0\n",
       "2012-12-16 12:00:24 2012-12-16 12:00:25    SDO ... FULLDISK 6173.0 .. 6174.0\n",
       "2012-12-17 00:00:24 2012-12-17 00:00:25    SDO ... FULLDISK 6173.0 .. 6174.0\n",
       "2012-12-17 12:00:24 2012-12-17 12:00:25    SDO ... FULLDISK 6173.0 .. 6174.0\n",
       "2012-12-18 00:00:24 2012-12-18 00:00:25    SDO ... FULLDISK 6173.0 .. 6174.0\n",
       "2012-12-18 12:00:24 2012-12-18 12:00:25    SDO ... FULLDISK 6173.0 .. 6174.0\n",
       "                ...                 ...    ... ...      ...              ...\n",
       "2012-12-26 00:00:24 2012-12-26 00:00:25    SDO ... FULLDISK 6173.0 .. 6174.0\n",
       "2012-12-26 12:00:24 2012-12-26 12:00:25    SDO ... FULLDISK 6173.0 .. 6174.0\n",
       "2012-12-27 00:00:24 2012-12-27 00:00:25    SDO ... FULLDISK 6173.0 .. 6174.0\n",
       "2012-12-27 12:00:24 2012-12-27 12:00:25    SDO ... FULLDISK 6173.0 .. 6174.0\n",
       "2012-12-28 00:00:24 2012-12-28 00:00:25    SDO ... FULLDISK 6173.0 .. 6174.0\n",
       "2012-12-28 12:00:24 2012-12-28 12:00:25    SDO ... FULLDISK 6173.0 .. 6174.0\n",
       "2012-12-29 00:00:24 2012-12-29 00:00:25    SDO ... FULLDISK 6173.0 .. 6174.0\n",
       "2012-12-29 12:00:24 2012-12-29 12:00:25    SDO ... FULLDISK 6173.0 .. 6174.0\n",
       "2012-12-30 00:00:24 2012-12-30 00:00:25    SDO ... FULLDISK 6173.0 .. 6174.0\n",
       "2012-12-30 12:00:24 2012-12-30 12:00:25    SDO ... FULLDISK 6173.0 .. 6174.0\n",
       "Length = 34 rows\n",
       "\n",
       ">"
      ]
     },
     "execution_count": 20,
     "metadata": {},
     "output_type": "execute_result"
    }
   ],
   "source": [
    "vso_hmi.count"
   ]
  },
  {
   "cell_type": "code",
   "execution_count": 21,
   "metadata": {
    "colab": {
     "base_uri": "https://localhost:8080/"
    },
    "id": "G98RtV5gY7ao",
    "outputId": "97b4280f-f8f5-4936-acd8-86b385a0dca9"
   },
   "outputs": [
    {
     "data": {
      "application/vnd.jupyter.widget-view+json": {
       "model_id": "3ff023286e9b4a8bb8aba4ee9ba555a6",
       "version_major": 2,
       "version_minor": 0
      },
      "text/plain": [
       "HBox(children=(FloatProgress(value=0.0, description='Files Downloaded', max=34.0, style=ProgressStyle(descript…"
      ]
     },
     "metadata": {},
     "output_type": "display_data"
    },
    {
     "data": {
      "application/vnd.jupyter.widget-view+json": {
       "model_id": "27b4802b096a4ebb8b490359b46efdec",
       "version_major": 2,
       "version_minor": 0
      },
      "text/plain": [
       "HBox(children=(FloatProgress(value=0.0, description='hmi_m_45s_2012_12_19_12_01_30_tai_magnetogram.fits', max=…"
      ]
     },
     "metadata": {},
     "output_type": "display_data"
    },
    {
     "data": {
      "application/vnd.jupyter.widget-view+json": {
       "model_id": "3abcd1d881144781a794dbdea08e708d",
       "version_major": 2,
       "version_minor": 0
      },
      "text/plain": [
       "HBox(children=(FloatProgress(value=0.0, description='hmi_m_45s_2012_12_20_00_01_30_tai_magnetogram.fits', max=…"
      ]
     },
     "metadata": {},
     "output_type": "display_data"
    },
    {
     "data": {
      "application/vnd.jupyter.widget-view+json": {
       "model_id": "675ad62b5c80475ba57245cbbeabebc9",
       "version_major": 2,
       "version_minor": 0
      },
      "text/plain": [
       "HBox(children=(FloatProgress(value=0.0, description='hmi_m_45s_2012_12_20_12_01_30_tai_magnetogram.fits', max=…"
      ]
     },
     "metadata": {},
     "output_type": "display_data"
    },
    {
     "data": {
      "application/vnd.jupyter.widget-view+json": {
       "model_id": "3aaee8d53bea484caf280572b9b62747",
       "version_major": 2,
       "version_minor": 0
      },
      "text/plain": [
       "HBox(children=(FloatProgress(value=0.0, description='hmi_m_45s_2012_12_21_12_01_30_tai_magnetogram.fits', max=…"
      ]
     },
     "metadata": {},
     "output_type": "display_data"
    },
    {
     "data": {
      "application/vnd.jupyter.widget-view+json": {
       "model_id": "7040cdfb413b46a696d4d0b3611b1242",
       "version_major": 2,
       "version_minor": 0
      },
      "text/plain": [
       "HBox(children=(FloatProgress(value=0.0, description='hmi_m_45s_2012_12_21_00_01_30_tai_magnetogram.fits', max=…"
      ]
     },
     "metadata": {},
     "output_type": "display_data"
    },
    {
     "data": {
      "application/vnd.jupyter.widget-view+json": {
       "model_id": "c6ca42d4ee164039abb630aceb8059c5",
       "version_major": 2,
       "version_minor": 0
      },
      "text/plain": [
       "HBox(children=(FloatProgress(value=0.0, description='hmi_m_45s_2012_12_22_00_01_30_tai_magnetogram.fits', max=…"
      ]
     },
     "metadata": {},
     "output_type": "display_data"
    },
    {
     "data": {
      "application/vnd.jupyter.widget-view+json": {
       "model_id": "b631f285bfe445ca948ff71e2063175f",
       "version_major": 2,
       "version_minor": 0
      },
      "text/plain": [
       "HBox(children=(FloatProgress(value=0.0, description='hmi_m_45s_2012_12_22_12_01_30_tai_magnetogram.fits', max=…"
      ]
     },
     "metadata": {},
     "output_type": "display_data"
    },
    {
     "data": {
      "application/vnd.jupyter.widget-view+json": {
       "model_id": "d1f79839b33448cfac771f14ac34dee5",
       "version_major": 2,
       "version_minor": 0
      },
      "text/plain": [
       "HBox(children=(FloatProgress(value=0.0, description='hmi_m_45s_2012_12_23_00_01_30_tai_magnetogram.fits', max=…"
      ]
     },
     "metadata": {},
     "output_type": "display_data"
    },
    {
     "data": {
      "application/vnd.jupyter.widget-view+json": {
       "model_id": "cbfe920386214961ba7d54ec3fbd03f6",
       "version_major": 2,
       "version_minor": 0
      },
      "text/plain": [
       "HBox(children=(FloatProgress(value=0.0, description='hmi_m_45s_2012_12_23_12_01_30_tai_magnetogram.fits', max=…"
      ]
     },
     "metadata": {},
     "output_type": "display_data"
    },
    {
     "data": {
      "application/vnd.jupyter.widget-view+json": {
       "model_id": "c2e76b011518425d9fe8f594f2b5e654",
       "version_major": 2,
       "version_minor": 0
      },
      "text/plain": [
       "HBox(children=(FloatProgress(value=0.0, description='hmi_m_45s_2012_12_24_00_01_30_tai_magnetogram.fits', max=…"
      ]
     },
     "metadata": {},
     "output_type": "display_data"
    },
    {
     "data": {
      "application/vnd.jupyter.widget-view+json": {
       "model_id": "de7670c3683e49e3879d89952e6e0852",
       "version_major": 2,
       "version_minor": 0
      },
      "text/plain": [
       "HBox(children=(FloatProgress(value=0.0, description='hmi_m_45s_2012_12_24_12_01_30_tai_magnetogram.fits', max=…"
      ]
     },
     "metadata": {},
     "output_type": "display_data"
    },
    {
     "data": {
      "application/vnd.jupyter.widget-view+json": {
       "model_id": "24af257072d145218c85a1510fe1f994",
       "version_major": 2,
       "version_minor": 0
      },
      "text/plain": [
       "HBox(children=(FloatProgress(value=0.0, description='hmi_m_45s_2012_12_25_00_01_30_tai_magnetogram.fits', max=…"
      ]
     },
     "metadata": {},
     "output_type": "display_data"
    },
    {
     "data": {
      "application/vnd.jupyter.widget-view+json": {
       "model_id": "f40fefea8f5346158864076331a273e2",
       "version_major": 2,
       "version_minor": 0
      },
      "text/plain": [
       "HBox(children=(FloatProgress(value=0.0, description='hmi_m_45s_2012_12_25_12_01_30_tai_magnetogram.fits', max=…"
      ]
     },
     "metadata": {},
     "output_type": "display_data"
    },
    {
     "data": {
      "application/vnd.jupyter.widget-view+json": {
       "model_id": "a4b404e8f76b40d49111120af13b8511",
       "version_major": 2,
       "version_minor": 0
      },
      "text/plain": [
       "HBox(children=(FloatProgress(value=0.0, description='hmi_m_45s_2012_12_26_00_01_30_tai_magnetogram.fits', max=…"
      ]
     },
     "metadata": {},
     "output_type": "display_data"
    },
    {
     "data": {
      "application/vnd.jupyter.widget-view+json": {
       "model_id": "18c402dbcf4e49e890a7ee8ef1565ffe",
       "version_major": 2,
       "version_minor": 0
      },
      "text/plain": [
       "HBox(children=(FloatProgress(value=0.0, description='hmi_m_45s_2012_12_26_12_01_30_tai_magnetogram.fits', max=…"
      ]
     },
     "metadata": {},
     "output_type": "display_data"
    },
    {
     "data": {
      "application/vnd.jupyter.widget-view+json": {
       "model_id": "b7fad2b2226249f78fd5fbe99598f389",
       "version_major": 2,
       "version_minor": 0
      },
      "text/plain": [
       "HBox(children=(FloatProgress(value=0.0, description='hmi_m_45s_2012_12_27_00_01_30_tai_magnetogram.fits', max=…"
      ]
     },
     "metadata": {},
     "output_type": "display_data"
    },
    {
     "data": {
      "application/vnd.jupyter.widget-view+json": {
       "model_id": "d1fe87b71d4f46e89d4c98be59f35cd2",
       "version_major": 2,
       "version_minor": 0
      },
      "text/plain": [
       "HBox(children=(FloatProgress(value=0.0, description='hmi_m_45s_2012_12_27_12_01_30_tai_magnetogram.fits', max=…"
      ]
     },
     "metadata": {},
     "output_type": "display_data"
    },
    {
     "data": {
      "application/vnd.jupyter.widget-view+json": {
       "model_id": "df44ef349a2b4ef08b2186ff2da9ca57",
       "version_major": 2,
       "version_minor": 0
      },
      "text/plain": [
       "HBox(children=(FloatProgress(value=0.0, description='hmi_m_45s_2012_12_28_00_01_30_tai_magnetogram.fits', max=…"
      ]
     },
     "metadata": {},
     "output_type": "display_data"
    },
    {
     "data": {
      "application/vnd.jupyter.widget-view+json": {
       "model_id": "6dde9c07bb17465b8930b5e8a6b61ec2",
       "version_major": 2,
       "version_minor": 0
      },
      "text/plain": [
       "HBox(children=(FloatProgress(value=0.0, description='hmi_m_45s_2012_12_28_12_01_30_tai_magnetogram.fits', max=…"
      ]
     },
     "metadata": {},
     "output_type": "display_data"
    },
    {
     "data": {
      "application/vnd.jupyter.widget-view+json": {
       "model_id": "9a4c4630f9274219b0991ffb5698de70",
       "version_major": 2,
       "version_minor": 0
      },
      "text/plain": [
       "HBox(children=(FloatProgress(value=0.0, description='hmi_m_45s_2012_12_29_00_01_30_tai_magnetogram.fits', max=…"
      ]
     },
     "metadata": {},
     "output_type": "display_data"
    },
    {
     "data": {
      "application/vnd.jupyter.widget-view+json": {
       "model_id": "26cbc62af02a471ca40c92d7cc8e29ed",
       "version_major": 2,
       "version_minor": 0
      },
      "text/plain": [
       "HBox(children=(FloatProgress(value=0.0, description='hmi_m_45s_2012_12_29_12_01_30_tai_magnetogram.fits', max=…"
      ]
     },
     "metadata": {},
     "output_type": "display_data"
    },
    {
     "data": {
      "application/vnd.jupyter.widget-view+json": {
       "model_id": "d37e77ef4445467b84e8937baf3de9c7",
       "version_major": 2,
       "version_minor": 0
      },
      "text/plain": [
       "HBox(children=(FloatProgress(value=0.0, description='hmi_m_45s_2012_12_30_00_01_30_tai_magnetogram.fits', max=…"
      ]
     },
     "metadata": {},
     "output_type": "display_data"
    },
    {
     "data": {
      "application/vnd.jupyter.widget-view+json": {
       "model_id": "930c43802f914652bed6e08edc793445",
       "version_major": 2,
       "version_minor": 0
      },
      "text/plain": [
       "HBox(children=(FloatProgress(value=0.0, description='hmi_m_45s_2012_12_30_12_01_30_tai_magnetogram.fits', max=…"
      ]
     },
     "metadata": {},
     "output_type": "display_data"
    },
    {
     "name": "stdout",
     "output_type": "stream",
     "text": [
      "\n"
     ]
    }
   ],
   "source": [
    "hmi_downloaded_files = Fido.fetch(vso_hmi, path='data/HMI/{file}')"
   ]
  },
  {
   "cell_type": "code",
   "execution_count": 3,
   "metadata": {
    "id": "yQoELDbbNrzh"
   },
   "outputs": [
    {
     "name": "stdout",
     "output_type": "stream",
     "text": [
      "730\n",
      "hmi_m_45s_2012_01_01_00_01_30_tai_magnetogram.fits\n"
     ]
    }
   ],
   "source": [
    "import os\n",
    "print(len(os.listdir('data/HMI/')))\n",
    "print(os.listdir('data/HMI/')[0])"
   ]
  },
  {
   "cell_type": "code",
   "execution_count": 4,
   "metadata": {},
   "outputs": [
    {
     "data": {
      "text/plain": [
       "['hmi_m_45s_2012_01_01_00_01_30_tai_magnetogram.fits',\n",
       " 'hmi_m_45s_2012_01_01_12_01_30_tai_magnetogram.fits',\n",
       " 'hmi_m_45s_2012_01_02_00_01_30_tai_magnetogram.fits',\n",
       " 'hmi_m_45s_2012_01_02_12_01_30_tai_magnetogram.fits',\n",
       " 'hmi_m_45s_2012_01_03_00_01_30_tai_magnetogram.fits']"
      ]
     },
     "execution_count": 4,
     "metadata": {},
     "output_type": "execute_result"
    }
   ],
   "source": [
    "os.listdir('data/HMI/')[:5]"
   ]
  },
  {
   "cell_type": "code",
   "execution_count": 14,
   "metadata": {},
   "outputs": [],
   "source": [
    "# for file in os.listdir('data/HMI/'):\n",
    "#     if file != '.ipynb_checkpoints':\n",
    "#         os.remove(f'data/HMI/{file}')"
   ]
  },
  {
   "cell_type": "code",
   "execution_count": 5,
   "metadata": {},
   "outputs": [
    {
     "name": "stdout",
     "output_type": "stream",
     "text": [
      "730\n",
      "aia_lev1_304a_2012_01_01t00_00_08_14z_image_lev1.fits\n"
     ]
    }
   ],
   "source": [
    "print(len(os.listdir('data/AIA304/')))\n",
    "print(os.listdir('data/AIA304/')[0])"
   ]
  },
  {
   "cell_type": "code",
   "execution_count": null,
   "metadata": {},
   "outputs": [],
   "source": []
  },
  {
   "cell_type": "code",
   "execution_count": null,
   "metadata": {},
   "outputs": [],
   "source": []
  },
  {
   "cell_type": "code",
   "execution_count": null,
   "metadata": {},
   "outputs": [],
   "source": []
  },
  {
   "cell_type": "code",
   "execution_count": null,
   "metadata": {},
   "outputs": [],
   "source": []
  },
  {
   "cell_type": "code",
   "execution_count": null,
   "metadata": {},
   "outputs": [],
   "source": []
  },
  {
   "cell_type": "code",
   "execution_count": null,
   "metadata": {},
   "outputs": [],
   "source": []
  },
  {
   "cell_type": "code",
   "execution_count": null,
   "metadata": {},
   "outputs": [],
   "source": []
  },
  {
   "cell_type": "code",
   "execution_count": null,
   "metadata": {},
   "outputs": [],
   "source": []
  },
  {
   "cell_type": "code",
   "execution_count": null,
   "metadata": {},
   "outputs": [],
   "source": []
  },
  {
   "cell_type": "code",
   "execution_count": null,
   "metadata": {},
   "outputs": [],
   "source": []
  },
  {
   "cell_type": "markdown",
   "metadata": {
    "id": "Csz9jbuip0xs"
   },
   "source": [
    "# HMI Magnetograms\n",
    "\n",
    "## Magnetograms are maps of the observed solar magnetic field in the photosphere. The line-of-sight component of the field can be accurately measured as it evolves in time over the full visible disk of the Sun. The HMI instrument exploits the Zeeman effect, which allows the strength of the line-of-sight component of the magnetic field to be determined by measurements of the spectral line in circularly polarized light.\n",
    "\n",
    "HMI makes two independent measurements of the line-of-sight component of the photospheric magnetic field. One is collected every 45 seconds with the HMI Doppler camera. The other is computed every 720 seconds using filtergrams recorded by the Vector Field camera. The spatial resolution is 1 arc second (half arc-second pixels) and the full disk images are collected on a 4096**2 detector. The noise level is nominally between 5 and 10 Gauss. HMI really measures flux density in Mx/cm2 in each pixel.\n",
    "\n",
    "1. hmi.M_720s magnetograms are computed every 12 minutes (720 seconds) by combining registered filtergrams obtained over a 1260 second time interval. The images provide a full-disk low-noise image of the Sun.\n",
    "\n",
    "1. hmi.M_45s magnetograms are derived every 45 seconds. They provide a full disk image of the magnetic field and are best used to investigate rapidlly evolving field structures."
   ]
  },
  {
   "cell_type": "code",
   "execution_count": 25,
   "metadata": {
    "executionInfo": {
     "elapsed": 937,
     "status": "ok",
     "timestamp": 1604807779621,
     "user": {
      "displayName": "Ankan Dash",
      "photoUrl": "https://lh3.googleusercontent.com/a-/AOh14GgZrmOw1hV6kmiTyiupYexh0VraYZou9xROApmx=s64",
      "userId": "17001824366533707810"
     },
     "user_tz": -330
    },
    "id": "90kpXO2CmWeZ"
   },
   "outputs": [],
   "source": [
    "# # Line-of-Sight Magnetograms, hmi.M_45s\n",
    "# resHmi45 = Fido.search(a.Time('2012-01-01T00:00:00', '2012-12-31T00:00:00'),\n",
    "#                                a.jsoc.Notify('sunpy@sunpy.org'),\n",
    "#                               a.jsoc.Series('hmi.M_45s'),\n",
    "#                   a.Sample(12*u.hour))"
   ]
  },
  {
   "cell_type": "code",
   "execution_count": 22,
   "metadata": {
    "executionInfo": {
     "elapsed": 1280,
     "status": "ok",
     "timestamp": 1604807684880,
     "user": {
      "displayName": "Ankan Dash",
      "photoUrl": "https://lh3.googleusercontent.com/a-/AOh14GgZrmOw1hV6kmiTyiupYexh0VraYZou9xROApmx=s64",
      "userId": "17001824366533707810"
     },
     "user_tz": -330
    },
    "id": "RxcVLdFuWTXU"
   },
   "outputs": [],
   "source": [
    "# resHmi45_downloaded_files = Fido.fetch(resHmi45) "
   ]
  },
  {
   "cell_type": "code",
   "execution_count": 24,
   "metadata": {
    "executionInfo": {
     "elapsed": 1238,
     "status": "ok",
     "timestamp": 1604807770472,
     "user": {
      "displayName": "Ankan Dash",
      "photoUrl": "https://lh3.googleusercontent.com/a-/AOh14GgZrmOw1hV6kmiTyiupYexh0VraYZou9xROApmx=s64",
      "userId": "17001824366533707810"
     },
     "user_tz": -330
    },
    "id": "FpLpAGnNWW-U"
   },
   "outputs": [],
   "source": [
    "# Fido.search(a.Time('2012-01-01T00:00:00', '2012-12-31T00:00:00'),\n",
    "#                                a.jsoc.Notify('sunpy@sunpy.org'),\n",
    "#                               a.jsoc.Series('hmi.M_45s'),\n",
    "#                   a.Sample(12*u.hour))"
   ]
  },
  {
   "cell_type": "code",
   "execution_count": null,
   "metadata": {
    "id": "0FcTJQaAWXBL"
   },
   "outputs": [],
   "source": []
  },
  {
   "cell_type": "code",
   "execution_count": null,
   "metadata": {
    "id": "CGzc6-feWXDs"
   },
   "outputs": [],
   "source": []
  },
  {
   "cell_type": "code",
   "execution_count": 20,
   "metadata": {
    "executionInfo": {
     "elapsed": 1309,
     "status": "ok",
     "timestamp": 1604807668780,
     "user": {
      "displayName": "Ankan Dash",
      "photoUrl": "https://lh3.googleusercontent.com/a-/AOh14GgZrmOw1hV6kmiTyiupYexh0VraYZou9xROApmx=s64",
      "userId": "17001824366533707810"
     },
     "user_tz": -330
    },
    "id": "ohtpwrRCY7lh"
   },
   "outputs": [],
   "source": [
    "# # Line-of-Sight Magnetograms hmi.M_720s\n",
    "# Fido.search(a.Time('2012-01-01T00:00:00', '2012-12-31T00:00:00'),\n",
    "#                                a.jsoc.Notify('sunpy@sunpy.org'),\n",
    "#                               a.jsoc.Series('hmi.M_720s'),\n",
    "#                               #  a.jsoc.Wavelength(304*u.AA),\n",
    "#                   a.Sample(12*u.hour))"
   ]
  },
  {
   "cell_type": "code",
   "execution_count": null,
   "metadata": {
    "id": "pm2p8_JDWR0N"
   },
   "outputs": [],
   "source": []
  },
  {
   "cell_type": "code",
   "execution_count": null,
   "metadata": {
    "id": "WOBXB5HpY7oF"
   },
   "outputs": [],
   "source": []
  },
  {
   "cell_type": "code",
   "execution_count": 21,
   "metadata": {
    "executionInfo": {
     "elapsed": 1325,
     "status": "ok",
     "timestamp": 1604807674706,
     "user": {
      "displayName": "Ankan Dash",
      "photoUrl": "https://lh3.googleusercontent.com/a-/AOh14GgZrmOw1hV6kmiTyiupYexh0VraYZou9xROApmx=s64",
      "userId": "17001824366533707810"
     },
     "user_tz": -330
    },
    "id": "XBFA6lNWY7q2"
   },
   "outputs": [],
   "source": [
    "# # AIA\n",
    "# Fido.search(a.Time('2011-01-01T00:00:00', '2011-12-31T01:00:00'),\n",
    "#                                a.jsoc.Notify('sunpy@sunpy.org'),\n",
    "#                               a.jsoc.Series('aia.lev1_euv_12s'),\n",
    "#                                a.jsoc.Wavelength(304*u.AA),\n",
    "#                   a.Sample(12*u.hour))"
   ]
  },
  {
   "cell_type": "code",
   "execution_count": null,
   "metadata": {
    "id": "gagqlkh1Wc8h"
   },
   "outputs": [],
   "source": []
  }
 ],
 "metadata": {
  "colab": {
   "authorship_tag": "ABX9TyPuZSNZ3+s3s13+m8e+rDJR",
   "collapsed_sections": [],
   "mount_file_id": "1SEdUHy_S2HlEwnmAY2lPcEa5QKvAqHX9",
   "name": "jsoc.ipynb",
   "provenance": [],
   "toc_visible": true
  },
  "kernelspec": {
   "display_name": "Python 3",
   "language": "python",
   "name": "python3"
  },
  "language_info": {
   "codemirror_mode": {
    "name": "ipython",
    "version": 3
   },
   "file_extension": ".py",
   "mimetype": "text/x-python",
   "name": "python",
   "nbconvert_exporter": "python",
   "pygments_lexer": "ipython3",
   "version": "3.8.3"
  }
 },
 "nbformat": 4,
 "nbformat_minor": 1
}
