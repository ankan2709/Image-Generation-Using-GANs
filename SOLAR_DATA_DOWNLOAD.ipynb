{
 "cells": [
  {
   "cell_type": "markdown",
   "metadata": {},
   "source": [
    "# Getting Joint Science Operations Center (JSOC) Data Products"
   ]
  },
  {
   "cell_type": "code",
   "execution_count": null,
   "metadata": {},
   "outputs": [],
   "source": [
    "import numpy as np\n",
    "import matplotlib.pyplot as plt\n",
    "import os\n",
    "\n",
    "from sunpy.net import Fido, attrs as a\n",
    "\n",
    "import astropy.units as u"
   ]
  },
  {
   "cell_type": "code",
   "execution_count": null,
   "metadata": {},
   "outputs": [],
   "source": [
    "# VSO AIA\n",
    "Fido.search(a.Time('2014-01-01T00:00:00', '2014-12-31T00:00:00'), \n",
    "            a.Instrument.aia,\n",
    "            a.Wavelength(304*u.angstrom), \n",
    "            a.Sample(12*u.hour))"
   ]
  },
  {
   "cell_type": "code",
   "execution_count": null,
   "metadata": {},
   "outputs": [],
   "source": [
    "# VSO HMI\n",
    "Fido.search(a.Time('2014-01-01T00:00:00', '2014-12-31T00:00:00')\n",
    "            & a.vso.Extent(0, 0, 0, 0, \"FULLDISK\"),\n",
    "            a.Instrument.hmi, \n",
    "            a.Physobs.los_magnetic_field,\n",
    "            a.Sample(12*u.hour), \n",
    "            )"
   ]
  },
  {
   "cell_type": "code",
   "execution_count": null,
   "metadata": {},
   "outputs": [],
   "source": [
    "vso_aia = Fido.search(a.Time('2014-01-01T00:00:00', '2014-12-31T00:00:00'), \n",
    "            a.Instrument.aia,\n",
    "            a.Wavelength(304*u.angstrom), \n",
    "            a.Sample(12*u.hour))"
   ]
  },
  {
   "cell_type": "code",
   "execution_count": null,
   "metadata": {},
   "outputs": [],
   "source": [
    "aia_downloaded_files = Fido.fetch(vso_aia, path='2014/2014_fits_AIA0304/{file}')"
   ]
  },
  {
   "cell_type": "code",
   "execution_count": null,
   "metadata": {},
   "outputs": [],
   "source": [
    "# VSO HMI\n",
    "vso_hmi = Fido.search(a.Time('2014-01-01T00:00:00', '2014-12-31T00:00:00')\n",
    "            & a.vso.Extent(0, 0, 0, 0, \"FULLDISK\"),\n",
    "            a.Instrument.hmi, \n",
    "            a.Physobs.los_magnetic_field,\n",
    "            a.Sample(12*u.hour), \n",
    "            )"
   ]
  }
 ],
 "metadata": {
  "kernelspec": {
   "display_name": "Python 3",
   "language": "python",
   "name": "python3"
  },
  "language_info": {
   "codemirror_mode": {
    "name": "ipython",
    "version": 3
   },
   "file_extension": ".py",
   "mimetype": "text/x-python",
   "name": "python",
   "nbconvert_exporter": "python",
   "pygments_lexer": "ipython3",
   "version": "3.8.3"
  }
 },
 "nbformat": 4,
 "nbformat_minor": 4
}
