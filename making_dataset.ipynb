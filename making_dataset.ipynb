{
 "cells": [
  {
   "cell_type": "code",
   "execution_count": null,
   "metadata": {
    "colab": {
     "base_uri": "https://localhost:8080/",
     "height": 35
    },
    "executionInfo": {
     "elapsed": 1240,
     "status": "ok",
     "timestamp": 1602252720734,
     "user": {
      "displayName": "Ankan Dash",
      "photoUrl": "https://lh3.googleusercontent.com/a-/AOh14Gj2H_g1hCeCB1nql-PzvaslocOTi6uUbmXPP1h_=s64",
      "userId": "15069647903103186795"
     },
     "user_tz": -330
    },
    "id": "eGdFKGRRFdkc",
    "outputId": "dc5bd0ef-5391-446c-d71d-3b75f75f6d02"
   },
   "outputs": [
    {
     "name": "stdout",
     "output_type": "stream",
     "text": [
      "split = train, number of images = 217\n"
     ]
    }
   ],
   "source": [
    "import os\n",
    "import numpy as np\n",
    "from PIL import Image\n",
    "import cv2\n",
    "from tifffile import imsave\n",
    "\n",
    "# define paths for translation from domain A (images in folderA) -> domain B (images in folderB)\n",
    "folderA = '/content/drive/My Drive/Solar_data_code/HMIAIAaggregate/folderA'\n",
    "folderB = '/content/drive/My Drive/Solar_data_code/HMIAIAaggregate/folderB'\n",
    "dest_path = '/content/drive/My Drive/Solar_data_code/HMIAIAaggregate/output'\n",
    "\n",
    "splits = os.listdir(folderA)\n",
    "\n",
    "for sp in splits:\n",
    "    img_fold_A = os.path.join(folderA, sp)\n",
    "    img_fold_B = os.path.join(folderB, sp)\n",
    "    img_list = os.listdir(img_fold_A)\n",
    "    num_imgs = len(img_list)\n",
    "    img_fold_AB = os.path.join(dest_path, sp)\n",
    "    if not os.path.isdir(img_fold_AB):\n",
    "        os.makedirs(img_fold_AB)\n",
    "    print('split = %s, number of images = %d' % (sp, num_imgs))\n",
    "    for n in range(num_imgs):\n",
    "        name_A = img_list[n]\n",
    "        path_A = os.path.join(img_fold_A, name_A)\n",
    "        name_B = name_A\n",
    "        path_B = os.path.join(img_fold_B, name_B)\n",
    "        if os.path.isfile(path_A) and os.path.isfile(path_B):\n",
    "            name_AB = f'hmi_aia_combined{1}.tif'\n",
    "            path_AB = os.path.join(img_fold_AB, name_AB)\n",
    "            im_A1 = Image.open(path_A)\n",
    "            im_A = np.array(im_A1)\n",
    "            im_B1 = Image.open(path_B)\n",
    "            im_B = np.array(im_B1)\n",
    "            im_AB = np.concatenate([im_A, im_B], 1)\n",
    "            imsave(path_AB, im_AB)"
   ]
  },
  {
   "cell_type": "code",
   "execution_count": null,
   "metadata": {
    "id": "MxyQWDA2Il11"
   },
   "outputs": [],
   "source": [
    "source = '/content/drive/My Drive/Solar_data_code/HMIAIAaggregate/hmi/hmiY/'\n",
    "dest1 = '/content/drive/My Drive/Solar_data_code/HMIAIAaggregate/folderA/train/'\n",
    "\n",
    "files = [f for f in os.listdir(source)]\n",
    "counter = 0\n",
    "for file in files:\n",
    "  shutil.copy(source+file, dest1)\n",
    "  counter += 1\n",
    "print(counter)"
   ]
  },
  {
   "cell_type": "code",
   "execution_count": null,
   "metadata": {
    "id": "ni-ANKQ_uFkn"
   },
   "outputs": [],
   "source": []
  },
  {
   "cell_type": "code",
   "execution_count": null,
   "metadata": {
    "id": "w5ly_vZUuFqY"
   },
   "outputs": [],
   "source": []
  },
  {
   "cell_type": "code",
   "execution_count": null,
   "metadata": {
    "colab": {
     "base_uri": "https://localhost:8080/",
     "height": 34
    },
    "executionInfo": {
     "elapsed": 269712,
     "status": "ok",
     "timestamp": 1601489625555,
     "user": {
      "displayName": "Ankan Dash",
      "photoUrl": "https://lh3.googleusercontent.com/a-/AOh14Gj2H_g1hCeCB1nql-PzvaslocOTi6uUbmXPP1h_=s64",
      "userId": "15069647903103186795"
     },
     "user_tz": -330
    },
    "id": "w7fVwyOwLsZh",
    "outputId": "2bfb5cc1-be1c-4ca8-86ea-49f3e48ad0d3"
   },
   "outputs": [
    {
     "name": "stdout",
     "output_type": "stream",
     "text": [
      "217\n"
     ]
    }
   ],
   "source": [
    "# source = '/content/drive/My Drive/Solar_data_code/HMIAIAaggregate/aia/AIA304/'\n",
    "# dest1 = '/content/drive/My Drive/Solar_data_code/HMIAIAaggregate/folderB/train/'\n",
    "\n",
    "# files = [f for f in os.listdir(source)]\n",
    "# counter = 0\n",
    "# for file in files:\n",
    "#   shutil.copy(source+file, dest1)\n",
    "#   counter += 1\n",
    "# print(counter)"
   ]
  },
  {
   "cell_type": "code",
   "execution_count": null,
   "metadata": {
    "id": "6glV6wN2ZFWk"
   },
   "outputs": [],
   "source": [
    "import os\n",
    "import numpy as np\n",
    "from PIL import Image\n",
    "import cv2"
   ]
  },
  {
   "cell_type": "code",
   "execution_count": null,
   "metadata": {
    "colab": {
     "base_uri": "https://localhost:8080/",
     "height": 35
    },
    "executionInfo": {
     "elapsed": 4046,
     "status": "ok",
     "timestamp": 1601559630446,
     "user": {
      "displayName": "Ankan Dash",
      "photoUrl": "https://lh3.googleusercontent.com/a-/AOh14Gj2H_g1hCeCB1nql-PzvaslocOTi6uUbmXPP1h_=s64",
      "userId": "15069647903103186795"
     },
     "user_tz": -330
    },
    "id": "-UhYTchuPQco",
    "outputId": "a4e24e9a-a4f0-4b0b-99aa-c5bce0be0331"
   },
   "outputs": [
    {
     "data": {
      "text/plain": [
       "217"
      ]
     },
     "execution_count": 3,
     "metadata": {
      "tags": []
     },
     "output_type": "execute_result"
    }
   ],
   "source": [
    "len(os.listdir('/content/drive/My Drive/Solar_data_code/HMIAIAaggregate/folderA/train'))"
   ]
  },
  {
   "cell_type": "code",
   "execution_count": null,
   "metadata": {
    "colab": {
     "base_uri": "https://localhost:8080/",
     "height": 34
    },
    "executionInfo": {
     "elapsed": 1098,
     "status": "ok",
     "timestamp": 1601490131887,
     "user": {
      "displayName": "Ankan Dash",
      "photoUrl": "https://lh3.googleusercontent.com/a-/AOh14Gj2H_g1hCeCB1nql-PzvaslocOTi6uUbmXPP1h_=s64",
      "userId": "15069647903103186795"
     },
     "user_tz": -330
    },
    "id": "rrTvc_PWQAdR",
    "outputId": "966e038e-023b-4607-d4c8-d830f0cf0352"
   },
   "outputs": [
    {
     "data": {
      "text/plain": [
       "217"
      ]
     },
     "execution_count": 19,
     "metadata": {
      "tags": []
     },
     "output_type": "execute_result"
    }
   ],
   "source": [
    "len(os.listdir(img_fold_A))"
   ]
  },
  {
   "cell_type": "code",
   "execution_count": null,
   "metadata": {
    "colab": {
     "base_uri": "https://localhost:8080/",
     "height": 35
    },
    "executionInfo": {
     "elapsed": 1058,
     "status": "ok",
     "timestamp": 1601490158682,
     "user": {
      "displayName": "Ankan Dash",
      "photoUrl": "https://lh3.googleusercontent.com/a-/AOh14Gj2H_g1hCeCB1nql-PzvaslocOTi6uUbmXPP1h_=s64",
      "userId": "15069647903103186795"
     },
     "user_tz": -330
    },
    "id": "05P6qW38QAlV",
    "outputId": "033e443d-7598-4da9-ab00-bfee73d52076"
   },
   "outputs": [
    {
     "data": {
      "application/vnd.google.colaboratory.intrinsic+json": {
       "type": "string"
      },
      "text/plain": [
       "'/content/drive/My Drive/Solar_data_code/HMIAIAaggregate/output/train'"
      ]
     },
     "execution_count": 20,
     "metadata": {
      "tags": []
     },
     "output_type": "execute_result"
    }
   ],
   "source": [
    "img_fold_AB = os.path.join(dest_path, sp)\n",
    "img_fold_AB"
   ]
  },
  {
   "cell_type": "code",
   "execution_count": null,
   "metadata": {
    "colab": {
     "base_uri": "https://localhost:8080/",
     "height": 34
    },
    "executionInfo": {
     "elapsed": 1046,
     "status": "ok",
     "timestamp": 1601490278596,
     "user": {
      "displayName": "Ankan Dash",
      "photoUrl": "https://lh3.googleusercontent.com/a-/AOh14Gj2H_g1hCeCB1nql-PzvaslocOTi6uUbmXPP1h_=s64",
      "userId": "15069647903103186795"
     },
     "user_tz": -330
    },
    "id": "re6ei_j-QAiy",
    "outputId": "536ca5a8-9533-4674-c05c-d5f32c675164"
   },
   "outputs": [
    {
     "data": {
      "text/plain": [
       "217"
      ]
     },
     "execution_count": 21,
     "metadata": {
      "tags": []
     },
     "output_type": "execute_result"
    }
   ],
   "source": [
    "num_imgs = len(img_list)\n",
    "num_imgs"
   ]
  },
  {
   "cell_type": "code",
   "execution_count": null,
   "metadata": {
    "id": "uvvwc4aITGC-"
   },
   "outputs": [],
   "source": [
    "imagesA = os.listdir('/content/drive/My Drive/Solar_data_code/HMIAIAaggregate/folderA/train')\n",
    "imagesB = os.listdir('/content/drive/My Drive/Solar_data_code/HMIAIAaggregate/folderB/train')"
   ]
  },
  {
   "cell_type": "code",
   "execution_count": null,
   "metadata": {
    "colab": {
     "base_uri": "https://localhost:8080/",
     "height": 425
    },
    "executionInfo": {
     "elapsed": 862,
     "status": "error",
     "timestamp": 1601491385601,
     "user": {
      "displayName": "Ankan Dash",
      "photoUrl": "https://lh3.googleusercontent.com/a-/AOh14Gj2H_g1hCeCB1nql-PzvaslocOTi6uUbmXPP1h_=s64",
      "userId": "15069647903103186795"
     },
     "user_tz": -330
    },
    "id": "vMTIafiVRWmg",
    "outputId": "3b5fbca6-1daf-41fa-910e-661bc0e6e0aa"
   },
   "outputs": [
    {
     "ename": "AttributeError",
     "evalue": "ignored",
     "output_type": "error",
     "traceback": [
      "\u001b[0;31m---------------------------------------------------------------------------\u001b[0m",
      "\u001b[0;31mAttributeError\u001b[0m                            Traceback (most recent call last)",
      "\u001b[0;32m/usr/local/lib/python3.6/dist-packages/PIL/Image.py\u001b[0m in \u001b[0;36mopen\u001b[0;34m(fp, mode)\u001b[0m\n\u001b[1;32m   2812\u001b[0m     \u001b[0;32mtry\u001b[0m\u001b[0;34m:\u001b[0m\u001b[0;34m\u001b[0m\u001b[0;34m\u001b[0m\u001b[0m\n\u001b[0;32m-> 2813\u001b[0;31m         \u001b[0mfp\u001b[0m\u001b[0;34m.\u001b[0m\u001b[0mseek\u001b[0m\u001b[0;34m(\u001b[0m\u001b[0;36m0\u001b[0m\u001b[0;34m)\u001b[0m\u001b[0;34m\u001b[0m\u001b[0;34m\u001b[0m\u001b[0m\n\u001b[0m\u001b[1;32m   2814\u001b[0m     \u001b[0;32mexcept\u001b[0m \u001b[0;34m(\u001b[0m\u001b[0mAttributeError\u001b[0m\u001b[0;34m,\u001b[0m \u001b[0mio\u001b[0m\u001b[0;34m.\u001b[0m\u001b[0mUnsupportedOperation\u001b[0m\u001b[0;34m)\u001b[0m\u001b[0;34m:\u001b[0m\u001b[0;34m\u001b[0m\u001b[0;34m\u001b[0m\u001b[0m\n",
      "\u001b[0;31mAttributeError\u001b[0m: 'numpy.ndarray' object has no attribute 'seek'",
      "\nDuring handling of the above exception, another exception occurred:\n",
      "\u001b[0;31mAttributeError\u001b[0m                            Traceback (most recent call last)",
      "\u001b[0;32m<ipython-input-26-ad99d22c4db0>\u001b[0m in \u001b[0;36m<module>\u001b[0;34m()\u001b[0m\n\u001b[1;32m      3\u001b[0m \u001b[0;32mfor\u001b[0m \u001b[0mi\u001b[0m \u001b[0;32min\u001b[0m \u001b[0mrange\u001b[0m\u001b[0;34m(\u001b[0m\u001b[0mlen\u001b[0m\u001b[0;34m(\u001b[0m\u001b[0mimagesA\u001b[0m\u001b[0;34m)\u001b[0m\u001b[0;34m)\u001b[0m\u001b[0;34m:\u001b[0m\u001b[0;34m\u001b[0m\u001b[0;34m\u001b[0m\u001b[0m\n\u001b[1;32m      4\u001b[0m   \u001b[0mim_A\u001b[0m \u001b[0;34m=\u001b[0m \u001b[0mnp\u001b[0m\u001b[0;34m.\u001b[0m\u001b[0marray\u001b[0m\u001b[0;34m(\u001b[0m\u001b[0mimagesA\u001b[0m\u001b[0;34m[\u001b[0m\u001b[0mi\u001b[0m\u001b[0;34m]\u001b[0m\u001b[0;34m)\u001b[0m\u001b[0;34m\u001b[0m\u001b[0;34m\u001b[0m\u001b[0m\n\u001b[0;32m----> 5\u001b[0;31m   \u001b[0mim_B1\u001b[0m \u001b[0;34m=\u001b[0m \u001b[0mImage\u001b[0m\u001b[0;34m.\u001b[0m\u001b[0mopen\u001b[0m\u001b[0;34m(\u001b[0m\u001b[0mim_A\u001b[0m\u001b[0;34m)\u001b[0m\u001b[0;34m\u001b[0m\u001b[0;34m\u001b[0m\u001b[0m\n\u001b[0m\u001b[1;32m      6\u001b[0m   \u001b[0mim_B\u001b[0m \u001b[0;34m=\u001b[0m \u001b[0mnp\u001b[0m\u001b[0;34m.\u001b[0m\u001b[0marray\u001b[0m\u001b[0;34m(\u001b[0m\u001b[0mimagesB\u001b[0m\u001b[0;34m[\u001b[0m\u001b[0mi\u001b[0m\u001b[0;34m]\u001b[0m\u001b[0;34m)\u001b[0m\u001b[0;34m\u001b[0m\u001b[0;34m\u001b[0m\u001b[0m\n\u001b[1;32m      7\u001b[0m   \u001b[0mim_AB\u001b[0m \u001b[0;34m=\u001b[0m \u001b[0mnp\u001b[0m\u001b[0;34m.\u001b[0m\u001b[0mconcatenate\u001b[0m\u001b[0;34m(\u001b[0m\u001b[0;34m[\u001b[0m\u001b[0mim_A\u001b[0m\u001b[0;34m,\u001b[0m \u001b[0mim_B\u001b[0m\u001b[0;34m]\u001b[0m\u001b[0;34m,\u001b[0m \u001b[0;36m1\u001b[0m\u001b[0;34m)\u001b[0m\u001b[0;34m\u001b[0m\u001b[0;34m\u001b[0m\u001b[0m\n",
      "\u001b[0;32m/usr/local/lib/python3.6/dist-packages/PIL/Image.py\u001b[0m in \u001b[0;36mopen\u001b[0;34m(fp, mode)\u001b[0m\n\u001b[1;32m   2813\u001b[0m         \u001b[0mfp\u001b[0m\u001b[0;34m.\u001b[0m\u001b[0mseek\u001b[0m\u001b[0;34m(\u001b[0m\u001b[0;36m0\u001b[0m\u001b[0;34m)\u001b[0m\u001b[0;34m\u001b[0m\u001b[0;34m\u001b[0m\u001b[0m\n\u001b[1;32m   2814\u001b[0m     \u001b[0;32mexcept\u001b[0m \u001b[0;34m(\u001b[0m\u001b[0mAttributeError\u001b[0m\u001b[0;34m,\u001b[0m \u001b[0mio\u001b[0m\u001b[0;34m.\u001b[0m\u001b[0mUnsupportedOperation\u001b[0m\u001b[0;34m)\u001b[0m\u001b[0;34m:\u001b[0m\u001b[0;34m\u001b[0m\u001b[0;34m\u001b[0m\u001b[0m\n\u001b[0;32m-> 2815\u001b[0;31m         \u001b[0mfp\u001b[0m \u001b[0;34m=\u001b[0m \u001b[0mio\u001b[0m\u001b[0;34m.\u001b[0m\u001b[0mBytesIO\u001b[0m\u001b[0;34m(\u001b[0m\u001b[0mfp\u001b[0m\u001b[0;34m.\u001b[0m\u001b[0mread\u001b[0m\u001b[0;34m(\u001b[0m\u001b[0;34m)\u001b[0m\u001b[0;34m)\u001b[0m\u001b[0;34m\u001b[0m\u001b[0;34m\u001b[0m\u001b[0m\n\u001b[0m\u001b[1;32m   2816\u001b[0m         \u001b[0mexclusive_fp\u001b[0m \u001b[0;34m=\u001b[0m \u001b[0;32mTrue\u001b[0m\u001b[0;34m\u001b[0m\u001b[0;34m\u001b[0m\u001b[0m\n\u001b[1;32m   2817\u001b[0m \u001b[0;34m\u001b[0m\u001b[0m\n",
      "\u001b[0;31mAttributeError\u001b[0m: 'numpy.ndarray' object has no attribute 'read'"
     ]
    }
   ],
   "source": [
    "path_AB = '/content/drive/My Drive/Solar_data_code/HMIAIAaggregate/output/train'\n",
    "\n",
    "for i in range(len(imagesA)):\n",
    "  im_A = np.array(imagesA[i])\n",
    "  im_B1 = Image.open(im_A)\n",
    "  im_B = np.array(imagesB[i])\n",
    "  im_AB = np.concatenate([im_A, im_B], 1)\n",
    "  cv2.imwrite(path_AB, im_AB)"
   ]
  },
  {
   "cell_type": "code",
   "execution_count": null,
   "metadata": {
    "colab": {
     "base_uri": "https://localhost:8080/",
     "height": 54
    },
    "executionInfo": {
     "elapsed": 1828,
     "status": "ok",
     "timestamp": 1601651358074,
     "user": {
      "displayName": "Ankan Dash",
      "photoUrl": "https://lh3.googleusercontent.com/a-/AOh14Gj2H_g1hCeCB1nql-PzvaslocOTi6uUbmXPP1h_=s64",
      "userId": "15069647903103186795"
     },
     "user_tz": -330
    },
    "id": "ab9mHawATrnS",
    "outputId": "322bfc7d-146f-4405-ea31-aa798062c2d9"
   },
   "outputs": [
    {
     "name": "stdout",
     "output_type": "stream",
     "text": [
      "/content/drive/My Drive/CS677/https://ftp.nluug.nl/os/Linux/distr/tails/tails/stable/tails-amd64-4.11/tails-amd64-4.11.img: Scheme missing.\n"
     ]
    }
   ],
   "source": [
    "!wget \"/content/drive/My Drive/CS677/https://ftp.nluug.nl/os/Linux/distr/tails/tails/stable/tails-amd64-4.11/tails-amd64-4.11.img\""
   ]
  },
  {
   "cell_type": "code",
   "execution_count": 4,
   "metadata": {
    "id": "oQzGeemW3A9Y"
   },
   "outputs": [],
   "source": [
    "import zipfile\n",
    "with zipfile.ZipFile(\"aia.zip\",\"r\") as zip_ref:\n",
    "    zip_ref.extractall(\"\")"
   ]
  },
  {
   "cell_type": "code",
   "execution_count": 7,
   "metadata": {
    "colab": {
     "base_uri": "https://localhost:8080/",
     "height": 34
    },
    "executionInfo": {
     "elapsed": 1100,
     "status": "ok",
     "timestamp": 1602850170031,
     "user": {
      "displayName": "Ankan Dash",
      "photoUrl": "https://lh3.googleusercontent.com/a-/AOh14Gj2H_g1hCeCB1nql-PzvaslocOTi6uUbmXPP1h_=s64",
      "userId": "15069647903103186795"
     },
     "user_tz": -330
    },
    "id": "mJJQtVGwS0X9",
    "outputId": "67f16c1b-743a-4a58-83bc-7c9cc4710fe1"
   },
   "outputs": [
    {
     "data": {
      "text/plain": [
       "217"
      ]
     },
     "execution_count": 7,
     "metadata": {},
     "output_type": "execute_result"
    }
   ],
   "source": [
    "import os\n",
    "len(os.listdir('aia/AIA193'))"
   ]
  },
  {
   "cell_type": "code",
   "execution_count": 6,
   "metadata": {
    "id": "Gplh6OWeTu45"
   },
   "outputs": [
    {
     "data": {
      "text/plain": [
       "['AIA193',\n",
       " 'AIA304',\n",
       " 'AIA131',\n",
       " 'AIA211',\n",
       " 'AIA335',\n",
       " 'AIA94',\n",
       " 'AIA171',\n",
       " 'AIA1600']"
      ]
     },
     "execution_count": 6,
     "metadata": {},
     "output_type": "execute_result"
    }
   ],
   "source": [
    "os.listdir('aia/')"
   ]
  },
  {
   "cell_type": "code",
   "execution_count": 8,
   "metadata": {},
   "outputs": [
    {
     "data": {
      "text/plain": [
       "['hmiZ', 'hmiX', 'hmiY']"
      ]
     },
     "execution_count": 8,
     "metadata": {},
     "output_type": "execute_result"
    }
   ],
   "source": [
    "os.listdir('hmi/')"
   ]
  },
  {
   "cell_type": "code",
   "execution_count": null,
   "metadata": {},
   "outputs": [],
   "source": []
  }
 ],
 "metadata": {
  "colab": {
   "authorship_tag": "ABX9TyNLXF7TGPkhChdP2Rnm+DQw",
   "collapsed_sections": [],
   "mount_file_id": "1SaYEL4OHy8l1V92NBw5Ra-2mZ_-mHv71",
   "name": "making_dataset.ipynb",
   "provenance": []
  },
  "kernelspec": {
   "display_name": "Python 3",
   "language": "python",
   "name": "python3"
  },
  "language_info": {
   "codemirror_mode": {
    "name": "ipython",
    "version": 3
   },
   "file_extension": ".py",
   "mimetype": "text/x-python",
   "name": "python",
   "nbconvert_exporter": "python",
   "pygments_lexer": "ipython3",
   "version": "3.6.9"
  }
 },
 "nbformat": 4,
 "nbformat_minor": 1
}
