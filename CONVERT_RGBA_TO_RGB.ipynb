{
 "cells": [
  {
   "cell_type": "code",
   "execution_count": 1,
   "metadata": {},
   "outputs": [],
   "source": [
    "# import tarfile\n",
    "# my_tar = tarfile.open('AIA0_100.tar.gz')\n",
    "# my_tar.extractall() # specify which folder to extract to\n",
    "# my_tar.close()"
   ]
  },
  {
   "cell_type": "code",
   "execution_count": 2,
   "metadata": {},
   "outputs": [],
   "source": [
    "# ls"
   ]
  },
  {
   "cell_type": "code",
   "execution_count": 1,
   "metadata": {},
   "outputs": [],
   "source": [
    "import os\n",
    "import numpy as np\n",
    "import matplotlib.pyplot as plt\n",
    "\n",
    "from PIL import Image"
   ]
  },
  {
   "cell_type": "code",
   "execution_count": 2,
   "metadata": {},
   "outputs": [],
   "source": [
    "from natsort import natsorted"
   ]
  },
  {
   "cell_type": "code",
   "execution_count": 3,
   "metadata": {},
   "outputs": [],
   "source": [
    "images = natsorted(os.listdir('2015/2015_new1024images/newAIA0304/'))"
   ]
  },
  {
   "cell_type": "code",
   "execution_count": 4,
   "metadata": {},
   "outputs": [
    {
     "data": {
      "text/plain": [
       "['2400.png', '2401.png', '2402.png', '2403.png', '2404.png']"
      ]
     },
     "execution_count": 4,
     "metadata": {},
     "output_type": "execute_result"
    }
   ],
   "source": [
    "images[:5]"
   ]
  },
  {
   "cell_type": "markdown",
   "metadata": {},
   "source": [
    "# convert RGBA to RGB"
   ]
  },
  {
   "cell_type": "code",
   "execution_count": 5,
   "metadata": {},
   "outputs": [],
   "source": [
    "num = 2400\n",
    "for i, img in enumerate(natsorted(os.listdir('2015/2015_new1024images/newAIA0304/'))):\n",
    "    img = Image.open(f'2015/2015_new1024images/newAIA0304/{img}')\n",
    "    rgb_image = img.convert('RGB')\n",
    "    rgb_image.save(f'2015/2015_new1024images/newAIA0304/{num}.png')\n",
    "    num += 1"
   ]
  },
  {
   "cell_type": "code",
   "execution_count": null,
   "metadata": {},
   "outputs": [],
   "source": []
  },
  {
   "cell_type": "code",
   "execution_count": null,
   "metadata": {},
   "outputs": [],
   "source": []
  },
  {
   "cell_type": "code",
   "execution_count": null,
   "metadata": {},
   "outputs": [],
   "source": []
  },
  {
   "cell_type": "code",
   "execution_count": null,
   "metadata": {},
   "outputs": [],
   "source": []
  },
  {
   "cell_type": "code",
   "execution_count": null,
   "metadata": {},
   "outputs": [],
   "source": []
  },
  {
   "cell_type": "code",
   "execution_count": null,
   "metadata": {},
   "outputs": [],
   "source": []
  },
  {
   "cell_type": "code",
   "execution_count": 40,
   "metadata": {},
   "outputs": [],
   "source": [
    "img = os.listdir('new1024images/AIA304/')[0]"
   ]
  },
  {
   "cell_type": "code",
   "execution_count": 41,
   "metadata": {},
   "outputs": [
    {
     "data": {
      "text/plain": [
       "'aia_304_0.png'"
      ]
     },
     "execution_count": 41,
     "metadata": {},
     "output_type": "execute_result"
    }
   ],
   "source": [
    "img"
   ]
  },
  {
   "cell_type": "code",
   "execution_count": 70,
   "metadata": {},
   "outputs": [],
   "source": [
    "img32 = Image.open('new1024images/AIA304/0.png')"
   ]
  },
  {
   "cell_type": "code",
   "execution_count": 71,
   "metadata": {},
   "outputs": [
    {
     "data": {
      "text/plain": [
       "(1024, 1024)"
      ]
     },
     "execution_count": 71,
     "metadata": {},
     "output_type": "execute_result"
    }
   ],
   "source": [
    "img32.size"
   ]
  },
  {
   "cell_type": "code",
   "execution_count": 72,
   "metadata": {},
   "outputs": [
    {
     "name": "stdout",
     "output_type": "stream",
     "text": [
      "PNG\n",
      "(1024, 1024)\n",
      "RGB\n"
     ]
    }
   ],
   "source": [
    "print(img32.format) \n",
    "print(img32.size) \n",
    "print(img32.mode)"
   ]
  },
  {
   "cell_type": "code",
   "execution_count": 45,
   "metadata": {},
   "outputs": [],
   "source": [
    "# rgba_image = PIL.Image.open(path_to_image)\n",
    "rgb_image = img32.convert('RGB')"
   ]
  },
  {
   "cell_type": "code",
   "execution_count": 46,
   "metadata": {},
   "outputs": [
    {
     "name": "stdout",
     "output_type": "stream",
     "text": [
      "None\n",
      "(1024, 1024)\n",
      "RGB\n"
     ]
    }
   ],
   "source": [
    "print(rgb_image.format) \n",
    "print(rgb_image.size) \n",
    "print(rgb_image.mode)"
   ]
  },
  {
   "cell_type": "code",
   "execution_count": 17,
   "metadata": {},
   "outputs": [],
   "source": [
    "rgb_image.save('new1024images/aaa.png')"
   ]
  },
  {
   "cell_type": "code",
   "execution_count": 18,
   "metadata": {},
   "outputs": [],
   "source": [
    "imgRGB = Image.open('new1024images/aaa.png')"
   ]
  },
  {
   "cell_type": "code",
   "execution_count": 27,
   "metadata": {},
   "outputs": [
    {
     "name": "stdout",
     "output_type": "stream",
     "text": [
      "PNG\n",
      "(1024, 1024)\n",
      "RGB\n"
     ]
    }
   ],
   "source": [
    "print(imgRGB.format) \n",
    "print(imgRGB.size) \n",
    "print(imgRGB.mode)"
   ]
  },
  {
   "cell_type": "code",
   "execution_count": 38,
   "metadata": {},
   "outputs": [
    {
     "data": {
      "text/plain": [
       "[(17, (255, 113, 0)),\n",
       " (34, (253, 103, 0)),\n",
       " (2, (255, 141, 19)),\n",
       " (61, (239, 85, 0)),\n",
       " (71, (237, 83, 0)),\n",
       " (57, (236, 81, 0)),\n",
       " (80, (234, 79, 0)),\n",
       " (80, (233, 77, 0)),\n",
       " (73, (231, 75, 0)),\n",
       " (73, (230, 73, 0)),\n",
       " (92, (228, 71, 0)),\n",
       " (104, (227, 69, 0)),\n",
       " (7, (255, 132, 0)),\n",
       " (138, (212, 51, 0)),\n",
       " (149, (211, 49, 0)),\n",
       " (154, (210, 47, 0)),\n",
       " (167, (208, 45, 0)),\n",
       " (156, (207, 43, 0)),\n",
       " (196, (205, 41, 0)),\n",
       " (182, (204, 39, 0)),\n",
       " (203, (202, 37, 0)),\n",
       " (189, (201, 35, 0)),\n",
       " (24, (255, 107, 0)),\n",
       " (27, (255, 109, 0)),\n",
       " (361, (186, 17, 0)),\n",
       " (320, (185, 15, 0)),\n",
       " (368, (184, 13, 0)),\n",
       " (346, (182, 11, 0)),\n",
       " (387, (181, 9, 0)),\n",
       " (420, (179, 7, 0)),\n",
       " (464, (178, 5, 0)),\n",
       " (514, (176, 3, 0)),\n",
       " (509, (175, 1, 0)),\n",
       " (4, (255, 143, 23)),\n",
       " (3, (255, 156, 51)),\n",
       " (9, (255, 136, 7)),\n",
       " (1, (255, 175, 90)),\n",
       " (11, (255, 126, 0)),\n",
       " (1, (255, 207, 156)),\n",
       " (5, (255, 139, 15)),\n",
       " (2, (255, 171, 82)),\n",
       " (1, (255, 255, 255)),\n",
       " (1, (255, 147, 31)),\n",
       " (1, (255, 158, 54)),\n",
       " (13, (255, 122, 0)),\n",
       " (1, (255, 194, 129)),\n",
       " (3, (255, 188, 117)),\n",
       " (14, (255, 120, 0)),\n",
       " (2, (255, 151, 39)),\n",
       " (22, (255, 105, 0)),\n",
       " (19, (255, 115, 0)),\n",
       " (2, (255, 168, 74)),\n",
       " (1, (255, 224, 192)),\n",
       " (17, (255, 130, 0)),\n",
       " (2, (255, 164, 66)),\n",
       " (2, (255, 153, 43)),\n",
       " (4, (255, 134, 3)),\n",
       " (1, (255, 187, 113)),\n",
       " (6, (255, 137, 11)),\n",
       " (13, (255, 124, 0)),\n",
       " (26, (252, 102, 0)),\n",
       " (16, (255, 117, 0)),\n",
       " (22, (250, 100, 0)),\n",
       " (35, (249, 98, 0)),\n",
       " (29, (247, 96, 0)),\n",
       " (39, (246, 94, 0)),\n",
       " (42, (244, 92, 0)),\n",
       " (44, (243, 90, 0)),\n",
       " (31, (241, 88, 0)),\n",
       " (47, (240, 86, 0)),\n",
       " (14, (255, 119, 0)),\n",
       " (1, (255, 236, 215)),\n",
       " (1, (255, 170, 78)),\n",
       " (94, (226, 68, 0)),\n",
       " (98, (224, 66, 0)),\n",
       " (108, (223, 64, 0)),\n",
       " (106, (221, 62, 0)),\n",
       " (125, (220, 60, 0)),\n",
       " (1, (255, 166, 70)),\n",
       " (109, (218, 58, 0)),\n",
       " (129, (217, 56, 0)),\n",
       " (127, (215, 54, 0)),\n",
       " (138, (214, 52, 0)),\n",
       " (10, (255, 128, 0)),\n",
       " (219, (199, 34, 0)),\n",
       " (227, (198, 32, 0)),\n",
       " (220, (197, 30, 0)),\n",
       " (261, (195, 28, 0)),\n",
       " (251, (194, 26, 0)),\n",
       " (250, (192, 24, 0)),\n",
       " (275, (191, 22, 0)),\n",
       " (288, (189, 20, 0)),\n",
       " (315, (188, 18, 0)),\n",
       " (3, (255, 183, 105)),\n",
       " (1, (255, 204, 149)),\n",
       " (22, (255, 111, 0)),\n",
       " (7, (255, 145, 27)),\n",
       " (521, (173, 0, 0)),\n",
       " (563, (172, 0, 0)),\n",
       " (560, (170, 0, 0)),\n",
       " (632, (169, 0, 0)),\n",
       " (631, (168, 0, 0)),\n",
       " (714, (166, 0, 0)),\n",
       " (720, (165, 0, 0)),\n",
       " (1, (255, 228, 200)),\n",
       " (858, (163, 0, 0)),\n",
       " (775, (162, 0, 0)),\n",
       " (850, (160, 0, 0)),\n",
       " (957, (159, 0, 0)),\n",
       " (1028, (157, 0, 0)),\n",
       " (1000, (156, 0, 0)),\n",
       " (1095, (155, 0, 0)),\n",
       " (1095, (153, 0, 0)),\n",
       " (1101, (152, 0, 0)),\n",
       " (1275, (150, 0, 0)),\n",
       " (1334, (149, 0, 0)),\n",
       " (1298, (147, 0, 0)),\n",
       " (1404, (146, 0, 0)),\n",
       " (1495, (144, 0, 0)),\n",
       " (1712, (143, 0, 0)),\n",
       " (1, (255, 162, 62)),\n",
       " (1726, (141, 0, 0)),\n",
       " (1744, (140, 0, 0)),\n",
       " (1834, (139, 0, 0)),\n",
       " (1937, (137, 0, 0)),\n",
       " (2027, (136, 0, 0)),\n",
       " (1984, (134, 0, 0)),\n",
       " (2334, (133, 0, 0)),\n",
       " (1, (255, 149, 35)),\n",
       " (2319, (131, 0, 0)),\n",
       " (2441, (130, 0, 0)),\n",
       " (2631, (128, 0, 0)),\n",
       " (2471, (127, 0, 0)),\n",
       " (2975, (126, 0, 0)),\n",
       " (2998, (124, 0, 0)),\n",
       " (3075, (123, 0, 0)),\n",
       " (3337, (121, 0, 0)),\n",
       " (3525, (120, 0, 0)),\n",
       " (3740, (118, 0, 0)),\n",
       " (4214, (117, 0, 0)),\n",
       " (3820, (115, 0, 0)),\n",
       " (4203, (114, 0, 0)),\n",
       " (4278, (113, 0, 0)),\n",
       " (4669, (111, 0, 0)),\n",
       " (4830, (110, 0, 0)),\n",
       " (5486, (108, 0, 0)),\n",
       " (5746, (107, 0, 0)),\n",
       " (5365, (105, 0, 0)),\n",
       " (5656, (104, 0, 0)),\n",
       " (7192, (102, 0, 0)),\n",
       " (6378, (101, 0, 0)),\n",
       " (1, (255, 230, 204)),\n",
       " (6885, (99, 0, 0)),\n",
       " (7413, (98, 0, 0)),\n",
       " (7880, (97, 0, 0)),\n",
       " (6741, (95, 0, 0)),\n",
       " (8723, (94, 0, 0)),\n",
       " (8039, (92, 0, 0)),\n",
       " (9778, (91, 0, 0)),\n",
       " (8467, (89, 0, 0)),\n",
       " (9364, (88, 0, 0)),\n",
       " (9323, (86, 0, 0)),\n",
       " (10337, (85, 0, 0)),\n",
       " (9933, (84, 0, 0)),\n",
       " (11138, (82, 0, 0)),\n",
       " (11210, (81, 0, 0)),\n",
       " (12118, (79, 0, 0)),\n",
       " (10034, (78, 0, 0)),\n",
       " (12246, (76, 0, 0)),\n",
       " (10459, (75, 0, 0)),\n",
       " (13951, (73, 0, 0)),\n",
       " (11425, (72, 0, 0)),\n",
       " (11574, (70, 0, 0)),\n",
       " (11924, (69, 0, 0)),\n",
       " (12480, (68, 0, 0)),\n",
       " (12541, (66, 0, 0)),\n",
       " (13041, (65, 0, 0)),\n",
       " (13049, (63, 0, 0)),\n",
       " (13074, (62, 0, 0)),\n",
       " (13163, (60, 0, 0)),\n",
       " (13002, (59, 0, 0)),\n",
       " (12753, (57, 0, 0)),\n",
       " (9339, (56, 0, 0)),\n",
       " (12077, (55, 0, 0)),\n",
       " (8867, (53, 0, 0)),\n",
       " (11197, (52, 0, 0)),\n",
       " (8083, (50, 0, 0)),\n",
       " (10117, (49, 0, 0)),\n",
       " (7114, (47, 0, 0)),\n",
       " (8905, (46, 0, 0)),\n",
       " (6226, (44, 0, 0)),\n",
       " (5684, (43, 0, 0)),\n",
       " (5228, (42, 0, 0)),\n",
       " (6081, (40, 0, 0)),\n",
       " (4290, (39, 0, 0)),\n",
       " (3756, (37, 0, 0)),\n",
       " (3497, (36, 0, 0)),\n",
       " (3285, (34, 0, 0)),\n",
       " (3377, (33, 0, 0)),\n",
       " (3380, (31, 0, 0)),\n",
       " (3589, (30, 0, 0)),\n",
       " (4022, (28, 0, 0)),\n",
       " (4545, (27, 0, 0)),\n",
       " (5145, (26, 0, 0)),\n",
       " (5921, (24, 0, 0)),\n",
       " (4483, (23, 0, 0)),\n",
       " (7510, (21, 0, 0)),\n",
       " (8791, (20, 0, 0)),\n",
       " (10531, (18, 0, 0)),\n",
       " (12279, (17, 0, 0)),\n",
       " (15156, (15, 0, 0)),\n",
       " (12247, (14, 0, 0)),\n",
       " (22859, (13, 0, 0)),\n",
       " (32372, (11, 0, 0)),\n",
       " (47138, (10, 0, 0)),\n",
       " (44326, (8, 0, 0)),\n",
       " (86551, (7, 0, 0)),\n",
       " (87926, (5, 0, 0)),\n",
       " (36081, (4, 0, 0)),\n",
       " (16682, (2, 0, 0)),\n",
       " (1340, (1, 0, 0)),\n",
       " (40, (0, 0, 0))]"
      ]
     },
     "execution_count": 38,
     "metadata": {},
     "output_type": "execute_result"
    }
   ],
   "source": [
    "imgRGB.getcolors()"
   ]
  },
  {
   "cell_type": "code",
   "execution_count": 31,
   "metadata": {},
   "outputs": [],
   "source": [
    "imgRGB8bit = Image.fromarray(np.uint8(imgRGB))"
   ]
  },
  {
   "cell_type": "code",
   "execution_count": 32,
   "metadata": {},
   "outputs": [],
   "source": [
    "imgRGB8bit.save('new1024images/8bitaaa.png')"
   ]
  },
  {
   "cell_type": "code",
   "execution_count": 33,
   "metadata": {},
   "outputs": [
    {
     "name": "stdout",
     "output_type": "stream",
     "text": [
      "None\n",
      "(1024, 1024)\n",
      "RGB\n"
     ]
    }
   ],
   "source": [
    "print(imgRGB8bit.format) \n",
    "print(imgRGB8bit.size) \n",
    "print(imgRGB8bit.mode)"
   ]
  },
  {
   "cell_type": "code",
   "execution_count": 37,
   "metadata": {},
   "outputs": [
    {
     "data": {
      "text/plain": [
       "[(17, (255, 113, 0)),\n",
       " (34, (253, 103, 0)),\n",
       " (2, (255, 141, 19)),\n",
       " (61, (239, 85, 0)),\n",
       " (71, (237, 83, 0)),\n",
       " (57, (236, 81, 0)),\n",
       " (80, (234, 79, 0)),\n",
       " (80, (233, 77, 0)),\n",
       " (73, (231, 75, 0)),\n",
       " (73, (230, 73, 0)),\n",
       " (92, (228, 71, 0)),\n",
       " (104, (227, 69, 0)),\n",
       " (7, (255, 132, 0)),\n",
       " (138, (212, 51, 0)),\n",
       " (149, (211, 49, 0)),\n",
       " (154, (210, 47, 0)),\n",
       " (167, (208, 45, 0)),\n",
       " (156, (207, 43, 0)),\n",
       " (196, (205, 41, 0)),\n",
       " (182, (204, 39, 0)),\n",
       " (203, (202, 37, 0)),\n",
       " (189, (201, 35, 0)),\n",
       " (24, (255, 107, 0)),\n",
       " (27, (255, 109, 0)),\n",
       " (361, (186, 17, 0)),\n",
       " (320, (185, 15, 0)),\n",
       " (368, (184, 13, 0)),\n",
       " (346, (182, 11, 0)),\n",
       " (387, (181, 9, 0)),\n",
       " (420, (179, 7, 0)),\n",
       " (464, (178, 5, 0)),\n",
       " (514, (176, 3, 0)),\n",
       " (509, (175, 1, 0)),\n",
       " (4, (255, 143, 23)),\n",
       " (3, (255, 156, 51)),\n",
       " (9, (255, 136, 7)),\n",
       " (1, (255, 175, 90)),\n",
       " (11, (255, 126, 0)),\n",
       " (1, (255, 207, 156)),\n",
       " (5, (255, 139, 15)),\n",
       " (2, (255, 171, 82)),\n",
       " (1, (255, 255, 255)),\n",
       " (1, (255, 147, 31)),\n",
       " (1, (255, 158, 54)),\n",
       " (13, (255, 122, 0)),\n",
       " (1, (255, 194, 129)),\n",
       " (3, (255, 188, 117)),\n",
       " (14, (255, 120, 0)),\n",
       " (2, (255, 151, 39)),\n",
       " (22, (255, 105, 0)),\n",
       " (19, (255, 115, 0)),\n",
       " (2, (255, 168, 74)),\n",
       " (1, (255, 224, 192)),\n",
       " (17, (255, 130, 0)),\n",
       " (2, (255, 164, 66)),\n",
       " (2, (255, 153, 43)),\n",
       " (4, (255, 134, 3)),\n",
       " (1, (255, 187, 113)),\n",
       " (6, (255, 137, 11)),\n",
       " (13, (255, 124, 0)),\n",
       " (26, (252, 102, 0)),\n",
       " (16, (255, 117, 0)),\n",
       " (22, (250, 100, 0)),\n",
       " (35, (249, 98, 0)),\n",
       " (29, (247, 96, 0)),\n",
       " (39, (246, 94, 0)),\n",
       " (42, (244, 92, 0)),\n",
       " (44, (243, 90, 0)),\n",
       " (31, (241, 88, 0)),\n",
       " (47, (240, 86, 0)),\n",
       " (14, (255, 119, 0)),\n",
       " (1, (255, 236, 215)),\n",
       " (1, (255, 170, 78)),\n",
       " (94, (226, 68, 0)),\n",
       " (98, (224, 66, 0)),\n",
       " (108, (223, 64, 0)),\n",
       " (106, (221, 62, 0)),\n",
       " (125, (220, 60, 0)),\n",
       " (1, (255, 166, 70)),\n",
       " (109, (218, 58, 0)),\n",
       " (129, (217, 56, 0)),\n",
       " (127, (215, 54, 0)),\n",
       " (138, (214, 52, 0)),\n",
       " (10, (255, 128, 0)),\n",
       " (219, (199, 34, 0)),\n",
       " (227, (198, 32, 0)),\n",
       " (220, (197, 30, 0)),\n",
       " (261, (195, 28, 0)),\n",
       " (251, (194, 26, 0)),\n",
       " (250, (192, 24, 0)),\n",
       " (275, (191, 22, 0)),\n",
       " (288, (189, 20, 0)),\n",
       " (315, (188, 18, 0)),\n",
       " (3, (255, 183, 105)),\n",
       " (1, (255, 204, 149)),\n",
       " (22, (255, 111, 0)),\n",
       " (7, (255, 145, 27)),\n",
       " (521, (173, 0, 0)),\n",
       " (563, (172, 0, 0)),\n",
       " (560, (170, 0, 0)),\n",
       " (632, (169, 0, 0)),\n",
       " (631, (168, 0, 0)),\n",
       " (714, (166, 0, 0)),\n",
       " (720, (165, 0, 0)),\n",
       " (1, (255, 228, 200)),\n",
       " (858, (163, 0, 0)),\n",
       " (775, (162, 0, 0)),\n",
       " (850, (160, 0, 0)),\n",
       " (957, (159, 0, 0)),\n",
       " (1028, (157, 0, 0)),\n",
       " (1000, (156, 0, 0)),\n",
       " (1095, (155, 0, 0)),\n",
       " (1095, (153, 0, 0)),\n",
       " (1101, (152, 0, 0)),\n",
       " (1275, (150, 0, 0)),\n",
       " (1334, (149, 0, 0)),\n",
       " (1298, (147, 0, 0)),\n",
       " (1404, (146, 0, 0)),\n",
       " (1495, (144, 0, 0)),\n",
       " (1712, (143, 0, 0)),\n",
       " (1, (255, 162, 62)),\n",
       " (1726, (141, 0, 0)),\n",
       " (1744, (140, 0, 0)),\n",
       " (1834, (139, 0, 0)),\n",
       " (1937, (137, 0, 0)),\n",
       " (2027, (136, 0, 0)),\n",
       " (1984, (134, 0, 0)),\n",
       " (2334, (133, 0, 0)),\n",
       " (1, (255, 149, 35)),\n",
       " (2319, (131, 0, 0)),\n",
       " (2441, (130, 0, 0)),\n",
       " (2631, (128, 0, 0)),\n",
       " (2471, (127, 0, 0)),\n",
       " (2975, (126, 0, 0)),\n",
       " (2998, (124, 0, 0)),\n",
       " (3075, (123, 0, 0)),\n",
       " (3337, (121, 0, 0)),\n",
       " (3525, (120, 0, 0)),\n",
       " (3740, (118, 0, 0)),\n",
       " (4214, (117, 0, 0)),\n",
       " (3820, (115, 0, 0)),\n",
       " (4203, (114, 0, 0)),\n",
       " (4278, (113, 0, 0)),\n",
       " (4669, (111, 0, 0)),\n",
       " (4830, (110, 0, 0)),\n",
       " (5486, (108, 0, 0)),\n",
       " (5746, (107, 0, 0)),\n",
       " (5365, (105, 0, 0)),\n",
       " (5656, (104, 0, 0)),\n",
       " (7192, (102, 0, 0)),\n",
       " (6378, (101, 0, 0)),\n",
       " (1, (255, 230, 204)),\n",
       " (6885, (99, 0, 0)),\n",
       " (7413, (98, 0, 0)),\n",
       " (7880, (97, 0, 0)),\n",
       " (6741, (95, 0, 0)),\n",
       " (8723, (94, 0, 0)),\n",
       " (8039, (92, 0, 0)),\n",
       " (9778, (91, 0, 0)),\n",
       " (8467, (89, 0, 0)),\n",
       " (9364, (88, 0, 0)),\n",
       " (9323, (86, 0, 0)),\n",
       " (10337, (85, 0, 0)),\n",
       " (9933, (84, 0, 0)),\n",
       " (11138, (82, 0, 0)),\n",
       " (11210, (81, 0, 0)),\n",
       " (12118, (79, 0, 0)),\n",
       " (10034, (78, 0, 0)),\n",
       " (12246, (76, 0, 0)),\n",
       " (10459, (75, 0, 0)),\n",
       " (13951, (73, 0, 0)),\n",
       " (11425, (72, 0, 0)),\n",
       " (11574, (70, 0, 0)),\n",
       " (11924, (69, 0, 0)),\n",
       " (12480, (68, 0, 0)),\n",
       " (12541, (66, 0, 0)),\n",
       " (13041, (65, 0, 0)),\n",
       " (13049, (63, 0, 0)),\n",
       " (13074, (62, 0, 0)),\n",
       " (13163, (60, 0, 0)),\n",
       " (13002, (59, 0, 0)),\n",
       " (12753, (57, 0, 0)),\n",
       " (9339, (56, 0, 0)),\n",
       " (12077, (55, 0, 0)),\n",
       " (8867, (53, 0, 0)),\n",
       " (11197, (52, 0, 0)),\n",
       " (8083, (50, 0, 0)),\n",
       " (10117, (49, 0, 0)),\n",
       " (7114, (47, 0, 0)),\n",
       " (8905, (46, 0, 0)),\n",
       " (6226, (44, 0, 0)),\n",
       " (5684, (43, 0, 0)),\n",
       " (5228, (42, 0, 0)),\n",
       " (6081, (40, 0, 0)),\n",
       " (4290, (39, 0, 0)),\n",
       " (3756, (37, 0, 0)),\n",
       " (3497, (36, 0, 0)),\n",
       " (3285, (34, 0, 0)),\n",
       " (3377, (33, 0, 0)),\n",
       " (3380, (31, 0, 0)),\n",
       " (3589, (30, 0, 0)),\n",
       " (4022, (28, 0, 0)),\n",
       " (4545, (27, 0, 0)),\n",
       " (5145, (26, 0, 0)),\n",
       " (5921, (24, 0, 0)),\n",
       " (4483, (23, 0, 0)),\n",
       " (7510, (21, 0, 0)),\n",
       " (8791, (20, 0, 0)),\n",
       " (10531, (18, 0, 0)),\n",
       " (12279, (17, 0, 0)),\n",
       " (15156, (15, 0, 0)),\n",
       " (12247, (14, 0, 0)),\n",
       " (22859, (13, 0, 0)),\n",
       " (32372, (11, 0, 0)),\n",
       " (47138, (10, 0, 0)),\n",
       " (44326, (8, 0, 0)),\n",
       " (86551, (7, 0, 0)),\n",
       " (87926, (5, 0, 0)),\n",
       " (36081, (4, 0, 0)),\n",
       " (16682, (2, 0, 0)),\n",
       " (1340, (1, 0, 0)),\n",
       " (40, (0, 0, 0))]"
      ]
     },
     "execution_count": 37,
     "metadata": {},
     "output_type": "execute_result"
    }
   ],
   "source": [
    "imgRGB8bit.getcolors()"
   ]
  },
  {
   "cell_type": "code",
   "execution_count": null,
   "metadata": {},
   "outputs": [],
   "source": []
  },
  {
   "cell_type": "code",
   "execution_count": null,
   "metadata": {},
   "outputs": [],
   "source": []
  },
  {
   "cell_type": "code",
   "execution_count": null,
   "metadata": {},
   "outputs": [],
   "source": []
  },
  {
   "cell_type": "code",
   "execution_count": null,
   "metadata": {},
   "outputs": [],
   "source": []
  },
  {
   "cell_type": "code",
   "execution_count": 20,
   "metadata": {},
   "outputs": [
    {
     "data": {
      "text/plain": [
       "PIL.Image.Image"
      ]
     },
     "execution_count": 20,
     "metadata": {},
     "output_type": "execute_result"
    }
   ],
   "source": [
    "type(rgb_image)"
   ]
  },
  {
   "cell_type": "code",
   "execution_count": 21,
   "metadata": {},
   "outputs": [],
   "source": [
    "import skimage"
   ]
  },
  {
   "cell_type": "code",
   "execution_count": 22,
   "metadata": {},
   "outputs": [],
   "source": [
    "img8 = skimage.img_as_ubyte(imgRGB)"
   ]
  },
  {
   "cell_type": "code",
   "execution_count": 23,
   "metadata": {},
   "outputs": [
    {
     "data": {
      "text/plain": [
       "<matplotlib.image.AxesImage at 0x20f51fa1610>"
      ]
     },
     "execution_count": 23,
     "metadata": {},
     "output_type": "execute_result"
    },
    {
     "data": {
      "image/png": "[encoded data removed]",
      "text/plain": [
       "<Figure size 432x288 with 1 Axes>"
      ]
     },
     "metadata": {
      "needs_background": "light"
     },
     "output_type": "display_data"
    }
   ],
   "source": [
    "plt.imshow(img8)"
   ]
  },
  {
   "cell_type": "code",
   "execution_count": 24,
   "metadata": {},
   "outputs": [
    {
     "data": {
      "text/plain": [
       "(1024, 1024, 3)"
      ]
     },
     "execution_count": 24,
     "metadata": {},
     "output_type": "execute_result"
    }
   ],
   "source": [
    "img8.shape"
   ]
  },
  {
   "cell_type": "code",
   "execution_count": 25,
   "metadata": {},
   "outputs": [],
   "source": [
    "import cv2"
   ]
  },
  {
   "cell_type": "code",
   "execution_count": 58,
   "metadata": {},
   "outputs": [],
   "source": [
    "# cv2.resize(image,(width,height))\n",
    "# Example:\n",
    "# imgre = cv2.resize(img8,(1024,1024))"
   ]
  },
  {
   "cell_type": "code",
   "execution_count": 63,
   "metadata": {},
   "outputs": [
    {
     "data": {
      "text/plain": [
       "<matplotlib.image.AxesImage at 0x161d9cecb20>"
      ]
     },
     "execution_count": 63,
     "metadata": {},
     "output_type": "execute_result"
    },
    {
     "data": {
      "image/png": "[encoded data removed]",
      "text/plain": [
       "<Figure size 432x288 with 1 Axes>"
      ]
     },
     "metadata": {
      "needs_background": "light"
     },
     "output_type": "display_data"
    }
   ],
   "source": [
    "plt.imshow(imgre)"
   ]
  },
  {
   "cell_type": "code",
   "execution_count": 26,
   "metadata": {},
   "outputs": [
    {
     "data": {
      "text/plain": [
       "True"
      ]
     },
     "execution_count": 26,
     "metadata": {},
     "output_type": "execute_result"
    }
   ],
   "source": [
    "cv2.imwrite('new1024images//newre.png',img8)"
   ]
  },
  {
   "cell_type": "code",
   "execution_count": null,
   "metadata": {},
   "outputs": [],
   "source": []
  }
 ],
 "metadata": {
  "kernelspec": {
   "display_name": "Python 3",
   "language": "python",
   "name": "python3"
  },
  "language_info": {
   "codemirror_mode": {
    "name": "ipython",
    "version": 3
   },
   "file_extension": ".py",
   "mimetype": "text/x-python",
   "name": "python",
   "nbconvert_exporter": "python",
   "pygments_lexer": "ipython3",
   "version": "3.8.3"
  }
 },
 "nbformat": 4,
 "nbformat_minor": 4
}
