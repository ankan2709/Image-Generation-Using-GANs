{
 "cells": [
  {
   "cell_type": "code",
   "execution_count": 1,
   "metadata": {},
   "outputs": [
    {
     "name": "stdout",
     "output_type": "stream",
     "text": [
      "--2020-11-09 04:02:44--  http://fouheylab.eecs.umich.edu/~fouhey/MiniSDO/2011.tar\n",
      "Resolving fouheylab.eecs.umich.edu (fouheylab.eecs.umich.edu)... 141.212.115.140\n",
      "Connecting to fouheylab.eecs.umich.edu (fouheylab.eecs.umich.edu)|141.212.115.140|:80... connected.\n",
      "HTTP request sent, awaiting response... 200 OK\n",
      "Length: 36588830720 (34G) [application/x-tar]\n",
      "Saving to: ‘2011.tar’\n",
      "\n",
      "2011.tar            100%[===================>]  34.08G  50.7MB/s    in 10m 32s \n",
      "\n",
      "2020-11-09 04:13:16 (55.2 MB/s) - ‘2011.tar’ saved [36588830720/36588830720]\n",
      "\n"
     ]
    }
   ],
   "source": [
    "!wget \"http://fouheylab.eecs.umich.edu/~fouhey/MiniSDO/2011.tar\""
   ]
  },
  {
   "cell_type": "code",
   "execution_count": 2,
   "metadata": {},
   "outputs": [],
   "source": [
    "import tarfile\n",
    "my_tar = tarfile.open('2011.tar')\n",
    "my_tar.extractall() # specify which folder to extract to\n",
    "my_tar.close()"
   ]
  },
  {
   "cell_type": "code",
   "execution_count": 1,
   "metadata": {},
   "outputs": [],
   "source": [
    "import zipfile\n",
    "with zipfile.ZipFile('hmi.zip', 'r') as zip_ref:\n",
    "    zip_ref.extractall()"
   ]
  },
  {
   "cell_type": "code",
   "execution_count": null,
   "metadata": {},
   "outputs": [],
   "source": []
  },
  {
   "cell_type": "code",
   "execution_count": null,
   "metadata": {},
   "outputs": [],
   "source": []
  },
  {
   "cell_type": "code",
   "execution_count": 1,
   "metadata": {},
   "outputs": [
    {
     "name": "stdout",
     "output_type": "stream",
     "text": [
      "--2020-11-10 01:36:19--  https://github.com/i4Ds/SDOBenchmark/archive/data-full.zip\n",
      "Resolving github.com (github.com)... 192.30.255.113\n",
      "Connecting to github.com (github.com)|192.30.255.113|:443... connected.\n",
      "HTTP request sent, awaiting response... 302 Found\n",
      "Location: https://codeload.github.com/i4Ds/SDOBenchmark/zip/data-full [following]\n",
      "--2020-11-10 01:36:19--  https://codeload.github.com/i4Ds/SDOBenchmark/zip/data-full\n",
      "Resolving codeload.github.com (codeload.github.com)... 192.30.255.120\n",
      "Connecting to codeload.github.com (codeload.github.com)|192.30.255.120|:443... connected.\n",
      "HTTP request sent, awaiting response... 200 OK\n",
      "Length: unspecified [application/zip]\n",
      "Saving to: ‘data-full.zip’\n",
      "\n",
      "data-full.zip           [               <=>  ]   2.83G  42.1MB/s    in 1m 45s  \n",
      "\n",
      "2020-11-10 01:38:14 (27.6 MB/s) - ‘data-full.zip’ saved [3040135749]\n",
      "\n"
     ]
    }
   ],
   "source": [
    "!wget 'https://github.com/i4Ds/SDOBenchmark/archive/data-full.zip'"
   ]
  },
  {
   "cell_type": "code",
   "execution_count": 2,
   "metadata": {},
   "outputs": [],
   "source": [
    "import zipfile\n",
    "with zipfile.ZipFile('data-full.zip', 'r') as zip_ref:\n",
    "    zip_ref.extractall()"
   ]
  },
  {
   "cell_type": "code",
   "execution_count": null,
   "metadata": {},
   "outputs": [],
   "source": []
  }
 ],
 "metadata": {
  "kernelspec": {
   "display_name": "Python 3",
   "language": "python",
   "name": "python3"
  },
  "language_info": {
   "codemirror_mode": {
    "name": "ipython",
    "version": 3
   },
   "file_extension": ".py",
   "mimetype": "text/x-python",
   "name": "python",
   "nbconvert_exporter": "python",
   "pygments_lexer": "ipython3",
   "version": "3.6.9"
  }
 },
 "nbformat": 4,
 "nbformat_minor": 4
}
